{
 "cells": [
  {
   "cell_type": "code",
   "execution_count": 1,
   "id": "afd78aa5",
   "metadata": {},
   "outputs": [
    {
     "data": {
      "text/plain": [
       "2"
      ]
     },
     "execution_count": 1,
     "metadata": {},
     "output_type": "execute_result"
    }
   ],
   "source": [
    "1 + 1"
   ]
  },
  {
   "cell_type": "code",
   "execution_count": 2,
   "id": "fa7a2303",
   "metadata": {},
   "outputs": [
    {
     "data": {
      "text/plain": [
       "3"
      ]
     },
     "execution_count": 2,
     "metadata": {},
     "output_type": "execute_result"
    }
   ],
   "source": [
    "1 * 3"
   ]
  },
  {
   "cell_type": "code",
   "execution_count": 3,
   "id": "955dd8d8",
   "metadata": {},
   "outputs": [
    {
     "data": {
      "text/plain": [
       "0.5"
      ]
     },
     "execution_count": 3,
     "metadata": {},
     "output_type": "execute_result"
    }
   ],
   "source": [
    "1 / 2"
   ]
  },
  {
   "cell_type": "code",
   "execution_count": 4,
   "id": "c99b58ee",
   "metadata": {},
   "outputs": [
    {
     "data": {
      "text/plain": [
       "16"
      ]
     },
     "execution_count": 4,
     "metadata": {},
     "output_type": "execute_result"
    }
   ],
   "source": [
    "2**4 # 2 hoch 4"
   ]
  },
  {
   "cell_type": "code",
   "execution_count": 5,
   "id": "653d9ab9",
   "metadata": {},
   "outputs": [
    {
     "data": {
      "text/plain": [
       "0"
      ]
     },
     "execution_count": 5,
     "metadata": {},
     "output_type": "execute_result"
    }
   ],
   "source": [
    "4 % 2 # 4 modulo 2"
   ]
  },
  {
   "cell_type": "code",
   "execution_count": 7,
   "id": "9a62b27d",
   "metadata": {},
   "outputs": [
    {
     "data": {
      "text/plain": [
       "50"
      ]
     },
     "execution_count": 7,
     "metadata": {},
     "output_type": "execute_result"
    }
   ],
   "source": [
    "(2 + 3) * (5 + 5)"
   ]
  },
  {
   "cell_type": "code",
   "execution_count": 8,
   "id": "943fc00e",
   "metadata": {},
   "outputs": [],
   "source": [
    "name_der_variabel = 2"
   ]
  },
  {
   "cell_type": "code",
   "execution_count": 9,
   "id": "ba4d10f1",
   "metadata": {},
   "outputs": [],
   "source": [
    "x = 2\n",
    "y = 3"
   ]
  },
  {
   "cell_type": "code",
   "execution_count": 10,
   "id": "86ffde1c",
   "metadata": {},
   "outputs": [],
   "source": [
    "z = x * y"
   ]
  },
  {
   "cell_type": "code",
   "execution_count": 11,
   "id": "1d5e1664",
   "metadata": {},
   "outputs": [
    {
     "data": {
      "text/plain": [
       "6"
      ]
     },
     "execution_count": 11,
     "metadata": {},
     "output_type": "execute_result"
    }
   ],
   "source": [
    "z"
   ]
  },
  {
   "cell_type": "code",
   "execution_count": 12,
   "id": "a745efc1",
   "metadata": {},
   "outputs": [
    {
     "data": {
      "text/plain": [
       "'string'"
      ]
     },
     "execution_count": 12,
     "metadata": {},
     "output_type": "execute_result"
    }
   ],
   "source": [
    "'string'"
   ]
  },
  {
   "cell_type": "code",
   "execution_count": 13,
   "id": "41e3e552",
   "metadata": {},
   "outputs": [
    {
     "data": {
      "text/plain": [
       "'String'"
      ]
     },
     "execution_count": 13,
     "metadata": {},
     "output_type": "execute_result"
    }
   ],
   "source": [
    "\"String\""
   ]
  },
  {
   "cell_type": "code",
   "execution_count": 14,
   "id": "99d0aa9e",
   "metadata": {},
   "outputs": [
    {
     "data": {
      "text/plain": [
       "\"String 'String im string'\""
      ]
     },
     "execution_count": 14,
     "metadata": {},
     "output_type": "execute_result"
    }
   ],
   "source": [
    "\"String 'String im string'\""
   ]
  },
  {
   "cell_type": "code",
   "execution_count": 15,
   "id": "1ec53ea8",
   "metadata": {},
   "outputs": [],
   "source": [
    "x = \"Hallo\""
   ]
  },
  {
   "cell_type": "code",
   "execution_count": 16,
   "id": "c70d09a6",
   "metadata": {},
   "outputs": [
    {
     "name": "stdout",
     "output_type": "stream",
     "text": [
      "Hallo\n"
     ]
    }
   ],
   "source": [
    "print(x)"
   ]
  },
  {
   "cell_type": "code",
   "execution_count": 20,
   "id": "ee2b1119",
   "metadata": {},
   "outputs": [],
   "source": [
    "num = 42\n",
    "name = \"David\""
   ]
  },
  {
   "cell_type": "code",
   "execution_count": 21,
   "id": "4b98e763",
   "metadata": {},
   "outputs": [
    {
     "name": "stdout",
     "output_type": "stream",
     "text": [
      "Mein Alter ist: 42 und mein name ist: David\n"
     ]
    }
   ],
   "source": [
    "print('Mein Alter ist: {} und mein name ist: {}'.format(num, name))"
   ]
  },
  {
   "cell_type": "code",
   "execution_count": 22,
   "id": "76855422",
   "metadata": {},
   "outputs": [],
   "source": [
    "liste = ['a', 'b', 'c'] "
   ]
  },
  {
   "cell_type": "code",
   "execution_count": 23,
   "id": "df8d4227",
   "metadata": {},
   "outputs": [],
   "source": [
    "liste.append('d')"
   ]
  },
  {
   "cell_type": "code",
   "execution_count": 24,
   "id": "d82e041f",
   "metadata": {},
   "outputs": [
    {
     "name": "stdout",
     "output_type": "stream",
     "text": [
      "['a', 'b', 'c', 'd']\n"
     ]
    }
   ],
   "source": [
    "print(liste)"
   ]
  },
  {
   "cell_type": "code",
   "execution_count": 25,
   "id": "fc8dd888",
   "metadata": {},
   "outputs": [
    {
     "name": "stdout",
     "output_type": "stream",
     "text": [
      "a\n"
     ]
    }
   ],
   "source": [
    "print(liste[0])"
   ]
  },
  {
   "cell_type": "code",
   "execution_count": 29,
   "id": "7788a30a",
   "metadata": {},
   "outputs": [],
   "source": [
    "liste[-1] = 'neu'"
   ]
  },
  {
   "cell_type": "code",
   "execution_count": 30,
   "id": "80deec04",
   "metadata": {},
   "outputs": [
    {
     "name": "stdout",
     "output_type": "stream",
     "text": [
      "neu\n"
     ]
    }
   ],
   "source": [
    "print(liste[-1])"
   ]
  },
  {
   "cell_type": "code",
   "execution_count": 31,
   "id": "780eeff8",
   "metadata": {},
   "outputs": [],
   "source": [
    "neue_liste = [1,2,3,[4,5,['Ziel']]]"
   ]
  },
  {
   "cell_type": "code",
   "execution_count": 32,
   "id": "bb15f620",
   "metadata": {},
   "outputs": [
    {
     "name": "stdout",
     "output_type": "stream",
     "text": [
      "Ziel\n"
     ]
    }
   ],
   "source": [
    "print(neue_liste[3][2][0])"
   ]
  },
  {
   "cell_type": "code",
   "execution_count": 33,
   "id": "0874c5ab",
   "metadata": {},
   "outputs": [],
   "source": [
    "d = {'key': 'value', 'key2': 2, 'key3': [1,2,3]}"
   ]
  },
  {
   "cell_type": "code",
   "execution_count": 36,
   "id": "316a063f",
   "metadata": {},
   "outputs": [
    {
     "name": "stdout",
     "output_type": "stream",
     "text": [
      "{'key': 'value', 'key2': 2, 'key3': [1, 2, 3]}\n",
      "2\n"
     ]
    }
   ],
   "source": [
    "print(d)\n",
    "print(d['key2'])"
   ]
  },
  {
   "cell_type": "code",
   "execution_count": 37,
   "id": "3c488f85",
   "metadata": {},
   "outputs": [],
   "source": [
    "d = {'k1': {'ik': [1,2,3]}}"
   ]
  },
  {
   "cell_type": "code",
   "execution_count": 39,
   "id": "46d8e24f",
   "metadata": {},
   "outputs": [
    {
     "name": "stdout",
     "output_type": "stream",
     "text": [
      "2\n"
     ]
    }
   ],
   "source": [
    "print(d['k1']['ik'][1])"
   ]
  },
  {
   "cell_type": "code",
   "execution_count": 40,
   "id": "3418cfca",
   "metadata": {},
   "outputs": [],
   "source": [
    "b = True # or False"
   ]
  },
  {
   "cell_type": "code",
   "execution_count": 41,
   "id": "2918a238",
   "metadata": {},
   "outputs": [],
   "source": [
    "t = (1, 2, 3)"
   ]
  },
  {
   "cell_type": "code",
   "execution_count": 42,
   "id": "0119ba1c",
   "metadata": {},
   "outputs": [
    {
     "name": "stdout",
     "output_type": "stream",
     "text": [
      "(1, 2, 3)\n"
     ]
    }
   ],
   "source": [
    "print(t)"
   ]
  },
  {
   "cell_type": "code",
   "execution_count": 43,
   "id": "a234500c",
   "metadata": {},
   "outputs": [
    {
     "ename": "TypeError",
     "evalue": "'tuple' object does not support item assignment",
     "output_type": "error",
     "traceback": [
      "\u001b[0;31m---------------------------------------------------------------------------\u001b[0m",
      "\u001b[0;31mTypeError\u001b[0m                                 Traceback (most recent call last)",
      "Input \u001b[0;32mIn [43]\u001b[0m, in \u001b[0;36m<module>\u001b[0;34m\u001b[0m\n\u001b[0;32m----> 1\u001b[0m t[\u001b[38;5;241m0\u001b[39m] \u001b[38;5;241m=\u001b[39m \u001b[38;5;241m4\u001b[39m\n",
      "\u001b[0;31mTypeError\u001b[0m: 'tuple' object does not support item assignment"
     ]
    }
   ],
   "source": [
    "t[0] = 4"
   ]
  },
  {
   "cell_type": "code",
   "execution_count": 45,
   "id": "36b053eb",
   "metadata": {},
   "outputs": [],
   "source": [
    "s = {1, 2, 3, 3}"
   ]
  },
  {
   "cell_type": "code",
   "execution_count": 46,
   "id": "b16614f9",
   "metadata": {},
   "outputs": [
    {
     "name": "stdout",
     "output_type": "stream",
     "text": [
      "{1, 2, 3}\n"
     ]
    }
   ],
   "source": [
    "print(s)"
   ]
  },
  {
   "cell_type": "code",
   "execution_count": 47,
   "id": "a6bc9d75",
   "metadata": {},
   "outputs": [],
   "source": [
    "s.add(10)"
   ]
  },
  {
   "cell_type": "code",
   "execution_count": 48,
   "id": "5abe9fa0",
   "metadata": {},
   "outputs": [
    {
     "name": "stdout",
     "output_type": "stream",
     "text": [
      "{10, 1, 2, 3}\n"
     ]
    }
   ],
   "source": [
    "print(s)"
   ]
  },
  {
   "cell_type": "code",
   "execution_count": 49,
   "id": "9a24e25a",
   "metadata": {},
   "outputs": [],
   "source": [
    "x = 1< 2"
   ]
  },
  {
   "cell_type": "code",
   "execution_count": 50,
   "id": "88e89b4f",
   "metadata": {},
   "outputs": [
    {
     "name": "stdout",
     "output_type": "stream",
     "text": [
      "True\n"
     ]
    }
   ],
   "source": [
    "print(x)"
   ]
  },
  {
   "cell_type": "code",
   "execution_count": 51,
   "id": "e90573a6",
   "metadata": {},
   "outputs": [],
   "source": [
    "x = 1 == 1"
   ]
  },
  {
   "cell_type": "code",
   "execution_count": 52,
   "id": "05c54d48",
   "metadata": {},
   "outputs": [
    {
     "name": "stdout",
     "output_type": "stream",
     "text": [
      "True\n"
     ]
    }
   ],
   "source": [
    "print(x)"
   ]
  },
  {
   "cell_type": "code",
   "execution_count": 53,
   "id": "d8740c7c",
   "metadata": {},
   "outputs": [],
   "source": [
    "x = 'Hi' == 'Bye'"
   ]
  },
  {
   "cell_type": "code",
   "execution_count": 54,
   "id": "8a6839f2",
   "metadata": {},
   "outputs": [
    {
     "name": "stdout",
     "output_type": "stream",
     "text": [
      "False\n"
     ]
    }
   ],
   "source": [
    "print(x)"
   ]
  },
  {
   "cell_type": "code",
   "execution_count": 55,
   "id": "d4e7f424",
   "metadata": {},
   "outputs": [],
   "source": [
    "x = (1 > 2) and (2 > 3)"
   ]
  },
  {
   "cell_type": "code",
   "execution_count": 56,
   "id": "e6e12ba8",
   "metadata": {},
   "outputs": [
    {
     "name": "stdout",
     "output_type": "stream",
     "text": [
      "False\n"
     ]
    }
   ],
   "source": [
    "print(x)"
   ]
  },
  {
   "cell_type": "code",
   "execution_count": 59,
   "id": "d519a700",
   "metadata": {},
   "outputs": [],
   "source": [
    "x = (1 < 2) or (2 > 3)"
   ]
  },
  {
   "cell_type": "code",
   "execution_count": 60,
   "id": "96b777ed",
   "metadata": {},
   "outputs": [
    {
     "name": "stdout",
     "output_type": "stream",
     "text": [
      "True\n"
     ]
    }
   ],
   "source": [
    "print(x)"
   ]
  },
  {
   "cell_type": "code",
   "execution_count": 65,
   "id": "41532295",
   "metadata": {},
   "outputs": [
    {
     "name": "stdout",
     "output_type": "stream",
     "text": [
      "expression is true\n"
     ]
    }
   ],
   "source": [
    "if 1 < 2:\n",
    "    print('expression is true')\n",
    "elif 3 == 3:\n",
    "    print('elif = true')\n",
    "else:\n",
    "    print('expression was false')"
   ]
  },
  {
   "cell_type": "code",
   "execution_count": 66,
   "id": "e68ba30f",
   "metadata": {},
   "outputs": [],
   "source": [
    "seq = [1, 2, 3, 4, 5]"
   ]
  },
  {
   "cell_type": "code",
   "execution_count": 68,
   "id": "2806cc53",
   "metadata": {},
   "outputs": [
    {
     "name": "stdout",
     "output_type": "stream",
     "text": [
      "2\n",
      "4\n",
      "6\n",
      "8\n",
      "10\n"
     ]
    }
   ],
   "source": [
    "for i in seq:\n",
    "    print(i+i)"
   ]
  },
  {
   "cell_type": "code",
   "execution_count": 70,
   "id": "b93e8206",
   "metadata": {},
   "outputs": [
    {
     "name": "stdout",
     "output_type": "stream",
     "text": [
      "i ist: 0\n",
      "i ist: 1\n",
      "i ist: 2\n",
      "i ist: 3\n",
      "i ist: 4\n"
     ]
    }
   ],
   "source": [
    "i = 0\n",
    "while i < 5:\n",
    "    print('i ist: {}'.format(i))\n",
    "    i += 1"
   ]
  },
  {
   "cell_type": "code",
   "execution_count": 71,
   "id": "297a680b",
   "metadata": {},
   "outputs": [
    {
     "name": "stdout",
     "output_type": "stream",
     "text": [
      "0\n",
      "1\n",
      "2\n",
      "3\n",
      "4\n"
     ]
    }
   ],
   "source": [
    "for i in range(5):\n",
    "    print(i)"
   ]
  },
  {
   "cell_type": "code",
   "execution_count": 79,
   "id": "f69f3a0c",
   "metadata": {},
   "outputs": [],
   "source": [
    "x = list(range(5))"
   ]
  },
  {
   "cell_type": "code",
   "execution_count": 80,
   "id": "0c419047",
   "metadata": {},
   "outputs": [],
   "source": [
    "a = []"
   ]
  },
  {
   "cell_type": "code",
   "execution_count": 82,
   "id": "93016437",
   "metadata": {},
   "outputs": [
    {
     "name": "stdout",
     "output_type": "stream",
     "text": [
      "[0, 1, 4, 9, 16]\n"
     ]
    }
   ],
   "source": [
    "for i in x:\n",
    "    a.append(i**2)\n",
    "print(a)"
   ]
  },
  {
   "cell_type": "code",
   "execution_count": 83,
   "id": "c6c9cd46",
   "metadata": {},
   "outputs": [],
   "source": [
    "def funk (par1='standard'):\n",
    "    print(par1)"
   ]
  },
  {
   "cell_type": "code",
   "execution_count": 88,
   "id": "67c9d2a1",
   "metadata": {},
   "outputs": [
    {
     "name": "stdout",
     "output_type": "stream",
     "text": [
      "standard\n",
      "asdf\n",
      "param1\n"
     ]
    }
   ],
   "source": [
    "funk()\n",
    "funk('asdf')\n",
    "funk(par1='param1')"
   ]
  },
  {
   "cell_type": "code",
   "execution_count": 89,
   "id": "b0c336b1",
   "metadata": {},
   "outputs": [],
   "source": [
    "def square(x=0):\n",
    "    return x**2"
   ]
  },
  {
   "cell_type": "code",
   "execution_count": 90,
   "id": "dd8e7a28",
   "metadata": {},
   "outputs": [],
   "source": [
    "aus = square(4)"
   ]
  },
  {
   "cell_type": "code",
   "execution_count": 91,
   "id": "4e724ef0",
   "metadata": {},
   "outputs": [
    {
     "name": "stdout",
     "output_type": "stream",
     "text": [
      "16\n"
     ]
    }
   ],
   "source": [
    "print(aus)"
   ]
  },
  {
   "cell_type": "code",
   "execution_count": 92,
   "id": "036af426",
   "metadata": {},
   "outputs": [],
   "source": [
    "def mal2(var):\n",
    "    return var * 2"
   ]
  },
  {
   "cell_type": "code",
   "execution_count": 93,
   "id": "4f290a85",
   "metadata": {},
   "outputs": [
    {
     "name": "stdout",
     "output_type": "stream",
     "text": [
      "4\n"
     ]
    }
   ],
   "source": [
    "print(mal2(2))"
   ]
  },
  {
   "cell_type": "code",
   "execution_count": 94,
   "id": "a8a47c7b",
   "metadata": {},
   "outputs": [],
   "source": [
    "l_mal2 = lambda var: var*2"
   ]
  },
  {
   "cell_type": "code",
   "execution_count": 96,
   "id": "459aeea3",
   "metadata": {},
   "outputs": [
    {
     "name": "stdout",
     "output_type": "stream",
     "text": [
      "12\n"
     ]
    }
   ],
   "source": [
    "print(l_mal2(6))"
   ]
  },
  {
   "cell_type": "code",
   "execution_count": 106,
   "id": "38409dec",
   "metadata": {},
   "outputs": [],
   "source": [
    "seq = [1, 2, 3, 4, 5]#range(1, 6)"
   ]
  },
  {
   "cell_type": "code",
   "execution_count": 107,
   "id": "f48e4e96",
   "metadata": {},
   "outputs": [
    {
     "name": "stdout",
     "output_type": "stream",
     "text": [
      "[1, 2, 3, 4, 5]\n"
     ]
    }
   ],
   "source": [
    "print(seq)"
   ]
  },
  {
   "cell_type": "code",
   "execution_count": 108,
   "id": "e46cb1e7",
   "metadata": {},
   "outputs": [
    {
     "name": "stdout",
     "output_type": "stream",
     "text": [
      "[2, 4, 6, 8, 10]\n",
      "[2, 4, 6, 8, 10]\n",
      "[2, 4, 6, 8, 10]\n"
     ]
    }
   ],
   "source": [
    "print(list(map(mal2,seq)))\n",
    "print(list(map(l_mal2,seq)))\n",
    "print(list(map(lambda var: var*2,seq)))"
   ]
  },
  {
   "cell_type": "code",
   "execution_count": 109,
   "id": "a85926f0",
   "metadata": {},
   "outputs": [
    {
     "name": "stdout",
     "output_type": "stream",
     "text": [
      "[2, 4]\n"
     ]
    }
   ],
   "source": [
    "print(list(filter(lambda i: i%2==0, seq)))"
   ]
  },
  {
   "cell_type": "code",
   "execution_count": 112,
   "id": "8c74deb3",
   "metadata": {},
   "outputs": [
    {
     "name": "stdout",
     "output_type": "stream",
     "text": [
      "HALLO WORLD\n",
      "hallo world\n",
      "['Hallo', 'World']\n"
     ]
    }
   ],
   "source": [
    "st = 'Hallo World'\n",
    "print(st.upper())\n",
    "print(st.lower())\n",
    "print(st.split())"
   ]
  },
  {
   "cell_type": "code",
   "execution_count": 115,
   "id": "f78d300b",
   "metadata": {},
   "outputs": [],
   "source": [
    "tweet = \"Go Python #py\""
   ]
  },
  {
   "cell_type": "code",
   "execution_count": 117,
   "id": "b724f073",
   "metadata": {},
   "outputs": [
    {
     "name": "stdout",
     "output_type": "stream",
     "text": [
      "py\n"
     ]
    }
   ],
   "source": [
    "print(tweet.split('#')[1])"
   ]
  },
  {
   "cell_type": "code",
   "execution_count": 121,
   "id": "3567319a",
   "metadata": {},
   "outputs": [
    {
     "name": "stdout",
     "output_type": "stream",
     "text": [
      "{'k1': {'ik': [1, 2, 3]}}\n"
     ]
    }
   ],
   "source": [
    "print(d)"
   ]
  },
  {
   "cell_type": "code",
   "execution_count": 122,
   "id": "db5db228",
   "metadata": {},
   "outputs": [
    {
     "name": "stdout",
     "output_type": "stream",
     "text": [
      "dict_keys(['k1'])\n"
     ]
    }
   ],
   "source": [
    "print(d.keys())"
   ]
  },
  {
   "cell_type": "code",
   "execution_count": 123,
   "id": "90201767",
   "metadata": {},
   "outputs": [
    {
     "name": "stdout",
     "output_type": "stream",
     "text": [
      "dict_items([('k1', {'ik': [1, 2, 3]})])\n"
     ]
    }
   ],
   "source": [
    "print(d.items())"
   ]
  },
  {
   "cell_type": "code",
   "execution_count": 127,
   "id": "bb50f0b1",
   "metadata": {},
   "outputs": [
    {
     "name": "stdout",
     "output_type": "stream",
     "text": [
      "[1, 2, 3]\n"
     ]
    }
   ],
   "source": [
    "lst = [1, 2, 3]\n",
    "print(lst)"
   ]
  },
  {
   "cell_type": "code",
   "execution_count": 128,
   "id": "bd2158ed",
   "metadata": {},
   "outputs": [
    {
     "name": "stdout",
     "output_type": "stream",
     "text": [
      "[1, 2, 3, 'neu']\n"
     ]
    }
   ],
   "source": [
    "lst.append('neu')\n",
    "print(lst)"
   ]
  },
  {
   "cell_type": "code",
   "execution_count": 130,
   "id": "53e415b5",
   "metadata": {},
   "outputs": [
    {
     "name": "stdout",
     "output_type": "stream",
     "text": [
      "neu\n"
     ]
    }
   ],
   "source": [
    "first = lst.pop()\n",
    "print(first)"
   ]
  },
  {
   "cell_type": "code",
   "execution_count": 131,
   "id": "3c96681f",
   "metadata": {},
   "outputs": [
    {
     "name": "stdout",
     "output_type": "stream",
     "text": [
      "x is not in list\n"
     ]
    }
   ],
   "source": [
    "if 'x' in lst:\n",
    "    print(\"x is in list\")\n",
    "else:\n",
    "    print(\"x is not in list\")"
   ]
  },
  {
   "cell_type": "code",
   "execution_count": 132,
   "id": "2d818bda",
   "metadata": {},
   "outputs": [],
   "source": [
    "t = [(1, 2), (3, 4), (5, 6)]"
   ]
  },
  {
   "cell_type": "code",
   "execution_count": 134,
   "id": "9d82a96b",
   "metadata": {},
   "outputs": [
    {
     "name": "stdout",
     "output_type": "stream",
     "text": [
      "1 2\n",
      "3 4\n",
      "5 6\n"
     ]
    }
   ],
   "source": [
    "for a,b in t:\n",
    "    print(a, b)"
   ]
  },
  {
   "cell_type": "code",
   "execution_count": null,
   "id": "d86e5512",
   "metadata": {},
   "outputs": [],
   "source": []
  }
 ],
 "metadata": {
  "kernelspec": {
   "display_name": "Python 3 (ipykernel)",
   "language": "python",
   "name": "python3"
  },
  "language_info": {
   "codemirror_mode": {
    "name": "ipython",
    "version": 3
   },
   "file_extension": ".py",
   "mimetype": "text/x-python",
   "name": "python",
   "nbconvert_exporter": "python",
   "pygments_lexer": "ipython3",
   "version": "3.9.7"
  }
 },
 "nbformat": 4,
 "nbformat_minor": 5
}
