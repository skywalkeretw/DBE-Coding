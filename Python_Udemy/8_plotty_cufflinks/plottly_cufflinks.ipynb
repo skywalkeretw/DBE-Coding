{
 "cells": [
  {
   "cell_type": "code",
   "execution_count": 1,
   "id": "feed3306-3dd8-4dc8-9235-7dee5678cad3",
   "metadata": {},
   "outputs": [
    {
     "name": "stdout",
     "output_type": "stream",
     "text": [
      "Collecting plotly\n",
      "  Downloading plotly-5.11.0-py2.py3-none-any.whl (15.3 MB)\n",
      "     |████████████████████████████████| 15.3 MB 8.0 MB/s            \n",
      "\u001b[?25hCollecting tenacity>=6.2.0\n",
      "  Downloading tenacity-8.1.0-py3-none-any.whl (23 kB)\n",
      "Installing collected packages: tenacity, plotly\n",
      "Successfully installed plotly-5.11.0 tenacity-8.1.0\n",
      "Note: you may need to restart the kernel to use updated packages.\n"
     ]
    }
   ],
   "source": [
    "pip install plotly"
   ]
  },
  {
   "cell_type": "code",
   "execution_count": 2,
   "id": "af13c72d-db73-4fc7-9ca2-8d852cae7825",
   "metadata": {},
   "outputs": [
    {
     "name": "stdout",
     "output_type": "stream",
     "text": [
      "Collecting cufflinks\n",
      "  Downloading cufflinks-0.17.3.tar.gz (81 kB)\n",
      "     |████████████████████████████████| 81 kB 6.0 MB/s             \n",
      "\u001b[?25h  Preparing metadata (setup.py) ... \u001b[?25ldone\n",
      "\u001b[?25hRequirement already satisfied: numpy>=1.9.2 in /opt/conda/lib/python3.9/site-packages (from cufflinks) (1.21.5)\n",
      "Requirement already satisfied: pandas>=0.19.2 in /opt/conda/lib/python3.9/site-packages (from cufflinks) (1.3.5)\n",
      "Requirement already satisfied: plotly>=4.1.1 in /opt/conda/lib/python3.9/site-packages (from cufflinks) (5.11.0)\n",
      "Requirement already satisfied: six>=1.9.0 in /opt/conda/lib/python3.9/site-packages (from cufflinks) (1.16.0)\n",
      "Collecting colorlover>=0.2.1\n",
      "  Downloading colorlover-0.3.0-py3-none-any.whl (8.9 kB)\n",
      "Requirement already satisfied: setuptools>=34.4.1 in /opt/conda/lib/python3.9/site-packages (from cufflinks) (59.8.0)\n",
      "Requirement already satisfied: ipython>=5.3.0 in /opt/conda/lib/python3.9/site-packages (from cufflinks) (8.0.0)\n",
      "Requirement already satisfied: ipywidgets>=7.0.0 in /opt/conda/lib/python3.9/site-packages (from cufflinks) (7.6.5)\n",
      "Requirement already satisfied: prompt-toolkit!=3.0.0,!=3.0.1,<3.1.0,>=2.0.0 in /opt/conda/lib/python3.9/site-packages (from ipython>=5.3.0->cufflinks) (3.0.24)\n",
      "Requirement already satisfied: pexpect>4.3 in /opt/conda/lib/python3.9/site-packages (from ipython>=5.3.0->cufflinks) (4.8.0)\n",
      "Requirement already satisfied: matplotlib-inline in /opt/conda/lib/python3.9/site-packages (from ipython>=5.3.0->cufflinks) (0.1.3)\n",
      "Requirement already satisfied: black in /opt/conda/lib/python3.9/site-packages (from ipython>=5.3.0->cufflinks) (21.12b0)\n",
      "Requirement already satisfied: decorator in /opt/conda/lib/python3.9/site-packages (from ipython>=5.3.0->cufflinks) (5.1.1)\n",
      "Requirement already satisfied: traitlets>=5 in /opt/conda/lib/python3.9/site-packages (from ipython>=5.3.0->cufflinks) (5.1.1)\n",
      "Requirement already satisfied: backcall in /opt/conda/lib/python3.9/site-packages (from ipython>=5.3.0->cufflinks) (0.2.0)\n",
      "Requirement already satisfied: jedi>=0.16 in /opt/conda/lib/python3.9/site-packages (from ipython>=5.3.0->cufflinks) (0.18.1)\n",
      "Requirement already satisfied: pygments in /opt/conda/lib/python3.9/site-packages (from ipython>=5.3.0->cufflinks) (2.11.2)\n",
      "Requirement already satisfied: stack-data in /opt/conda/lib/python3.9/site-packages (from ipython>=5.3.0->cufflinks) (0.1.4)\n",
      "Requirement already satisfied: pickleshare in /opt/conda/lib/python3.9/site-packages (from ipython>=5.3.0->cufflinks) (0.7.5)\n",
      "Requirement already satisfied: ipykernel>=4.5.1 in /opt/conda/lib/python3.9/site-packages (from ipywidgets>=7.0.0->cufflinks) (6.7.0)\n",
      "Requirement already satisfied: ipython-genutils~=0.2.0 in /opt/conda/lib/python3.9/site-packages (from ipywidgets>=7.0.0->cufflinks) (0.2.0)\n",
      "Requirement already satisfied: jupyterlab-widgets>=1.0.0 in /opt/conda/lib/python3.9/site-packages (from ipywidgets>=7.0.0->cufflinks) (1.0.2)\n",
      "Requirement already satisfied: widgetsnbextension~=3.5.0 in /opt/conda/lib/python3.9/site-packages (from ipywidgets>=7.0.0->cufflinks) (3.5.2)\n",
      "Requirement already satisfied: nbformat>=4.2.0 in /opt/conda/lib/python3.9/site-packages (from ipywidgets>=7.0.0->cufflinks) (5.1.3)\n",
      "Requirement already satisfied: python-dateutil>=2.7.3 in /opt/conda/lib/python3.9/site-packages (from pandas>=0.19.2->cufflinks) (2.8.2)\n",
      "Requirement already satisfied: pytz>=2017.3 in /opt/conda/lib/python3.9/site-packages (from pandas>=0.19.2->cufflinks) (2021.3)\n",
      "Requirement already satisfied: tenacity>=6.2.0 in /opt/conda/lib/python3.9/site-packages (from plotly>=4.1.1->cufflinks) (8.1.0)\n",
      "Requirement already satisfied: nest-asyncio in /opt/conda/lib/python3.9/site-packages (from ipykernel>=4.5.1->ipywidgets>=7.0.0->cufflinks) (1.5.4)\n",
      "Requirement already satisfied: debugpy<2.0,>=1.0.0 in /opt/conda/lib/python3.9/site-packages (from ipykernel>=4.5.1->ipywidgets>=7.0.0->cufflinks) (1.5.1)\n",
      "Requirement already satisfied: tornado<7.0,>=4.2 in /opt/conda/lib/python3.9/site-packages (from ipykernel>=4.5.1->ipywidgets>=7.0.0->cufflinks) (6.1)\n",
      "Requirement already satisfied: jupyter-client<8.0 in /opt/conda/lib/python3.9/site-packages (from ipykernel>=4.5.1->ipywidgets>=7.0.0->cufflinks) (7.1.1)\n",
      "Requirement already satisfied: parso<0.9.0,>=0.8.0 in /opt/conda/lib/python3.9/site-packages (from jedi>=0.16->ipython>=5.3.0->cufflinks) (0.8.3)\n",
      "Requirement already satisfied: jupyter-core in /opt/conda/lib/python3.9/site-packages (from nbformat>=4.2.0->ipywidgets>=7.0.0->cufflinks) (4.9.1)\n",
      "Requirement already satisfied: jsonschema!=2.5.0,>=2.4 in /opt/conda/lib/python3.9/site-packages (from nbformat>=4.2.0->ipywidgets>=7.0.0->cufflinks) (4.4.0)\n",
      "Requirement already satisfied: ptyprocess>=0.5 in /opt/conda/lib/python3.9/site-packages (from pexpect>4.3->ipython>=5.3.0->cufflinks) (0.7.0)\n",
      "Requirement already satisfied: wcwidth in /opt/conda/lib/python3.9/site-packages (from prompt-toolkit!=3.0.0,!=3.0.1,<3.1.0,>=2.0.0->ipython>=5.3.0->cufflinks) (0.2.5)\n",
      "Requirement already satisfied: notebook>=4.4.1 in /opt/conda/lib/python3.9/site-packages (from widgetsnbextension~=3.5.0->ipywidgets>=7.0.0->cufflinks) (6.4.7)\n",
      "Requirement already satisfied: click>=7.1.2 in /opt/conda/lib/python3.9/site-packages (from black->ipython>=5.3.0->cufflinks) (8.0.3)\n",
      "Requirement already satisfied: pathspec<1,>=0.9.0 in /opt/conda/lib/python3.9/site-packages (from black->ipython>=5.3.0->cufflinks) (0.9.0)\n",
      "Requirement already satisfied: platformdirs>=2 in /opt/conda/lib/python3.9/site-packages (from black->ipython>=5.3.0->cufflinks) (2.3.0)\n",
      "Requirement already satisfied: typing-extensions>=3.10.0.0 in /opt/conda/lib/python3.9/site-packages (from black->ipython>=5.3.0->cufflinks) (4.0.1)\n",
      "Requirement already satisfied: mypy-extensions>=0.4.3 in /opt/conda/lib/python3.9/site-packages (from black->ipython>=5.3.0->cufflinks) (0.4.3)\n",
      "Requirement already satisfied: tomli<2.0.0,>=0.2.6 in /opt/conda/lib/python3.9/site-packages (from black->ipython>=5.3.0->cufflinks) (1.2.2)\n",
      "Requirement already satisfied: asttokens in /opt/conda/lib/python3.9/site-packages (from stack-data->ipython>=5.3.0->cufflinks) (2.0.5)\n",
      "Requirement already satisfied: executing in /opt/conda/lib/python3.9/site-packages (from stack-data->ipython>=5.3.0->cufflinks) (0.8.2)\n",
      "Requirement already satisfied: pure-eval in /opt/conda/lib/python3.9/site-packages (from stack-data->ipython>=5.3.0->cufflinks) (0.2.1)\n",
      "Requirement already satisfied: attrs>=17.4.0 in /opt/conda/lib/python3.9/site-packages (from jsonschema!=2.5.0,>=2.4->nbformat>=4.2.0->ipywidgets>=7.0.0->cufflinks) (21.4.0)\n",
      "Requirement already satisfied: pyrsistent!=0.17.0,!=0.17.1,!=0.17.2,>=0.14.0 in /opt/conda/lib/python3.9/site-packages (from jsonschema!=2.5.0,>=2.4->nbformat>=4.2.0->ipywidgets>=7.0.0->cufflinks) (0.18.1)\n",
      "Requirement already satisfied: entrypoints in /opt/conda/lib/python3.9/site-packages (from jupyter-client<8.0->ipykernel>=4.5.1->ipywidgets>=7.0.0->cufflinks) (0.3)\n",
      "Requirement already satisfied: pyzmq>=13 in /opt/conda/lib/python3.9/site-packages (from jupyter-client<8.0->ipykernel>=4.5.1->ipywidgets>=7.0.0->cufflinks) (22.3.0)\n",
      "Requirement already satisfied: nbconvert in /opt/conda/lib/python3.9/site-packages (from notebook>=4.4.1->widgetsnbextension~=3.5.0->ipywidgets>=7.0.0->cufflinks) (6.4.0)\n",
      "Requirement already satisfied: prometheus-client in /opt/conda/lib/python3.9/site-packages (from notebook>=4.4.1->widgetsnbextension~=3.5.0->ipywidgets>=7.0.0->cufflinks) (0.12.0)\n",
      "Requirement already satisfied: Send2Trash>=1.8.0 in /opt/conda/lib/python3.9/site-packages (from notebook>=4.4.1->widgetsnbextension~=3.5.0->ipywidgets>=7.0.0->cufflinks) (1.8.0)\n",
      "Requirement already satisfied: jinja2 in /opt/conda/lib/python3.9/site-packages (from notebook>=4.4.1->widgetsnbextension~=3.5.0->ipywidgets>=7.0.0->cufflinks) (3.0.3)\n",
      "Requirement already satisfied: argon2-cffi in /opt/conda/lib/python3.9/site-packages (from notebook>=4.4.1->widgetsnbextension~=3.5.0->ipywidgets>=7.0.0->cufflinks) (21.3.0)\n",
      "Requirement already satisfied: terminado>=0.8.3 in /opt/conda/lib/python3.9/site-packages (from notebook>=4.4.1->widgetsnbextension~=3.5.0->ipywidgets>=7.0.0->cufflinks) (0.12.1)\n",
      "Requirement already satisfied: argon2-cffi-bindings in /opt/conda/lib/python3.9/site-packages (from argon2-cffi->notebook>=4.4.1->widgetsnbextension~=3.5.0->ipywidgets>=7.0.0->cufflinks) (21.2.0)\n",
      "Requirement already satisfied: MarkupSafe>=2.0 in /opt/conda/lib/python3.9/site-packages (from jinja2->notebook>=4.4.1->widgetsnbextension~=3.5.0->ipywidgets>=7.0.0->cufflinks) (2.0.1)\n",
      "Requirement already satisfied: mistune<2,>=0.8.1 in /opt/conda/lib/python3.9/site-packages (from nbconvert->notebook>=4.4.1->widgetsnbextension~=3.5.0->ipywidgets>=7.0.0->cufflinks) (0.8.4)\n",
      "Requirement already satisfied: nbclient<0.6.0,>=0.5.0 in /opt/conda/lib/python3.9/site-packages (from nbconvert->notebook>=4.4.1->widgetsnbextension~=3.5.0->ipywidgets>=7.0.0->cufflinks) (0.5.10)\n",
      "Requirement already satisfied: testpath in /opt/conda/lib/python3.9/site-packages (from nbconvert->notebook>=4.4.1->widgetsnbextension~=3.5.0->ipywidgets>=7.0.0->cufflinks) (0.5.0)\n",
      "Requirement already satisfied: bleach in /opt/conda/lib/python3.9/site-packages (from nbconvert->notebook>=4.4.1->widgetsnbextension~=3.5.0->ipywidgets>=7.0.0->cufflinks) (4.1.0)\n",
      "Requirement already satisfied: defusedxml in /opt/conda/lib/python3.9/site-packages (from nbconvert->notebook>=4.4.1->widgetsnbextension~=3.5.0->ipywidgets>=7.0.0->cufflinks) (0.7.1)\n",
      "Requirement already satisfied: pandocfilters>=1.4.1 in /opt/conda/lib/python3.9/site-packages (from nbconvert->notebook>=4.4.1->widgetsnbextension~=3.5.0->ipywidgets>=7.0.0->cufflinks) (1.5.0)\n",
      "Requirement already satisfied: jupyterlab-pygments in /opt/conda/lib/python3.9/site-packages (from nbconvert->notebook>=4.4.1->widgetsnbextension~=3.5.0->ipywidgets>=7.0.0->cufflinks) (0.1.2)\n",
      "Requirement already satisfied: cffi>=1.0.1 in /opt/conda/lib/python3.9/site-packages (from argon2-cffi-bindings->argon2-cffi->notebook>=4.4.1->widgetsnbextension~=3.5.0->ipywidgets>=7.0.0->cufflinks) (1.15.0)\n",
      "Requirement already satisfied: webencodings in /opt/conda/lib/python3.9/site-packages (from bleach->nbconvert->notebook>=4.4.1->widgetsnbextension~=3.5.0->ipywidgets>=7.0.0->cufflinks) (0.5.1)\n",
      "Requirement already satisfied: packaging in /opt/conda/lib/python3.9/site-packages (from bleach->nbconvert->notebook>=4.4.1->widgetsnbextension~=3.5.0->ipywidgets>=7.0.0->cufflinks) (21.3)\n",
      "Requirement already satisfied: pycparser in /opt/conda/lib/python3.9/site-packages (from cffi>=1.0.1->argon2-cffi-bindings->argon2-cffi->notebook>=4.4.1->widgetsnbextension~=3.5.0->ipywidgets>=7.0.0->cufflinks) (2.21)\n",
      "Requirement already satisfied: pyparsing!=3.0.5,>=2.0.2 in /opt/conda/lib/python3.9/site-packages (from packaging->bleach->nbconvert->notebook>=4.4.1->widgetsnbextension~=3.5.0->ipywidgets>=7.0.0->cufflinks) (3.0.6)\n",
      "Building wheels for collected packages: cufflinks\n",
      "  Building wheel for cufflinks (setup.py) ... \u001b[?25ldone\n",
      "\u001b[?25h  Created wheel for cufflinks: filename=cufflinks-0.17.3-py3-none-any.whl size=67918 sha256=09ffc30fc4cfc5bf2e0ef31f64cab9e545a7e8163b6ddb408091e369b6e0b58c\n",
      "  Stored in directory: /home/jovyan/.cache/pip/wheels/29/b4/f8/2fd2206eeeba6ccad8167e4e8894b8c4ec27bf1342037fd136\n",
      "Successfully built cufflinks\n",
      "Installing collected packages: colorlover, cufflinks\n",
      "Successfully installed colorlover-0.3.0 cufflinks-0.17.3\n",
      "Note: you may need to restart the kernel to use updated packages.\n"
     ]
    }
   ],
   "source": [
    "pip install cufflinks"
   ]
  },
  {
   "cell_type": "code",
   "execution_count": 4,
   "id": "58365cf7-1843-438a-9785-f27f0e8f3c02",
   "metadata": {},
   "outputs": [],
   "source": [
    "import pandas as pd\n",
    "import numpy as np\n",
    "from plotly.offline import download_plotlyjs, init_notebook_mode, plot, iplot\n",
    "import cufflinks as cf"
   ]
  },
  {
   "cell_type": "code",
   "execution_count": 5,
   "id": "6d6b3e91-193e-4936-b4c2-ed9fdcf5e78c",
   "metadata": {},
   "outputs": [
    {
     "data": {
      "text/html": [
       "        <script type=\"text/javascript\">\n",
       "        window.PlotlyConfig = {MathJaxConfig: 'local'};\n",
       "        if (window.MathJax && window.MathJax.Hub && window.MathJax.Hub.Config) {window.MathJax.Hub.Config({SVG: {font: \"STIX-Web\"}});}\n",
       "        if (typeof require !== 'undefined') {\n",
       "        require.undef(\"plotly\");\n",
       "        requirejs.config({\n",
       "            paths: {\n",
       "                'plotly': ['https://cdn.plot.ly/plotly-2.16.1.min']\n",
       "            }\n",
       "        });\n",
       "        require(['plotly'], function(Plotly) {\n",
       "            window._Plotly = Plotly;\n",
       "        });\n",
       "        }\n",
       "        </script>\n",
       "        "
      ]
     },
     "metadata": {},
     "output_type": "display_data"
    }
   ],
   "source": [
    "init_notebook_mode(connected=True)"
   ]
  },
  {
   "cell_type": "code",
   "execution_count": 6,
   "id": "4b3af52b-f653-45eb-8f9a-102e4fea919d",
   "metadata": {},
   "outputs": [
    {
     "data": {
      "text/html": [
       "        <script type=\"text/javascript\">\n",
       "        window.PlotlyConfig = {MathJaxConfig: 'local'};\n",
       "        if (window.MathJax && window.MathJax.Hub && window.MathJax.Hub.Config) {window.MathJax.Hub.Config({SVG: {font: \"STIX-Web\"}});}\n",
       "        if (typeof require !== 'undefined') {\n",
       "        require.undef(\"plotly\");\n",
       "        requirejs.config({\n",
       "            paths: {\n",
       "                'plotly': ['https://cdn.plot.ly/plotly-2.16.1.min']\n",
       "            }\n",
       "        });\n",
       "        require(['plotly'], function(Plotly) {\n",
       "            window._Plotly = Plotly;\n",
       "        });\n",
       "        }\n",
       "        </script>\n",
       "        "
      ]
     },
     "metadata": {},
     "output_type": "display_data"
    }
   ],
   "source": [
    "cf.go_offline()"
   ]
  },
  {
   "cell_type": "code",
   "execution_count": 7,
   "id": "8557ef9d-8eea-43d5-9dc1-2999b75c39cd",
   "metadata": {},
   "outputs": [],
   "source": [
    "df = pd.DataFrame(np.random.randn(100,4), columns=\"A B C D\".split())"
   ]
  },
  {
   "cell_type": "code",
   "execution_count": 8,
   "id": "b96b0570-0de2-4074-b9f0-a1d3293a5657",
   "metadata": {},
   "outputs": [
    {
     "data": {
      "text/html": [
       "<div>\n",
       "<style scoped>\n",
       "    .dataframe tbody tr th:only-of-type {\n",
       "        vertical-align: middle;\n",
       "    }\n",
       "\n",
       "    .dataframe tbody tr th {\n",
       "        vertical-align: top;\n",
       "    }\n",
       "\n",
       "    .dataframe thead th {\n",
       "        text-align: right;\n",
       "    }\n",
       "</style>\n",
       "<table border=\"1\" class=\"dataframe\">\n",
       "  <thead>\n",
       "    <tr style=\"text-align: right;\">\n",
       "      <th></th>\n",
       "      <th>A</th>\n",
       "      <th>B</th>\n",
       "      <th>C</th>\n",
       "      <th>D</th>\n",
       "    </tr>\n",
       "  </thead>\n",
       "  <tbody>\n",
       "    <tr>\n",
       "      <th>0</th>\n",
       "      <td>1.233640</td>\n",
       "      <td>-1.902207</td>\n",
       "      <td>-0.120346</td>\n",
       "      <td>-1.756766</td>\n",
       "    </tr>\n",
       "    <tr>\n",
       "      <th>1</th>\n",
       "      <td>-0.048615</td>\n",
       "      <td>-2.135885</td>\n",
       "      <td>0.520528</td>\n",
       "      <td>-0.590167</td>\n",
       "    </tr>\n",
       "    <tr>\n",
       "      <th>2</th>\n",
       "      <td>0.250997</td>\n",
       "      <td>0.157314</td>\n",
       "      <td>1.637372</td>\n",
       "      <td>-0.136642</td>\n",
       "    </tr>\n",
       "    <tr>\n",
       "      <th>3</th>\n",
       "      <td>-0.119246</td>\n",
       "      <td>-0.511697</td>\n",
       "      <td>-0.140012</td>\n",
       "      <td>-0.196539</td>\n",
       "    </tr>\n",
       "    <tr>\n",
       "      <th>4</th>\n",
       "      <td>-0.260848</td>\n",
       "      <td>-1.016779</td>\n",
       "      <td>-2.674526</td>\n",
       "      <td>-1.951189</td>\n",
       "    </tr>\n",
       "  </tbody>\n",
       "</table>\n",
       "</div>"
      ],
      "text/plain": [
       "          A         B         C         D\n",
       "0  1.233640 -1.902207 -0.120346 -1.756766\n",
       "1 -0.048615 -2.135885  0.520528 -0.590167\n",
       "2  0.250997  0.157314  1.637372 -0.136642\n",
       "3 -0.119246 -0.511697 -0.140012 -0.196539\n",
       "4 -0.260848 -1.016779 -2.674526 -1.951189"
      ]
     },
     "execution_count": 8,
     "metadata": {},
     "output_type": "execute_result"
    }
   ],
   "source": [
    "df.head()"
   ]
  },
  {
   "cell_type": "code",
   "execution_count": 9,
   "id": "1d66ead5-8b9d-46c9-8e29-ce3ef5fac903",
   "metadata": {},
   "outputs": [],
   "source": [
    "df2 = pd.DataFrame({'Kategorie': ['A', 'B','C'], 'Werte': [32,43,50]})"
   ]
  },
  {
   "cell_type": "code",
   "execution_count": 10,
   "id": "fa35b8db-fd63-45d3-a64e-d736fb85ad08",
   "metadata": {},
   "outputs": [
    {
     "data": {
      "text/html": [
       "<div>\n",
       "<style scoped>\n",
       "    .dataframe tbody tr th:only-of-type {\n",
       "        vertical-align: middle;\n",
       "    }\n",
       "\n",
       "    .dataframe tbody tr th {\n",
       "        vertical-align: top;\n",
       "    }\n",
       "\n",
       "    .dataframe thead th {\n",
       "        text-align: right;\n",
       "    }\n",
       "</style>\n",
       "<table border=\"1\" class=\"dataframe\">\n",
       "  <thead>\n",
       "    <tr style=\"text-align: right;\">\n",
       "      <th></th>\n",
       "      <th>Kategorie</th>\n",
       "      <th>Werte</th>\n",
       "    </tr>\n",
       "  </thead>\n",
       "  <tbody>\n",
       "    <tr>\n",
       "      <th>0</th>\n",
       "      <td>A</td>\n",
       "      <td>32</td>\n",
       "    </tr>\n",
       "    <tr>\n",
       "      <th>1</th>\n",
       "      <td>B</td>\n",
       "      <td>43</td>\n",
       "    </tr>\n",
       "    <tr>\n",
       "      <th>2</th>\n",
       "      <td>C</td>\n",
       "      <td>50</td>\n",
       "    </tr>\n",
       "  </tbody>\n",
       "</table>\n",
       "</div>"
      ],
      "text/plain": [
       "  Kategorie  Werte\n",
       "0         A     32\n",
       "1         B     43\n",
       "2         C     50"
      ]
     },
     "execution_count": 10,
     "metadata": {},
     "output_type": "execute_result"
    }
   ],
   "source": [
    "df2.head()"
   ]
  },
  {
   "cell_type": "code",
   "execution_count": 12,
   "id": "c80c501c-003c-4dad-8a74-292fbd9c6874",
   "metadata": {},
   "outputs": [
    {
     "data": {
      "application/vnd.plotly.v1+json": {
       "config": {
        "linkText": "Export to plot.ly",
        "plotlyServerURL": "https://plot.ly",
        "showLink": true
       },
       "data": [
        {
         "line": {
          "color": "rgba(255, 153, 51, 1.0)",
          "dash": "solid",
          "shape": "linear",
          "width": 1.3
         },
         "mode": "lines",
         "name": "A",
         "text": "",
         "type": "scatter",
         "x": [
          0,
          1,
          2,
          3,
          4,
          5,
          6,
          7,
          8,
          9,
          10,
          11,
          12,
          13,
          14,
          15,
          16,
          17,
          18,
          19,
          20,
          21,
          22,
          23,
          24,
          25,
          26,
          27,
          28,
          29,
          30,
          31,
          32,
          33,
          34,
          35,
          36,
          37,
          38,
          39,
          40,
          41,
          42,
          43,
          44,
          45,
          46,
          47,
          48,
          49,
          50,
          51,
          52,
          53,
          54,
          55,
          56,
          57,
          58,
          59,
          60,
          61,
          62,
          63,
          64,
          65,
          66,
          67,
          68,
          69,
          70,
          71,
          72,
          73,
          74,
          75,
          76,
          77,
          78,
          79,
          80,
          81,
          82,
          83,
          84,
          85,
          86,
          87,
          88,
          89,
          90,
          91,
          92,
          93,
          94,
          95,
          96,
          97,
          98,
          99
         ],
         "y": [
          1.2336395877706994,
          -0.048615295932523526,
          0.25099671508100824,
          -0.1192462297098814,
          -0.2608481410248185,
          -0.06471520395729977,
          0.6259498930158807,
          0.12224421427601183,
          0.9324539075586492,
          1.070141475329659,
          0.5285224800201517,
          -0.24958849117359538,
          -0.29752102945104475,
          -0.6454103565063174,
          0.10442728647747394,
          -0.39378093189513375,
          -0.41399385767203517,
          -2.3312026081324517,
          0.31942537204183175,
          -1.4169774002817863,
          -1.377837148359218,
          -0.8064637395522112,
          3.3046701681598245,
          0.3249459378005792,
          0.3650097454990451,
          0.02065115131120758,
          1.2133373411044714,
          0.13608566784413764,
          -1.082375661287402,
          0.21276340210915654,
          -0.541233499690844,
          1.0120991433643813,
          -0.18508374419786647,
          -0.5156638362473296,
          -0.0645236069411833,
          0.34718435927735686,
          -1.1135794845678495,
          -0.9176904249407741,
          3.0705934949711446,
          1.4086638090114365,
          0.2562168360363639,
          -1.7164372878789915,
          0.22716733957708662,
          -1.4865304220381552,
          -0.483176954304673,
          2.802666688554588,
          -1.1253381606030017,
          -0.6915062924050371,
          0.7247609199197345,
          1.2275235702973804,
          -0.22318512888589181,
          -0.3132358939336809,
          -1.6040305545083373,
          1.8458126184513648,
          -0.8154253140752616,
          -0.2256614370869709,
          1.2978362803458532,
          0.14007647039884705,
          -0.20458602765483533,
          -0.2703209024985795,
          -0.2654081193656234,
          0.2202236850078853,
          0.14962062952118016,
          -0.9932677026925171,
          1.4271803455705308,
          0.43146018054188895,
          0.22187226163578996,
          1.7326906445715977,
          0.08548903032789677,
          -0.9295010484556132,
          0.5475247339146619,
          0.12447547676253774,
          -0.29634372342151055,
          -1.0253146544479361,
          0.3421818204421844,
          0.3688861723184149,
          0.03492725922143807,
          -0.31362123305608436,
          0.24375801240034217,
          0.4269918051686339,
          -0.23890978405914443,
          -1.7877295632810428,
          -0.16004350029481743,
          -0.3352782257640638,
          0.9857046637192217,
          -0.831237642919192,
          0.3361311145496733,
          0.7589545074594741,
          0.1781577265576734,
          -1.6752858972755533,
          -1.2041662102497588,
          -0.6653978729777915,
          0.3275641601449004,
          1.1634374896765034,
          -0.12556238527553262,
          0.11262507359259387,
          -0.13497569861698266,
          -1.3005004618063705,
          -1.4015847136640596,
          -0.7130959437805059
         ]
        },
        {
         "line": {
          "color": "rgba(55, 128, 191, 1.0)",
          "dash": "solid",
          "shape": "linear",
          "width": 1.3
         },
         "mode": "lines",
         "name": "B",
         "text": "",
         "type": "scatter",
         "x": [
          0,
          1,
          2,
          3,
          4,
          5,
          6,
          7,
          8,
          9,
          10,
          11,
          12,
          13,
          14,
          15,
          16,
          17,
          18,
          19,
          20,
          21,
          22,
          23,
          24,
          25,
          26,
          27,
          28,
          29,
          30,
          31,
          32,
          33,
          34,
          35,
          36,
          37,
          38,
          39,
          40,
          41,
          42,
          43,
          44,
          45,
          46,
          47,
          48,
          49,
          50,
          51,
          52,
          53,
          54,
          55,
          56,
          57,
          58,
          59,
          60,
          61,
          62,
          63,
          64,
          65,
          66,
          67,
          68,
          69,
          70,
          71,
          72,
          73,
          74,
          75,
          76,
          77,
          78,
          79,
          80,
          81,
          82,
          83,
          84,
          85,
          86,
          87,
          88,
          89,
          90,
          91,
          92,
          93,
          94,
          95,
          96,
          97,
          98,
          99
         ],
         "y": [
          -1.9022065685510319,
          -2.1358854266589624,
          0.15731369215411856,
          -0.5116965050067188,
          -1.016778500304455,
          -0.07152395582692508,
          -0.6287641264563816,
          0.8116557648643434,
          -0.7109323439808468,
          -0.717033813927751,
          1.3316196542841683,
          -0.6310880219508661,
          2.5874251211580503,
          0.2644218892403224,
          -0.35142315852607764,
          0.2922499094243876,
          0.38465151313280316,
          0.4796526662506324,
          -0.692821516591526,
          -0.744210867455073,
          1.7066955696594042,
          0.21510833265147353,
          0.21771786641689403,
          -0.014642454292073627,
          1.1895312175510309,
          -1.3459717202535904,
          0.8467885453665221,
          -0.3114575850495862,
          1.030590665567906,
          -1.3999658924835772,
          0.3257603132932959,
          0.6586054996837076,
          -1.8464148734907193,
          -1.611694363967646,
          1.3087935975821354,
          -0.7122544344002926,
          -1.4202540474598107,
          -0.06956475576311448,
          -2.9681640089507857,
          0.31351528648144794,
          1.19697663227665,
          -0.06858255920050399,
          0.6949733405235001,
          0.12072343848660112,
          -0.9717122892437534,
          -0.6664128392375659,
          1.187574085544821,
          -2.1002353959673896,
          -1.0640523429911906,
          -0.6086697081559084,
          0.9148357188130085,
          -0.5189278497433476,
          -0.10464004777836514,
          0.5441484352640663,
          -1.101107079520376,
          0.104551275657519,
          -0.8641663897108429,
          -0.5439274802275234,
          0.7001541532162037,
          1.4695162149737615,
          -0.2926165781490387,
          -1.4279237442435446,
          1.0361323352789527,
          -0.988429236318292,
          -1.7599933184757448,
          -0.2972367314119232,
          -2.211370194384513,
          -0.6616248315376154,
          0.0006914603293870927,
          0.14312271204237148,
          1.037395383748161,
          0.635085681475714,
          -1.2801277743573918,
          -0.22485334081701447,
          -0.10709203797243241,
          1.0903950904507504,
          0.9498423697670688,
          -0.7566860215157124,
          -1.3185193689652943,
          0.3067433056702688,
          -0.1868825475446146,
          0.3227653992788982,
          1.1239897541025106,
          -0.85444767818716,
          -1.6535091941092632,
          0.733284060047493,
          2.2098470730160282,
          -0.939844915630386,
          -0.8269920694055485,
          -0.42477083179568426,
          0.6469222732434078,
          -0.6554123928641302,
          -0.6036906296788903,
          0.5121986984319296,
          -0.155322734625543,
          -0.5053751854186547,
          1.5239366853625391,
          2.047004505696809,
          -0.889866678505674,
          -0.29066447432594056
         ]
        }
       ],
       "layout": {
        "legend": {
         "bgcolor": "#F5F6F9",
         "font": {
          "color": "#4D5663"
         }
        },
        "paper_bgcolor": "#F5F6F9",
        "plot_bgcolor": "#F5F6F9",
        "template": {
         "data": {
          "bar": [
           {
            "error_x": {
             "color": "#2a3f5f"
            },
            "error_y": {
             "color": "#2a3f5f"
            },
            "marker": {
             "line": {
              "color": "#E5ECF6",
              "width": 0.5
             },
             "pattern": {
              "fillmode": "overlay",
              "size": 10,
              "solidity": 0.2
             }
            },
            "type": "bar"
           }
          ],
          "barpolar": [
           {
            "marker": {
             "line": {
              "color": "#E5ECF6",
              "width": 0.5
             },
             "pattern": {
              "fillmode": "overlay",
              "size": 10,
              "solidity": 0.2
             }
            },
            "type": "barpolar"
           }
          ],
          "carpet": [
           {
            "aaxis": {
             "endlinecolor": "#2a3f5f",
             "gridcolor": "white",
             "linecolor": "white",
             "minorgridcolor": "white",
             "startlinecolor": "#2a3f5f"
            },
            "baxis": {
             "endlinecolor": "#2a3f5f",
             "gridcolor": "white",
             "linecolor": "white",
             "minorgridcolor": "white",
             "startlinecolor": "#2a3f5f"
            },
            "type": "carpet"
           }
          ],
          "choropleth": [
           {
            "colorbar": {
             "outlinewidth": 0,
             "ticks": ""
            },
            "type": "choropleth"
           }
          ],
          "contour": [
           {
            "colorbar": {
             "outlinewidth": 0,
             "ticks": ""
            },
            "colorscale": [
             [
              0,
              "#0d0887"
             ],
             [
              0.1111111111111111,
              "#46039f"
             ],
             [
              0.2222222222222222,
              "#7201a8"
             ],
             [
              0.3333333333333333,
              "#9c179e"
             ],
             [
              0.4444444444444444,
              "#bd3786"
             ],
             [
              0.5555555555555556,
              "#d8576b"
             ],
             [
              0.6666666666666666,
              "#ed7953"
             ],
             [
              0.7777777777777778,
              "#fb9f3a"
             ],
             [
              0.8888888888888888,
              "#fdca26"
             ],
             [
              1,
              "#f0f921"
             ]
            ],
            "type": "contour"
           }
          ],
          "contourcarpet": [
           {
            "colorbar": {
             "outlinewidth": 0,
             "ticks": ""
            },
            "type": "contourcarpet"
           }
          ],
          "heatmap": [
           {
            "colorbar": {
             "outlinewidth": 0,
             "ticks": ""
            },
            "colorscale": [
             [
              0,
              "#0d0887"
             ],
             [
              0.1111111111111111,
              "#46039f"
             ],
             [
              0.2222222222222222,
              "#7201a8"
             ],
             [
              0.3333333333333333,
              "#9c179e"
             ],
             [
              0.4444444444444444,
              "#bd3786"
             ],
             [
              0.5555555555555556,
              "#d8576b"
             ],
             [
              0.6666666666666666,
              "#ed7953"
             ],
             [
              0.7777777777777778,
              "#fb9f3a"
             ],
             [
              0.8888888888888888,
              "#fdca26"
             ],
             [
              1,
              "#f0f921"
             ]
            ],
            "type": "heatmap"
           }
          ],
          "heatmapgl": [
           {
            "colorbar": {
             "outlinewidth": 0,
             "ticks": ""
            },
            "colorscale": [
             [
              0,
              "#0d0887"
             ],
             [
              0.1111111111111111,
              "#46039f"
             ],
             [
              0.2222222222222222,
              "#7201a8"
             ],
             [
              0.3333333333333333,
              "#9c179e"
             ],
             [
              0.4444444444444444,
              "#bd3786"
             ],
             [
              0.5555555555555556,
              "#d8576b"
             ],
             [
              0.6666666666666666,
              "#ed7953"
             ],
             [
              0.7777777777777778,
              "#fb9f3a"
             ],
             [
              0.8888888888888888,
              "#fdca26"
             ],
             [
              1,
              "#f0f921"
             ]
            ],
            "type": "heatmapgl"
           }
          ],
          "histogram": [
           {
            "marker": {
             "pattern": {
              "fillmode": "overlay",
              "size": 10,
              "solidity": 0.2
             }
            },
            "type": "histogram"
           }
          ],
          "histogram2d": [
           {
            "colorbar": {
             "outlinewidth": 0,
             "ticks": ""
            },
            "colorscale": [
             [
              0,
              "#0d0887"
             ],
             [
              0.1111111111111111,
              "#46039f"
             ],
             [
              0.2222222222222222,
              "#7201a8"
             ],
             [
              0.3333333333333333,
              "#9c179e"
             ],
             [
              0.4444444444444444,
              "#bd3786"
             ],
             [
              0.5555555555555556,
              "#d8576b"
             ],
             [
              0.6666666666666666,
              "#ed7953"
             ],
             [
              0.7777777777777778,
              "#fb9f3a"
             ],
             [
              0.8888888888888888,
              "#fdca26"
             ],
             [
              1,
              "#f0f921"
             ]
            ],
            "type": "histogram2d"
           }
          ],
          "histogram2dcontour": [
           {
            "colorbar": {
             "outlinewidth": 0,
             "ticks": ""
            },
            "colorscale": [
             [
              0,
              "#0d0887"
             ],
             [
              0.1111111111111111,
              "#46039f"
             ],
             [
              0.2222222222222222,
              "#7201a8"
             ],
             [
              0.3333333333333333,
              "#9c179e"
             ],
             [
              0.4444444444444444,
              "#bd3786"
             ],
             [
              0.5555555555555556,
              "#d8576b"
             ],
             [
              0.6666666666666666,
              "#ed7953"
             ],
             [
              0.7777777777777778,
              "#fb9f3a"
             ],
             [
              0.8888888888888888,
              "#fdca26"
             ],
             [
              1,
              "#f0f921"
             ]
            ],
            "type": "histogram2dcontour"
           }
          ],
          "mesh3d": [
           {
            "colorbar": {
             "outlinewidth": 0,
             "ticks": ""
            },
            "type": "mesh3d"
           }
          ],
          "parcoords": [
           {
            "line": {
             "colorbar": {
              "outlinewidth": 0,
              "ticks": ""
             }
            },
            "type": "parcoords"
           }
          ],
          "pie": [
           {
            "automargin": true,
            "type": "pie"
           }
          ],
          "scatter": [
           {
            "fillpattern": {
             "fillmode": "overlay",
             "size": 10,
             "solidity": 0.2
            },
            "type": "scatter"
           }
          ],
          "scatter3d": [
           {
            "line": {
             "colorbar": {
              "outlinewidth": 0,
              "ticks": ""
             }
            },
            "marker": {
             "colorbar": {
              "outlinewidth": 0,
              "ticks": ""
             }
            },
            "type": "scatter3d"
           }
          ],
          "scattercarpet": [
           {
            "marker": {
             "colorbar": {
              "outlinewidth": 0,
              "ticks": ""
             }
            },
            "type": "scattercarpet"
           }
          ],
          "scattergeo": [
           {
            "marker": {
             "colorbar": {
              "outlinewidth": 0,
              "ticks": ""
             }
            },
            "type": "scattergeo"
           }
          ],
          "scattergl": [
           {
            "marker": {
             "colorbar": {
              "outlinewidth": 0,
              "ticks": ""
             }
            },
            "type": "scattergl"
           }
          ],
          "scattermapbox": [
           {
            "marker": {
             "colorbar": {
              "outlinewidth": 0,
              "ticks": ""
             }
            },
            "type": "scattermapbox"
           }
          ],
          "scatterpolar": [
           {
            "marker": {
             "colorbar": {
              "outlinewidth": 0,
              "ticks": ""
             }
            },
            "type": "scatterpolar"
           }
          ],
          "scatterpolargl": [
           {
            "marker": {
             "colorbar": {
              "outlinewidth": 0,
              "ticks": ""
             }
            },
            "type": "scatterpolargl"
           }
          ],
          "scatterternary": [
           {
            "marker": {
             "colorbar": {
              "outlinewidth": 0,
              "ticks": ""
             }
            },
            "type": "scatterternary"
           }
          ],
          "surface": [
           {
            "colorbar": {
             "outlinewidth": 0,
             "ticks": ""
            },
            "colorscale": [
             [
              0,
              "#0d0887"
             ],
             [
              0.1111111111111111,
              "#46039f"
             ],
             [
              0.2222222222222222,
              "#7201a8"
             ],
             [
              0.3333333333333333,
              "#9c179e"
             ],
             [
              0.4444444444444444,
              "#bd3786"
             ],
             [
              0.5555555555555556,
              "#d8576b"
             ],
             [
              0.6666666666666666,
              "#ed7953"
             ],
             [
              0.7777777777777778,
              "#fb9f3a"
             ],
             [
              0.8888888888888888,
              "#fdca26"
             ],
             [
              1,
              "#f0f921"
             ]
            ],
            "type": "surface"
           }
          ],
          "table": [
           {
            "cells": {
             "fill": {
              "color": "#EBF0F8"
             },
             "line": {
              "color": "white"
             }
            },
            "header": {
             "fill": {
              "color": "#C8D4E3"
             },
             "line": {
              "color": "white"
             }
            },
            "type": "table"
           }
          ]
         },
         "layout": {
          "annotationdefaults": {
           "arrowcolor": "#2a3f5f",
           "arrowhead": 0,
           "arrowwidth": 1
          },
          "autotypenumbers": "strict",
          "coloraxis": {
           "colorbar": {
            "outlinewidth": 0,
            "ticks": ""
           }
          },
          "colorscale": {
           "diverging": [
            [
             0,
             "#8e0152"
            ],
            [
             0.1,
             "#c51b7d"
            ],
            [
             0.2,
             "#de77ae"
            ],
            [
             0.3,
             "#f1b6da"
            ],
            [
             0.4,
             "#fde0ef"
            ],
            [
             0.5,
             "#f7f7f7"
            ],
            [
             0.6,
             "#e6f5d0"
            ],
            [
             0.7,
             "#b8e186"
            ],
            [
             0.8,
             "#7fbc41"
            ],
            [
             0.9,
             "#4d9221"
            ],
            [
             1,
             "#276419"
            ]
           ],
           "sequential": [
            [
             0,
             "#0d0887"
            ],
            [
             0.1111111111111111,
             "#46039f"
            ],
            [
             0.2222222222222222,
             "#7201a8"
            ],
            [
             0.3333333333333333,
             "#9c179e"
            ],
            [
             0.4444444444444444,
             "#bd3786"
            ],
            [
             0.5555555555555556,
             "#d8576b"
            ],
            [
             0.6666666666666666,
             "#ed7953"
            ],
            [
             0.7777777777777778,
             "#fb9f3a"
            ],
            [
             0.8888888888888888,
             "#fdca26"
            ],
            [
             1,
             "#f0f921"
            ]
           ],
           "sequentialminus": [
            [
             0,
             "#0d0887"
            ],
            [
             0.1111111111111111,
             "#46039f"
            ],
            [
             0.2222222222222222,
             "#7201a8"
            ],
            [
             0.3333333333333333,
             "#9c179e"
            ],
            [
             0.4444444444444444,
             "#bd3786"
            ],
            [
             0.5555555555555556,
             "#d8576b"
            ],
            [
             0.6666666666666666,
             "#ed7953"
            ],
            [
             0.7777777777777778,
             "#fb9f3a"
            ],
            [
             0.8888888888888888,
             "#fdca26"
            ],
            [
             1,
             "#f0f921"
            ]
           ]
          },
          "colorway": [
           "#636efa",
           "#EF553B",
           "#00cc96",
           "#ab63fa",
           "#FFA15A",
           "#19d3f3",
           "#FF6692",
           "#B6E880",
           "#FF97FF",
           "#FECB52"
          ],
          "font": {
           "color": "#2a3f5f"
          },
          "geo": {
           "bgcolor": "white",
           "lakecolor": "white",
           "landcolor": "#E5ECF6",
           "showlakes": true,
           "showland": true,
           "subunitcolor": "white"
          },
          "hoverlabel": {
           "align": "left"
          },
          "hovermode": "closest",
          "mapbox": {
           "style": "light"
          },
          "paper_bgcolor": "white",
          "plot_bgcolor": "#E5ECF6",
          "polar": {
           "angularaxis": {
            "gridcolor": "white",
            "linecolor": "white",
            "ticks": ""
           },
           "bgcolor": "#E5ECF6",
           "radialaxis": {
            "gridcolor": "white",
            "linecolor": "white",
            "ticks": ""
           }
          },
          "scene": {
           "xaxis": {
            "backgroundcolor": "#E5ECF6",
            "gridcolor": "white",
            "gridwidth": 2,
            "linecolor": "white",
            "showbackground": true,
            "ticks": "",
            "zerolinecolor": "white"
           },
           "yaxis": {
            "backgroundcolor": "#E5ECF6",
            "gridcolor": "white",
            "gridwidth": 2,
            "linecolor": "white",
            "showbackground": true,
            "ticks": "",
            "zerolinecolor": "white"
           },
           "zaxis": {
            "backgroundcolor": "#E5ECF6",
            "gridcolor": "white",
            "gridwidth": 2,
            "linecolor": "white",
            "showbackground": true,
            "ticks": "",
            "zerolinecolor": "white"
           }
          },
          "shapedefaults": {
           "line": {
            "color": "#2a3f5f"
           }
          },
          "ternary": {
           "aaxis": {
            "gridcolor": "white",
            "linecolor": "white",
            "ticks": ""
           },
           "baxis": {
            "gridcolor": "white",
            "linecolor": "white",
            "ticks": ""
           },
           "bgcolor": "#E5ECF6",
           "caxis": {
            "gridcolor": "white",
            "linecolor": "white",
            "ticks": ""
           }
          },
          "title": {
           "x": 0.05
          },
          "xaxis": {
           "automargin": true,
           "gridcolor": "white",
           "linecolor": "white",
           "ticks": "",
           "title": {
            "standoff": 15
           },
           "zerolinecolor": "white",
           "zerolinewidth": 2
          },
          "yaxis": {
           "automargin": true,
           "gridcolor": "white",
           "linecolor": "white",
           "ticks": "",
           "title": {
            "standoff": 15
           },
           "zerolinecolor": "white",
           "zerolinewidth": 2
          }
         }
        },
        "title": {
         "font": {
          "color": "#4D5663"
         }
        },
        "xaxis": {
         "gridcolor": "#E1E5ED",
         "showgrid": true,
         "tickfont": {
          "color": "#4D5663"
         },
         "title": {
          "font": {
           "color": "#4D5663"
          },
          "text": ""
         },
         "zerolinecolor": "#E1E5ED"
        },
        "yaxis": {
         "gridcolor": "#E1E5ED",
         "showgrid": true,
         "tickfont": {
          "color": "#4D5663"
         },
         "title": {
          "font": {
           "color": "#4D5663"
          },
          "text": ""
         },
         "zerolinecolor": "#E1E5ED"
        }
       }
      },
      "text/html": [
       "<div>                            <div id=\"af0e2f0a-201f-4c91-9930-5713535fae09\" class=\"plotly-graph-div\" style=\"height:525px; width:100%;\"></div>            <script type=\"text/javascript\">                require([\"plotly\"], function(Plotly) {                    window.PLOTLYENV=window.PLOTLYENV || {};\n",
       "                    window.PLOTLYENV.BASE_URL='https://plot.ly';                                    if (document.getElementById(\"af0e2f0a-201f-4c91-9930-5713535fae09\")) {                    Plotly.newPlot(                        \"af0e2f0a-201f-4c91-9930-5713535fae09\",                        [{\"line\":{\"color\":\"rgba(255, 153, 51, 1.0)\",\"dash\":\"solid\",\"shape\":\"linear\",\"width\":1.3},\"mode\":\"lines\",\"name\":\"A\",\"text\":\"\",\"x\":[0,1,2,3,4,5,6,7,8,9,10,11,12,13,14,15,16,17,18,19,20,21,22,23,24,25,26,27,28,29,30,31,32,33,34,35,36,37,38,39,40,41,42,43,44,45,46,47,48,49,50,51,52,53,54,55,56,57,58,59,60,61,62,63,64,65,66,67,68,69,70,71,72,73,74,75,76,77,78,79,80,81,82,83,84,85,86,87,88,89,90,91,92,93,94,95,96,97,98,99],\"y\":[1.2336395877706994,-0.048615295932523526,0.25099671508100824,-0.1192462297098814,-0.2608481410248185,-0.06471520395729977,0.6259498930158807,0.12224421427601183,0.9324539075586492,1.070141475329659,0.5285224800201517,-0.24958849117359538,-0.29752102945104475,-0.6454103565063174,0.10442728647747394,-0.39378093189513375,-0.41399385767203517,-2.3312026081324517,0.31942537204183175,-1.4169774002817863,-1.377837148359218,-0.8064637395522112,3.3046701681598245,0.3249459378005792,0.3650097454990451,0.02065115131120758,1.2133373411044714,0.13608566784413764,-1.082375661287402,0.21276340210915654,-0.541233499690844,1.0120991433643813,-0.18508374419786647,-0.5156638362473296,-0.0645236069411833,0.34718435927735686,-1.1135794845678495,-0.9176904249407741,3.0705934949711446,1.4086638090114365,0.2562168360363639,-1.7164372878789915,0.22716733957708662,-1.4865304220381552,-0.483176954304673,2.802666688554588,-1.1253381606030017,-0.6915062924050371,0.7247609199197345,1.2275235702973804,-0.22318512888589181,-0.3132358939336809,-1.6040305545083373,1.8458126184513648,-0.8154253140752616,-0.2256614370869709,1.2978362803458532,0.14007647039884705,-0.20458602765483533,-0.2703209024985795,-0.2654081193656234,0.2202236850078853,0.14962062952118016,-0.9932677026925171,1.4271803455705308,0.43146018054188895,0.22187226163578996,1.7326906445715977,0.08548903032789677,-0.9295010484556132,0.5475247339146619,0.12447547676253774,-0.29634372342151055,-1.0253146544479361,0.3421818204421844,0.3688861723184149,0.03492725922143807,-0.31362123305608436,0.24375801240034217,0.4269918051686339,-0.23890978405914443,-1.7877295632810428,-0.16004350029481743,-0.3352782257640638,0.9857046637192217,-0.831237642919192,0.3361311145496733,0.7589545074594741,0.1781577265576734,-1.6752858972755533,-1.2041662102497588,-0.6653978729777915,0.3275641601449004,1.1634374896765034,-0.12556238527553262,0.11262507359259387,-0.13497569861698266,-1.3005004618063705,-1.4015847136640596,-0.7130959437805059],\"type\":\"scatter\"},{\"line\":{\"color\":\"rgba(55, 128, 191, 1.0)\",\"dash\":\"solid\",\"shape\":\"linear\",\"width\":1.3},\"mode\":\"lines\",\"name\":\"B\",\"text\":\"\",\"x\":[0,1,2,3,4,5,6,7,8,9,10,11,12,13,14,15,16,17,18,19,20,21,22,23,24,25,26,27,28,29,30,31,32,33,34,35,36,37,38,39,40,41,42,43,44,45,46,47,48,49,50,51,52,53,54,55,56,57,58,59,60,61,62,63,64,65,66,67,68,69,70,71,72,73,74,75,76,77,78,79,80,81,82,83,84,85,86,87,88,89,90,91,92,93,94,95,96,97,98,99],\"y\":[-1.9022065685510319,-2.1358854266589624,0.15731369215411856,-0.5116965050067188,-1.016778500304455,-0.07152395582692508,-0.6287641264563816,0.8116557648643434,-0.7109323439808468,-0.717033813927751,1.3316196542841683,-0.6310880219508661,2.5874251211580503,0.2644218892403224,-0.35142315852607764,0.2922499094243876,0.38465151313280316,0.4796526662506324,-0.692821516591526,-0.744210867455073,1.7066955696594042,0.21510833265147353,0.21771786641689403,-0.014642454292073627,1.1895312175510309,-1.3459717202535904,0.8467885453665221,-0.3114575850495862,1.030590665567906,-1.3999658924835772,0.3257603132932959,0.6586054996837076,-1.8464148734907193,-1.611694363967646,1.3087935975821354,-0.7122544344002926,-1.4202540474598107,-0.06956475576311448,-2.9681640089507857,0.31351528648144794,1.19697663227665,-0.06858255920050399,0.6949733405235001,0.12072343848660112,-0.9717122892437534,-0.6664128392375659,1.187574085544821,-2.1002353959673896,-1.0640523429911906,-0.6086697081559084,0.9148357188130085,-0.5189278497433476,-0.10464004777836514,0.5441484352640663,-1.101107079520376,0.104551275657519,-0.8641663897108429,-0.5439274802275234,0.7001541532162037,1.4695162149737615,-0.2926165781490387,-1.4279237442435446,1.0361323352789527,-0.988429236318292,-1.7599933184757448,-0.2972367314119232,-2.211370194384513,-0.6616248315376154,0.0006914603293870927,0.14312271204237148,1.037395383748161,0.635085681475714,-1.2801277743573918,-0.22485334081701447,-0.10709203797243241,1.0903950904507504,0.9498423697670688,-0.7566860215157124,-1.3185193689652943,0.3067433056702688,-0.1868825475446146,0.3227653992788982,1.1239897541025106,-0.85444767818716,-1.6535091941092632,0.733284060047493,2.2098470730160282,-0.939844915630386,-0.8269920694055485,-0.42477083179568426,0.6469222732434078,-0.6554123928641302,-0.6036906296788903,0.5121986984319296,-0.155322734625543,-0.5053751854186547,1.5239366853625391,2.047004505696809,-0.889866678505674,-0.29066447432594056],\"type\":\"scatter\"}],                        {\"legend\":{\"bgcolor\":\"#F5F6F9\",\"font\":{\"color\":\"#4D5663\"}},\"paper_bgcolor\":\"#F5F6F9\",\"plot_bgcolor\":\"#F5F6F9\",\"template\":{\"data\":{\"barpolar\":[{\"marker\":{\"line\":{\"color\":\"#E5ECF6\",\"width\":0.5},\"pattern\":{\"fillmode\":\"overlay\",\"size\":10,\"solidity\":0.2}},\"type\":\"barpolar\"}],\"bar\":[{\"error_x\":{\"color\":\"#2a3f5f\"},\"error_y\":{\"color\":\"#2a3f5f\"},\"marker\":{\"line\":{\"color\":\"#E5ECF6\",\"width\":0.5},\"pattern\":{\"fillmode\":\"overlay\",\"size\":10,\"solidity\":0.2}},\"type\":\"bar\"}],\"carpet\":[{\"aaxis\":{\"endlinecolor\":\"#2a3f5f\",\"gridcolor\":\"white\",\"linecolor\":\"white\",\"minorgridcolor\":\"white\",\"startlinecolor\":\"#2a3f5f\"},\"baxis\":{\"endlinecolor\":\"#2a3f5f\",\"gridcolor\":\"white\",\"linecolor\":\"white\",\"minorgridcolor\":\"white\",\"startlinecolor\":\"#2a3f5f\"},\"type\":\"carpet\"}],\"choropleth\":[{\"colorbar\":{\"outlinewidth\":0,\"ticks\":\"\"},\"type\":\"choropleth\"}],\"contourcarpet\":[{\"colorbar\":{\"outlinewidth\":0,\"ticks\":\"\"},\"type\":\"contourcarpet\"}],\"contour\":[{\"colorbar\":{\"outlinewidth\":0,\"ticks\":\"\"},\"colorscale\":[[0.0,\"#0d0887\"],[0.1111111111111111,\"#46039f\"],[0.2222222222222222,\"#7201a8\"],[0.3333333333333333,\"#9c179e\"],[0.4444444444444444,\"#bd3786\"],[0.5555555555555556,\"#d8576b\"],[0.6666666666666666,\"#ed7953\"],[0.7777777777777778,\"#fb9f3a\"],[0.8888888888888888,\"#fdca26\"],[1.0,\"#f0f921\"]],\"type\":\"contour\"}],\"heatmapgl\":[{\"colorbar\":{\"outlinewidth\":0,\"ticks\":\"\"},\"colorscale\":[[0.0,\"#0d0887\"],[0.1111111111111111,\"#46039f\"],[0.2222222222222222,\"#7201a8\"],[0.3333333333333333,\"#9c179e\"],[0.4444444444444444,\"#bd3786\"],[0.5555555555555556,\"#d8576b\"],[0.6666666666666666,\"#ed7953\"],[0.7777777777777778,\"#fb9f3a\"],[0.8888888888888888,\"#fdca26\"],[1.0,\"#f0f921\"]],\"type\":\"heatmapgl\"}],\"heatmap\":[{\"colorbar\":{\"outlinewidth\":0,\"ticks\":\"\"},\"colorscale\":[[0.0,\"#0d0887\"],[0.1111111111111111,\"#46039f\"],[0.2222222222222222,\"#7201a8\"],[0.3333333333333333,\"#9c179e\"],[0.4444444444444444,\"#bd3786\"],[0.5555555555555556,\"#d8576b\"],[0.6666666666666666,\"#ed7953\"],[0.7777777777777778,\"#fb9f3a\"],[0.8888888888888888,\"#fdca26\"],[1.0,\"#f0f921\"]],\"type\":\"heatmap\"}],\"histogram2dcontour\":[{\"colorbar\":{\"outlinewidth\":0,\"ticks\":\"\"},\"colorscale\":[[0.0,\"#0d0887\"],[0.1111111111111111,\"#46039f\"],[0.2222222222222222,\"#7201a8\"],[0.3333333333333333,\"#9c179e\"],[0.4444444444444444,\"#bd3786\"],[0.5555555555555556,\"#d8576b\"],[0.6666666666666666,\"#ed7953\"],[0.7777777777777778,\"#fb9f3a\"],[0.8888888888888888,\"#fdca26\"],[1.0,\"#f0f921\"]],\"type\":\"histogram2dcontour\"}],\"histogram2d\":[{\"colorbar\":{\"outlinewidth\":0,\"ticks\":\"\"},\"colorscale\":[[0.0,\"#0d0887\"],[0.1111111111111111,\"#46039f\"],[0.2222222222222222,\"#7201a8\"],[0.3333333333333333,\"#9c179e\"],[0.4444444444444444,\"#bd3786\"],[0.5555555555555556,\"#d8576b\"],[0.6666666666666666,\"#ed7953\"],[0.7777777777777778,\"#fb9f3a\"],[0.8888888888888888,\"#fdca26\"],[1.0,\"#f0f921\"]],\"type\":\"histogram2d\"}],\"histogram\":[{\"marker\":{\"pattern\":{\"fillmode\":\"overlay\",\"size\":10,\"solidity\":0.2}},\"type\":\"histogram\"}],\"mesh3d\":[{\"colorbar\":{\"outlinewidth\":0,\"ticks\":\"\"},\"type\":\"mesh3d\"}],\"parcoords\":[{\"line\":{\"colorbar\":{\"outlinewidth\":0,\"ticks\":\"\"}},\"type\":\"parcoords\"}],\"pie\":[{\"automargin\":true,\"type\":\"pie\"}],\"scatter3d\":[{\"line\":{\"colorbar\":{\"outlinewidth\":0,\"ticks\":\"\"}},\"marker\":{\"colorbar\":{\"outlinewidth\":0,\"ticks\":\"\"}},\"type\":\"scatter3d\"}],\"scattercarpet\":[{\"marker\":{\"colorbar\":{\"outlinewidth\":0,\"ticks\":\"\"}},\"type\":\"scattercarpet\"}],\"scattergeo\":[{\"marker\":{\"colorbar\":{\"outlinewidth\":0,\"ticks\":\"\"}},\"type\":\"scattergeo\"}],\"scattergl\":[{\"marker\":{\"colorbar\":{\"outlinewidth\":0,\"ticks\":\"\"}},\"type\":\"scattergl\"}],\"scattermapbox\":[{\"marker\":{\"colorbar\":{\"outlinewidth\":0,\"ticks\":\"\"}},\"type\":\"scattermapbox\"}],\"scatterpolargl\":[{\"marker\":{\"colorbar\":{\"outlinewidth\":0,\"ticks\":\"\"}},\"type\":\"scatterpolargl\"}],\"scatterpolar\":[{\"marker\":{\"colorbar\":{\"outlinewidth\":0,\"ticks\":\"\"}},\"type\":\"scatterpolar\"}],\"scatter\":[{\"fillpattern\":{\"fillmode\":\"overlay\",\"size\":10,\"solidity\":0.2},\"type\":\"scatter\"}],\"scatterternary\":[{\"marker\":{\"colorbar\":{\"outlinewidth\":0,\"ticks\":\"\"}},\"type\":\"scatterternary\"}],\"surface\":[{\"colorbar\":{\"outlinewidth\":0,\"ticks\":\"\"},\"colorscale\":[[0.0,\"#0d0887\"],[0.1111111111111111,\"#46039f\"],[0.2222222222222222,\"#7201a8\"],[0.3333333333333333,\"#9c179e\"],[0.4444444444444444,\"#bd3786\"],[0.5555555555555556,\"#d8576b\"],[0.6666666666666666,\"#ed7953\"],[0.7777777777777778,\"#fb9f3a\"],[0.8888888888888888,\"#fdca26\"],[1.0,\"#f0f921\"]],\"type\":\"surface\"}],\"table\":[{\"cells\":{\"fill\":{\"color\":\"#EBF0F8\"},\"line\":{\"color\":\"white\"}},\"header\":{\"fill\":{\"color\":\"#C8D4E3\"},\"line\":{\"color\":\"white\"}},\"type\":\"table\"}]},\"layout\":{\"annotationdefaults\":{\"arrowcolor\":\"#2a3f5f\",\"arrowhead\":0,\"arrowwidth\":1},\"autotypenumbers\":\"strict\",\"coloraxis\":{\"colorbar\":{\"outlinewidth\":0,\"ticks\":\"\"}},\"colorscale\":{\"diverging\":[[0,\"#8e0152\"],[0.1,\"#c51b7d\"],[0.2,\"#de77ae\"],[0.3,\"#f1b6da\"],[0.4,\"#fde0ef\"],[0.5,\"#f7f7f7\"],[0.6,\"#e6f5d0\"],[0.7,\"#b8e186\"],[0.8,\"#7fbc41\"],[0.9,\"#4d9221\"],[1,\"#276419\"]],\"sequential\":[[0.0,\"#0d0887\"],[0.1111111111111111,\"#46039f\"],[0.2222222222222222,\"#7201a8\"],[0.3333333333333333,\"#9c179e\"],[0.4444444444444444,\"#bd3786\"],[0.5555555555555556,\"#d8576b\"],[0.6666666666666666,\"#ed7953\"],[0.7777777777777778,\"#fb9f3a\"],[0.8888888888888888,\"#fdca26\"],[1.0,\"#f0f921\"]],\"sequentialminus\":[[0.0,\"#0d0887\"],[0.1111111111111111,\"#46039f\"],[0.2222222222222222,\"#7201a8\"],[0.3333333333333333,\"#9c179e\"],[0.4444444444444444,\"#bd3786\"],[0.5555555555555556,\"#d8576b\"],[0.6666666666666666,\"#ed7953\"],[0.7777777777777778,\"#fb9f3a\"],[0.8888888888888888,\"#fdca26\"],[1.0,\"#f0f921\"]]},\"colorway\":[\"#636efa\",\"#EF553B\",\"#00cc96\",\"#ab63fa\",\"#FFA15A\",\"#19d3f3\",\"#FF6692\",\"#B6E880\",\"#FF97FF\",\"#FECB52\"],\"font\":{\"color\":\"#2a3f5f\"},\"geo\":{\"bgcolor\":\"white\",\"lakecolor\":\"white\",\"landcolor\":\"#E5ECF6\",\"showlakes\":true,\"showland\":true,\"subunitcolor\":\"white\"},\"hoverlabel\":{\"align\":\"left\"},\"hovermode\":\"closest\",\"mapbox\":{\"style\":\"light\"},\"paper_bgcolor\":\"white\",\"plot_bgcolor\":\"#E5ECF6\",\"polar\":{\"angularaxis\":{\"gridcolor\":\"white\",\"linecolor\":\"white\",\"ticks\":\"\"},\"bgcolor\":\"#E5ECF6\",\"radialaxis\":{\"gridcolor\":\"white\",\"linecolor\":\"white\",\"ticks\":\"\"}},\"scene\":{\"xaxis\":{\"backgroundcolor\":\"#E5ECF6\",\"gridcolor\":\"white\",\"gridwidth\":2,\"linecolor\":\"white\",\"showbackground\":true,\"ticks\":\"\",\"zerolinecolor\":\"white\"},\"yaxis\":{\"backgroundcolor\":\"#E5ECF6\",\"gridcolor\":\"white\",\"gridwidth\":2,\"linecolor\":\"white\",\"showbackground\":true,\"ticks\":\"\",\"zerolinecolor\":\"white\"},\"zaxis\":{\"backgroundcolor\":\"#E5ECF6\",\"gridcolor\":\"white\",\"gridwidth\":2,\"linecolor\":\"white\",\"showbackground\":true,\"ticks\":\"\",\"zerolinecolor\":\"white\"}},\"shapedefaults\":{\"line\":{\"color\":\"#2a3f5f\"}},\"ternary\":{\"aaxis\":{\"gridcolor\":\"white\",\"linecolor\":\"white\",\"ticks\":\"\"},\"baxis\":{\"gridcolor\":\"white\",\"linecolor\":\"white\",\"ticks\":\"\"},\"bgcolor\":\"#E5ECF6\",\"caxis\":{\"gridcolor\":\"white\",\"linecolor\":\"white\",\"ticks\":\"\"}},\"title\":{\"x\":0.05},\"xaxis\":{\"automargin\":true,\"gridcolor\":\"white\",\"linecolor\":\"white\",\"ticks\":\"\",\"title\":{\"standoff\":15},\"zerolinecolor\":\"white\",\"zerolinewidth\":2},\"yaxis\":{\"automargin\":true,\"gridcolor\":\"white\",\"linecolor\":\"white\",\"ticks\":\"\",\"title\":{\"standoff\":15},\"zerolinecolor\":\"white\",\"zerolinewidth\":2}}},\"title\":{\"font\":{\"color\":\"#4D5663\"}},\"xaxis\":{\"gridcolor\":\"#E1E5ED\",\"showgrid\":true,\"tickfont\":{\"color\":\"#4D5663\"},\"title\":{\"font\":{\"color\":\"#4D5663\"},\"text\":\"\"},\"zerolinecolor\":\"#E1E5ED\"},\"yaxis\":{\"gridcolor\":\"#E1E5ED\",\"showgrid\":true,\"tickfont\":{\"color\":\"#4D5663\"},\"title\":{\"font\":{\"color\":\"#4D5663\"},\"text\":\"\"},\"zerolinecolor\":\"#E1E5ED\"}},                        {\"showLink\": true, \"linkText\": \"Export to plot.ly\", \"plotlyServerURL\": \"https://plot.ly\", \"responsive\": true}                    ).then(function(){\n",
       "                            \n",
       "var gd = document.getElementById('af0e2f0a-201f-4c91-9930-5713535fae09');\n",
       "var x = new MutationObserver(function (mutations, observer) {{\n",
       "        var display = window.getComputedStyle(gd).display;\n",
       "        if (!display || display === 'none') {{\n",
       "            console.log([gd, 'removed!']);\n",
       "            Plotly.purge(gd);\n",
       "            observer.disconnect();\n",
       "        }}\n",
       "}});\n",
       "\n",
       "// Listen for the removal of the full notebook cells\n",
       "var notebookContainer = gd.closest('#notebook-container');\n",
       "if (notebookContainer) {{\n",
       "    x.observe(notebookContainer, {childList: true});\n",
       "}}\n",
       "\n",
       "// Listen for the clearing of the current output cell\n",
       "var outputEl = gd.closest('.output');\n",
       "if (outputEl) {{\n",
       "    x.observe(outputEl, {childList: true});\n",
       "}}\n",
       "\n",
       "                        })                };                });            </script>        </div>"
      ]
     },
     "metadata": {},
     "output_type": "display_data"
    }
   ],
   "source": [
    "df[['A', 'B']].iplot()"
   ]
  },
  {
   "cell_type": "code",
   "execution_count": 15,
   "id": "3d7eb943-7430-4773-906d-31bd8a948d88",
   "metadata": {},
   "outputs": [
    {
     "data": {
      "application/vnd.plotly.v1+json": {
       "config": {
        "linkText": "Export to plot.ly",
        "plotlyServerURL": "https://plot.ly",
        "showLink": true
       },
       "data": [
        {
         "line": {
          "color": "rgba(255, 153, 51, 1.0)",
          "dash": "solid",
          "shape": "linear",
          "width": 1.3
         },
         "marker": {
          "size": 12,
          "symbol": "circle"
         },
         "mode": "markers",
         "name": "B",
         "text": "",
         "type": "scatter",
         "x": [
          1.2336395877706994,
          -0.048615295932523526,
          0.25099671508100824,
          -0.1192462297098814,
          -0.2608481410248185,
          -0.06471520395729977,
          0.6259498930158807,
          0.12224421427601183,
          0.9324539075586492,
          1.070141475329659,
          0.5285224800201517,
          -0.24958849117359538,
          -0.29752102945104475,
          -0.6454103565063174,
          0.10442728647747394,
          -0.39378093189513375,
          -0.41399385767203517,
          -2.3312026081324517,
          0.31942537204183175,
          -1.4169774002817863,
          -1.377837148359218,
          -0.8064637395522112,
          3.3046701681598245,
          0.3249459378005792,
          0.3650097454990451,
          0.02065115131120758,
          1.2133373411044714,
          0.13608566784413764,
          -1.082375661287402,
          0.21276340210915654,
          -0.541233499690844,
          1.0120991433643813,
          -0.18508374419786647,
          -0.5156638362473296,
          -0.0645236069411833,
          0.34718435927735686,
          -1.1135794845678495,
          -0.9176904249407741,
          3.0705934949711446,
          1.4086638090114365,
          0.2562168360363639,
          -1.7164372878789915,
          0.22716733957708662,
          -1.4865304220381552,
          -0.483176954304673,
          2.802666688554588,
          -1.1253381606030017,
          -0.6915062924050371,
          0.7247609199197345,
          1.2275235702973804,
          -0.22318512888589181,
          -0.3132358939336809,
          -1.6040305545083373,
          1.8458126184513648,
          -0.8154253140752616,
          -0.2256614370869709,
          1.2978362803458532,
          0.14007647039884705,
          -0.20458602765483533,
          -0.2703209024985795,
          -0.2654081193656234,
          0.2202236850078853,
          0.14962062952118016,
          -0.9932677026925171,
          1.4271803455705308,
          0.43146018054188895,
          0.22187226163578996,
          1.7326906445715977,
          0.08548903032789677,
          -0.9295010484556132,
          0.5475247339146619,
          0.12447547676253774,
          -0.29634372342151055,
          -1.0253146544479361,
          0.3421818204421844,
          0.3688861723184149,
          0.03492725922143807,
          -0.31362123305608436,
          0.24375801240034217,
          0.4269918051686339,
          -0.23890978405914443,
          -1.7877295632810428,
          -0.16004350029481743,
          -0.3352782257640638,
          0.9857046637192217,
          -0.831237642919192,
          0.3361311145496733,
          0.7589545074594741,
          0.1781577265576734,
          -1.6752858972755533,
          -1.2041662102497588,
          -0.6653978729777915,
          0.3275641601449004,
          1.1634374896765034,
          -0.12556238527553262,
          0.11262507359259387,
          -0.13497569861698266,
          -1.3005004618063705,
          -1.4015847136640596,
          -0.7130959437805059
         ],
         "y": [
          -1.9022065685510319,
          -2.1358854266589624,
          0.15731369215411856,
          -0.5116965050067188,
          -1.016778500304455,
          -0.07152395582692508,
          -0.6287641264563816,
          0.8116557648643434,
          -0.7109323439808468,
          -0.717033813927751,
          1.3316196542841683,
          -0.6310880219508661,
          2.5874251211580503,
          0.2644218892403224,
          -0.35142315852607764,
          0.2922499094243876,
          0.38465151313280316,
          0.4796526662506324,
          -0.692821516591526,
          -0.744210867455073,
          1.7066955696594042,
          0.21510833265147353,
          0.21771786641689403,
          -0.014642454292073627,
          1.1895312175510309,
          -1.3459717202535904,
          0.8467885453665221,
          -0.3114575850495862,
          1.030590665567906,
          -1.3999658924835772,
          0.3257603132932959,
          0.6586054996837076,
          -1.8464148734907193,
          -1.611694363967646,
          1.3087935975821354,
          -0.7122544344002926,
          -1.4202540474598107,
          -0.06956475576311448,
          -2.9681640089507857,
          0.31351528648144794,
          1.19697663227665,
          -0.06858255920050399,
          0.6949733405235001,
          0.12072343848660112,
          -0.9717122892437534,
          -0.6664128392375659,
          1.187574085544821,
          -2.1002353959673896,
          -1.0640523429911906,
          -0.6086697081559084,
          0.9148357188130085,
          -0.5189278497433476,
          -0.10464004777836514,
          0.5441484352640663,
          -1.101107079520376,
          0.104551275657519,
          -0.8641663897108429,
          -0.5439274802275234,
          0.7001541532162037,
          1.4695162149737615,
          -0.2926165781490387,
          -1.4279237442435446,
          1.0361323352789527,
          -0.988429236318292,
          -1.7599933184757448,
          -0.2972367314119232,
          -2.211370194384513,
          -0.6616248315376154,
          0.0006914603293870927,
          0.14312271204237148,
          1.037395383748161,
          0.635085681475714,
          -1.2801277743573918,
          -0.22485334081701447,
          -0.10709203797243241,
          1.0903950904507504,
          0.9498423697670688,
          -0.7566860215157124,
          -1.3185193689652943,
          0.3067433056702688,
          -0.1868825475446146,
          0.3227653992788982,
          1.1239897541025106,
          -0.85444767818716,
          -1.6535091941092632,
          0.733284060047493,
          2.2098470730160282,
          -0.939844915630386,
          -0.8269920694055485,
          -0.42477083179568426,
          0.6469222732434078,
          -0.6554123928641302,
          -0.6036906296788903,
          0.5121986984319296,
          -0.155322734625543,
          -0.5053751854186547,
          1.5239366853625391,
          2.047004505696809,
          -0.889866678505674,
          -0.29066447432594056
         ]
        }
       ],
       "layout": {
        "legend": {
         "bgcolor": "#F5F6F9",
         "font": {
          "color": "#4D5663"
         }
        },
        "paper_bgcolor": "#F5F6F9",
        "plot_bgcolor": "#F5F6F9",
        "template": {
         "data": {
          "bar": [
           {
            "error_x": {
             "color": "#2a3f5f"
            },
            "error_y": {
             "color": "#2a3f5f"
            },
            "marker": {
             "line": {
              "color": "#E5ECF6",
              "width": 0.5
             },
             "pattern": {
              "fillmode": "overlay",
              "size": 10,
              "solidity": 0.2
             }
            },
            "type": "bar"
           }
          ],
          "barpolar": [
           {
            "marker": {
             "line": {
              "color": "#E5ECF6",
              "width": 0.5
             },
             "pattern": {
              "fillmode": "overlay",
              "size": 10,
              "solidity": 0.2
             }
            },
            "type": "barpolar"
           }
          ],
          "carpet": [
           {
            "aaxis": {
             "endlinecolor": "#2a3f5f",
             "gridcolor": "white",
             "linecolor": "white",
             "minorgridcolor": "white",
             "startlinecolor": "#2a3f5f"
            },
            "baxis": {
             "endlinecolor": "#2a3f5f",
             "gridcolor": "white",
             "linecolor": "white",
             "minorgridcolor": "white",
             "startlinecolor": "#2a3f5f"
            },
            "type": "carpet"
           }
          ],
          "choropleth": [
           {
            "colorbar": {
             "outlinewidth": 0,
             "ticks": ""
            },
            "type": "choropleth"
           }
          ],
          "contour": [
           {
            "colorbar": {
             "outlinewidth": 0,
             "ticks": ""
            },
            "colorscale": [
             [
              0,
              "#0d0887"
             ],
             [
              0.1111111111111111,
              "#46039f"
             ],
             [
              0.2222222222222222,
              "#7201a8"
             ],
             [
              0.3333333333333333,
              "#9c179e"
             ],
             [
              0.4444444444444444,
              "#bd3786"
             ],
             [
              0.5555555555555556,
              "#d8576b"
             ],
             [
              0.6666666666666666,
              "#ed7953"
             ],
             [
              0.7777777777777778,
              "#fb9f3a"
             ],
             [
              0.8888888888888888,
              "#fdca26"
             ],
             [
              1,
              "#f0f921"
             ]
            ],
            "type": "contour"
           }
          ],
          "contourcarpet": [
           {
            "colorbar": {
             "outlinewidth": 0,
             "ticks": ""
            },
            "type": "contourcarpet"
           }
          ],
          "heatmap": [
           {
            "colorbar": {
             "outlinewidth": 0,
             "ticks": ""
            },
            "colorscale": [
             [
              0,
              "#0d0887"
             ],
             [
              0.1111111111111111,
              "#46039f"
             ],
             [
              0.2222222222222222,
              "#7201a8"
             ],
             [
              0.3333333333333333,
              "#9c179e"
             ],
             [
              0.4444444444444444,
              "#bd3786"
             ],
             [
              0.5555555555555556,
              "#d8576b"
             ],
             [
              0.6666666666666666,
              "#ed7953"
             ],
             [
              0.7777777777777778,
              "#fb9f3a"
             ],
             [
              0.8888888888888888,
              "#fdca26"
             ],
             [
              1,
              "#f0f921"
             ]
            ],
            "type": "heatmap"
           }
          ],
          "heatmapgl": [
           {
            "colorbar": {
             "outlinewidth": 0,
             "ticks": ""
            },
            "colorscale": [
             [
              0,
              "#0d0887"
             ],
             [
              0.1111111111111111,
              "#46039f"
             ],
             [
              0.2222222222222222,
              "#7201a8"
             ],
             [
              0.3333333333333333,
              "#9c179e"
             ],
             [
              0.4444444444444444,
              "#bd3786"
             ],
             [
              0.5555555555555556,
              "#d8576b"
             ],
             [
              0.6666666666666666,
              "#ed7953"
             ],
             [
              0.7777777777777778,
              "#fb9f3a"
             ],
             [
              0.8888888888888888,
              "#fdca26"
             ],
             [
              1,
              "#f0f921"
             ]
            ],
            "type": "heatmapgl"
           }
          ],
          "histogram": [
           {
            "marker": {
             "pattern": {
              "fillmode": "overlay",
              "size": 10,
              "solidity": 0.2
             }
            },
            "type": "histogram"
           }
          ],
          "histogram2d": [
           {
            "colorbar": {
             "outlinewidth": 0,
             "ticks": ""
            },
            "colorscale": [
             [
              0,
              "#0d0887"
             ],
             [
              0.1111111111111111,
              "#46039f"
             ],
             [
              0.2222222222222222,
              "#7201a8"
             ],
             [
              0.3333333333333333,
              "#9c179e"
             ],
             [
              0.4444444444444444,
              "#bd3786"
             ],
             [
              0.5555555555555556,
              "#d8576b"
             ],
             [
              0.6666666666666666,
              "#ed7953"
             ],
             [
              0.7777777777777778,
              "#fb9f3a"
             ],
             [
              0.8888888888888888,
              "#fdca26"
             ],
             [
              1,
              "#f0f921"
             ]
            ],
            "type": "histogram2d"
           }
          ],
          "histogram2dcontour": [
           {
            "colorbar": {
             "outlinewidth": 0,
             "ticks": ""
            },
            "colorscale": [
             [
              0,
              "#0d0887"
             ],
             [
              0.1111111111111111,
              "#46039f"
             ],
             [
              0.2222222222222222,
              "#7201a8"
             ],
             [
              0.3333333333333333,
              "#9c179e"
             ],
             [
              0.4444444444444444,
              "#bd3786"
             ],
             [
              0.5555555555555556,
              "#d8576b"
             ],
             [
              0.6666666666666666,
              "#ed7953"
             ],
             [
              0.7777777777777778,
              "#fb9f3a"
             ],
             [
              0.8888888888888888,
              "#fdca26"
             ],
             [
              1,
              "#f0f921"
             ]
            ],
            "type": "histogram2dcontour"
           }
          ],
          "mesh3d": [
           {
            "colorbar": {
             "outlinewidth": 0,
             "ticks": ""
            },
            "type": "mesh3d"
           }
          ],
          "parcoords": [
           {
            "line": {
             "colorbar": {
              "outlinewidth": 0,
              "ticks": ""
             }
            },
            "type": "parcoords"
           }
          ],
          "pie": [
           {
            "automargin": true,
            "type": "pie"
           }
          ],
          "scatter": [
           {
            "fillpattern": {
             "fillmode": "overlay",
             "size": 10,
             "solidity": 0.2
            },
            "type": "scatter"
           }
          ],
          "scatter3d": [
           {
            "line": {
             "colorbar": {
              "outlinewidth": 0,
              "ticks": ""
             }
            },
            "marker": {
             "colorbar": {
              "outlinewidth": 0,
              "ticks": ""
             }
            },
            "type": "scatter3d"
           }
          ],
          "scattercarpet": [
           {
            "marker": {
             "colorbar": {
              "outlinewidth": 0,
              "ticks": ""
             }
            },
            "type": "scattercarpet"
           }
          ],
          "scattergeo": [
           {
            "marker": {
             "colorbar": {
              "outlinewidth": 0,
              "ticks": ""
             }
            },
            "type": "scattergeo"
           }
          ],
          "scattergl": [
           {
            "marker": {
             "colorbar": {
              "outlinewidth": 0,
              "ticks": ""
             }
            },
            "type": "scattergl"
           }
          ],
          "scattermapbox": [
           {
            "marker": {
             "colorbar": {
              "outlinewidth": 0,
              "ticks": ""
             }
            },
            "type": "scattermapbox"
           }
          ],
          "scatterpolar": [
           {
            "marker": {
             "colorbar": {
              "outlinewidth": 0,
              "ticks": ""
             }
            },
            "type": "scatterpolar"
           }
          ],
          "scatterpolargl": [
           {
            "marker": {
             "colorbar": {
              "outlinewidth": 0,
              "ticks": ""
             }
            },
            "type": "scatterpolargl"
           }
          ],
          "scatterternary": [
           {
            "marker": {
             "colorbar": {
              "outlinewidth": 0,
              "ticks": ""
             }
            },
            "type": "scatterternary"
           }
          ],
          "surface": [
           {
            "colorbar": {
             "outlinewidth": 0,
             "ticks": ""
            },
            "colorscale": [
             [
              0,
              "#0d0887"
             ],
             [
              0.1111111111111111,
              "#46039f"
             ],
             [
              0.2222222222222222,
              "#7201a8"
             ],
             [
              0.3333333333333333,
              "#9c179e"
             ],
             [
              0.4444444444444444,
              "#bd3786"
             ],
             [
              0.5555555555555556,
              "#d8576b"
             ],
             [
              0.6666666666666666,
              "#ed7953"
             ],
             [
              0.7777777777777778,
              "#fb9f3a"
             ],
             [
              0.8888888888888888,
              "#fdca26"
             ],
             [
              1,
              "#f0f921"
             ]
            ],
            "type": "surface"
           }
          ],
          "table": [
           {
            "cells": {
             "fill": {
              "color": "#EBF0F8"
             },
             "line": {
              "color": "white"
             }
            },
            "header": {
             "fill": {
              "color": "#C8D4E3"
             },
             "line": {
              "color": "white"
             }
            },
            "type": "table"
           }
          ]
         },
         "layout": {
          "annotationdefaults": {
           "arrowcolor": "#2a3f5f",
           "arrowhead": 0,
           "arrowwidth": 1
          },
          "autotypenumbers": "strict",
          "coloraxis": {
           "colorbar": {
            "outlinewidth": 0,
            "ticks": ""
           }
          },
          "colorscale": {
           "diverging": [
            [
             0,
             "#8e0152"
            ],
            [
             0.1,
             "#c51b7d"
            ],
            [
             0.2,
             "#de77ae"
            ],
            [
             0.3,
             "#f1b6da"
            ],
            [
             0.4,
             "#fde0ef"
            ],
            [
             0.5,
             "#f7f7f7"
            ],
            [
             0.6,
             "#e6f5d0"
            ],
            [
             0.7,
             "#b8e186"
            ],
            [
             0.8,
             "#7fbc41"
            ],
            [
             0.9,
             "#4d9221"
            ],
            [
             1,
             "#276419"
            ]
           ],
           "sequential": [
            [
             0,
             "#0d0887"
            ],
            [
             0.1111111111111111,
             "#46039f"
            ],
            [
             0.2222222222222222,
             "#7201a8"
            ],
            [
             0.3333333333333333,
             "#9c179e"
            ],
            [
             0.4444444444444444,
             "#bd3786"
            ],
            [
             0.5555555555555556,
             "#d8576b"
            ],
            [
             0.6666666666666666,
             "#ed7953"
            ],
            [
             0.7777777777777778,
             "#fb9f3a"
            ],
            [
             0.8888888888888888,
             "#fdca26"
            ],
            [
             1,
             "#f0f921"
            ]
           ],
           "sequentialminus": [
            [
             0,
             "#0d0887"
            ],
            [
             0.1111111111111111,
             "#46039f"
            ],
            [
             0.2222222222222222,
             "#7201a8"
            ],
            [
             0.3333333333333333,
             "#9c179e"
            ],
            [
             0.4444444444444444,
             "#bd3786"
            ],
            [
             0.5555555555555556,
             "#d8576b"
            ],
            [
             0.6666666666666666,
             "#ed7953"
            ],
            [
             0.7777777777777778,
             "#fb9f3a"
            ],
            [
             0.8888888888888888,
             "#fdca26"
            ],
            [
             1,
             "#f0f921"
            ]
           ]
          },
          "colorway": [
           "#636efa",
           "#EF553B",
           "#00cc96",
           "#ab63fa",
           "#FFA15A",
           "#19d3f3",
           "#FF6692",
           "#B6E880",
           "#FF97FF",
           "#FECB52"
          ],
          "font": {
           "color": "#2a3f5f"
          },
          "geo": {
           "bgcolor": "white",
           "lakecolor": "white",
           "landcolor": "#E5ECF6",
           "showlakes": true,
           "showland": true,
           "subunitcolor": "white"
          },
          "hoverlabel": {
           "align": "left"
          },
          "hovermode": "closest",
          "mapbox": {
           "style": "light"
          },
          "paper_bgcolor": "white",
          "plot_bgcolor": "#E5ECF6",
          "polar": {
           "angularaxis": {
            "gridcolor": "white",
            "linecolor": "white",
            "ticks": ""
           },
           "bgcolor": "#E5ECF6",
           "radialaxis": {
            "gridcolor": "white",
            "linecolor": "white",
            "ticks": ""
           }
          },
          "scene": {
           "xaxis": {
            "backgroundcolor": "#E5ECF6",
            "gridcolor": "white",
            "gridwidth": 2,
            "linecolor": "white",
            "showbackground": true,
            "ticks": "",
            "zerolinecolor": "white"
           },
           "yaxis": {
            "backgroundcolor": "#E5ECF6",
            "gridcolor": "white",
            "gridwidth": 2,
            "linecolor": "white",
            "showbackground": true,
            "ticks": "",
            "zerolinecolor": "white"
           },
           "zaxis": {
            "backgroundcolor": "#E5ECF6",
            "gridcolor": "white",
            "gridwidth": 2,
            "linecolor": "white",
            "showbackground": true,
            "ticks": "",
            "zerolinecolor": "white"
           }
          },
          "shapedefaults": {
           "line": {
            "color": "#2a3f5f"
           }
          },
          "ternary": {
           "aaxis": {
            "gridcolor": "white",
            "linecolor": "white",
            "ticks": ""
           },
           "baxis": {
            "gridcolor": "white",
            "linecolor": "white",
            "ticks": ""
           },
           "bgcolor": "#E5ECF6",
           "caxis": {
            "gridcolor": "white",
            "linecolor": "white",
            "ticks": ""
           }
          },
          "title": {
           "x": 0.05
          },
          "xaxis": {
           "automargin": true,
           "gridcolor": "white",
           "linecolor": "white",
           "ticks": "",
           "title": {
            "standoff": 15
           },
           "zerolinecolor": "white",
           "zerolinewidth": 2
          },
          "yaxis": {
           "automargin": true,
           "gridcolor": "white",
           "linecolor": "white",
           "ticks": "",
           "title": {
            "standoff": 15
           },
           "zerolinecolor": "white",
           "zerolinewidth": 2
          }
         }
        },
        "title": {
         "font": {
          "color": "#4D5663"
         }
        },
        "xaxis": {
         "gridcolor": "#E1E5ED",
         "showgrid": true,
         "tickfont": {
          "color": "#4D5663"
         },
         "title": {
          "font": {
           "color": "#4D5663"
          },
          "text": ""
         },
         "zerolinecolor": "#E1E5ED"
        },
        "yaxis": {
         "gridcolor": "#E1E5ED",
         "showgrid": true,
         "tickfont": {
          "color": "#4D5663"
         },
         "title": {
          "font": {
           "color": "#4D5663"
          },
          "text": ""
         },
         "zerolinecolor": "#E1E5ED"
        }
       }
      },
      "text/html": [
       "<div>                            <div id=\"29d10ce6-5974-4dae-ab7e-ac271cad45bf\" class=\"plotly-graph-div\" style=\"height:525px; width:100%;\"></div>            <script type=\"text/javascript\">                require([\"plotly\"], function(Plotly) {                    window.PLOTLYENV=window.PLOTLYENV || {};\n",
       "                    window.PLOTLYENV.BASE_URL='https://plot.ly';                                    if (document.getElementById(\"29d10ce6-5974-4dae-ab7e-ac271cad45bf\")) {                    Plotly.newPlot(                        \"29d10ce6-5974-4dae-ab7e-ac271cad45bf\",                        [{\"line\":{\"color\":\"rgba(255, 153, 51, 1.0)\",\"dash\":\"solid\",\"shape\":\"linear\",\"width\":1.3},\"marker\":{\"size\":12,\"symbol\":\"circle\"},\"mode\":\"markers\",\"name\":\"B\",\"text\":\"\",\"x\":[1.2336395877706994,-0.048615295932523526,0.25099671508100824,-0.1192462297098814,-0.2608481410248185,-0.06471520395729977,0.6259498930158807,0.12224421427601183,0.9324539075586492,1.070141475329659,0.5285224800201517,-0.24958849117359538,-0.29752102945104475,-0.6454103565063174,0.10442728647747394,-0.39378093189513375,-0.41399385767203517,-2.3312026081324517,0.31942537204183175,-1.4169774002817863,-1.377837148359218,-0.8064637395522112,3.3046701681598245,0.3249459378005792,0.3650097454990451,0.02065115131120758,1.2133373411044714,0.13608566784413764,-1.082375661287402,0.21276340210915654,-0.541233499690844,1.0120991433643813,-0.18508374419786647,-0.5156638362473296,-0.0645236069411833,0.34718435927735686,-1.1135794845678495,-0.9176904249407741,3.0705934949711446,1.4086638090114365,0.2562168360363639,-1.7164372878789915,0.22716733957708662,-1.4865304220381552,-0.483176954304673,2.802666688554588,-1.1253381606030017,-0.6915062924050371,0.7247609199197345,1.2275235702973804,-0.22318512888589181,-0.3132358939336809,-1.6040305545083373,1.8458126184513648,-0.8154253140752616,-0.2256614370869709,1.2978362803458532,0.14007647039884705,-0.20458602765483533,-0.2703209024985795,-0.2654081193656234,0.2202236850078853,0.14962062952118016,-0.9932677026925171,1.4271803455705308,0.43146018054188895,0.22187226163578996,1.7326906445715977,0.08548903032789677,-0.9295010484556132,0.5475247339146619,0.12447547676253774,-0.29634372342151055,-1.0253146544479361,0.3421818204421844,0.3688861723184149,0.03492725922143807,-0.31362123305608436,0.24375801240034217,0.4269918051686339,-0.23890978405914443,-1.7877295632810428,-0.16004350029481743,-0.3352782257640638,0.9857046637192217,-0.831237642919192,0.3361311145496733,0.7589545074594741,0.1781577265576734,-1.6752858972755533,-1.2041662102497588,-0.6653978729777915,0.3275641601449004,1.1634374896765034,-0.12556238527553262,0.11262507359259387,-0.13497569861698266,-1.3005004618063705,-1.4015847136640596,-0.7130959437805059],\"y\":[-1.9022065685510319,-2.1358854266589624,0.15731369215411856,-0.5116965050067188,-1.016778500304455,-0.07152395582692508,-0.6287641264563816,0.8116557648643434,-0.7109323439808468,-0.717033813927751,1.3316196542841683,-0.6310880219508661,2.5874251211580503,0.2644218892403224,-0.35142315852607764,0.2922499094243876,0.38465151313280316,0.4796526662506324,-0.692821516591526,-0.744210867455073,1.7066955696594042,0.21510833265147353,0.21771786641689403,-0.014642454292073627,1.1895312175510309,-1.3459717202535904,0.8467885453665221,-0.3114575850495862,1.030590665567906,-1.3999658924835772,0.3257603132932959,0.6586054996837076,-1.8464148734907193,-1.611694363967646,1.3087935975821354,-0.7122544344002926,-1.4202540474598107,-0.06956475576311448,-2.9681640089507857,0.31351528648144794,1.19697663227665,-0.06858255920050399,0.6949733405235001,0.12072343848660112,-0.9717122892437534,-0.6664128392375659,1.187574085544821,-2.1002353959673896,-1.0640523429911906,-0.6086697081559084,0.9148357188130085,-0.5189278497433476,-0.10464004777836514,0.5441484352640663,-1.101107079520376,0.104551275657519,-0.8641663897108429,-0.5439274802275234,0.7001541532162037,1.4695162149737615,-0.2926165781490387,-1.4279237442435446,1.0361323352789527,-0.988429236318292,-1.7599933184757448,-0.2972367314119232,-2.211370194384513,-0.6616248315376154,0.0006914603293870927,0.14312271204237148,1.037395383748161,0.635085681475714,-1.2801277743573918,-0.22485334081701447,-0.10709203797243241,1.0903950904507504,0.9498423697670688,-0.7566860215157124,-1.3185193689652943,0.3067433056702688,-0.1868825475446146,0.3227653992788982,1.1239897541025106,-0.85444767818716,-1.6535091941092632,0.733284060047493,2.2098470730160282,-0.939844915630386,-0.8269920694055485,-0.42477083179568426,0.6469222732434078,-0.6554123928641302,-0.6036906296788903,0.5121986984319296,-0.155322734625543,-0.5053751854186547,1.5239366853625391,2.047004505696809,-0.889866678505674,-0.29066447432594056],\"type\":\"scatter\"}],                        {\"legend\":{\"bgcolor\":\"#F5F6F9\",\"font\":{\"color\":\"#4D5663\"}},\"paper_bgcolor\":\"#F5F6F9\",\"plot_bgcolor\":\"#F5F6F9\",\"template\":{\"data\":{\"barpolar\":[{\"marker\":{\"line\":{\"color\":\"#E5ECF6\",\"width\":0.5},\"pattern\":{\"fillmode\":\"overlay\",\"size\":10,\"solidity\":0.2}},\"type\":\"barpolar\"}],\"bar\":[{\"error_x\":{\"color\":\"#2a3f5f\"},\"error_y\":{\"color\":\"#2a3f5f\"},\"marker\":{\"line\":{\"color\":\"#E5ECF6\",\"width\":0.5},\"pattern\":{\"fillmode\":\"overlay\",\"size\":10,\"solidity\":0.2}},\"type\":\"bar\"}],\"carpet\":[{\"aaxis\":{\"endlinecolor\":\"#2a3f5f\",\"gridcolor\":\"white\",\"linecolor\":\"white\",\"minorgridcolor\":\"white\",\"startlinecolor\":\"#2a3f5f\"},\"baxis\":{\"endlinecolor\":\"#2a3f5f\",\"gridcolor\":\"white\",\"linecolor\":\"white\",\"minorgridcolor\":\"white\",\"startlinecolor\":\"#2a3f5f\"},\"type\":\"carpet\"}],\"choropleth\":[{\"colorbar\":{\"outlinewidth\":0,\"ticks\":\"\"},\"type\":\"choropleth\"}],\"contourcarpet\":[{\"colorbar\":{\"outlinewidth\":0,\"ticks\":\"\"},\"type\":\"contourcarpet\"}],\"contour\":[{\"colorbar\":{\"outlinewidth\":0,\"ticks\":\"\"},\"colorscale\":[[0.0,\"#0d0887\"],[0.1111111111111111,\"#46039f\"],[0.2222222222222222,\"#7201a8\"],[0.3333333333333333,\"#9c179e\"],[0.4444444444444444,\"#bd3786\"],[0.5555555555555556,\"#d8576b\"],[0.6666666666666666,\"#ed7953\"],[0.7777777777777778,\"#fb9f3a\"],[0.8888888888888888,\"#fdca26\"],[1.0,\"#f0f921\"]],\"type\":\"contour\"}],\"heatmapgl\":[{\"colorbar\":{\"outlinewidth\":0,\"ticks\":\"\"},\"colorscale\":[[0.0,\"#0d0887\"],[0.1111111111111111,\"#46039f\"],[0.2222222222222222,\"#7201a8\"],[0.3333333333333333,\"#9c179e\"],[0.4444444444444444,\"#bd3786\"],[0.5555555555555556,\"#d8576b\"],[0.6666666666666666,\"#ed7953\"],[0.7777777777777778,\"#fb9f3a\"],[0.8888888888888888,\"#fdca26\"],[1.0,\"#f0f921\"]],\"type\":\"heatmapgl\"}],\"heatmap\":[{\"colorbar\":{\"outlinewidth\":0,\"ticks\":\"\"},\"colorscale\":[[0.0,\"#0d0887\"],[0.1111111111111111,\"#46039f\"],[0.2222222222222222,\"#7201a8\"],[0.3333333333333333,\"#9c179e\"],[0.4444444444444444,\"#bd3786\"],[0.5555555555555556,\"#d8576b\"],[0.6666666666666666,\"#ed7953\"],[0.7777777777777778,\"#fb9f3a\"],[0.8888888888888888,\"#fdca26\"],[1.0,\"#f0f921\"]],\"type\":\"heatmap\"}],\"histogram2dcontour\":[{\"colorbar\":{\"outlinewidth\":0,\"ticks\":\"\"},\"colorscale\":[[0.0,\"#0d0887\"],[0.1111111111111111,\"#46039f\"],[0.2222222222222222,\"#7201a8\"],[0.3333333333333333,\"#9c179e\"],[0.4444444444444444,\"#bd3786\"],[0.5555555555555556,\"#d8576b\"],[0.6666666666666666,\"#ed7953\"],[0.7777777777777778,\"#fb9f3a\"],[0.8888888888888888,\"#fdca26\"],[1.0,\"#f0f921\"]],\"type\":\"histogram2dcontour\"}],\"histogram2d\":[{\"colorbar\":{\"outlinewidth\":0,\"ticks\":\"\"},\"colorscale\":[[0.0,\"#0d0887\"],[0.1111111111111111,\"#46039f\"],[0.2222222222222222,\"#7201a8\"],[0.3333333333333333,\"#9c179e\"],[0.4444444444444444,\"#bd3786\"],[0.5555555555555556,\"#d8576b\"],[0.6666666666666666,\"#ed7953\"],[0.7777777777777778,\"#fb9f3a\"],[0.8888888888888888,\"#fdca26\"],[1.0,\"#f0f921\"]],\"type\":\"histogram2d\"}],\"histogram\":[{\"marker\":{\"pattern\":{\"fillmode\":\"overlay\",\"size\":10,\"solidity\":0.2}},\"type\":\"histogram\"}],\"mesh3d\":[{\"colorbar\":{\"outlinewidth\":0,\"ticks\":\"\"},\"type\":\"mesh3d\"}],\"parcoords\":[{\"line\":{\"colorbar\":{\"outlinewidth\":0,\"ticks\":\"\"}},\"type\":\"parcoords\"}],\"pie\":[{\"automargin\":true,\"type\":\"pie\"}],\"scatter3d\":[{\"line\":{\"colorbar\":{\"outlinewidth\":0,\"ticks\":\"\"}},\"marker\":{\"colorbar\":{\"outlinewidth\":0,\"ticks\":\"\"}},\"type\":\"scatter3d\"}],\"scattercarpet\":[{\"marker\":{\"colorbar\":{\"outlinewidth\":0,\"ticks\":\"\"}},\"type\":\"scattercarpet\"}],\"scattergeo\":[{\"marker\":{\"colorbar\":{\"outlinewidth\":0,\"ticks\":\"\"}},\"type\":\"scattergeo\"}],\"scattergl\":[{\"marker\":{\"colorbar\":{\"outlinewidth\":0,\"ticks\":\"\"}},\"type\":\"scattergl\"}],\"scattermapbox\":[{\"marker\":{\"colorbar\":{\"outlinewidth\":0,\"ticks\":\"\"}},\"type\":\"scattermapbox\"}],\"scatterpolargl\":[{\"marker\":{\"colorbar\":{\"outlinewidth\":0,\"ticks\":\"\"}},\"type\":\"scatterpolargl\"}],\"scatterpolar\":[{\"marker\":{\"colorbar\":{\"outlinewidth\":0,\"ticks\":\"\"}},\"type\":\"scatterpolar\"}],\"scatter\":[{\"fillpattern\":{\"fillmode\":\"overlay\",\"size\":10,\"solidity\":0.2},\"type\":\"scatter\"}],\"scatterternary\":[{\"marker\":{\"colorbar\":{\"outlinewidth\":0,\"ticks\":\"\"}},\"type\":\"scatterternary\"}],\"surface\":[{\"colorbar\":{\"outlinewidth\":0,\"ticks\":\"\"},\"colorscale\":[[0.0,\"#0d0887\"],[0.1111111111111111,\"#46039f\"],[0.2222222222222222,\"#7201a8\"],[0.3333333333333333,\"#9c179e\"],[0.4444444444444444,\"#bd3786\"],[0.5555555555555556,\"#d8576b\"],[0.6666666666666666,\"#ed7953\"],[0.7777777777777778,\"#fb9f3a\"],[0.8888888888888888,\"#fdca26\"],[1.0,\"#f0f921\"]],\"type\":\"surface\"}],\"table\":[{\"cells\":{\"fill\":{\"color\":\"#EBF0F8\"},\"line\":{\"color\":\"white\"}},\"header\":{\"fill\":{\"color\":\"#C8D4E3\"},\"line\":{\"color\":\"white\"}},\"type\":\"table\"}]},\"layout\":{\"annotationdefaults\":{\"arrowcolor\":\"#2a3f5f\",\"arrowhead\":0,\"arrowwidth\":1},\"autotypenumbers\":\"strict\",\"coloraxis\":{\"colorbar\":{\"outlinewidth\":0,\"ticks\":\"\"}},\"colorscale\":{\"diverging\":[[0,\"#8e0152\"],[0.1,\"#c51b7d\"],[0.2,\"#de77ae\"],[0.3,\"#f1b6da\"],[0.4,\"#fde0ef\"],[0.5,\"#f7f7f7\"],[0.6,\"#e6f5d0\"],[0.7,\"#b8e186\"],[0.8,\"#7fbc41\"],[0.9,\"#4d9221\"],[1,\"#276419\"]],\"sequential\":[[0.0,\"#0d0887\"],[0.1111111111111111,\"#46039f\"],[0.2222222222222222,\"#7201a8\"],[0.3333333333333333,\"#9c179e\"],[0.4444444444444444,\"#bd3786\"],[0.5555555555555556,\"#d8576b\"],[0.6666666666666666,\"#ed7953\"],[0.7777777777777778,\"#fb9f3a\"],[0.8888888888888888,\"#fdca26\"],[1.0,\"#f0f921\"]],\"sequentialminus\":[[0.0,\"#0d0887\"],[0.1111111111111111,\"#46039f\"],[0.2222222222222222,\"#7201a8\"],[0.3333333333333333,\"#9c179e\"],[0.4444444444444444,\"#bd3786\"],[0.5555555555555556,\"#d8576b\"],[0.6666666666666666,\"#ed7953\"],[0.7777777777777778,\"#fb9f3a\"],[0.8888888888888888,\"#fdca26\"],[1.0,\"#f0f921\"]]},\"colorway\":[\"#636efa\",\"#EF553B\",\"#00cc96\",\"#ab63fa\",\"#FFA15A\",\"#19d3f3\",\"#FF6692\",\"#B6E880\",\"#FF97FF\",\"#FECB52\"],\"font\":{\"color\":\"#2a3f5f\"},\"geo\":{\"bgcolor\":\"white\",\"lakecolor\":\"white\",\"landcolor\":\"#E5ECF6\",\"showlakes\":true,\"showland\":true,\"subunitcolor\":\"white\"},\"hoverlabel\":{\"align\":\"left\"},\"hovermode\":\"closest\",\"mapbox\":{\"style\":\"light\"},\"paper_bgcolor\":\"white\",\"plot_bgcolor\":\"#E5ECF6\",\"polar\":{\"angularaxis\":{\"gridcolor\":\"white\",\"linecolor\":\"white\",\"ticks\":\"\"},\"bgcolor\":\"#E5ECF6\",\"radialaxis\":{\"gridcolor\":\"white\",\"linecolor\":\"white\",\"ticks\":\"\"}},\"scene\":{\"xaxis\":{\"backgroundcolor\":\"#E5ECF6\",\"gridcolor\":\"white\",\"gridwidth\":2,\"linecolor\":\"white\",\"showbackground\":true,\"ticks\":\"\",\"zerolinecolor\":\"white\"},\"yaxis\":{\"backgroundcolor\":\"#E5ECF6\",\"gridcolor\":\"white\",\"gridwidth\":2,\"linecolor\":\"white\",\"showbackground\":true,\"ticks\":\"\",\"zerolinecolor\":\"white\"},\"zaxis\":{\"backgroundcolor\":\"#E5ECF6\",\"gridcolor\":\"white\",\"gridwidth\":2,\"linecolor\":\"white\",\"showbackground\":true,\"ticks\":\"\",\"zerolinecolor\":\"white\"}},\"shapedefaults\":{\"line\":{\"color\":\"#2a3f5f\"}},\"ternary\":{\"aaxis\":{\"gridcolor\":\"white\",\"linecolor\":\"white\",\"ticks\":\"\"},\"baxis\":{\"gridcolor\":\"white\",\"linecolor\":\"white\",\"ticks\":\"\"},\"bgcolor\":\"#E5ECF6\",\"caxis\":{\"gridcolor\":\"white\",\"linecolor\":\"white\",\"ticks\":\"\"}},\"title\":{\"x\":0.05},\"xaxis\":{\"automargin\":true,\"gridcolor\":\"white\",\"linecolor\":\"white\",\"ticks\":\"\",\"title\":{\"standoff\":15},\"zerolinecolor\":\"white\",\"zerolinewidth\":2},\"yaxis\":{\"automargin\":true,\"gridcolor\":\"white\",\"linecolor\":\"white\",\"ticks\":\"\",\"title\":{\"standoff\":15},\"zerolinecolor\":\"white\",\"zerolinewidth\":2}}},\"title\":{\"font\":{\"color\":\"#4D5663\"}},\"xaxis\":{\"gridcolor\":\"#E1E5ED\",\"showgrid\":true,\"tickfont\":{\"color\":\"#4D5663\"},\"title\":{\"font\":{\"color\":\"#4D5663\"},\"text\":\"\"},\"zerolinecolor\":\"#E1E5ED\"},\"yaxis\":{\"gridcolor\":\"#E1E5ED\",\"showgrid\":true,\"tickfont\":{\"color\":\"#4D5663\"},\"title\":{\"font\":{\"color\":\"#4D5663\"},\"text\":\"\"},\"zerolinecolor\":\"#E1E5ED\"}},                        {\"showLink\": true, \"linkText\": \"Export to plot.ly\", \"plotlyServerURL\": \"https://plot.ly\", \"responsive\": true}                    ).then(function(){\n",
       "                            \n",
       "var gd = document.getElementById('29d10ce6-5974-4dae-ab7e-ac271cad45bf');\n",
       "var x = new MutationObserver(function (mutations, observer) {{\n",
       "        var display = window.getComputedStyle(gd).display;\n",
       "        if (!display || display === 'none') {{\n",
       "            console.log([gd, 'removed!']);\n",
       "            Plotly.purge(gd);\n",
       "            observer.disconnect();\n",
       "        }}\n",
       "}});\n",
       "\n",
       "// Listen for the removal of the full notebook cells\n",
       "var notebookContainer = gd.closest('#notebook-container');\n",
       "if (notebookContainer) {{\n",
       "    x.observe(notebookContainer, {childList: true});\n",
       "}}\n",
       "\n",
       "// Listen for the clearing of the current output cell\n",
       "var outputEl = gd.closest('.output');\n",
       "if (outputEl) {{\n",
       "    x.observe(outputEl, {childList: true});\n",
       "}}\n",
       "\n",
       "                        })                };                });            </script>        </div>"
      ]
     },
     "metadata": {},
     "output_type": "display_data"
    }
   ],
   "source": [
    "df.iplot(kind=\"scatter\", x='A', y='B', mode='markers')"
   ]
  },
  {
   "cell_type": "code",
   "execution_count": 16,
   "id": "b89579bd-669c-4735-b54a-09f270d69036",
   "metadata": {},
   "outputs": [
    {
     "data": {
      "application/vnd.plotly.v1+json": {
       "config": {
        "linkText": "Export to plot.ly",
        "plotlyServerURL": "https://plot.ly",
        "showLink": true
       },
       "data": [
        {
         "marker": {
          "color": "rgba(255, 153, 51, 0.6)",
          "line": {
           "color": "rgba(255, 153, 51, 1.0)",
           "width": 1
          }
         },
         "name": "Werte",
         "orientation": "v",
         "text": "",
         "type": "bar",
         "x": [
          "A",
          "B",
          "C"
         ],
         "y": [
          32,
          43,
          50
         ]
        }
       ],
       "layout": {
        "legend": {
         "bgcolor": "#F5F6F9",
         "font": {
          "color": "#4D5663"
         }
        },
        "paper_bgcolor": "#F5F6F9",
        "plot_bgcolor": "#F5F6F9",
        "template": {
         "data": {
          "bar": [
           {
            "error_x": {
             "color": "#2a3f5f"
            },
            "error_y": {
             "color": "#2a3f5f"
            },
            "marker": {
             "line": {
              "color": "#E5ECF6",
              "width": 0.5
             },
             "pattern": {
              "fillmode": "overlay",
              "size": 10,
              "solidity": 0.2
             }
            },
            "type": "bar"
           }
          ],
          "barpolar": [
           {
            "marker": {
             "line": {
              "color": "#E5ECF6",
              "width": 0.5
             },
             "pattern": {
              "fillmode": "overlay",
              "size": 10,
              "solidity": 0.2
             }
            },
            "type": "barpolar"
           }
          ],
          "carpet": [
           {
            "aaxis": {
             "endlinecolor": "#2a3f5f",
             "gridcolor": "white",
             "linecolor": "white",
             "minorgridcolor": "white",
             "startlinecolor": "#2a3f5f"
            },
            "baxis": {
             "endlinecolor": "#2a3f5f",
             "gridcolor": "white",
             "linecolor": "white",
             "minorgridcolor": "white",
             "startlinecolor": "#2a3f5f"
            },
            "type": "carpet"
           }
          ],
          "choropleth": [
           {
            "colorbar": {
             "outlinewidth": 0,
             "ticks": ""
            },
            "type": "choropleth"
           }
          ],
          "contour": [
           {
            "colorbar": {
             "outlinewidth": 0,
             "ticks": ""
            },
            "colorscale": [
             [
              0,
              "#0d0887"
             ],
             [
              0.1111111111111111,
              "#46039f"
             ],
             [
              0.2222222222222222,
              "#7201a8"
             ],
             [
              0.3333333333333333,
              "#9c179e"
             ],
             [
              0.4444444444444444,
              "#bd3786"
             ],
             [
              0.5555555555555556,
              "#d8576b"
             ],
             [
              0.6666666666666666,
              "#ed7953"
             ],
             [
              0.7777777777777778,
              "#fb9f3a"
             ],
             [
              0.8888888888888888,
              "#fdca26"
             ],
             [
              1,
              "#f0f921"
             ]
            ],
            "type": "contour"
           }
          ],
          "contourcarpet": [
           {
            "colorbar": {
             "outlinewidth": 0,
             "ticks": ""
            },
            "type": "contourcarpet"
           }
          ],
          "heatmap": [
           {
            "colorbar": {
             "outlinewidth": 0,
             "ticks": ""
            },
            "colorscale": [
             [
              0,
              "#0d0887"
             ],
             [
              0.1111111111111111,
              "#46039f"
             ],
             [
              0.2222222222222222,
              "#7201a8"
             ],
             [
              0.3333333333333333,
              "#9c179e"
             ],
             [
              0.4444444444444444,
              "#bd3786"
             ],
             [
              0.5555555555555556,
              "#d8576b"
             ],
             [
              0.6666666666666666,
              "#ed7953"
             ],
             [
              0.7777777777777778,
              "#fb9f3a"
             ],
             [
              0.8888888888888888,
              "#fdca26"
             ],
             [
              1,
              "#f0f921"
             ]
            ],
            "type": "heatmap"
           }
          ],
          "heatmapgl": [
           {
            "colorbar": {
             "outlinewidth": 0,
             "ticks": ""
            },
            "colorscale": [
             [
              0,
              "#0d0887"
             ],
             [
              0.1111111111111111,
              "#46039f"
             ],
             [
              0.2222222222222222,
              "#7201a8"
             ],
             [
              0.3333333333333333,
              "#9c179e"
             ],
             [
              0.4444444444444444,
              "#bd3786"
             ],
             [
              0.5555555555555556,
              "#d8576b"
             ],
             [
              0.6666666666666666,
              "#ed7953"
             ],
             [
              0.7777777777777778,
              "#fb9f3a"
             ],
             [
              0.8888888888888888,
              "#fdca26"
             ],
             [
              1,
              "#f0f921"
             ]
            ],
            "type": "heatmapgl"
           }
          ],
          "histogram": [
           {
            "marker": {
             "pattern": {
              "fillmode": "overlay",
              "size": 10,
              "solidity": 0.2
             }
            },
            "type": "histogram"
           }
          ],
          "histogram2d": [
           {
            "colorbar": {
             "outlinewidth": 0,
             "ticks": ""
            },
            "colorscale": [
             [
              0,
              "#0d0887"
             ],
             [
              0.1111111111111111,
              "#46039f"
             ],
             [
              0.2222222222222222,
              "#7201a8"
             ],
             [
              0.3333333333333333,
              "#9c179e"
             ],
             [
              0.4444444444444444,
              "#bd3786"
             ],
             [
              0.5555555555555556,
              "#d8576b"
             ],
             [
              0.6666666666666666,
              "#ed7953"
             ],
             [
              0.7777777777777778,
              "#fb9f3a"
             ],
             [
              0.8888888888888888,
              "#fdca26"
             ],
             [
              1,
              "#f0f921"
             ]
            ],
            "type": "histogram2d"
           }
          ],
          "histogram2dcontour": [
           {
            "colorbar": {
             "outlinewidth": 0,
             "ticks": ""
            },
            "colorscale": [
             [
              0,
              "#0d0887"
             ],
             [
              0.1111111111111111,
              "#46039f"
             ],
             [
              0.2222222222222222,
              "#7201a8"
             ],
             [
              0.3333333333333333,
              "#9c179e"
             ],
             [
              0.4444444444444444,
              "#bd3786"
             ],
             [
              0.5555555555555556,
              "#d8576b"
             ],
             [
              0.6666666666666666,
              "#ed7953"
             ],
             [
              0.7777777777777778,
              "#fb9f3a"
             ],
             [
              0.8888888888888888,
              "#fdca26"
             ],
             [
              1,
              "#f0f921"
             ]
            ],
            "type": "histogram2dcontour"
           }
          ],
          "mesh3d": [
           {
            "colorbar": {
             "outlinewidth": 0,
             "ticks": ""
            },
            "type": "mesh3d"
           }
          ],
          "parcoords": [
           {
            "line": {
             "colorbar": {
              "outlinewidth": 0,
              "ticks": ""
             }
            },
            "type": "parcoords"
           }
          ],
          "pie": [
           {
            "automargin": true,
            "type": "pie"
           }
          ],
          "scatter": [
           {
            "fillpattern": {
             "fillmode": "overlay",
             "size": 10,
             "solidity": 0.2
            },
            "type": "scatter"
           }
          ],
          "scatter3d": [
           {
            "line": {
             "colorbar": {
              "outlinewidth": 0,
              "ticks": ""
             }
            },
            "marker": {
             "colorbar": {
              "outlinewidth": 0,
              "ticks": ""
             }
            },
            "type": "scatter3d"
           }
          ],
          "scattercarpet": [
           {
            "marker": {
             "colorbar": {
              "outlinewidth": 0,
              "ticks": ""
             }
            },
            "type": "scattercarpet"
           }
          ],
          "scattergeo": [
           {
            "marker": {
             "colorbar": {
              "outlinewidth": 0,
              "ticks": ""
             }
            },
            "type": "scattergeo"
           }
          ],
          "scattergl": [
           {
            "marker": {
             "colorbar": {
              "outlinewidth": 0,
              "ticks": ""
             }
            },
            "type": "scattergl"
           }
          ],
          "scattermapbox": [
           {
            "marker": {
             "colorbar": {
              "outlinewidth": 0,
              "ticks": ""
             }
            },
            "type": "scattermapbox"
           }
          ],
          "scatterpolar": [
           {
            "marker": {
             "colorbar": {
              "outlinewidth": 0,
              "ticks": ""
             }
            },
            "type": "scatterpolar"
           }
          ],
          "scatterpolargl": [
           {
            "marker": {
             "colorbar": {
              "outlinewidth": 0,
              "ticks": ""
             }
            },
            "type": "scatterpolargl"
           }
          ],
          "scatterternary": [
           {
            "marker": {
             "colorbar": {
              "outlinewidth": 0,
              "ticks": ""
             }
            },
            "type": "scatterternary"
           }
          ],
          "surface": [
           {
            "colorbar": {
             "outlinewidth": 0,
             "ticks": ""
            },
            "colorscale": [
             [
              0,
              "#0d0887"
             ],
             [
              0.1111111111111111,
              "#46039f"
             ],
             [
              0.2222222222222222,
              "#7201a8"
             ],
             [
              0.3333333333333333,
              "#9c179e"
             ],
             [
              0.4444444444444444,
              "#bd3786"
             ],
             [
              0.5555555555555556,
              "#d8576b"
             ],
             [
              0.6666666666666666,
              "#ed7953"
             ],
             [
              0.7777777777777778,
              "#fb9f3a"
             ],
             [
              0.8888888888888888,
              "#fdca26"
             ],
             [
              1,
              "#f0f921"
             ]
            ],
            "type": "surface"
           }
          ],
          "table": [
           {
            "cells": {
             "fill": {
              "color": "#EBF0F8"
             },
             "line": {
              "color": "white"
             }
            },
            "header": {
             "fill": {
              "color": "#C8D4E3"
             },
             "line": {
              "color": "white"
             }
            },
            "type": "table"
           }
          ]
         },
         "layout": {
          "annotationdefaults": {
           "arrowcolor": "#2a3f5f",
           "arrowhead": 0,
           "arrowwidth": 1
          },
          "autotypenumbers": "strict",
          "coloraxis": {
           "colorbar": {
            "outlinewidth": 0,
            "ticks": ""
           }
          },
          "colorscale": {
           "diverging": [
            [
             0,
             "#8e0152"
            ],
            [
             0.1,
             "#c51b7d"
            ],
            [
             0.2,
             "#de77ae"
            ],
            [
             0.3,
             "#f1b6da"
            ],
            [
             0.4,
             "#fde0ef"
            ],
            [
             0.5,
             "#f7f7f7"
            ],
            [
             0.6,
             "#e6f5d0"
            ],
            [
             0.7,
             "#b8e186"
            ],
            [
             0.8,
             "#7fbc41"
            ],
            [
             0.9,
             "#4d9221"
            ],
            [
             1,
             "#276419"
            ]
           ],
           "sequential": [
            [
             0,
             "#0d0887"
            ],
            [
             0.1111111111111111,
             "#46039f"
            ],
            [
             0.2222222222222222,
             "#7201a8"
            ],
            [
             0.3333333333333333,
             "#9c179e"
            ],
            [
             0.4444444444444444,
             "#bd3786"
            ],
            [
             0.5555555555555556,
             "#d8576b"
            ],
            [
             0.6666666666666666,
             "#ed7953"
            ],
            [
             0.7777777777777778,
             "#fb9f3a"
            ],
            [
             0.8888888888888888,
             "#fdca26"
            ],
            [
             1,
             "#f0f921"
            ]
           ],
           "sequentialminus": [
            [
             0,
             "#0d0887"
            ],
            [
             0.1111111111111111,
             "#46039f"
            ],
            [
             0.2222222222222222,
             "#7201a8"
            ],
            [
             0.3333333333333333,
             "#9c179e"
            ],
            [
             0.4444444444444444,
             "#bd3786"
            ],
            [
             0.5555555555555556,
             "#d8576b"
            ],
            [
             0.6666666666666666,
             "#ed7953"
            ],
            [
             0.7777777777777778,
             "#fb9f3a"
            ],
            [
             0.8888888888888888,
             "#fdca26"
            ],
            [
             1,
             "#f0f921"
            ]
           ]
          },
          "colorway": [
           "#636efa",
           "#EF553B",
           "#00cc96",
           "#ab63fa",
           "#FFA15A",
           "#19d3f3",
           "#FF6692",
           "#B6E880",
           "#FF97FF",
           "#FECB52"
          ],
          "font": {
           "color": "#2a3f5f"
          },
          "geo": {
           "bgcolor": "white",
           "lakecolor": "white",
           "landcolor": "#E5ECF6",
           "showlakes": true,
           "showland": true,
           "subunitcolor": "white"
          },
          "hoverlabel": {
           "align": "left"
          },
          "hovermode": "closest",
          "mapbox": {
           "style": "light"
          },
          "paper_bgcolor": "white",
          "plot_bgcolor": "#E5ECF6",
          "polar": {
           "angularaxis": {
            "gridcolor": "white",
            "linecolor": "white",
            "ticks": ""
           },
           "bgcolor": "#E5ECF6",
           "radialaxis": {
            "gridcolor": "white",
            "linecolor": "white",
            "ticks": ""
           }
          },
          "scene": {
           "xaxis": {
            "backgroundcolor": "#E5ECF6",
            "gridcolor": "white",
            "gridwidth": 2,
            "linecolor": "white",
            "showbackground": true,
            "ticks": "",
            "zerolinecolor": "white"
           },
           "yaxis": {
            "backgroundcolor": "#E5ECF6",
            "gridcolor": "white",
            "gridwidth": 2,
            "linecolor": "white",
            "showbackground": true,
            "ticks": "",
            "zerolinecolor": "white"
           },
           "zaxis": {
            "backgroundcolor": "#E5ECF6",
            "gridcolor": "white",
            "gridwidth": 2,
            "linecolor": "white",
            "showbackground": true,
            "ticks": "",
            "zerolinecolor": "white"
           }
          },
          "shapedefaults": {
           "line": {
            "color": "#2a3f5f"
           }
          },
          "ternary": {
           "aaxis": {
            "gridcolor": "white",
            "linecolor": "white",
            "ticks": ""
           },
           "baxis": {
            "gridcolor": "white",
            "linecolor": "white",
            "ticks": ""
           },
           "bgcolor": "#E5ECF6",
           "caxis": {
            "gridcolor": "white",
            "linecolor": "white",
            "ticks": ""
           }
          },
          "title": {
           "x": 0.05
          },
          "xaxis": {
           "automargin": true,
           "gridcolor": "white",
           "linecolor": "white",
           "ticks": "",
           "title": {
            "standoff": 15
           },
           "zerolinecolor": "white",
           "zerolinewidth": 2
          },
          "yaxis": {
           "automargin": true,
           "gridcolor": "white",
           "linecolor": "white",
           "ticks": "",
           "title": {
            "standoff": 15
           },
           "zerolinecolor": "white",
           "zerolinewidth": 2
          }
         }
        },
        "title": {
         "font": {
          "color": "#4D5663"
         }
        },
        "xaxis": {
         "gridcolor": "#E1E5ED",
         "showgrid": true,
         "tickfont": {
          "color": "#4D5663"
         },
         "title": {
          "font": {
           "color": "#4D5663"
          },
          "text": ""
         },
         "zerolinecolor": "#E1E5ED"
        },
        "yaxis": {
         "gridcolor": "#E1E5ED",
         "showgrid": true,
         "tickfont": {
          "color": "#4D5663"
         },
         "title": {
          "font": {
           "color": "#4D5663"
          },
          "text": ""
         },
         "zerolinecolor": "#E1E5ED"
        }
       }
      },
      "text/html": [
       "<div>                            <div id=\"4bd9837c-f8c5-47e4-b2ee-6ef24dce9488\" class=\"plotly-graph-div\" style=\"height:525px; width:100%;\"></div>            <script type=\"text/javascript\">                require([\"plotly\"], function(Plotly) {                    window.PLOTLYENV=window.PLOTLYENV || {};\n",
       "                    window.PLOTLYENV.BASE_URL='https://plot.ly';                                    if (document.getElementById(\"4bd9837c-f8c5-47e4-b2ee-6ef24dce9488\")) {                    Plotly.newPlot(                        \"4bd9837c-f8c5-47e4-b2ee-6ef24dce9488\",                        [{\"marker\":{\"color\":\"rgba(255, 153, 51, 0.6)\",\"line\":{\"color\":\"rgba(255, 153, 51, 1.0)\",\"width\":1}},\"name\":\"Werte\",\"orientation\":\"v\",\"text\":\"\",\"x\":[\"A\",\"B\",\"C\"],\"y\":[32,43,50],\"type\":\"bar\"}],                        {\"legend\":{\"bgcolor\":\"#F5F6F9\",\"font\":{\"color\":\"#4D5663\"}},\"paper_bgcolor\":\"#F5F6F9\",\"plot_bgcolor\":\"#F5F6F9\",\"template\":{\"data\":{\"barpolar\":[{\"marker\":{\"line\":{\"color\":\"#E5ECF6\",\"width\":0.5},\"pattern\":{\"fillmode\":\"overlay\",\"size\":10,\"solidity\":0.2}},\"type\":\"barpolar\"}],\"bar\":[{\"error_x\":{\"color\":\"#2a3f5f\"},\"error_y\":{\"color\":\"#2a3f5f\"},\"marker\":{\"line\":{\"color\":\"#E5ECF6\",\"width\":0.5},\"pattern\":{\"fillmode\":\"overlay\",\"size\":10,\"solidity\":0.2}},\"type\":\"bar\"}],\"carpet\":[{\"aaxis\":{\"endlinecolor\":\"#2a3f5f\",\"gridcolor\":\"white\",\"linecolor\":\"white\",\"minorgridcolor\":\"white\",\"startlinecolor\":\"#2a3f5f\"},\"baxis\":{\"endlinecolor\":\"#2a3f5f\",\"gridcolor\":\"white\",\"linecolor\":\"white\",\"minorgridcolor\":\"white\",\"startlinecolor\":\"#2a3f5f\"},\"type\":\"carpet\"}],\"choropleth\":[{\"colorbar\":{\"outlinewidth\":0,\"ticks\":\"\"},\"type\":\"choropleth\"}],\"contourcarpet\":[{\"colorbar\":{\"outlinewidth\":0,\"ticks\":\"\"},\"type\":\"contourcarpet\"}],\"contour\":[{\"colorbar\":{\"outlinewidth\":0,\"ticks\":\"\"},\"colorscale\":[[0.0,\"#0d0887\"],[0.1111111111111111,\"#46039f\"],[0.2222222222222222,\"#7201a8\"],[0.3333333333333333,\"#9c179e\"],[0.4444444444444444,\"#bd3786\"],[0.5555555555555556,\"#d8576b\"],[0.6666666666666666,\"#ed7953\"],[0.7777777777777778,\"#fb9f3a\"],[0.8888888888888888,\"#fdca26\"],[1.0,\"#f0f921\"]],\"type\":\"contour\"}],\"heatmapgl\":[{\"colorbar\":{\"outlinewidth\":0,\"ticks\":\"\"},\"colorscale\":[[0.0,\"#0d0887\"],[0.1111111111111111,\"#46039f\"],[0.2222222222222222,\"#7201a8\"],[0.3333333333333333,\"#9c179e\"],[0.4444444444444444,\"#bd3786\"],[0.5555555555555556,\"#d8576b\"],[0.6666666666666666,\"#ed7953\"],[0.7777777777777778,\"#fb9f3a\"],[0.8888888888888888,\"#fdca26\"],[1.0,\"#f0f921\"]],\"type\":\"heatmapgl\"}],\"heatmap\":[{\"colorbar\":{\"outlinewidth\":0,\"ticks\":\"\"},\"colorscale\":[[0.0,\"#0d0887\"],[0.1111111111111111,\"#46039f\"],[0.2222222222222222,\"#7201a8\"],[0.3333333333333333,\"#9c179e\"],[0.4444444444444444,\"#bd3786\"],[0.5555555555555556,\"#d8576b\"],[0.6666666666666666,\"#ed7953\"],[0.7777777777777778,\"#fb9f3a\"],[0.8888888888888888,\"#fdca26\"],[1.0,\"#f0f921\"]],\"type\":\"heatmap\"}],\"histogram2dcontour\":[{\"colorbar\":{\"outlinewidth\":0,\"ticks\":\"\"},\"colorscale\":[[0.0,\"#0d0887\"],[0.1111111111111111,\"#46039f\"],[0.2222222222222222,\"#7201a8\"],[0.3333333333333333,\"#9c179e\"],[0.4444444444444444,\"#bd3786\"],[0.5555555555555556,\"#d8576b\"],[0.6666666666666666,\"#ed7953\"],[0.7777777777777778,\"#fb9f3a\"],[0.8888888888888888,\"#fdca26\"],[1.0,\"#f0f921\"]],\"type\":\"histogram2dcontour\"}],\"histogram2d\":[{\"colorbar\":{\"outlinewidth\":0,\"ticks\":\"\"},\"colorscale\":[[0.0,\"#0d0887\"],[0.1111111111111111,\"#46039f\"],[0.2222222222222222,\"#7201a8\"],[0.3333333333333333,\"#9c179e\"],[0.4444444444444444,\"#bd3786\"],[0.5555555555555556,\"#d8576b\"],[0.6666666666666666,\"#ed7953\"],[0.7777777777777778,\"#fb9f3a\"],[0.8888888888888888,\"#fdca26\"],[1.0,\"#f0f921\"]],\"type\":\"histogram2d\"}],\"histogram\":[{\"marker\":{\"pattern\":{\"fillmode\":\"overlay\",\"size\":10,\"solidity\":0.2}},\"type\":\"histogram\"}],\"mesh3d\":[{\"colorbar\":{\"outlinewidth\":0,\"ticks\":\"\"},\"type\":\"mesh3d\"}],\"parcoords\":[{\"line\":{\"colorbar\":{\"outlinewidth\":0,\"ticks\":\"\"}},\"type\":\"parcoords\"}],\"pie\":[{\"automargin\":true,\"type\":\"pie\"}],\"scatter3d\":[{\"line\":{\"colorbar\":{\"outlinewidth\":0,\"ticks\":\"\"}},\"marker\":{\"colorbar\":{\"outlinewidth\":0,\"ticks\":\"\"}},\"type\":\"scatter3d\"}],\"scattercarpet\":[{\"marker\":{\"colorbar\":{\"outlinewidth\":0,\"ticks\":\"\"}},\"type\":\"scattercarpet\"}],\"scattergeo\":[{\"marker\":{\"colorbar\":{\"outlinewidth\":0,\"ticks\":\"\"}},\"type\":\"scattergeo\"}],\"scattergl\":[{\"marker\":{\"colorbar\":{\"outlinewidth\":0,\"ticks\":\"\"}},\"type\":\"scattergl\"}],\"scattermapbox\":[{\"marker\":{\"colorbar\":{\"outlinewidth\":0,\"ticks\":\"\"}},\"type\":\"scattermapbox\"}],\"scatterpolargl\":[{\"marker\":{\"colorbar\":{\"outlinewidth\":0,\"ticks\":\"\"}},\"type\":\"scatterpolargl\"}],\"scatterpolar\":[{\"marker\":{\"colorbar\":{\"outlinewidth\":0,\"ticks\":\"\"}},\"type\":\"scatterpolar\"}],\"scatter\":[{\"fillpattern\":{\"fillmode\":\"overlay\",\"size\":10,\"solidity\":0.2},\"type\":\"scatter\"}],\"scatterternary\":[{\"marker\":{\"colorbar\":{\"outlinewidth\":0,\"ticks\":\"\"}},\"type\":\"scatterternary\"}],\"surface\":[{\"colorbar\":{\"outlinewidth\":0,\"ticks\":\"\"},\"colorscale\":[[0.0,\"#0d0887\"],[0.1111111111111111,\"#46039f\"],[0.2222222222222222,\"#7201a8\"],[0.3333333333333333,\"#9c179e\"],[0.4444444444444444,\"#bd3786\"],[0.5555555555555556,\"#d8576b\"],[0.6666666666666666,\"#ed7953\"],[0.7777777777777778,\"#fb9f3a\"],[0.8888888888888888,\"#fdca26\"],[1.0,\"#f0f921\"]],\"type\":\"surface\"}],\"table\":[{\"cells\":{\"fill\":{\"color\":\"#EBF0F8\"},\"line\":{\"color\":\"white\"}},\"header\":{\"fill\":{\"color\":\"#C8D4E3\"},\"line\":{\"color\":\"white\"}},\"type\":\"table\"}]},\"layout\":{\"annotationdefaults\":{\"arrowcolor\":\"#2a3f5f\",\"arrowhead\":0,\"arrowwidth\":1},\"autotypenumbers\":\"strict\",\"coloraxis\":{\"colorbar\":{\"outlinewidth\":0,\"ticks\":\"\"}},\"colorscale\":{\"diverging\":[[0,\"#8e0152\"],[0.1,\"#c51b7d\"],[0.2,\"#de77ae\"],[0.3,\"#f1b6da\"],[0.4,\"#fde0ef\"],[0.5,\"#f7f7f7\"],[0.6,\"#e6f5d0\"],[0.7,\"#b8e186\"],[0.8,\"#7fbc41\"],[0.9,\"#4d9221\"],[1,\"#276419\"]],\"sequential\":[[0.0,\"#0d0887\"],[0.1111111111111111,\"#46039f\"],[0.2222222222222222,\"#7201a8\"],[0.3333333333333333,\"#9c179e\"],[0.4444444444444444,\"#bd3786\"],[0.5555555555555556,\"#d8576b\"],[0.6666666666666666,\"#ed7953\"],[0.7777777777777778,\"#fb9f3a\"],[0.8888888888888888,\"#fdca26\"],[1.0,\"#f0f921\"]],\"sequentialminus\":[[0.0,\"#0d0887\"],[0.1111111111111111,\"#46039f\"],[0.2222222222222222,\"#7201a8\"],[0.3333333333333333,\"#9c179e\"],[0.4444444444444444,\"#bd3786\"],[0.5555555555555556,\"#d8576b\"],[0.6666666666666666,\"#ed7953\"],[0.7777777777777778,\"#fb9f3a\"],[0.8888888888888888,\"#fdca26\"],[1.0,\"#f0f921\"]]},\"colorway\":[\"#636efa\",\"#EF553B\",\"#00cc96\",\"#ab63fa\",\"#FFA15A\",\"#19d3f3\",\"#FF6692\",\"#B6E880\",\"#FF97FF\",\"#FECB52\"],\"font\":{\"color\":\"#2a3f5f\"},\"geo\":{\"bgcolor\":\"white\",\"lakecolor\":\"white\",\"landcolor\":\"#E5ECF6\",\"showlakes\":true,\"showland\":true,\"subunitcolor\":\"white\"},\"hoverlabel\":{\"align\":\"left\"},\"hovermode\":\"closest\",\"mapbox\":{\"style\":\"light\"},\"paper_bgcolor\":\"white\",\"plot_bgcolor\":\"#E5ECF6\",\"polar\":{\"angularaxis\":{\"gridcolor\":\"white\",\"linecolor\":\"white\",\"ticks\":\"\"},\"bgcolor\":\"#E5ECF6\",\"radialaxis\":{\"gridcolor\":\"white\",\"linecolor\":\"white\",\"ticks\":\"\"}},\"scene\":{\"xaxis\":{\"backgroundcolor\":\"#E5ECF6\",\"gridcolor\":\"white\",\"gridwidth\":2,\"linecolor\":\"white\",\"showbackground\":true,\"ticks\":\"\",\"zerolinecolor\":\"white\"},\"yaxis\":{\"backgroundcolor\":\"#E5ECF6\",\"gridcolor\":\"white\",\"gridwidth\":2,\"linecolor\":\"white\",\"showbackground\":true,\"ticks\":\"\",\"zerolinecolor\":\"white\"},\"zaxis\":{\"backgroundcolor\":\"#E5ECF6\",\"gridcolor\":\"white\",\"gridwidth\":2,\"linecolor\":\"white\",\"showbackground\":true,\"ticks\":\"\",\"zerolinecolor\":\"white\"}},\"shapedefaults\":{\"line\":{\"color\":\"#2a3f5f\"}},\"ternary\":{\"aaxis\":{\"gridcolor\":\"white\",\"linecolor\":\"white\",\"ticks\":\"\"},\"baxis\":{\"gridcolor\":\"white\",\"linecolor\":\"white\",\"ticks\":\"\"},\"bgcolor\":\"#E5ECF6\",\"caxis\":{\"gridcolor\":\"white\",\"linecolor\":\"white\",\"ticks\":\"\"}},\"title\":{\"x\":0.05},\"xaxis\":{\"automargin\":true,\"gridcolor\":\"white\",\"linecolor\":\"white\",\"ticks\":\"\",\"title\":{\"standoff\":15},\"zerolinecolor\":\"white\",\"zerolinewidth\":2},\"yaxis\":{\"automargin\":true,\"gridcolor\":\"white\",\"linecolor\":\"white\",\"ticks\":\"\",\"title\":{\"standoff\":15},\"zerolinecolor\":\"white\",\"zerolinewidth\":2}}},\"title\":{\"font\":{\"color\":\"#4D5663\"}},\"xaxis\":{\"gridcolor\":\"#E1E5ED\",\"showgrid\":true,\"tickfont\":{\"color\":\"#4D5663\"},\"title\":{\"font\":{\"color\":\"#4D5663\"},\"text\":\"\"},\"zerolinecolor\":\"#E1E5ED\"},\"yaxis\":{\"gridcolor\":\"#E1E5ED\",\"showgrid\":true,\"tickfont\":{\"color\":\"#4D5663\"},\"title\":{\"font\":{\"color\":\"#4D5663\"},\"text\":\"\"},\"zerolinecolor\":\"#E1E5ED\"}},                        {\"showLink\": true, \"linkText\": \"Export to plot.ly\", \"plotlyServerURL\": \"https://plot.ly\", \"responsive\": true}                    ).then(function(){\n",
       "                            \n",
       "var gd = document.getElementById('4bd9837c-f8c5-47e4-b2ee-6ef24dce9488');\n",
       "var x = new MutationObserver(function (mutations, observer) {{\n",
       "        var display = window.getComputedStyle(gd).display;\n",
       "        if (!display || display === 'none') {{\n",
       "            console.log([gd, 'removed!']);\n",
       "            Plotly.purge(gd);\n",
       "            observer.disconnect();\n",
       "        }}\n",
       "}});\n",
       "\n",
       "// Listen for the removal of the full notebook cells\n",
       "var notebookContainer = gd.closest('#notebook-container');\n",
       "if (notebookContainer) {{\n",
       "    x.observe(notebookContainer, {childList: true});\n",
       "}}\n",
       "\n",
       "// Listen for the clearing of the current output cell\n",
       "var outputEl = gd.closest('.output');\n",
       "if (outputEl) {{\n",
       "    x.observe(outputEl, {childList: true});\n",
       "}}\n",
       "\n",
       "                        })                };                });            </script>        </div>"
      ]
     },
     "metadata": {},
     "output_type": "display_data"
    }
   ],
   "source": [
    "df2.iplot(kind='bar', x='Kategorie', y='')"
   ]
  },
  {
   "cell_type": "code",
   "execution_count": 17,
   "id": "50fd7f1c-9476-444e-9465-3f4190e15934",
   "metadata": {},
   "outputs": [
    {
     "data": {
      "application/vnd.plotly.v1+json": {
       "config": {
        "linkText": "Export to plot.ly",
        "plotlyServerURL": "https://plot.ly",
        "showLink": true
       },
       "data": [
        {
         "line": {
          "color": "rgba(255, 153, 51, 1.0)",
          "dash": "solid",
          "shape": "linear",
          "width": 1.3
         },
         "mode": "lines",
         "name": "None",
         "text": "",
         "type": "scatter",
         "x": [
          "A",
          "B",
          "C",
          "D"
         ],
         "y": [
          100,
          100,
          100,
          100
         ]
        }
       ],
       "layout": {
        "legend": {
         "bgcolor": "#F5F6F9",
         "font": {
          "color": "#4D5663"
         }
        },
        "paper_bgcolor": "#F5F6F9",
        "plot_bgcolor": "#F5F6F9",
        "template": {
         "data": {
          "bar": [
           {
            "error_x": {
             "color": "#2a3f5f"
            },
            "error_y": {
             "color": "#2a3f5f"
            },
            "marker": {
             "line": {
              "color": "#E5ECF6",
              "width": 0.5
             },
             "pattern": {
              "fillmode": "overlay",
              "size": 10,
              "solidity": 0.2
             }
            },
            "type": "bar"
           }
          ],
          "barpolar": [
           {
            "marker": {
             "line": {
              "color": "#E5ECF6",
              "width": 0.5
             },
             "pattern": {
              "fillmode": "overlay",
              "size": 10,
              "solidity": 0.2
             }
            },
            "type": "barpolar"
           }
          ],
          "carpet": [
           {
            "aaxis": {
             "endlinecolor": "#2a3f5f",
             "gridcolor": "white",
             "linecolor": "white",
             "minorgridcolor": "white",
             "startlinecolor": "#2a3f5f"
            },
            "baxis": {
             "endlinecolor": "#2a3f5f",
             "gridcolor": "white",
             "linecolor": "white",
             "minorgridcolor": "white",
             "startlinecolor": "#2a3f5f"
            },
            "type": "carpet"
           }
          ],
          "choropleth": [
           {
            "colorbar": {
             "outlinewidth": 0,
             "ticks": ""
            },
            "type": "choropleth"
           }
          ],
          "contour": [
           {
            "colorbar": {
             "outlinewidth": 0,
             "ticks": ""
            },
            "colorscale": [
             [
              0,
              "#0d0887"
             ],
             [
              0.1111111111111111,
              "#46039f"
             ],
             [
              0.2222222222222222,
              "#7201a8"
             ],
             [
              0.3333333333333333,
              "#9c179e"
             ],
             [
              0.4444444444444444,
              "#bd3786"
             ],
             [
              0.5555555555555556,
              "#d8576b"
             ],
             [
              0.6666666666666666,
              "#ed7953"
             ],
             [
              0.7777777777777778,
              "#fb9f3a"
             ],
             [
              0.8888888888888888,
              "#fdca26"
             ],
             [
              1,
              "#f0f921"
             ]
            ],
            "type": "contour"
           }
          ],
          "contourcarpet": [
           {
            "colorbar": {
             "outlinewidth": 0,
             "ticks": ""
            },
            "type": "contourcarpet"
           }
          ],
          "heatmap": [
           {
            "colorbar": {
             "outlinewidth": 0,
             "ticks": ""
            },
            "colorscale": [
             [
              0,
              "#0d0887"
             ],
             [
              0.1111111111111111,
              "#46039f"
             ],
             [
              0.2222222222222222,
              "#7201a8"
             ],
             [
              0.3333333333333333,
              "#9c179e"
             ],
             [
              0.4444444444444444,
              "#bd3786"
             ],
             [
              0.5555555555555556,
              "#d8576b"
             ],
             [
              0.6666666666666666,
              "#ed7953"
             ],
             [
              0.7777777777777778,
              "#fb9f3a"
             ],
             [
              0.8888888888888888,
              "#fdca26"
             ],
             [
              1,
              "#f0f921"
             ]
            ],
            "type": "heatmap"
           }
          ],
          "heatmapgl": [
           {
            "colorbar": {
             "outlinewidth": 0,
             "ticks": ""
            },
            "colorscale": [
             [
              0,
              "#0d0887"
             ],
             [
              0.1111111111111111,
              "#46039f"
             ],
             [
              0.2222222222222222,
              "#7201a8"
             ],
             [
              0.3333333333333333,
              "#9c179e"
             ],
             [
              0.4444444444444444,
              "#bd3786"
             ],
             [
              0.5555555555555556,
              "#d8576b"
             ],
             [
              0.6666666666666666,
              "#ed7953"
             ],
             [
              0.7777777777777778,
              "#fb9f3a"
             ],
             [
              0.8888888888888888,
              "#fdca26"
             ],
             [
              1,
              "#f0f921"
             ]
            ],
            "type": "heatmapgl"
           }
          ],
          "histogram": [
           {
            "marker": {
             "pattern": {
              "fillmode": "overlay",
              "size": 10,
              "solidity": 0.2
             }
            },
            "type": "histogram"
           }
          ],
          "histogram2d": [
           {
            "colorbar": {
             "outlinewidth": 0,
             "ticks": ""
            },
            "colorscale": [
             [
              0,
              "#0d0887"
             ],
             [
              0.1111111111111111,
              "#46039f"
             ],
             [
              0.2222222222222222,
              "#7201a8"
             ],
             [
              0.3333333333333333,
              "#9c179e"
             ],
             [
              0.4444444444444444,
              "#bd3786"
             ],
             [
              0.5555555555555556,
              "#d8576b"
             ],
             [
              0.6666666666666666,
              "#ed7953"
             ],
             [
              0.7777777777777778,
              "#fb9f3a"
             ],
             [
              0.8888888888888888,
              "#fdca26"
             ],
             [
              1,
              "#f0f921"
             ]
            ],
            "type": "histogram2d"
           }
          ],
          "histogram2dcontour": [
           {
            "colorbar": {
             "outlinewidth": 0,
             "ticks": ""
            },
            "colorscale": [
             [
              0,
              "#0d0887"
             ],
             [
              0.1111111111111111,
              "#46039f"
             ],
             [
              0.2222222222222222,
              "#7201a8"
             ],
             [
              0.3333333333333333,
              "#9c179e"
             ],
             [
              0.4444444444444444,
              "#bd3786"
             ],
             [
              0.5555555555555556,
              "#d8576b"
             ],
             [
              0.6666666666666666,
              "#ed7953"
             ],
             [
              0.7777777777777778,
              "#fb9f3a"
             ],
             [
              0.8888888888888888,
              "#fdca26"
             ],
             [
              1,
              "#f0f921"
             ]
            ],
            "type": "histogram2dcontour"
           }
          ],
          "mesh3d": [
           {
            "colorbar": {
             "outlinewidth": 0,
             "ticks": ""
            },
            "type": "mesh3d"
           }
          ],
          "parcoords": [
           {
            "line": {
             "colorbar": {
              "outlinewidth": 0,
              "ticks": ""
             }
            },
            "type": "parcoords"
           }
          ],
          "pie": [
           {
            "automargin": true,
            "type": "pie"
           }
          ],
          "scatter": [
           {
            "fillpattern": {
             "fillmode": "overlay",
             "size": 10,
             "solidity": 0.2
            },
            "type": "scatter"
           }
          ],
          "scatter3d": [
           {
            "line": {
             "colorbar": {
              "outlinewidth": 0,
              "ticks": ""
             }
            },
            "marker": {
             "colorbar": {
              "outlinewidth": 0,
              "ticks": ""
             }
            },
            "type": "scatter3d"
           }
          ],
          "scattercarpet": [
           {
            "marker": {
             "colorbar": {
              "outlinewidth": 0,
              "ticks": ""
             }
            },
            "type": "scattercarpet"
           }
          ],
          "scattergeo": [
           {
            "marker": {
             "colorbar": {
              "outlinewidth": 0,
              "ticks": ""
             }
            },
            "type": "scattergeo"
           }
          ],
          "scattergl": [
           {
            "marker": {
             "colorbar": {
              "outlinewidth": 0,
              "ticks": ""
             }
            },
            "type": "scattergl"
           }
          ],
          "scattermapbox": [
           {
            "marker": {
             "colorbar": {
              "outlinewidth": 0,
              "ticks": ""
             }
            },
            "type": "scattermapbox"
           }
          ],
          "scatterpolar": [
           {
            "marker": {
             "colorbar": {
              "outlinewidth": 0,
              "ticks": ""
             }
            },
            "type": "scatterpolar"
           }
          ],
          "scatterpolargl": [
           {
            "marker": {
             "colorbar": {
              "outlinewidth": 0,
              "ticks": ""
             }
            },
            "type": "scatterpolargl"
           }
          ],
          "scatterternary": [
           {
            "marker": {
             "colorbar": {
              "outlinewidth": 0,
              "ticks": ""
             }
            },
            "type": "scatterternary"
           }
          ],
          "surface": [
           {
            "colorbar": {
             "outlinewidth": 0,
             "ticks": ""
            },
            "colorscale": [
             [
              0,
              "#0d0887"
             ],
             [
              0.1111111111111111,
              "#46039f"
             ],
             [
              0.2222222222222222,
              "#7201a8"
             ],
             [
              0.3333333333333333,
              "#9c179e"
             ],
             [
              0.4444444444444444,
              "#bd3786"
             ],
             [
              0.5555555555555556,
              "#d8576b"
             ],
             [
              0.6666666666666666,
              "#ed7953"
             ],
             [
              0.7777777777777778,
              "#fb9f3a"
             ],
             [
              0.8888888888888888,
              "#fdca26"
             ],
             [
              1,
              "#f0f921"
             ]
            ],
            "type": "surface"
           }
          ],
          "table": [
           {
            "cells": {
             "fill": {
              "color": "#EBF0F8"
             },
             "line": {
              "color": "white"
             }
            },
            "header": {
             "fill": {
              "color": "#C8D4E3"
             },
             "line": {
              "color": "white"
             }
            },
            "type": "table"
           }
          ]
         },
         "layout": {
          "annotationdefaults": {
           "arrowcolor": "#2a3f5f",
           "arrowhead": 0,
           "arrowwidth": 1
          },
          "autotypenumbers": "strict",
          "coloraxis": {
           "colorbar": {
            "outlinewidth": 0,
            "ticks": ""
           }
          },
          "colorscale": {
           "diverging": [
            [
             0,
             "#8e0152"
            ],
            [
             0.1,
             "#c51b7d"
            ],
            [
             0.2,
             "#de77ae"
            ],
            [
             0.3,
             "#f1b6da"
            ],
            [
             0.4,
             "#fde0ef"
            ],
            [
             0.5,
             "#f7f7f7"
            ],
            [
             0.6,
             "#e6f5d0"
            ],
            [
             0.7,
             "#b8e186"
            ],
            [
             0.8,
             "#7fbc41"
            ],
            [
             0.9,
             "#4d9221"
            ],
            [
             1,
             "#276419"
            ]
           ],
           "sequential": [
            [
             0,
             "#0d0887"
            ],
            [
             0.1111111111111111,
             "#46039f"
            ],
            [
             0.2222222222222222,
             "#7201a8"
            ],
            [
             0.3333333333333333,
             "#9c179e"
            ],
            [
             0.4444444444444444,
             "#bd3786"
            ],
            [
             0.5555555555555556,
             "#d8576b"
            ],
            [
             0.6666666666666666,
             "#ed7953"
            ],
            [
             0.7777777777777778,
             "#fb9f3a"
            ],
            [
             0.8888888888888888,
             "#fdca26"
            ],
            [
             1,
             "#f0f921"
            ]
           ],
           "sequentialminus": [
            [
             0,
             "#0d0887"
            ],
            [
             0.1111111111111111,
             "#46039f"
            ],
            [
             0.2222222222222222,
             "#7201a8"
            ],
            [
             0.3333333333333333,
             "#9c179e"
            ],
            [
             0.4444444444444444,
             "#bd3786"
            ],
            [
             0.5555555555555556,
             "#d8576b"
            ],
            [
             0.6666666666666666,
             "#ed7953"
            ],
            [
             0.7777777777777778,
             "#fb9f3a"
            ],
            [
             0.8888888888888888,
             "#fdca26"
            ],
            [
             1,
             "#f0f921"
            ]
           ]
          },
          "colorway": [
           "#636efa",
           "#EF553B",
           "#00cc96",
           "#ab63fa",
           "#FFA15A",
           "#19d3f3",
           "#FF6692",
           "#B6E880",
           "#FF97FF",
           "#FECB52"
          ],
          "font": {
           "color": "#2a3f5f"
          },
          "geo": {
           "bgcolor": "white",
           "lakecolor": "white",
           "landcolor": "#E5ECF6",
           "showlakes": true,
           "showland": true,
           "subunitcolor": "white"
          },
          "hoverlabel": {
           "align": "left"
          },
          "hovermode": "closest",
          "mapbox": {
           "style": "light"
          },
          "paper_bgcolor": "white",
          "plot_bgcolor": "#E5ECF6",
          "polar": {
           "angularaxis": {
            "gridcolor": "white",
            "linecolor": "white",
            "ticks": ""
           },
           "bgcolor": "#E5ECF6",
           "radialaxis": {
            "gridcolor": "white",
            "linecolor": "white",
            "ticks": ""
           }
          },
          "scene": {
           "xaxis": {
            "backgroundcolor": "#E5ECF6",
            "gridcolor": "white",
            "gridwidth": 2,
            "linecolor": "white",
            "showbackground": true,
            "ticks": "",
            "zerolinecolor": "white"
           },
           "yaxis": {
            "backgroundcolor": "#E5ECF6",
            "gridcolor": "white",
            "gridwidth": 2,
            "linecolor": "white",
            "showbackground": true,
            "ticks": "",
            "zerolinecolor": "white"
           },
           "zaxis": {
            "backgroundcolor": "#E5ECF6",
            "gridcolor": "white",
            "gridwidth": 2,
            "linecolor": "white",
            "showbackground": true,
            "ticks": "",
            "zerolinecolor": "white"
           }
          },
          "shapedefaults": {
           "line": {
            "color": "#2a3f5f"
           }
          },
          "ternary": {
           "aaxis": {
            "gridcolor": "white",
            "linecolor": "white",
            "ticks": ""
           },
           "baxis": {
            "gridcolor": "white",
            "linecolor": "white",
            "ticks": ""
           },
           "bgcolor": "#E5ECF6",
           "caxis": {
            "gridcolor": "white",
            "linecolor": "white",
            "ticks": ""
           }
          },
          "title": {
           "x": 0.05
          },
          "xaxis": {
           "automargin": true,
           "gridcolor": "white",
           "linecolor": "white",
           "ticks": "",
           "title": {
            "standoff": 15
           },
           "zerolinecolor": "white",
           "zerolinewidth": 2
          },
          "yaxis": {
           "automargin": true,
           "gridcolor": "white",
           "linecolor": "white",
           "ticks": "",
           "title": {
            "standoff": 15
           },
           "zerolinecolor": "white",
           "zerolinewidth": 2
          }
         }
        },
        "title": {
         "font": {
          "color": "#4D5663"
         }
        },
        "xaxis": {
         "gridcolor": "#E1E5ED",
         "showgrid": true,
         "tickfont": {
          "color": "#4D5663"
         },
         "title": {
          "font": {
           "color": "#4D5663"
          },
          "text": ""
         },
         "zerolinecolor": "#E1E5ED"
        },
        "yaxis": {
         "gridcolor": "#E1E5ED",
         "showgrid": true,
         "tickfont": {
          "color": "#4D5663"
         },
         "title": {
          "font": {
           "color": "#4D5663"
          },
          "text": ""
         },
         "zerolinecolor": "#E1E5ED"
        }
       }
      },
      "text/html": [
       "<div>                            <div id=\"0e7eb029-4815-4665-945d-c144934befbf\" class=\"plotly-graph-div\" style=\"height:525px; width:100%;\"></div>            <script type=\"text/javascript\">                require([\"plotly\"], function(Plotly) {                    window.PLOTLYENV=window.PLOTLYENV || {};\n",
       "                    window.PLOTLYENV.BASE_URL='https://plot.ly';                                    if (document.getElementById(\"0e7eb029-4815-4665-945d-c144934befbf\")) {                    Plotly.newPlot(                        \"0e7eb029-4815-4665-945d-c144934befbf\",                        [{\"line\":{\"color\":\"rgba(255, 153, 51, 1.0)\",\"dash\":\"solid\",\"shape\":\"linear\",\"width\":1.3},\"mode\":\"lines\",\"name\":\"None\",\"text\":\"\",\"x\":[\"A\",\"B\",\"C\",\"D\"],\"y\":[100,100,100,100],\"type\":\"scatter\"}],                        {\"legend\":{\"bgcolor\":\"#F5F6F9\",\"font\":{\"color\":\"#4D5663\"}},\"paper_bgcolor\":\"#F5F6F9\",\"plot_bgcolor\":\"#F5F6F9\",\"template\":{\"data\":{\"barpolar\":[{\"marker\":{\"line\":{\"color\":\"#E5ECF6\",\"width\":0.5},\"pattern\":{\"fillmode\":\"overlay\",\"size\":10,\"solidity\":0.2}},\"type\":\"barpolar\"}],\"bar\":[{\"error_x\":{\"color\":\"#2a3f5f\"},\"error_y\":{\"color\":\"#2a3f5f\"},\"marker\":{\"line\":{\"color\":\"#E5ECF6\",\"width\":0.5},\"pattern\":{\"fillmode\":\"overlay\",\"size\":10,\"solidity\":0.2}},\"type\":\"bar\"}],\"carpet\":[{\"aaxis\":{\"endlinecolor\":\"#2a3f5f\",\"gridcolor\":\"white\",\"linecolor\":\"white\",\"minorgridcolor\":\"white\",\"startlinecolor\":\"#2a3f5f\"},\"baxis\":{\"endlinecolor\":\"#2a3f5f\",\"gridcolor\":\"white\",\"linecolor\":\"white\",\"minorgridcolor\":\"white\",\"startlinecolor\":\"#2a3f5f\"},\"type\":\"carpet\"}],\"choropleth\":[{\"colorbar\":{\"outlinewidth\":0,\"ticks\":\"\"},\"type\":\"choropleth\"}],\"contourcarpet\":[{\"colorbar\":{\"outlinewidth\":0,\"ticks\":\"\"},\"type\":\"contourcarpet\"}],\"contour\":[{\"colorbar\":{\"outlinewidth\":0,\"ticks\":\"\"},\"colorscale\":[[0.0,\"#0d0887\"],[0.1111111111111111,\"#46039f\"],[0.2222222222222222,\"#7201a8\"],[0.3333333333333333,\"#9c179e\"],[0.4444444444444444,\"#bd3786\"],[0.5555555555555556,\"#d8576b\"],[0.6666666666666666,\"#ed7953\"],[0.7777777777777778,\"#fb9f3a\"],[0.8888888888888888,\"#fdca26\"],[1.0,\"#f0f921\"]],\"type\":\"contour\"}],\"heatmapgl\":[{\"colorbar\":{\"outlinewidth\":0,\"ticks\":\"\"},\"colorscale\":[[0.0,\"#0d0887\"],[0.1111111111111111,\"#46039f\"],[0.2222222222222222,\"#7201a8\"],[0.3333333333333333,\"#9c179e\"],[0.4444444444444444,\"#bd3786\"],[0.5555555555555556,\"#d8576b\"],[0.6666666666666666,\"#ed7953\"],[0.7777777777777778,\"#fb9f3a\"],[0.8888888888888888,\"#fdca26\"],[1.0,\"#f0f921\"]],\"type\":\"heatmapgl\"}],\"heatmap\":[{\"colorbar\":{\"outlinewidth\":0,\"ticks\":\"\"},\"colorscale\":[[0.0,\"#0d0887\"],[0.1111111111111111,\"#46039f\"],[0.2222222222222222,\"#7201a8\"],[0.3333333333333333,\"#9c179e\"],[0.4444444444444444,\"#bd3786\"],[0.5555555555555556,\"#d8576b\"],[0.6666666666666666,\"#ed7953\"],[0.7777777777777778,\"#fb9f3a\"],[0.8888888888888888,\"#fdca26\"],[1.0,\"#f0f921\"]],\"type\":\"heatmap\"}],\"histogram2dcontour\":[{\"colorbar\":{\"outlinewidth\":0,\"ticks\":\"\"},\"colorscale\":[[0.0,\"#0d0887\"],[0.1111111111111111,\"#46039f\"],[0.2222222222222222,\"#7201a8\"],[0.3333333333333333,\"#9c179e\"],[0.4444444444444444,\"#bd3786\"],[0.5555555555555556,\"#d8576b\"],[0.6666666666666666,\"#ed7953\"],[0.7777777777777778,\"#fb9f3a\"],[0.8888888888888888,\"#fdca26\"],[1.0,\"#f0f921\"]],\"type\":\"histogram2dcontour\"}],\"histogram2d\":[{\"colorbar\":{\"outlinewidth\":0,\"ticks\":\"\"},\"colorscale\":[[0.0,\"#0d0887\"],[0.1111111111111111,\"#46039f\"],[0.2222222222222222,\"#7201a8\"],[0.3333333333333333,\"#9c179e\"],[0.4444444444444444,\"#bd3786\"],[0.5555555555555556,\"#d8576b\"],[0.6666666666666666,\"#ed7953\"],[0.7777777777777778,\"#fb9f3a\"],[0.8888888888888888,\"#fdca26\"],[1.0,\"#f0f921\"]],\"type\":\"histogram2d\"}],\"histogram\":[{\"marker\":{\"pattern\":{\"fillmode\":\"overlay\",\"size\":10,\"solidity\":0.2}},\"type\":\"histogram\"}],\"mesh3d\":[{\"colorbar\":{\"outlinewidth\":0,\"ticks\":\"\"},\"type\":\"mesh3d\"}],\"parcoords\":[{\"line\":{\"colorbar\":{\"outlinewidth\":0,\"ticks\":\"\"}},\"type\":\"parcoords\"}],\"pie\":[{\"automargin\":true,\"type\":\"pie\"}],\"scatter3d\":[{\"line\":{\"colorbar\":{\"outlinewidth\":0,\"ticks\":\"\"}},\"marker\":{\"colorbar\":{\"outlinewidth\":0,\"ticks\":\"\"}},\"type\":\"scatter3d\"}],\"scattercarpet\":[{\"marker\":{\"colorbar\":{\"outlinewidth\":0,\"ticks\":\"\"}},\"type\":\"scattercarpet\"}],\"scattergeo\":[{\"marker\":{\"colorbar\":{\"outlinewidth\":0,\"ticks\":\"\"}},\"type\":\"scattergeo\"}],\"scattergl\":[{\"marker\":{\"colorbar\":{\"outlinewidth\":0,\"ticks\":\"\"}},\"type\":\"scattergl\"}],\"scattermapbox\":[{\"marker\":{\"colorbar\":{\"outlinewidth\":0,\"ticks\":\"\"}},\"type\":\"scattermapbox\"}],\"scatterpolargl\":[{\"marker\":{\"colorbar\":{\"outlinewidth\":0,\"ticks\":\"\"}},\"type\":\"scatterpolargl\"}],\"scatterpolar\":[{\"marker\":{\"colorbar\":{\"outlinewidth\":0,\"ticks\":\"\"}},\"type\":\"scatterpolar\"}],\"scatter\":[{\"fillpattern\":{\"fillmode\":\"overlay\",\"size\":10,\"solidity\":0.2},\"type\":\"scatter\"}],\"scatterternary\":[{\"marker\":{\"colorbar\":{\"outlinewidth\":0,\"ticks\":\"\"}},\"type\":\"scatterternary\"}],\"surface\":[{\"colorbar\":{\"outlinewidth\":0,\"ticks\":\"\"},\"colorscale\":[[0.0,\"#0d0887\"],[0.1111111111111111,\"#46039f\"],[0.2222222222222222,\"#7201a8\"],[0.3333333333333333,\"#9c179e\"],[0.4444444444444444,\"#bd3786\"],[0.5555555555555556,\"#d8576b\"],[0.6666666666666666,\"#ed7953\"],[0.7777777777777778,\"#fb9f3a\"],[0.8888888888888888,\"#fdca26\"],[1.0,\"#f0f921\"]],\"type\":\"surface\"}],\"table\":[{\"cells\":{\"fill\":{\"color\":\"#EBF0F8\"},\"line\":{\"color\":\"white\"}},\"header\":{\"fill\":{\"color\":\"#C8D4E3\"},\"line\":{\"color\":\"white\"}},\"type\":\"table\"}]},\"layout\":{\"annotationdefaults\":{\"arrowcolor\":\"#2a3f5f\",\"arrowhead\":0,\"arrowwidth\":1},\"autotypenumbers\":\"strict\",\"coloraxis\":{\"colorbar\":{\"outlinewidth\":0,\"ticks\":\"\"}},\"colorscale\":{\"diverging\":[[0,\"#8e0152\"],[0.1,\"#c51b7d\"],[0.2,\"#de77ae\"],[0.3,\"#f1b6da\"],[0.4,\"#fde0ef\"],[0.5,\"#f7f7f7\"],[0.6,\"#e6f5d0\"],[0.7,\"#b8e186\"],[0.8,\"#7fbc41\"],[0.9,\"#4d9221\"],[1,\"#276419\"]],\"sequential\":[[0.0,\"#0d0887\"],[0.1111111111111111,\"#46039f\"],[0.2222222222222222,\"#7201a8\"],[0.3333333333333333,\"#9c179e\"],[0.4444444444444444,\"#bd3786\"],[0.5555555555555556,\"#d8576b\"],[0.6666666666666666,\"#ed7953\"],[0.7777777777777778,\"#fb9f3a\"],[0.8888888888888888,\"#fdca26\"],[1.0,\"#f0f921\"]],\"sequentialminus\":[[0.0,\"#0d0887\"],[0.1111111111111111,\"#46039f\"],[0.2222222222222222,\"#7201a8\"],[0.3333333333333333,\"#9c179e\"],[0.4444444444444444,\"#bd3786\"],[0.5555555555555556,\"#d8576b\"],[0.6666666666666666,\"#ed7953\"],[0.7777777777777778,\"#fb9f3a\"],[0.8888888888888888,\"#fdca26\"],[1.0,\"#f0f921\"]]},\"colorway\":[\"#636efa\",\"#EF553B\",\"#00cc96\",\"#ab63fa\",\"#FFA15A\",\"#19d3f3\",\"#FF6692\",\"#B6E880\",\"#FF97FF\",\"#FECB52\"],\"font\":{\"color\":\"#2a3f5f\"},\"geo\":{\"bgcolor\":\"white\",\"lakecolor\":\"white\",\"landcolor\":\"#E5ECF6\",\"showlakes\":true,\"showland\":true,\"subunitcolor\":\"white\"},\"hoverlabel\":{\"align\":\"left\"},\"hovermode\":\"closest\",\"mapbox\":{\"style\":\"light\"},\"paper_bgcolor\":\"white\",\"plot_bgcolor\":\"#E5ECF6\",\"polar\":{\"angularaxis\":{\"gridcolor\":\"white\",\"linecolor\":\"white\",\"ticks\":\"\"},\"bgcolor\":\"#E5ECF6\",\"radialaxis\":{\"gridcolor\":\"white\",\"linecolor\":\"white\",\"ticks\":\"\"}},\"scene\":{\"xaxis\":{\"backgroundcolor\":\"#E5ECF6\",\"gridcolor\":\"white\",\"gridwidth\":2,\"linecolor\":\"white\",\"showbackground\":true,\"ticks\":\"\",\"zerolinecolor\":\"white\"},\"yaxis\":{\"backgroundcolor\":\"#E5ECF6\",\"gridcolor\":\"white\",\"gridwidth\":2,\"linecolor\":\"white\",\"showbackground\":true,\"ticks\":\"\",\"zerolinecolor\":\"white\"},\"zaxis\":{\"backgroundcolor\":\"#E5ECF6\",\"gridcolor\":\"white\",\"gridwidth\":2,\"linecolor\":\"white\",\"showbackground\":true,\"ticks\":\"\",\"zerolinecolor\":\"white\"}},\"shapedefaults\":{\"line\":{\"color\":\"#2a3f5f\"}},\"ternary\":{\"aaxis\":{\"gridcolor\":\"white\",\"linecolor\":\"white\",\"ticks\":\"\"},\"baxis\":{\"gridcolor\":\"white\",\"linecolor\":\"white\",\"ticks\":\"\"},\"bgcolor\":\"#E5ECF6\",\"caxis\":{\"gridcolor\":\"white\",\"linecolor\":\"white\",\"ticks\":\"\"}},\"title\":{\"x\":0.05},\"xaxis\":{\"automargin\":true,\"gridcolor\":\"white\",\"linecolor\":\"white\",\"ticks\":\"\",\"title\":{\"standoff\":15},\"zerolinecolor\":\"white\",\"zerolinewidth\":2},\"yaxis\":{\"automargin\":true,\"gridcolor\":\"white\",\"linecolor\":\"white\",\"ticks\":\"\",\"title\":{\"standoff\":15},\"zerolinecolor\":\"white\",\"zerolinewidth\":2}}},\"title\":{\"font\":{\"color\":\"#4D5663\"}},\"xaxis\":{\"gridcolor\":\"#E1E5ED\",\"showgrid\":true,\"tickfont\":{\"color\":\"#4D5663\"},\"title\":{\"font\":{\"color\":\"#4D5663\"},\"text\":\"\"},\"zerolinecolor\":\"#E1E5ED\"},\"yaxis\":{\"gridcolor\":\"#E1E5ED\",\"showgrid\":true,\"tickfont\":{\"color\":\"#4D5663\"},\"title\":{\"font\":{\"color\":\"#4D5663\"},\"text\":\"\"},\"zerolinecolor\":\"#E1E5ED\"}},                        {\"showLink\": true, \"linkText\": \"Export to plot.ly\", \"plotlyServerURL\": \"https://plot.ly\", \"responsive\": true}                    ).then(function(){\n",
       "                            \n",
       "var gd = document.getElementById('0e7eb029-4815-4665-945d-c144934befbf');\n",
       "var x = new MutationObserver(function (mutations, observer) {{\n",
       "        var display = window.getComputedStyle(gd).display;\n",
       "        if (!display || display === 'none') {{\n",
       "            console.log([gd, 'removed!']);\n",
       "            Plotly.purge(gd);\n",
       "            observer.disconnect();\n",
       "        }}\n",
       "}});\n",
       "\n",
       "// Listen for the removal of the full notebook cells\n",
       "var notebookContainer = gd.closest('#notebook-container');\n",
       "if (notebookContainer) {{\n",
       "    x.observe(notebookContainer, {childList: true});\n",
       "}}\n",
       "\n",
       "// Listen for the clearing of the current output cell\n",
       "var outputEl = gd.closest('.output');\n",
       "if (outputEl) {{\n",
       "    x.observe(outputEl, {childList: true});\n",
       "}}\n",
       "\n",
       "                        })                };                });            </script>        </div>"
      ]
     },
     "metadata": {},
     "output_type": "display_data"
    }
   ],
   "source": [
    "df.count().iplot()"
   ]
  },
  {
   "cell_type": "code",
   "execution_count": 18,
   "id": "66f575f2-f70d-4b97-862a-7b294fbb2411",
   "metadata": {},
   "outputs": [
    {
     "data": {
      "application/vnd.plotly.v1+json": {
       "config": {
        "linkText": "Export to plot.ly",
        "plotlyServerURL": "https://plot.ly",
        "showLink": true
       },
       "data": [
        {
         "boxpoints": false,
         "line": {
          "width": 1.3
         },
         "marker": {
          "color": "rgba(255, 153, 51, 1.0)"
         },
         "name": "A",
         "orientation": "v",
         "type": "box",
         "y": [
          1.2336395877706994,
          -0.048615295932523526,
          0.25099671508100824,
          -0.1192462297098814,
          -0.2608481410248185,
          -0.06471520395729977,
          0.6259498930158807,
          0.12224421427601183,
          0.9324539075586492,
          1.070141475329659,
          0.5285224800201517,
          -0.24958849117359538,
          -0.29752102945104475,
          -0.6454103565063174,
          0.10442728647747394,
          -0.39378093189513375,
          -0.41399385767203517,
          -2.3312026081324517,
          0.31942537204183175,
          -1.4169774002817863,
          -1.377837148359218,
          -0.8064637395522112,
          3.3046701681598245,
          0.3249459378005792,
          0.3650097454990451,
          0.02065115131120758,
          1.2133373411044714,
          0.13608566784413764,
          -1.082375661287402,
          0.21276340210915654,
          -0.541233499690844,
          1.0120991433643813,
          -0.18508374419786647,
          -0.5156638362473296,
          -0.0645236069411833,
          0.34718435927735686,
          -1.1135794845678495,
          -0.9176904249407741,
          3.0705934949711446,
          1.4086638090114365,
          0.2562168360363639,
          -1.7164372878789915,
          0.22716733957708662,
          -1.4865304220381552,
          -0.483176954304673,
          2.802666688554588,
          -1.1253381606030017,
          -0.6915062924050371,
          0.7247609199197345,
          1.2275235702973804,
          -0.22318512888589181,
          -0.3132358939336809,
          -1.6040305545083373,
          1.8458126184513648,
          -0.8154253140752616,
          -0.2256614370869709,
          1.2978362803458532,
          0.14007647039884705,
          -0.20458602765483533,
          -0.2703209024985795,
          -0.2654081193656234,
          0.2202236850078853,
          0.14962062952118016,
          -0.9932677026925171,
          1.4271803455705308,
          0.43146018054188895,
          0.22187226163578996,
          1.7326906445715977,
          0.08548903032789677,
          -0.9295010484556132,
          0.5475247339146619,
          0.12447547676253774,
          -0.29634372342151055,
          -1.0253146544479361,
          0.3421818204421844,
          0.3688861723184149,
          0.03492725922143807,
          -0.31362123305608436,
          0.24375801240034217,
          0.4269918051686339,
          -0.23890978405914443,
          -1.7877295632810428,
          -0.16004350029481743,
          -0.3352782257640638,
          0.9857046637192217,
          -0.831237642919192,
          0.3361311145496733,
          0.7589545074594741,
          0.1781577265576734,
          -1.6752858972755533,
          -1.2041662102497588,
          -0.6653978729777915,
          0.3275641601449004,
          1.1634374896765034,
          -0.12556238527553262,
          0.11262507359259387,
          -0.13497569861698266,
          -1.3005004618063705,
          -1.4015847136640596,
          -0.7130959437805059
         ]
        },
        {
         "boxpoints": false,
         "line": {
          "width": 1.3
         },
         "marker": {
          "color": "rgba(55, 128, 191, 1.0)"
         },
         "name": "B",
         "orientation": "v",
         "type": "box",
         "y": [
          -1.9022065685510319,
          -2.1358854266589624,
          0.15731369215411856,
          -0.5116965050067188,
          -1.016778500304455,
          -0.07152395582692508,
          -0.6287641264563816,
          0.8116557648643434,
          -0.7109323439808468,
          -0.717033813927751,
          1.3316196542841683,
          -0.6310880219508661,
          2.5874251211580503,
          0.2644218892403224,
          -0.35142315852607764,
          0.2922499094243876,
          0.38465151313280316,
          0.4796526662506324,
          -0.692821516591526,
          -0.744210867455073,
          1.7066955696594042,
          0.21510833265147353,
          0.21771786641689403,
          -0.014642454292073627,
          1.1895312175510309,
          -1.3459717202535904,
          0.8467885453665221,
          -0.3114575850495862,
          1.030590665567906,
          -1.3999658924835772,
          0.3257603132932959,
          0.6586054996837076,
          -1.8464148734907193,
          -1.611694363967646,
          1.3087935975821354,
          -0.7122544344002926,
          -1.4202540474598107,
          -0.06956475576311448,
          -2.9681640089507857,
          0.31351528648144794,
          1.19697663227665,
          -0.06858255920050399,
          0.6949733405235001,
          0.12072343848660112,
          -0.9717122892437534,
          -0.6664128392375659,
          1.187574085544821,
          -2.1002353959673896,
          -1.0640523429911906,
          -0.6086697081559084,
          0.9148357188130085,
          -0.5189278497433476,
          -0.10464004777836514,
          0.5441484352640663,
          -1.101107079520376,
          0.104551275657519,
          -0.8641663897108429,
          -0.5439274802275234,
          0.7001541532162037,
          1.4695162149737615,
          -0.2926165781490387,
          -1.4279237442435446,
          1.0361323352789527,
          -0.988429236318292,
          -1.7599933184757448,
          -0.2972367314119232,
          -2.211370194384513,
          -0.6616248315376154,
          0.0006914603293870927,
          0.14312271204237148,
          1.037395383748161,
          0.635085681475714,
          -1.2801277743573918,
          -0.22485334081701447,
          -0.10709203797243241,
          1.0903950904507504,
          0.9498423697670688,
          -0.7566860215157124,
          -1.3185193689652943,
          0.3067433056702688,
          -0.1868825475446146,
          0.3227653992788982,
          1.1239897541025106,
          -0.85444767818716,
          -1.6535091941092632,
          0.733284060047493,
          2.2098470730160282,
          -0.939844915630386,
          -0.8269920694055485,
          -0.42477083179568426,
          0.6469222732434078,
          -0.6554123928641302,
          -0.6036906296788903,
          0.5121986984319296,
          -0.155322734625543,
          -0.5053751854186547,
          1.5239366853625391,
          2.047004505696809,
          -0.889866678505674,
          -0.29066447432594056
         ]
        },
        {
         "boxpoints": false,
         "line": {
          "width": 1.3
         },
         "marker": {
          "color": "rgba(50, 171, 96, 1.0)"
         },
         "name": "C",
         "orientation": "v",
         "type": "box",
         "y": [
          -0.1203462884061267,
          0.5205279603467541,
          1.6373721075195362,
          -0.14001172540804252,
          -2.674526145949805,
          0.0060677952583331595,
          -0.36622141484787113,
          -0.3924691468775285,
          0.8187257721064172,
          0.1185503907691811,
          -0.37297303762445855,
          -1.6126198259434936,
          0.8055375830516811,
          -0.5815984942374339,
          0.040794232049147824,
          -0.7873720664669202,
          -0.9516601915292413,
          1.1708829641717016,
          -1.0625150876152059,
          -0.4734598653816264,
          0.020844288576887166,
          -0.5697978532084147,
          0.3565820144230457,
          1.820986073532006,
          1.4103113009750812,
          -1.7578109576002183,
          0.6709490023049436,
          0.008710251602917883,
          -0.773908539594359,
          -0.10014921864482632,
          -1.1716662189760036,
          0.29748910841497217,
          1.4776251769729372,
          1.183711913190866,
          2.1046294893212183,
          0.33110363182786,
          1.3344659806224215,
          1.8669795338211328,
          -0.012674719960820802,
          0.3353224417080831,
          -0.8938456560251395,
          1.349121947598761,
          -2.4668115500134604,
          -1.1343925646877768,
          0.7660135522102507,
          -1.894330434749525,
          1.0140598332520745,
          1.2251843566973422,
          1.3874540311000108,
          0.11613591889194066,
          0.6811998510774827,
          -0.003533500739982704,
          0.014043824794410449,
          0.8636826602039034,
          -0.09100737893510782,
          -0.3436212806984299,
          0.006330301142763871,
          -0.099095793672755,
          -0.1839519025908113,
          1.5114741560438218,
          1.5021416621159007,
          1.1316060961136667,
          0.47634816595092005,
          -0.02420736315846384,
          0.19146131590129634,
          -0.31328367857691203,
          1.0808712383709749,
          -0.6668787968573957,
          0.7454378983322235,
          1.999036412148163,
          -1.19456697341481,
          -1.3397299896229375,
          -0.7069445506278457,
          -1.1013728437884975,
          -0.8333255588513151,
          0.025974722278596454,
          -0.013213216415298332,
          -0.5061130216172286,
          -0.08568735907262445,
          0.15249405867403465,
          0.6685429101785701,
          -0.6466830779456247,
          -2.223865800634014,
          0.5250073416429717,
          1.3078913993187256,
          -0.4438988321629713,
          -0.2216433743572602,
          -0.7528012152474951,
          0.5559777490354014,
          1.432791441296771,
          -2.520946937340112,
          -0.10521346693173139,
          -0.9596541368646575,
          0.018988384229541255,
          -0.3840057386571683,
          -1.177590721918723,
          1.0049781334061278,
          1.1088783448204909,
          -0.04577751906561806,
          0.162583504981171
         ]
        },
        {
         "boxpoints": false,
         "line": {
          "width": 1.3
         },
         "marker": {
          "color": "rgba(128, 0, 128, 1.0)"
         },
         "name": "D",
         "orientation": "v",
         "type": "box",
         "y": [
          -1.7567658157148927,
          -0.5901672254907833,
          -0.13664244385952085,
          -0.19653874796921839,
          -1.9511887501088818,
          1.3146435520150057,
          0.36862001272181294,
          -0.32346308637305865,
          -1.590444873222024,
          -0.25937836983757784,
          -0.2735276031871359,
          -2.060527915183689,
          -1.7230501121389559,
          -1.634601603572378,
          0.2217676484698342,
          0.4506887987078977,
          1.6405211037154424,
          0.3111918085082636,
          -1.4532524451622628,
          1.7836899168588702,
          -0.19195765676538254,
          -0.4452316278621485,
          1.1385268168816403,
          0.6498514520424518,
          -1.0805329991577612,
          -1.021004206939174,
          -1.0866315505218085,
          -0.14529022135568864,
          -1.986553870720136,
          -0.12362608258679714,
          0.7381764775245226,
          -1.4981099343634754,
          -1.3089903362617425,
          0.08660061096738925,
          -1.493762693790531,
          0.20287152608325598,
          -0.6600834177574529,
          -0.8705499827087052,
          -0.5321580827832789,
          0.1317813490014566,
          -1.7971861233158488,
          -0.03135291942911883,
          -0.5516341287552158,
          1.2775198455453443,
          0.48724250557753745,
          0.786822987160542,
          -0.13263198827278552,
          -0.39351506331500513,
          -0.05297070899342627,
          -0.8425429113716089,
          -0.9248670315260388,
          0.036872824956346494,
          1.0660878322634422,
          -0.24696381545849877,
          -1.0873803701063092,
          1.4996726338425603,
          -0.48256070497159864,
          0.7316450161836825,
          -0.8273960611272215,
          -0.17975816587564092,
          -1.7269653257375341,
          2.6691746650222834,
          0.6805526528012904,
          0.42202296251362176,
          0.40006582399723906,
          -1.5995278766058656,
          1.6730502172282378,
          -0.12965220173365527,
          1.4783673600532836,
          2.1826575486473065,
          1.1959971847804978,
          0.6666164036985821,
          0.5947819722052156,
          -0.2807647451558486,
          0.48707441883058644,
          0.37345360025214513,
          -1.249811354030153,
          1.6599410087348472,
          0.3319812753593216,
          -0.39093031838968195,
          0.6872089705060264,
          -0.48157934598860985,
          -0.7491761665230465,
          -0.42963505174509836,
          0.4363773992487627,
          0.5813295719780832,
          -2.1426769022662358,
          -0.6505585364801885,
          -0.9307237075318577,
          -0.22633137111629026,
          1.4585314303541639,
          2.4519017790717665,
          -0.6376561712316466,
          -0.691985452968969,
          0.4675037123446964,
          1.722835490148828,
          1.7747540039181924,
          1.3636474988664646,
          0.13173216302677304,
          0.6674998159581864
         ]
        }
       ],
       "layout": {
        "legend": {
         "bgcolor": "#F5F6F9",
         "font": {
          "color": "#4D5663"
         }
        },
        "paper_bgcolor": "#F5F6F9",
        "plot_bgcolor": "#F5F6F9",
        "template": {
         "data": {
          "bar": [
           {
            "error_x": {
             "color": "#2a3f5f"
            },
            "error_y": {
             "color": "#2a3f5f"
            },
            "marker": {
             "line": {
              "color": "#E5ECF6",
              "width": 0.5
             },
             "pattern": {
              "fillmode": "overlay",
              "size": 10,
              "solidity": 0.2
             }
            },
            "type": "bar"
           }
          ],
          "barpolar": [
           {
            "marker": {
             "line": {
              "color": "#E5ECF6",
              "width": 0.5
             },
             "pattern": {
              "fillmode": "overlay",
              "size": 10,
              "solidity": 0.2
             }
            },
            "type": "barpolar"
           }
          ],
          "carpet": [
           {
            "aaxis": {
             "endlinecolor": "#2a3f5f",
             "gridcolor": "white",
             "linecolor": "white",
             "minorgridcolor": "white",
             "startlinecolor": "#2a3f5f"
            },
            "baxis": {
             "endlinecolor": "#2a3f5f",
             "gridcolor": "white",
             "linecolor": "white",
             "minorgridcolor": "white",
             "startlinecolor": "#2a3f5f"
            },
            "type": "carpet"
           }
          ],
          "choropleth": [
           {
            "colorbar": {
             "outlinewidth": 0,
             "ticks": ""
            },
            "type": "choropleth"
           }
          ],
          "contour": [
           {
            "colorbar": {
             "outlinewidth": 0,
             "ticks": ""
            },
            "colorscale": [
             [
              0,
              "#0d0887"
             ],
             [
              0.1111111111111111,
              "#46039f"
             ],
             [
              0.2222222222222222,
              "#7201a8"
             ],
             [
              0.3333333333333333,
              "#9c179e"
             ],
             [
              0.4444444444444444,
              "#bd3786"
             ],
             [
              0.5555555555555556,
              "#d8576b"
             ],
             [
              0.6666666666666666,
              "#ed7953"
             ],
             [
              0.7777777777777778,
              "#fb9f3a"
             ],
             [
              0.8888888888888888,
              "#fdca26"
             ],
             [
              1,
              "#f0f921"
             ]
            ],
            "type": "contour"
           }
          ],
          "contourcarpet": [
           {
            "colorbar": {
             "outlinewidth": 0,
             "ticks": ""
            },
            "type": "contourcarpet"
           }
          ],
          "heatmap": [
           {
            "colorbar": {
             "outlinewidth": 0,
             "ticks": ""
            },
            "colorscale": [
             [
              0,
              "#0d0887"
             ],
             [
              0.1111111111111111,
              "#46039f"
             ],
             [
              0.2222222222222222,
              "#7201a8"
             ],
             [
              0.3333333333333333,
              "#9c179e"
             ],
             [
              0.4444444444444444,
              "#bd3786"
             ],
             [
              0.5555555555555556,
              "#d8576b"
             ],
             [
              0.6666666666666666,
              "#ed7953"
             ],
             [
              0.7777777777777778,
              "#fb9f3a"
             ],
             [
              0.8888888888888888,
              "#fdca26"
             ],
             [
              1,
              "#f0f921"
             ]
            ],
            "type": "heatmap"
           }
          ],
          "heatmapgl": [
           {
            "colorbar": {
             "outlinewidth": 0,
             "ticks": ""
            },
            "colorscale": [
             [
              0,
              "#0d0887"
             ],
             [
              0.1111111111111111,
              "#46039f"
             ],
             [
              0.2222222222222222,
              "#7201a8"
             ],
             [
              0.3333333333333333,
              "#9c179e"
             ],
             [
              0.4444444444444444,
              "#bd3786"
             ],
             [
              0.5555555555555556,
              "#d8576b"
             ],
             [
              0.6666666666666666,
              "#ed7953"
             ],
             [
              0.7777777777777778,
              "#fb9f3a"
             ],
             [
              0.8888888888888888,
              "#fdca26"
             ],
             [
              1,
              "#f0f921"
             ]
            ],
            "type": "heatmapgl"
           }
          ],
          "histogram": [
           {
            "marker": {
             "pattern": {
              "fillmode": "overlay",
              "size": 10,
              "solidity": 0.2
             }
            },
            "type": "histogram"
           }
          ],
          "histogram2d": [
           {
            "colorbar": {
             "outlinewidth": 0,
             "ticks": ""
            },
            "colorscale": [
             [
              0,
              "#0d0887"
             ],
             [
              0.1111111111111111,
              "#46039f"
             ],
             [
              0.2222222222222222,
              "#7201a8"
             ],
             [
              0.3333333333333333,
              "#9c179e"
             ],
             [
              0.4444444444444444,
              "#bd3786"
             ],
             [
              0.5555555555555556,
              "#d8576b"
             ],
             [
              0.6666666666666666,
              "#ed7953"
             ],
             [
              0.7777777777777778,
              "#fb9f3a"
             ],
             [
              0.8888888888888888,
              "#fdca26"
             ],
             [
              1,
              "#f0f921"
             ]
            ],
            "type": "histogram2d"
           }
          ],
          "histogram2dcontour": [
           {
            "colorbar": {
             "outlinewidth": 0,
             "ticks": ""
            },
            "colorscale": [
             [
              0,
              "#0d0887"
             ],
             [
              0.1111111111111111,
              "#46039f"
             ],
             [
              0.2222222222222222,
              "#7201a8"
             ],
             [
              0.3333333333333333,
              "#9c179e"
             ],
             [
              0.4444444444444444,
              "#bd3786"
             ],
             [
              0.5555555555555556,
              "#d8576b"
             ],
             [
              0.6666666666666666,
              "#ed7953"
             ],
             [
              0.7777777777777778,
              "#fb9f3a"
             ],
             [
              0.8888888888888888,
              "#fdca26"
             ],
             [
              1,
              "#f0f921"
             ]
            ],
            "type": "histogram2dcontour"
           }
          ],
          "mesh3d": [
           {
            "colorbar": {
             "outlinewidth": 0,
             "ticks": ""
            },
            "type": "mesh3d"
           }
          ],
          "parcoords": [
           {
            "line": {
             "colorbar": {
              "outlinewidth": 0,
              "ticks": ""
             }
            },
            "type": "parcoords"
           }
          ],
          "pie": [
           {
            "automargin": true,
            "type": "pie"
           }
          ],
          "scatter": [
           {
            "fillpattern": {
             "fillmode": "overlay",
             "size": 10,
             "solidity": 0.2
            },
            "type": "scatter"
           }
          ],
          "scatter3d": [
           {
            "line": {
             "colorbar": {
              "outlinewidth": 0,
              "ticks": ""
             }
            },
            "marker": {
             "colorbar": {
              "outlinewidth": 0,
              "ticks": ""
             }
            },
            "type": "scatter3d"
           }
          ],
          "scattercarpet": [
           {
            "marker": {
             "colorbar": {
              "outlinewidth": 0,
              "ticks": ""
             }
            },
            "type": "scattercarpet"
           }
          ],
          "scattergeo": [
           {
            "marker": {
             "colorbar": {
              "outlinewidth": 0,
              "ticks": ""
             }
            },
            "type": "scattergeo"
           }
          ],
          "scattergl": [
           {
            "marker": {
             "colorbar": {
              "outlinewidth": 0,
              "ticks": ""
             }
            },
            "type": "scattergl"
           }
          ],
          "scattermapbox": [
           {
            "marker": {
             "colorbar": {
              "outlinewidth": 0,
              "ticks": ""
             }
            },
            "type": "scattermapbox"
           }
          ],
          "scatterpolar": [
           {
            "marker": {
             "colorbar": {
              "outlinewidth": 0,
              "ticks": ""
             }
            },
            "type": "scatterpolar"
           }
          ],
          "scatterpolargl": [
           {
            "marker": {
             "colorbar": {
              "outlinewidth": 0,
              "ticks": ""
             }
            },
            "type": "scatterpolargl"
           }
          ],
          "scatterternary": [
           {
            "marker": {
             "colorbar": {
              "outlinewidth": 0,
              "ticks": ""
             }
            },
            "type": "scatterternary"
           }
          ],
          "surface": [
           {
            "colorbar": {
             "outlinewidth": 0,
             "ticks": ""
            },
            "colorscale": [
             [
              0,
              "#0d0887"
             ],
             [
              0.1111111111111111,
              "#46039f"
             ],
             [
              0.2222222222222222,
              "#7201a8"
             ],
             [
              0.3333333333333333,
              "#9c179e"
             ],
             [
              0.4444444444444444,
              "#bd3786"
             ],
             [
              0.5555555555555556,
              "#d8576b"
             ],
             [
              0.6666666666666666,
              "#ed7953"
             ],
             [
              0.7777777777777778,
              "#fb9f3a"
             ],
             [
              0.8888888888888888,
              "#fdca26"
             ],
             [
              1,
              "#f0f921"
             ]
            ],
            "type": "surface"
           }
          ],
          "table": [
           {
            "cells": {
             "fill": {
              "color": "#EBF0F8"
             },
             "line": {
              "color": "white"
             }
            },
            "header": {
             "fill": {
              "color": "#C8D4E3"
             },
             "line": {
              "color": "white"
             }
            },
            "type": "table"
           }
          ]
         },
         "layout": {
          "annotationdefaults": {
           "arrowcolor": "#2a3f5f",
           "arrowhead": 0,
           "arrowwidth": 1
          },
          "autotypenumbers": "strict",
          "coloraxis": {
           "colorbar": {
            "outlinewidth": 0,
            "ticks": ""
           }
          },
          "colorscale": {
           "diverging": [
            [
             0,
             "#8e0152"
            ],
            [
             0.1,
             "#c51b7d"
            ],
            [
             0.2,
             "#de77ae"
            ],
            [
             0.3,
             "#f1b6da"
            ],
            [
             0.4,
             "#fde0ef"
            ],
            [
             0.5,
             "#f7f7f7"
            ],
            [
             0.6,
             "#e6f5d0"
            ],
            [
             0.7,
             "#b8e186"
            ],
            [
             0.8,
             "#7fbc41"
            ],
            [
             0.9,
             "#4d9221"
            ],
            [
             1,
             "#276419"
            ]
           ],
           "sequential": [
            [
             0,
             "#0d0887"
            ],
            [
             0.1111111111111111,
             "#46039f"
            ],
            [
             0.2222222222222222,
             "#7201a8"
            ],
            [
             0.3333333333333333,
             "#9c179e"
            ],
            [
             0.4444444444444444,
             "#bd3786"
            ],
            [
             0.5555555555555556,
             "#d8576b"
            ],
            [
             0.6666666666666666,
             "#ed7953"
            ],
            [
             0.7777777777777778,
             "#fb9f3a"
            ],
            [
             0.8888888888888888,
             "#fdca26"
            ],
            [
             1,
             "#f0f921"
            ]
           ],
           "sequentialminus": [
            [
             0,
             "#0d0887"
            ],
            [
             0.1111111111111111,
             "#46039f"
            ],
            [
             0.2222222222222222,
             "#7201a8"
            ],
            [
             0.3333333333333333,
             "#9c179e"
            ],
            [
             0.4444444444444444,
             "#bd3786"
            ],
            [
             0.5555555555555556,
             "#d8576b"
            ],
            [
             0.6666666666666666,
             "#ed7953"
            ],
            [
             0.7777777777777778,
             "#fb9f3a"
            ],
            [
             0.8888888888888888,
             "#fdca26"
            ],
            [
             1,
             "#f0f921"
            ]
           ]
          },
          "colorway": [
           "#636efa",
           "#EF553B",
           "#00cc96",
           "#ab63fa",
           "#FFA15A",
           "#19d3f3",
           "#FF6692",
           "#B6E880",
           "#FF97FF",
           "#FECB52"
          ],
          "font": {
           "color": "#2a3f5f"
          },
          "geo": {
           "bgcolor": "white",
           "lakecolor": "white",
           "landcolor": "#E5ECF6",
           "showlakes": true,
           "showland": true,
           "subunitcolor": "white"
          },
          "hoverlabel": {
           "align": "left"
          },
          "hovermode": "closest",
          "mapbox": {
           "style": "light"
          },
          "paper_bgcolor": "white",
          "plot_bgcolor": "#E5ECF6",
          "polar": {
           "angularaxis": {
            "gridcolor": "white",
            "linecolor": "white",
            "ticks": ""
           },
           "bgcolor": "#E5ECF6",
           "radialaxis": {
            "gridcolor": "white",
            "linecolor": "white",
            "ticks": ""
           }
          },
          "scene": {
           "xaxis": {
            "backgroundcolor": "#E5ECF6",
            "gridcolor": "white",
            "gridwidth": 2,
            "linecolor": "white",
            "showbackground": true,
            "ticks": "",
            "zerolinecolor": "white"
           },
           "yaxis": {
            "backgroundcolor": "#E5ECF6",
            "gridcolor": "white",
            "gridwidth": 2,
            "linecolor": "white",
            "showbackground": true,
            "ticks": "",
            "zerolinecolor": "white"
           },
           "zaxis": {
            "backgroundcolor": "#E5ECF6",
            "gridcolor": "white",
            "gridwidth": 2,
            "linecolor": "white",
            "showbackground": true,
            "ticks": "",
            "zerolinecolor": "white"
           }
          },
          "shapedefaults": {
           "line": {
            "color": "#2a3f5f"
           }
          },
          "ternary": {
           "aaxis": {
            "gridcolor": "white",
            "linecolor": "white",
            "ticks": ""
           },
           "baxis": {
            "gridcolor": "white",
            "linecolor": "white",
            "ticks": ""
           },
           "bgcolor": "#E5ECF6",
           "caxis": {
            "gridcolor": "white",
            "linecolor": "white",
            "ticks": ""
           }
          },
          "title": {
           "x": 0.05
          },
          "xaxis": {
           "automargin": true,
           "gridcolor": "white",
           "linecolor": "white",
           "ticks": "",
           "title": {
            "standoff": 15
           },
           "zerolinecolor": "white",
           "zerolinewidth": 2
          },
          "yaxis": {
           "automargin": true,
           "gridcolor": "white",
           "linecolor": "white",
           "ticks": "",
           "title": {
            "standoff": 15
           },
           "zerolinecolor": "white",
           "zerolinewidth": 2
          }
         }
        },
        "title": {
         "font": {
          "color": "#4D5663"
         }
        },
        "xaxis": {
         "gridcolor": "#E1E5ED",
         "showgrid": true,
         "tickfont": {
          "color": "#4D5663"
         },
         "title": {
          "font": {
           "color": "#4D5663"
          },
          "text": ""
         },
         "zerolinecolor": "#E1E5ED"
        },
        "yaxis": {
         "gridcolor": "#E1E5ED",
         "showgrid": true,
         "tickfont": {
          "color": "#4D5663"
         },
         "title": {
          "font": {
           "color": "#4D5663"
          },
          "text": ""
         },
         "zerolinecolor": "#E1E5ED"
        }
       }
      },
      "text/html": [
       "<div>                            <div id=\"c504c3f3-47f0-44c2-b655-ac3e3de209a8\" class=\"plotly-graph-div\" style=\"height:525px; width:100%;\"></div>            <script type=\"text/javascript\">                require([\"plotly\"], function(Plotly) {                    window.PLOTLYENV=window.PLOTLYENV || {};\n",
       "                    window.PLOTLYENV.BASE_URL='https://plot.ly';                                    if (document.getElementById(\"c504c3f3-47f0-44c2-b655-ac3e3de209a8\")) {                    Plotly.newPlot(                        \"c504c3f3-47f0-44c2-b655-ac3e3de209a8\",                        [{\"boxpoints\":false,\"line\":{\"width\":1.3},\"marker\":{\"color\":\"rgba(255, 153, 51, 1.0)\"},\"name\":\"A\",\"orientation\":\"v\",\"y\":[1.2336395877706994,-0.048615295932523526,0.25099671508100824,-0.1192462297098814,-0.2608481410248185,-0.06471520395729977,0.6259498930158807,0.12224421427601183,0.9324539075586492,1.070141475329659,0.5285224800201517,-0.24958849117359538,-0.29752102945104475,-0.6454103565063174,0.10442728647747394,-0.39378093189513375,-0.41399385767203517,-2.3312026081324517,0.31942537204183175,-1.4169774002817863,-1.377837148359218,-0.8064637395522112,3.3046701681598245,0.3249459378005792,0.3650097454990451,0.02065115131120758,1.2133373411044714,0.13608566784413764,-1.082375661287402,0.21276340210915654,-0.541233499690844,1.0120991433643813,-0.18508374419786647,-0.5156638362473296,-0.0645236069411833,0.34718435927735686,-1.1135794845678495,-0.9176904249407741,3.0705934949711446,1.4086638090114365,0.2562168360363639,-1.7164372878789915,0.22716733957708662,-1.4865304220381552,-0.483176954304673,2.802666688554588,-1.1253381606030017,-0.6915062924050371,0.7247609199197345,1.2275235702973804,-0.22318512888589181,-0.3132358939336809,-1.6040305545083373,1.8458126184513648,-0.8154253140752616,-0.2256614370869709,1.2978362803458532,0.14007647039884705,-0.20458602765483533,-0.2703209024985795,-0.2654081193656234,0.2202236850078853,0.14962062952118016,-0.9932677026925171,1.4271803455705308,0.43146018054188895,0.22187226163578996,1.7326906445715977,0.08548903032789677,-0.9295010484556132,0.5475247339146619,0.12447547676253774,-0.29634372342151055,-1.0253146544479361,0.3421818204421844,0.3688861723184149,0.03492725922143807,-0.31362123305608436,0.24375801240034217,0.4269918051686339,-0.23890978405914443,-1.7877295632810428,-0.16004350029481743,-0.3352782257640638,0.9857046637192217,-0.831237642919192,0.3361311145496733,0.7589545074594741,0.1781577265576734,-1.6752858972755533,-1.2041662102497588,-0.6653978729777915,0.3275641601449004,1.1634374896765034,-0.12556238527553262,0.11262507359259387,-0.13497569861698266,-1.3005004618063705,-1.4015847136640596,-0.7130959437805059],\"type\":\"box\"},{\"boxpoints\":false,\"line\":{\"width\":1.3},\"marker\":{\"color\":\"rgba(55, 128, 191, 1.0)\"},\"name\":\"B\",\"orientation\":\"v\",\"y\":[-1.9022065685510319,-2.1358854266589624,0.15731369215411856,-0.5116965050067188,-1.016778500304455,-0.07152395582692508,-0.6287641264563816,0.8116557648643434,-0.7109323439808468,-0.717033813927751,1.3316196542841683,-0.6310880219508661,2.5874251211580503,0.2644218892403224,-0.35142315852607764,0.2922499094243876,0.38465151313280316,0.4796526662506324,-0.692821516591526,-0.744210867455073,1.7066955696594042,0.21510833265147353,0.21771786641689403,-0.014642454292073627,1.1895312175510309,-1.3459717202535904,0.8467885453665221,-0.3114575850495862,1.030590665567906,-1.3999658924835772,0.3257603132932959,0.6586054996837076,-1.8464148734907193,-1.611694363967646,1.3087935975821354,-0.7122544344002926,-1.4202540474598107,-0.06956475576311448,-2.9681640089507857,0.31351528648144794,1.19697663227665,-0.06858255920050399,0.6949733405235001,0.12072343848660112,-0.9717122892437534,-0.6664128392375659,1.187574085544821,-2.1002353959673896,-1.0640523429911906,-0.6086697081559084,0.9148357188130085,-0.5189278497433476,-0.10464004777836514,0.5441484352640663,-1.101107079520376,0.104551275657519,-0.8641663897108429,-0.5439274802275234,0.7001541532162037,1.4695162149737615,-0.2926165781490387,-1.4279237442435446,1.0361323352789527,-0.988429236318292,-1.7599933184757448,-0.2972367314119232,-2.211370194384513,-0.6616248315376154,0.0006914603293870927,0.14312271204237148,1.037395383748161,0.635085681475714,-1.2801277743573918,-0.22485334081701447,-0.10709203797243241,1.0903950904507504,0.9498423697670688,-0.7566860215157124,-1.3185193689652943,0.3067433056702688,-0.1868825475446146,0.3227653992788982,1.1239897541025106,-0.85444767818716,-1.6535091941092632,0.733284060047493,2.2098470730160282,-0.939844915630386,-0.8269920694055485,-0.42477083179568426,0.6469222732434078,-0.6554123928641302,-0.6036906296788903,0.5121986984319296,-0.155322734625543,-0.5053751854186547,1.5239366853625391,2.047004505696809,-0.889866678505674,-0.29066447432594056],\"type\":\"box\"},{\"boxpoints\":false,\"line\":{\"width\":1.3},\"marker\":{\"color\":\"rgba(50, 171, 96, 1.0)\"},\"name\":\"C\",\"orientation\":\"v\",\"y\":[-0.1203462884061267,0.5205279603467541,1.6373721075195362,-0.14001172540804252,-2.674526145949805,0.0060677952583331595,-0.36622141484787113,-0.3924691468775285,0.8187257721064172,0.1185503907691811,-0.37297303762445855,-1.6126198259434936,0.8055375830516811,-0.5815984942374339,0.040794232049147824,-0.7873720664669202,-0.9516601915292413,1.1708829641717016,-1.0625150876152059,-0.4734598653816264,0.020844288576887166,-0.5697978532084147,0.3565820144230457,1.820986073532006,1.4103113009750812,-1.7578109576002183,0.6709490023049436,0.008710251602917883,-0.773908539594359,-0.10014921864482632,-1.1716662189760036,0.29748910841497217,1.4776251769729372,1.183711913190866,2.1046294893212183,0.33110363182786,1.3344659806224215,1.8669795338211328,-0.012674719960820802,0.3353224417080831,-0.8938456560251395,1.349121947598761,-2.4668115500134604,-1.1343925646877768,0.7660135522102507,-1.894330434749525,1.0140598332520745,1.2251843566973422,1.3874540311000108,0.11613591889194066,0.6811998510774827,-0.003533500739982704,0.014043824794410449,0.8636826602039034,-0.09100737893510782,-0.3436212806984299,0.006330301142763871,-0.099095793672755,-0.1839519025908113,1.5114741560438218,1.5021416621159007,1.1316060961136667,0.47634816595092005,-0.02420736315846384,0.19146131590129634,-0.31328367857691203,1.0808712383709749,-0.6668787968573957,0.7454378983322235,1.999036412148163,-1.19456697341481,-1.3397299896229375,-0.7069445506278457,-1.1013728437884975,-0.8333255588513151,0.025974722278596454,-0.013213216415298332,-0.5061130216172286,-0.08568735907262445,0.15249405867403465,0.6685429101785701,-0.6466830779456247,-2.223865800634014,0.5250073416429717,1.3078913993187256,-0.4438988321629713,-0.2216433743572602,-0.7528012152474951,0.5559777490354014,1.432791441296771,-2.520946937340112,-0.10521346693173139,-0.9596541368646575,0.018988384229541255,-0.3840057386571683,-1.177590721918723,1.0049781334061278,1.1088783448204909,-0.04577751906561806,0.162583504981171],\"type\":\"box\"},{\"boxpoints\":false,\"line\":{\"width\":1.3},\"marker\":{\"color\":\"rgba(128, 0, 128, 1.0)\"},\"name\":\"D\",\"orientation\":\"v\",\"y\":[-1.7567658157148927,-0.5901672254907833,-0.13664244385952085,-0.19653874796921839,-1.9511887501088818,1.3146435520150057,0.36862001272181294,-0.32346308637305865,-1.590444873222024,-0.25937836983757784,-0.2735276031871359,-2.060527915183689,-1.7230501121389559,-1.634601603572378,0.2217676484698342,0.4506887987078977,1.6405211037154424,0.3111918085082636,-1.4532524451622628,1.7836899168588702,-0.19195765676538254,-0.4452316278621485,1.1385268168816403,0.6498514520424518,-1.0805329991577612,-1.021004206939174,-1.0866315505218085,-0.14529022135568864,-1.986553870720136,-0.12362608258679714,0.7381764775245226,-1.4981099343634754,-1.3089903362617425,0.08660061096738925,-1.493762693790531,0.20287152608325598,-0.6600834177574529,-0.8705499827087052,-0.5321580827832789,0.1317813490014566,-1.7971861233158488,-0.03135291942911883,-0.5516341287552158,1.2775198455453443,0.48724250557753745,0.786822987160542,-0.13263198827278552,-0.39351506331500513,-0.05297070899342627,-0.8425429113716089,-0.9248670315260388,0.036872824956346494,1.0660878322634422,-0.24696381545849877,-1.0873803701063092,1.4996726338425603,-0.48256070497159864,0.7316450161836825,-0.8273960611272215,-0.17975816587564092,-1.7269653257375341,2.6691746650222834,0.6805526528012904,0.42202296251362176,0.40006582399723906,-1.5995278766058656,1.6730502172282378,-0.12965220173365527,1.4783673600532836,2.1826575486473065,1.1959971847804978,0.6666164036985821,0.5947819722052156,-0.2807647451558486,0.48707441883058644,0.37345360025214513,-1.249811354030153,1.6599410087348472,0.3319812753593216,-0.39093031838968195,0.6872089705060264,-0.48157934598860985,-0.7491761665230465,-0.42963505174509836,0.4363773992487627,0.5813295719780832,-2.1426769022662358,-0.6505585364801885,-0.9307237075318577,-0.22633137111629026,1.4585314303541639,2.4519017790717665,-0.6376561712316466,-0.691985452968969,0.4675037123446964,1.722835490148828,1.7747540039181924,1.3636474988664646,0.13173216302677304,0.6674998159581864],\"type\":\"box\"}],                        {\"legend\":{\"bgcolor\":\"#F5F6F9\",\"font\":{\"color\":\"#4D5663\"}},\"paper_bgcolor\":\"#F5F6F9\",\"plot_bgcolor\":\"#F5F6F9\",\"template\":{\"data\":{\"barpolar\":[{\"marker\":{\"line\":{\"color\":\"#E5ECF6\",\"width\":0.5},\"pattern\":{\"fillmode\":\"overlay\",\"size\":10,\"solidity\":0.2}},\"type\":\"barpolar\"}],\"bar\":[{\"error_x\":{\"color\":\"#2a3f5f\"},\"error_y\":{\"color\":\"#2a3f5f\"},\"marker\":{\"line\":{\"color\":\"#E5ECF6\",\"width\":0.5},\"pattern\":{\"fillmode\":\"overlay\",\"size\":10,\"solidity\":0.2}},\"type\":\"bar\"}],\"carpet\":[{\"aaxis\":{\"endlinecolor\":\"#2a3f5f\",\"gridcolor\":\"white\",\"linecolor\":\"white\",\"minorgridcolor\":\"white\",\"startlinecolor\":\"#2a3f5f\"},\"baxis\":{\"endlinecolor\":\"#2a3f5f\",\"gridcolor\":\"white\",\"linecolor\":\"white\",\"minorgridcolor\":\"white\",\"startlinecolor\":\"#2a3f5f\"},\"type\":\"carpet\"}],\"choropleth\":[{\"colorbar\":{\"outlinewidth\":0,\"ticks\":\"\"},\"type\":\"choropleth\"}],\"contourcarpet\":[{\"colorbar\":{\"outlinewidth\":0,\"ticks\":\"\"},\"type\":\"contourcarpet\"}],\"contour\":[{\"colorbar\":{\"outlinewidth\":0,\"ticks\":\"\"},\"colorscale\":[[0.0,\"#0d0887\"],[0.1111111111111111,\"#46039f\"],[0.2222222222222222,\"#7201a8\"],[0.3333333333333333,\"#9c179e\"],[0.4444444444444444,\"#bd3786\"],[0.5555555555555556,\"#d8576b\"],[0.6666666666666666,\"#ed7953\"],[0.7777777777777778,\"#fb9f3a\"],[0.8888888888888888,\"#fdca26\"],[1.0,\"#f0f921\"]],\"type\":\"contour\"}],\"heatmapgl\":[{\"colorbar\":{\"outlinewidth\":0,\"ticks\":\"\"},\"colorscale\":[[0.0,\"#0d0887\"],[0.1111111111111111,\"#46039f\"],[0.2222222222222222,\"#7201a8\"],[0.3333333333333333,\"#9c179e\"],[0.4444444444444444,\"#bd3786\"],[0.5555555555555556,\"#d8576b\"],[0.6666666666666666,\"#ed7953\"],[0.7777777777777778,\"#fb9f3a\"],[0.8888888888888888,\"#fdca26\"],[1.0,\"#f0f921\"]],\"type\":\"heatmapgl\"}],\"heatmap\":[{\"colorbar\":{\"outlinewidth\":0,\"ticks\":\"\"},\"colorscale\":[[0.0,\"#0d0887\"],[0.1111111111111111,\"#46039f\"],[0.2222222222222222,\"#7201a8\"],[0.3333333333333333,\"#9c179e\"],[0.4444444444444444,\"#bd3786\"],[0.5555555555555556,\"#d8576b\"],[0.6666666666666666,\"#ed7953\"],[0.7777777777777778,\"#fb9f3a\"],[0.8888888888888888,\"#fdca26\"],[1.0,\"#f0f921\"]],\"type\":\"heatmap\"}],\"histogram2dcontour\":[{\"colorbar\":{\"outlinewidth\":0,\"ticks\":\"\"},\"colorscale\":[[0.0,\"#0d0887\"],[0.1111111111111111,\"#46039f\"],[0.2222222222222222,\"#7201a8\"],[0.3333333333333333,\"#9c179e\"],[0.4444444444444444,\"#bd3786\"],[0.5555555555555556,\"#d8576b\"],[0.6666666666666666,\"#ed7953\"],[0.7777777777777778,\"#fb9f3a\"],[0.8888888888888888,\"#fdca26\"],[1.0,\"#f0f921\"]],\"type\":\"histogram2dcontour\"}],\"histogram2d\":[{\"colorbar\":{\"outlinewidth\":0,\"ticks\":\"\"},\"colorscale\":[[0.0,\"#0d0887\"],[0.1111111111111111,\"#46039f\"],[0.2222222222222222,\"#7201a8\"],[0.3333333333333333,\"#9c179e\"],[0.4444444444444444,\"#bd3786\"],[0.5555555555555556,\"#d8576b\"],[0.6666666666666666,\"#ed7953\"],[0.7777777777777778,\"#fb9f3a\"],[0.8888888888888888,\"#fdca26\"],[1.0,\"#f0f921\"]],\"type\":\"histogram2d\"}],\"histogram\":[{\"marker\":{\"pattern\":{\"fillmode\":\"overlay\",\"size\":10,\"solidity\":0.2}},\"type\":\"histogram\"}],\"mesh3d\":[{\"colorbar\":{\"outlinewidth\":0,\"ticks\":\"\"},\"type\":\"mesh3d\"}],\"parcoords\":[{\"line\":{\"colorbar\":{\"outlinewidth\":0,\"ticks\":\"\"}},\"type\":\"parcoords\"}],\"pie\":[{\"automargin\":true,\"type\":\"pie\"}],\"scatter3d\":[{\"line\":{\"colorbar\":{\"outlinewidth\":0,\"ticks\":\"\"}},\"marker\":{\"colorbar\":{\"outlinewidth\":0,\"ticks\":\"\"}},\"type\":\"scatter3d\"}],\"scattercarpet\":[{\"marker\":{\"colorbar\":{\"outlinewidth\":0,\"ticks\":\"\"}},\"type\":\"scattercarpet\"}],\"scattergeo\":[{\"marker\":{\"colorbar\":{\"outlinewidth\":0,\"ticks\":\"\"}},\"type\":\"scattergeo\"}],\"scattergl\":[{\"marker\":{\"colorbar\":{\"outlinewidth\":0,\"ticks\":\"\"}},\"type\":\"scattergl\"}],\"scattermapbox\":[{\"marker\":{\"colorbar\":{\"outlinewidth\":0,\"ticks\":\"\"}},\"type\":\"scattermapbox\"}],\"scatterpolargl\":[{\"marker\":{\"colorbar\":{\"outlinewidth\":0,\"ticks\":\"\"}},\"type\":\"scatterpolargl\"}],\"scatterpolar\":[{\"marker\":{\"colorbar\":{\"outlinewidth\":0,\"ticks\":\"\"}},\"type\":\"scatterpolar\"}],\"scatter\":[{\"fillpattern\":{\"fillmode\":\"overlay\",\"size\":10,\"solidity\":0.2},\"type\":\"scatter\"}],\"scatterternary\":[{\"marker\":{\"colorbar\":{\"outlinewidth\":0,\"ticks\":\"\"}},\"type\":\"scatterternary\"}],\"surface\":[{\"colorbar\":{\"outlinewidth\":0,\"ticks\":\"\"},\"colorscale\":[[0.0,\"#0d0887\"],[0.1111111111111111,\"#46039f\"],[0.2222222222222222,\"#7201a8\"],[0.3333333333333333,\"#9c179e\"],[0.4444444444444444,\"#bd3786\"],[0.5555555555555556,\"#d8576b\"],[0.6666666666666666,\"#ed7953\"],[0.7777777777777778,\"#fb9f3a\"],[0.8888888888888888,\"#fdca26\"],[1.0,\"#f0f921\"]],\"type\":\"surface\"}],\"table\":[{\"cells\":{\"fill\":{\"color\":\"#EBF0F8\"},\"line\":{\"color\":\"white\"}},\"header\":{\"fill\":{\"color\":\"#C8D4E3\"},\"line\":{\"color\":\"white\"}},\"type\":\"table\"}]},\"layout\":{\"annotationdefaults\":{\"arrowcolor\":\"#2a3f5f\",\"arrowhead\":0,\"arrowwidth\":1},\"autotypenumbers\":\"strict\",\"coloraxis\":{\"colorbar\":{\"outlinewidth\":0,\"ticks\":\"\"}},\"colorscale\":{\"diverging\":[[0,\"#8e0152\"],[0.1,\"#c51b7d\"],[0.2,\"#de77ae\"],[0.3,\"#f1b6da\"],[0.4,\"#fde0ef\"],[0.5,\"#f7f7f7\"],[0.6,\"#e6f5d0\"],[0.7,\"#b8e186\"],[0.8,\"#7fbc41\"],[0.9,\"#4d9221\"],[1,\"#276419\"]],\"sequential\":[[0.0,\"#0d0887\"],[0.1111111111111111,\"#46039f\"],[0.2222222222222222,\"#7201a8\"],[0.3333333333333333,\"#9c179e\"],[0.4444444444444444,\"#bd3786\"],[0.5555555555555556,\"#d8576b\"],[0.6666666666666666,\"#ed7953\"],[0.7777777777777778,\"#fb9f3a\"],[0.8888888888888888,\"#fdca26\"],[1.0,\"#f0f921\"]],\"sequentialminus\":[[0.0,\"#0d0887\"],[0.1111111111111111,\"#46039f\"],[0.2222222222222222,\"#7201a8\"],[0.3333333333333333,\"#9c179e\"],[0.4444444444444444,\"#bd3786\"],[0.5555555555555556,\"#d8576b\"],[0.6666666666666666,\"#ed7953\"],[0.7777777777777778,\"#fb9f3a\"],[0.8888888888888888,\"#fdca26\"],[1.0,\"#f0f921\"]]},\"colorway\":[\"#636efa\",\"#EF553B\",\"#00cc96\",\"#ab63fa\",\"#FFA15A\",\"#19d3f3\",\"#FF6692\",\"#B6E880\",\"#FF97FF\",\"#FECB52\"],\"font\":{\"color\":\"#2a3f5f\"},\"geo\":{\"bgcolor\":\"white\",\"lakecolor\":\"white\",\"landcolor\":\"#E5ECF6\",\"showlakes\":true,\"showland\":true,\"subunitcolor\":\"white\"},\"hoverlabel\":{\"align\":\"left\"},\"hovermode\":\"closest\",\"mapbox\":{\"style\":\"light\"},\"paper_bgcolor\":\"white\",\"plot_bgcolor\":\"#E5ECF6\",\"polar\":{\"angularaxis\":{\"gridcolor\":\"white\",\"linecolor\":\"white\",\"ticks\":\"\"},\"bgcolor\":\"#E5ECF6\",\"radialaxis\":{\"gridcolor\":\"white\",\"linecolor\":\"white\",\"ticks\":\"\"}},\"scene\":{\"xaxis\":{\"backgroundcolor\":\"#E5ECF6\",\"gridcolor\":\"white\",\"gridwidth\":2,\"linecolor\":\"white\",\"showbackground\":true,\"ticks\":\"\",\"zerolinecolor\":\"white\"},\"yaxis\":{\"backgroundcolor\":\"#E5ECF6\",\"gridcolor\":\"white\",\"gridwidth\":2,\"linecolor\":\"white\",\"showbackground\":true,\"ticks\":\"\",\"zerolinecolor\":\"white\"},\"zaxis\":{\"backgroundcolor\":\"#E5ECF6\",\"gridcolor\":\"white\",\"gridwidth\":2,\"linecolor\":\"white\",\"showbackground\":true,\"ticks\":\"\",\"zerolinecolor\":\"white\"}},\"shapedefaults\":{\"line\":{\"color\":\"#2a3f5f\"}},\"ternary\":{\"aaxis\":{\"gridcolor\":\"white\",\"linecolor\":\"white\",\"ticks\":\"\"},\"baxis\":{\"gridcolor\":\"white\",\"linecolor\":\"white\",\"ticks\":\"\"},\"bgcolor\":\"#E5ECF6\",\"caxis\":{\"gridcolor\":\"white\",\"linecolor\":\"white\",\"ticks\":\"\"}},\"title\":{\"x\":0.05},\"xaxis\":{\"automargin\":true,\"gridcolor\":\"white\",\"linecolor\":\"white\",\"ticks\":\"\",\"title\":{\"standoff\":15},\"zerolinecolor\":\"white\",\"zerolinewidth\":2},\"yaxis\":{\"automargin\":true,\"gridcolor\":\"white\",\"linecolor\":\"white\",\"ticks\":\"\",\"title\":{\"standoff\":15},\"zerolinecolor\":\"white\",\"zerolinewidth\":2}}},\"title\":{\"font\":{\"color\":\"#4D5663\"}},\"xaxis\":{\"gridcolor\":\"#E1E5ED\",\"showgrid\":true,\"tickfont\":{\"color\":\"#4D5663\"},\"title\":{\"font\":{\"color\":\"#4D5663\"},\"text\":\"\"},\"zerolinecolor\":\"#E1E5ED\"},\"yaxis\":{\"gridcolor\":\"#E1E5ED\",\"showgrid\":true,\"tickfont\":{\"color\":\"#4D5663\"},\"title\":{\"font\":{\"color\":\"#4D5663\"},\"text\":\"\"},\"zerolinecolor\":\"#E1E5ED\"}},                        {\"showLink\": true, \"linkText\": \"Export to plot.ly\", \"plotlyServerURL\": \"https://plot.ly\", \"responsive\": true}                    ).then(function(){\n",
       "                            \n",
       "var gd = document.getElementById('c504c3f3-47f0-44c2-b655-ac3e3de209a8');\n",
       "var x = new MutationObserver(function (mutations, observer) {{\n",
       "        var display = window.getComputedStyle(gd).display;\n",
       "        if (!display || display === 'none') {{\n",
       "            console.log([gd, 'removed!']);\n",
       "            Plotly.purge(gd);\n",
       "            observer.disconnect();\n",
       "        }}\n",
       "}});\n",
       "\n",
       "// Listen for the removal of the full notebook cells\n",
       "var notebookContainer = gd.closest('#notebook-container');\n",
       "if (notebookContainer) {{\n",
       "    x.observe(notebookContainer, {childList: true});\n",
       "}}\n",
       "\n",
       "// Listen for the clearing of the current output cell\n",
       "var outputEl = gd.closest('.output');\n",
       "if (outputEl) {{\n",
       "    x.observe(outputEl, {childList: true});\n",
       "}}\n",
       "\n",
       "                        })                };                });            </script>        </div>"
      ]
     },
     "metadata": {},
     "output_type": "display_data"
    }
   ],
   "source": [
    "df.iplot(kind='box')"
   ]
  },
  {
   "cell_type": "code",
   "execution_count": 19,
   "id": "41c55037-fc3a-4436-a070-7bc39bad4de1",
   "metadata": {},
   "outputs": [],
   "source": [
    "df3 = pd.DataFrame({'x': [1,2,3,4,5], 'y': [10,20,30,20,10], 'z': [5,4,3,2,1]})"
   ]
  },
  {
   "cell_type": "code",
   "execution_count": 20,
   "id": "166f9385-4973-4c65-887b-ff07e41bf919",
   "metadata": {},
   "outputs": [
    {
     "data": {
      "text/html": [
       "<div>\n",
       "<style scoped>\n",
       "    .dataframe tbody tr th:only-of-type {\n",
       "        vertical-align: middle;\n",
       "    }\n",
       "\n",
       "    .dataframe tbody tr th {\n",
       "        vertical-align: top;\n",
       "    }\n",
       "\n",
       "    .dataframe thead th {\n",
       "        text-align: right;\n",
       "    }\n",
       "</style>\n",
       "<table border=\"1\" class=\"dataframe\">\n",
       "  <thead>\n",
       "    <tr style=\"text-align: right;\">\n",
       "      <th></th>\n",
       "      <th>x</th>\n",
       "      <th>y</th>\n",
       "      <th>z</th>\n",
       "    </tr>\n",
       "  </thead>\n",
       "  <tbody>\n",
       "    <tr>\n",
       "      <th>0</th>\n",
       "      <td>1</td>\n",
       "      <td>10</td>\n",
       "      <td>5</td>\n",
       "    </tr>\n",
       "    <tr>\n",
       "      <th>1</th>\n",
       "      <td>2</td>\n",
       "      <td>20</td>\n",
       "      <td>4</td>\n",
       "    </tr>\n",
       "    <tr>\n",
       "      <th>2</th>\n",
       "      <td>3</td>\n",
       "      <td>30</td>\n",
       "      <td>3</td>\n",
       "    </tr>\n",
       "    <tr>\n",
       "      <th>3</th>\n",
       "      <td>4</td>\n",
       "      <td>20</td>\n",
       "      <td>2</td>\n",
       "    </tr>\n",
       "    <tr>\n",
       "      <th>4</th>\n",
       "      <td>5</td>\n",
       "      <td>10</td>\n",
       "      <td>1</td>\n",
       "    </tr>\n",
       "  </tbody>\n",
       "</table>\n",
       "</div>"
      ],
      "text/plain": [
       "   x   y  z\n",
       "0  1  10  5\n",
       "1  2  20  4\n",
       "2  3  30  3\n",
       "3  4  20  2\n",
       "4  5  10  1"
      ]
     },
     "execution_count": 20,
     "metadata": {},
     "output_type": "execute_result"
    }
   ],
   "source": [
    "df3.head()"
   ]
  },
  {
   "cell_type": "code",
   "execution_count": 22,
   "id": "b991cf4b-9d81-4fa1-949c-e5594cddb651",
   "metadata": {},
   "outputs": [
    {
     "data": {
      "application/vnd.plotly.v1+json": {
       "config": {
        "linkText": "Export to plot.ly",
        "plotlyServerURL": "https://plot.ly",
        "showLink": true
       },
       "data": [
        {
         "colorscale": [
          [
           0,
           "rgb(255, 153, 51)"
          ],
          [
           0.1111111111111111,
           "rgb(55, 128, 191)"
          ],
          [
           0.2222222222222222,
           "rgb(50, 171, 96)"
          ],
          [
           0.3333333333333333,
           "rgb(128, 0, 128)"
          ],
          [
           0.4444444444444444,
           "rgb(219, 64, 82)"
          ],
          [
           0.5555555555555556,
           "rgb(0, 128, 128)"
          ],
          [
           0.6666666666666666,
           "rgb(255, 255, 51)"
          ],
          [
           0.7777777777777778,
           "rgb(128, 128, 0)"
          ],
          [
           0.8888888888888888,
           "rgb(251, 128, 114)"
          ],
          [
           1,
           "rgb(128, 177, 211)"
          ]
         ],
         "type": "surface",
         "x": [
          0,
          1,
          2,
          3,
          4
         ],
         "y": [
          "x",
          "y",
          "z"
         ],
         "z": [
          [
           1,
           2,
           3,
           4,
           5
          ],
          [
           10,
           20,
           30,
           20,
           10
          ],
          [
           5,
           4,
           3,
           2,
           1
          ]
         ]
        }
       ],
       "layout": {
        "legend": {
         "bgcolor": "#F5F6F9",
         "font": {
          "color": "#4D5663"
         }
        },
        "paper_bgcolor": "#F5F6F9",
        "plot_bgcolor": "#F5F6F9",
        "template": {
         "data": {
          "bar": [
           {
            "error_x": {
             "color": "#2a3f5f"
            },
            "error_y": {
             "color": "#2a3f5f"
            },
            "marker": {
             "line": {
              "color": "#E5ECF6",
              "width": 0.5
             },
             "pattern": {
              "fillmode": "overlay",
              "size": 10,
              "solidity": 0.2
             }
            },
            "type": "bar"
           }
          ],
          "barpolar": [
           {
            "marker": {
             "line": {
              "color": "#E5ECF6",
              "width": 0.5
             },
             "pattern": {
              "fillmode": "overlay",
              "size": 10,
              "solidity": 0.2
             }
            },
            "type": "barpolar"
           }
          ],
          "carpet": [
           {
            "aaxis": {
             "endlinecolor": "#2a3f5f",
             "gridcolor": "white",
             "linecolor": "white",
             "minorgridcolor": "white",
             "startlinecolor": "#2a3f5f"
            },
            "baxis": {
             "endlinecolor": "#2a3f5f",
             "gridcolor": "white",
             "linecolor": "white",
             "minorgridcolor": "white",
             "startlinecolor": "#2a3f5f"
            },
            "type": "carpet"
           }
          ],
          "choropleth": [
           {
            "colorbar": {
             "outlinewidth": 0,
             "ticks": ""
            },
            "type": "choropleth"
           }
          ],
          "contour": [
           {
            "colorbar": {
             "outlinewidth": 0,
             "ticks": ""
            },
            "colorscale": [
             [
              0,
              "#0d0887"
             ],
             [
              0.1111111111111111,
              "#46039f"
             ],
             [
              0.2222222222222222,
              "#7201a8"
             ],
             [
              0.3333333333333333,
              "#9c179e"
             ],
             [
              0.4444444444444444,
              "#bd3786"
             ],
             [
              0.5555555555555556,
              "#d8576b"
             ],
             [
              0.6666666666666666,
              "#ed7953"
             ],
             [
              0.7777777777777778,
              "#fb9f3a"
             ],
             [
              0.8888888888888888,
              "#fdca26"
             ],
             [
              1,
              "#f0f921"
             ]
            ],
            "type": "contour"
           }
          ],
          "contourcarpet": [
           {
            "colorbar": {
             "outlinewidth": 0,
             "ticks": ""
            },
            "type": "contourcarpet"
           }
          ],
          "heatmap": [
           {
            "colorbar": {
             "outlinewidth": 0,
             "ticks": ""
            },
            "colorscale": [
             [
              0,
              "#0d0887"
             ],
             [
              0.1111111111111111,
              "#46039f"
             ],
             [
              0.2222222222222222,
              "#7201a8"
             ],
             [
              0.3333333333333333,
              "#9c179e"
             ],
             [
              0.4444444444444444,
              "#bd3786"
             ],
             [
              0.5555555555555556,
              "#d8576b"
             ],
             [
              0.6666666666666666,
              "#ed7953"
             ],
             [
              0.7777777777777778,
              "#fb9f3a"
             ],
             [
              0.8888888888888888,
              "#fdca26"
             ],
             [
              1,
              "#f0f921"
             ]
            ],
            "type": "heatmap"
           }
          ],
          "heatmapgl": [
           {
            "colorbar": {
             "outlinewidth": 0,
             "ticks": ""
            },
            "colorscale": [
             [
              0,
              "#0d0887"
             ],
             [
              0.1111111111111111,
              "#46039f"
             ],
             [
              0.2222222222222222,
              "#7201a8"
             ],
             [
              0.3333333333333333,
              "#9c179e"
             ],
             [
              0.4444444444444444,
              "#bd3786"
             ],
             [
              0.5555555555555556,
              "#d8576b"
             ],
             [
              0.6666666666666666,
              "#ed7953"
             ],
             [
              0.7777777777777778,
              "#fb9f3a"
             ],
             [
              0.8888888888888888,
              "#fdca26"
             ],
             [
              1,
              "#f0f921"
             ]
            ],
            "type": "heatmapgl"
           }
          ],
          "histogram": [
           {
            "marker": {
             "pattern": {
              "fillmode": "overlay",
              "size": 10,
              "solidity": 0.2
             }
            },
            "type": "histogram"
           }
          ],
          "histogram2d": [
           {
            "colorbar": {
             "outlinewidth": 0,
             "ticks": ""
            },
            "colorscale": [
             [
              0,
              "#0d0887"
             ],
             [
              0.1111111111111111,
              "#46039f"
             ],
             [
              0.2222222222222222,
              "#7201a8"
             ],
             [
              0.3333333333333333,
              "#9c179e"
             ],
             [
              0.4444444444444444,
              "#bd3786"
             ],
             [
              0.5555555555555556,
              "#d8576b"
             ],
             [
              0.6666666666666666,
              "#ed7953"
             ],
             [
              0.7777777777777778,
              "#fb9f3a"
             ],
             [
              0.8888888888888888,
              "#fdca26"
             ],
             [
              1,
              "#f0f921"
             ]
            ],
            "type": "histogram2d"
           }
          ],
          "histogram2dcontour": [
           {
            "colorbar": {
             "outlinewidth": 0,
             "ticks": ""
            },
            "colorscale": [
             [
              0,
              "#0d0887"
             ],
             [
              0.1111111111111111,
              "#46039f"
             ],
             [
              0.2222222222222222,
              "#7201a8"
             ],
             [
              0.3333333333333333,
              "#9c179e"
             ],
             [
              0.4444444444444444,
              "#bd3786"
             ],
             [
              0.5555555555555556,
              "#d8576b"
             ],
             [
              0.6666666666666666,
              "#ed7953"
             ],
             [
              0.7777777777777778,
              "#fb9f3a"
             ],
             [
              0.8888888888888888,
              "#fdca26"
             ],
             [
              1,
              "#f0f921"
             ]
            ],
            "type": "histogram2dcontour"
           }
          ],
          "mesh3d": [
           {
            "colorbar": {
             "outlinewidth": 0,
             "ticks": ""
            },
            "type": "mesh3d"
           }
          ],
          "parcoords": [
           {
            "line": {
             "colorbar": {
              "outlinewidth": 0,
              "ticks": ""
             }
            },
            "type": "parcoords"
           }
          ],
          "pie": [
           {
            "automargin": true,
            "type": "pie"
           }
          ],
          "scatter": [
           {
            "fillpattern": {
             "fillmode": "overlay",
             "size": 10,
             "solidity": 0.2
            },
            "type": "scatter"
           }
          ],
          "scatter3d": [
           {
            "line": {
             "colorbar": {
              "outlinewidth": 0,
              "ticks": ""
             }
            },
            "marker": {
             "colorbar": {
              "outlinewidth": 0,
              "ticks": ""
             }
            },
            "type": "scatter3d"
           }
          ],
          "scattercarpet": [
           {
            "marker": {
             "colorbar": {
              "outlinewidth": 0,
              "ticks": ""
             }
            },
            "type": "scattercarpet"
           }
          ],
          "scattergeo": [
           {
            "marker": {
             "colorbar": {
              "outlinewidth": 0,
              "ticks": ""
             }
            },
            "type": "scattergeo"
           }
          ],
          "scattergl": [
           {
            "marker": {
             "colorbar": {
              "outlinewidth": 0,
              "ticks": ""
             }
            },
            "type": "scattergl"
           }
          ],
          "scattermapbox": [
           {
            "marker": {
             "colorbar": {
              "outlinewidth": 0,
              "ticks": ""
             }
            },
            "type": "scattermapbox"
           }
          ],
          "scatterpolar": [
           {
            "marker": {
             "colorbar": {
              "outlinewidth": 0,
              "ticks": ""
             }
            },
            "type": "scatterpolar"
           }
          ],
          "scatterpolargl": [
           {
            "marker": {
             "colorbar": {
              "outlinewidth": 0,
              "ticks": ""
             }
            },
            "type": "scatterpolargl"
           }
          ],
          "scatterternary": [
           {
            "marker": {
             "colorbar": {
              "outlinewidth": 0,
              "ticks": ""
             }
            },
            "type": "scatterternary"
           }
          ],
          "surface": [
           {
            "colorbar": {
             "outlinewidth": 0,
             "ticks": ""
            },
            "colorscale": [
             [
              0,
              "#0d0887"
             ],
             [
              0.1111111111111111,
              "#46039f"
             ],
             [
              0.2222222222222222,
              "#7201a8"
             ],
             [
              0.3333333333333333,
              "#9c179e"
             ],
             [
              0.4444444444444444,
              "#bd3786"
             ],
             [
              0.5555555555555556,
              "#d8576b"
             ],
             [
              0.6666666666666666,
              "#ed7953"
             ],
             [
              0.7777777777777778,
              "#fb9f3a"
             ],
             [
              0.8888888888888888,
              "#fdca26"
             ],
             [
              1,
              "#f0f921"
             ]
            ],
            "type": "surface"
           }
          ],
          "table": [
           {
            "cells": {
             "fill": {
              "color": "#EBF0F8"
             },
             "line": {
              "color": "white"
             }
            },
            "header": {
             "fill": {
              "color": "#C8D4E3"
             },
             "line": {
              "color": "white"
             }
            },
            "type": "table"
           }
          ]
         },
         "layout": {
          "annotationdefaults": {
           "arrowcolor": "#2a3f5f",
           "arrowhead": 0,
           "arrowwidth": 1
          },
          "autotypenumbers": "strict",
          "coloraxis": {
           "colorbar": {
            "outlinewidth": 0,
            "ticks": ""
           }
          },
          "colorscale": {
           "diverging": [
            [
             0,
             "#8e0152"
            ],
            [
             0.1,
             "#c51b7d"
            ],
            [
             0.2,
             "#de77ae"
            ],
            [
             0.3,
             "#f1b6da"
            ],
            [
             0.4,
             "#fde0ef"
            ],
            [
             0.5,
             "#f7f7f7"
            ],
            [
             0.6,
             "#e6f5d0"
            ],
            [
             0.7,
             "#b8e186"
            ],
            [
             0.8,
             "#7fbc41"
            ],
            [
             0.9,
             "#4d9221"
            ],
            [
             1,
             "#276419"
            ]
           ],
           "sequential": [
            [
             0,
             "#0d0887"
            ],
            [
             0.1111111111111111,
             "#46039f"
            ],
            [
             0.2222222222222222,
             "#7201a8"
            ],
            [
             0.3333333333333333,
             "#9c179e"
            ],
            [
             0.4444444444444444,
             "#bd3786"
            ],
            [
             0.5555555555555556,
             "#d8576b"
            ],
            [
             0.6666666666666666,
             "#ed7953"
            ],
            [
             0.7777777777777778,
             "#fb9f3a"
            ],
            [
             0.8888888888888888,
             "#fdca26"
            ],
            [
             1,
             "#f0f921"
            ]
           ],
           "sequentialminus": [
            [
             0,
             "#0d0887"
            ],
            [
             0.1111111111111111,
             "#46039f"
            ],
            [
             0.2222222222222222,
             "#7201a8"
            ],
            [
             0.3333333333333333,
             "#9c179e"
            ],
            [
             0.4444444444444444,
             "#bd3786"
            ],
            [
             0.5555555555555556,
             "#d8576b"
            ],
            [
             0.6666666666666666,
             "#ed7953"
            ],
            [
             0.7777777777777778,
             "#fb9f3a"
            ],
            [
             0.8888888888888888,
             "#fdca26"
            ],
            [
             1,
             "#f0f921"
            ]
           ]
          },
          "colorway": [
           "#636efa",
           "#EF553B",
           "#00cc96",
           "#ab63fa",
           "#FFA15A",
           "#19d3f3",
           "#FF6692",
           "#B6E880",
           "#FF97FF",
           "#FECB52"
          ],
          "font": {
           "color": "#2a3f5f"
          },
          "geo": {
           "bgcolor": "white",
           "lakecolor": "white",
           "landcolor": "#E5ECF6",
           "showlakes": true,
           "showland": true,
           "subunitcolor": "white"
          },
          "hoverlabel": {
           "align": "left"
          },
          "hovermode": "closest",
          "mapbox": {
           "style": "light"
          },
          "paper_bgcolor": "white",
          "plot_bgcolor": "#E5ECF6",
          "polar": {
           "angularaxis": {
            "gridcolor": "white",
            "linecolor": "white",
            "ticks": ""
           },
           "bgcolor": "#E5ECF6",
           "radialaxis": {
            "gridcolor": "white",
            "linecolor": "white",
            "ticks": ""
           }
          },
          "scene": {
           "xaxis": {
            "backgroundcolor": "#E5ECF6",
            "gridcolor": "white",
            "gridwidth": 2,
            "linecolor": "white",
            "showbackground": true,
            "ticks": "",
            "zerolinecolor": "white"
           },
           "yaxis": {
            "backgroundcolor": "#E5ECF6",
            "gridcolor": "white",
            "gridwidth": 2,
            "linecolor": "white",
            "showbackground": true,
            "ticks": "",
            "zerolinecolor": "white"
           },
           "zaxis": {
            "backgroundcolor": "#E5ECF6",
            "gridcolor": "white",
            "gridwidth": 2,
            "linecolor": "white",
            "showbackground": true,
            "ticks": "",
            "zerolinecolor": "white"
           }
          },
          "shapedefaults": {
           "line": {
            "color": "#2a3f5f"
           }
          },
          "ternary": {
           "aaxis": {
            "gridcolor": "white",
            "linecolor": "white",
            "ticks": ""
           },
           "baxis": {
            "gridcolor": "white",
            "linecolor": "white",
            "ticks": ""
           },
           "bgcolor": "#E5ECF6",
           "caxis": {
            "gridcolor": "white",
            "linecolor": "white",
            "ticks": ""
           }
          },
          "title": {
           "x": 0.05
          },
          "xaxis": {
           "automargin": true,
           "gridcolor": "white",
           "linecolor": "white",
           "ticks": "",
           "title": {
            "standoff": 15
           },
           "zerolinecolor": "white",
           "zerolinewidth": 2
          },
          "yaxis": {
           "automargin": true,
           "gridcolor": "white",
           "linecolor": "white",
           "ticks": "",
           "title": {
            "standoff": 15
           },
           "zerolinecolor": "white",
           "zerolinewidth": 2
          }
         }
        },
        "title": {
         "font": {
          "color": "#4D5663"
         }
        },
        "xaxis": {
         "gridcolor": "#E1E5ED",
         "showgrid": true,
         "tickfont": {
          "color": "#4D5663"
         },
         "title": {
          "font": {
           "color": "#4D5663"
          },
          "text": ""
         },
         "zerolinecolor": "#E1E5ED"
        },
        "yaxis": {
         "gridcolor": "#E1E5ED",
         "showgrid": true,
         "tickfont": {
          "color": "#4D5663"
         },
         "title": {
          "font": {
           "color": "#4D5663"
          },
          "text": ""
         },
         "zerolinecolor": "#E1E5ED"
        }
       }
      },
      "text/html": [
       "<div>                            <div id=\"84f9515b-ee52-446e-998b-e0ee6c088b4c\" class=\"plotly-graph-div\" style=\"height:525px; width:100%;\"></div>            <script type=\"text/javascript\">                require([\"plotly\"], function(Plotly) {                    window.PLOTLYENV=window.PLOTLYENV || {};\n",
       "                    window.PLOTLYENV.BASE_URL='https://plot.ly';                                    if (document.getElementById(\"84f9515b-ee52-446e-998b-e0ee6c088b4c\")) {                    Plotly.newPlot(                        \"84f9515b-ee52-446e-998b-e0ee6c088b4c\",                        [{\"colorscale\":[[0.0,\"rgb(255, 153, 51)\"],[0.1111111111111111,\"rgb(55, 128, 191)\"],[0.2222222222222222,\"rgb(50, 171, 96)\"],[0.3333333333333333,\"rgb(128, 0, 128)\"],[0.4444444444444444,\"rgb(219, 64, 82)\"],[0.5555555555555556,\"rgb(0, 128, 128)\"],[0.6666666666666666,\"rgb(255, 255, 51)\"],[0.7777777777777778,\"rgb(128, 128, 0)\"],[0.8888888888888888,\"rgb(251, 128, 114)\"],[1.0,\"rgb(128, 177, 211)\"]],\"x\":[0,1,2,3,4],\"y\":[\"x\",\"y\",\"z\"],\"z\":[[1,2,3,4,5],[10,20,30,20,10],[5,4,3,2,1]],\"type\":\"surface\"}],                        {\"legend\":{\"bgcolor\":\"#F5F6F9\",\"font\":{\"color\":\"#4D5663\"}},\"paper_bgcolor\":\"#F5F6F9\",\"plot_bgcolor\":\"#F5F6F9\",\"template\":{\"data\":{\"barpolar\":[{\"marker\":{\"line\":{\"color\":\"#E5ECF6\",\"width\":0.5},\"pattern\":{\"fillmode\":\"overlay\",\"size\":10,\"solidity\":0.2}},\"type\":\"barpolar\"}],\"bar\":[{\"error_x\":{\"color\":\"#2a3f5f\"},\"error_y\":{\"color\":\"#2a3f5f\"},\"marker\":{\"line\":{\"color\":\"#E5ECF6\",\"width\":0.5},\"pattern\":{\"fillmode\":\"overlay\",\"size\":10,\"solidity\":0.2}},\"type\":\"bar\"}],\"carpet\":[{\"aaxis\":{\"endlinecolor\":\"#2a3f5f\",\"gridcolor\":\"white\",\"linecolor\":\"white\",\"minorgridcolor\":\"white\",\"startlinecolor\":\"#2a3f5f\"},\"baxis\":{\"endlinecolor\":\"#2a3f5f\",\"gridcolor\":\"white\",\"linecolor\":\"white\",\"minorgridcolor\":\"white\",\"startlinecolor\":\"#2a3f5f\"},\"type\":\"carpet\"}],\"choropleth\":[{\"colorbar\":{\"outlinewidth\":0,\"ticks\":\"\"},\"type\":\"choropleth\"}],\"contourcarpet\":[{\"colorbar\":{\"outlinewidth\":0,\"ticks\":\"\"},\"type\":\"contourcarpet\"}],\"contour\":[{\"colorbar\":{\"outlinewidth\":0,\"ticks\":\"\"},\"colorscale\":[[0.0,\"#0d0887\"],[0.1111111111111111,\"#46039f\"],[0.2222222222222222,\"#7201a8\"],[0.3333333333333333,\"#9c179e\"],[0.4444444444444444,\"#bd3786\"],[0.5555555555555556,\"#d8576b\"],[0.6666666666666666,\"#ed7953\"],[0.7777777777777778,\"#fb9f3a\"],[0.8888888888888888,\"#fdca26\"],[1.0,\"#f0f921\"]],\"type\":\"contour\"}],\"heatmapgl\":[{\"colorbar\":{\"outlinewidth\":0,\"ticks\":\"\"},\"colorscale\":[[0.0,\"#0d0887\"],[0.1111111111111111,\"#46039f\"],[0.2222222222222222,\"#7201a8\"],[0.3333333333333333,\"#9c179e\"],[0.4444444444444444,\"#bd3786\"],[0.5555555555555556,\"#d8576b\"],[0.6666666666666666,\"#ed7953\"],[0.7777777777777778,\"#fb9f3a\"],[0.8888888888888888,\"#fdca26\"],[1.0,\"#f0f921\"]],\"type\":\"heatmapgl\"}],\"heatmap\":[{\"colorbar\":{\"outlinewidth\":0,\"ticks\":\"\"},\"colorscale\":[[0.0,\"#0d0887\"],[0.1111111111111111,\"#46039f\"],[0.2222222222222222,\"#7201a8\"],[0.3333333333333333,\"#9c179e\"],[0.4444444444444444,\"#bd3786\"],[0.5555555555555556,\"#d8576b\"],[0.6666666666666666,\"#ed7953\"],[0.7777777777777778,\"#fb9f3a\"],[0.8888888888888888,\"#fdca26\"],[1.0,\"#f0f921\"]],\"type\":\"heatmap\"}],\"histogram2dcontour\":[{\"colorbar\":{\"outlinewidth\":0,\"ticks\":\"\"},\"colorscale\":[[0.0,\"#0d0887\"],[0.1111111111111111,\"#46039f\"],[0.2222222222222222,\"#7201a8\"],[0.3333333333333333,\"#9c179e\"],[0.4444444444444444,\"#bd3786\"],[0.5555555555555556,\"#d8576b\"],[0.6666666666666666,\"#ed7953\"],[0.7777777777777778,\"#fb9f3a\"],[0.8888888888888888,\"#fdca26\"],[1.0,\"#f0f921\"]],\"type\":\"histogram2dcontour\"}],\"histogram2d\":[{\"colorbar\":{\"outlinewidth\":0,\"ticks\":\"\"},\"colorscale\":[[0.0,\"#0d0887\"],[0.1111111111111111,\"#46039f\"],[0.2222222222222222,\"#7201a8\"],[0.3333333333333333,\"#9c179e\"],[0.4444444444444444,\"#bd3786\"],[0.5555555555555556,\"#d8576b\"],[0.6666666666666666,\"#ed7953\"],[0.7777777777777778,\"#fb9f3a\"],[0.8888888888888888,\"#fdca26\"],[1.0,\"#f0f921\"]],\"type\":\"histogram2d\"}],\"histogram\":[{\"marker\":{\"pattern\":{\"fillmode\":\"overlay\",\"size\":10,\"solidity\":0.2}},\"type\":\"histogram\"}],\"mesh3d\":[{\"colorbar\":{\"outlinewidth\":0,\"ticks\":\"\"},\"type\":\"mesh3d\"}],\"parcoords\":[{\"line\":{\"colorbar\":{\"outlinewidth\":0,\"ticks\":\"\"}},\"type\":\"parcoords\"}],\"pie\":[{\"automargin\":true,\"type\":\"pie\"}],\"scatter3d\":[{\"line\":{\"colorbar\":{\"outlinewidth\":0,\"ticks\":\"\"}},\"marker\":{\"colorbar\":{\"outlinewidth\":0,\"ticks\":\"\"}},\"type\":\"scatter3d\"}],\"scattercarpet\":[{\"marker\":{\"colorbar\":{\"outlinewidth\":0,\"ticks\":\"\"}},\"type\":\"scattercarpet\"}],\"scattergeo\":[{\"marker\":{\"colorbar\":{\"outlinewidth\":0,\"ticks\":\"\"}},\"type\":\"scattergeo\"}],\"scattergl\":[{\"marker\":{\"colorbar\":{\"outlinewidth\":0,\"ticks\":\"\"}},\"type\":\"scattergl\"}],\"scattermapbox\":[{\"marker\":{\"colorbar\":{\"outlinewidth\":0,\"ticks\":\"\"}},\"type\":\"scattermapbox\"}],\"scatterpolargl\":[{\"marker\":{\"colorbar\":{\"outlinewidth\":0,\"ticks\":\"\"}},\"type\":\"scatterpolargl\"}],\"scatterpolar\":[{\"marker\":{\"colorbar\":{\"outlinewidth\":0,\"ticks\":\"\"}},\"type\":\"scatterpolar\"}],\"scatter\":[{\"fillpattern\":{\"fillmode\":\"overlay\",\"size\":10,\"solidity\":0.2},\"type\":\"scatter\"}],\"scatterternary\":[{\"marker\":{\"colorbar\":{\"outlinewidth\":0,\"ticks\":\"\"}},\"type\":\"scatterternary\"}],\"surface\":[{\"colorbar\":{\"outlinewidth\":0,\"ticks\":\"\"},\"colorscale\":[[0.0,\"#0d0887\"],[0.1111111111111111,\"#46039f\"],[0.2222222222222222,\"#7201a8\"],[0.3333333333333333,\"#9c179e\"],[0.4444444444444444,\"#bd3786\"],[0.5555555555555556,\"#d8576b\"],[0.6666666666666666,\"#ed7953\"],[0.7777777777777778,\"#fb9f3a\"],[0.8888888888888888,\"#fdca26\"],[1.0,\"#f0f921\"]],\"type\":\"surface\"}],\"table\":[{\"cells\":{\"fill\":{\"color\":\"#EBF0F8\"},\"line\":{\"color\":\"white\"}},\"header\":{\"fill\":{\"color\":\"#C8D4E3\"},\"line\":{\"color\":\"white\"}},\"type\":\"table\"}]},\"layout\":{\"annotationdefaults\":{\"arrowcolor\":\"#2a3f5f\",\"arrowhead\":0,\"arrowwidth\":1},\"autotypenumbers\":\"strict\",\"coloraxis\":{\"colorbar\":{\"outlinewidth\":0,\"ticks\":\"\"}},\"colorscale\":{\"diverging\":[[0,\"#8e0152\"],[0.1,\"#c51b7d\"],[0.2,\"#de77ae\"],[0.3,\"#f1b6da\"],[0.4,\"#fde0ef\"],[0.5,\"#f7f7f7\"],[0.6,\"#e6f5d0\"],[0.7,\"#b8e186\"],[0.8,\"#7fbc41\"],[0.9,\"#4d9221\"],[1,\"#276419\"]],\"sequential\":[[0.0,\"#0d0887\"],[0.1111111111111111,\"#46039f\"],[0.2222222222222222,\"#7201a8\"],[0.3333333333333333,\"#9c179e\"],[0.4444444444444444,\"#bd3786\"],[0.5555555555555556,\"#d8576b\"],[0.6666666666666666,\"#ed7953\"],[0.7777777777777778,\"#fb9f3a\"],[0.8888888888888888,\"#fdca26\"],[1.0,\"#f0f921\"]],\"sequentialminus\":[[0.0,\"#0d0887\"],[0.1111111111111111,\"#46039f\"],[0.2222222222222222,\"#7201a8\"],[0.3333333333333333,\"#9c179e\"],[0.4444444444444444,\"#bd3786\"],[0.5555555555555556,\"#d8576b\"],[0.6666666666666666,\"#ed7953\"],[0.7777777777777778,\"#fb9f3a\"],[0.8888888888888888,\"#fdca26\"],[1.0,\"#f0f921\"]]},\"colorway\":[\"#636efa\",\"#EF553B\",\"#00cc96\",\"#ab63fa\",\"#FFA15A\",\"#19d3f3\",\"#FF6692\",\"#B6E880\",\"#FF97FF\",\"#FECB52\"],\"font\":{\"color\":\"#2a3f5f\"},\"geo\":{\"bgcolor\":\"white\",\"lakecolor\":\"white\",\"landcolor\":\"#E5ECF6\",\"showlakes\":true,\"showland\":true,\"subunitcolor\":\"white\"},\"hoverlabel\":{\"align\":\"left\"},\"hovermode\":\"closest\",\"mapbox\":{\"style\":\"light\"},\"paper_bgcolor\":\"white\",\"plot_bgcolor\":\"#E5ECF6\",\"polar\":{\"angularaxis\":{\"gridcolor\":\"white\",\"linecolor\":\"white\",\"ticks\":\"\"},\"bgcolor\":\"#E5ECF6\",\"radialaxis\":{\"gridcolor\":\"white\",\"linecolor\":\"white\",\"ticks\":\"\"}},\"scene\":{\"xaxis\":{\"backgroundcolor\":\"#E5ECF6\",\"gridcolor\":\"white\",\"gridwidth\":2,\"linecolor\":\"white\",\"showbackground\":true,\"ticks\":\"\",\"zerolinecolor\":\"white\"},\"yaxis\":{\"backgroundcolor\":\"#E5ECF6\",\"gridcolor\":\"white\",\"gridwidth\":2,\"linecolor\":\"white\",\"showbackground\":true,\"ticks\":\"\",\"zerolinecolor\":\"white\"},\"zaxis\":{\"backgroundcolor\":\"#E5ECF6\",\"gridcolor\":\"white\",\"gridwidth\":2,\"linecolor\":\"white\",\"showbackground\":true,\"ticks\":\"\",\"zerolinecolor\":\"white\"}},\"shapedefaults\":{\"line\":{\"color\":\"#2a3f5f\"}},\"ternary\":{\"aaxis\":{\"gridcolor\":\"white\",\"linecolor\":\"white\",\"ticks\":\"\"},\"baxis\":{\"gridcolor\":\"white\",\"linecolor\":\"white\",\"ticks\":\"\"},\"bgcolor\":\"#E5ECF6\",\"caxis\":{\"gridcolor\":\"white\",\"linecolor\":\"white\",\"ticks\":\"\"}},\"title\":{\"x\":0.05},\"xaxis\":{\"automargin\":true,\"gridcolor\":\"white\",\"linecolor\":\"white\",\"ticks\":\"\",\"title\":{\"standoff\":15},\"zerolinecolor\":\"white\",\"zerolinewidth\":2},\"yaxis\":{\"automargin\":true,\"gridcolor\":\"white\",\"linecolor\":\"white\",\"ticks\":\"\",\"title\":{\"standoff\":15},\"zerolinecolor\":\"white\",\"zerolinewidth\":2}}},\"title\":{\"font\":{\"color\":\"#4D5663\"}},\"xaxis\":{\"gridcolor\":\"#E1E5ED\",\"showgrid\":true,\"tickfont\":{\"color\":\"#4D5663\"},\"title\":{\"font\":{\"color\":\"#4D5663\"},\"text\":\"\"},\"zerolinecolor\":\"#E1E5ED\"},\"yaxis\":{\"gridcolor\":\"#E1E5ED\",\"showgrid\":true,\"tickfont\":{\"color\":\"#4D5663\"},\"title\":{\"font\":{\"color\":\"#4D5663\"},\"text\":\"\"},\"zerolinecolor\":\"#E1E5ED\"}},                        {\"showLink\": true, \"linkText\": \"Export to plot.ly\", \"plotlyServerURL\": \"https://plot.ly\", \"responsive\": true}                    ).then(function(){\n",
       "                            \n",
       "var gd = document.getElementById('84f9515b-ee52-446e-998b-e0ee6c088b4c');\n",
       "var x = new MutationObserver(function (mutations, observer) {{\n",
       "        var display = window.getComputedStyle(gd).display;\n",
       "        if (!display || display === 'none') {{\n",
       "            console.log([gd, 'removed!']);\n",
       "            Plotly.purge(gd);\n",
       "            observer.disconnect();\n",
       "        }}\n",
       "}});\n",
       "\n",
       "// Listen for the removal of the full notebook cells\n",
       "var notebookContainer = gd.closest('#notebook-container');\n",
       "if (notebookContainer) {{\n",
       "    x.observe(notebookContainer, {childList: true});\n",
       "}}\n",
       "\n",
       "// Listen for the clearing of the current output cell\n",
       "var outputEl = gd.closest('.output');\n",
       "if (outputEl) {{\n",
       "    x.observe(outputEl, {childList: true});\n",
       "}}\n",
       "\n",
       "                        })                };                });            </script>        </div>"
      ]
     },
     "metadata": {},
     "output_type": "display_data"
    }
   ],
   "source": [
    "df3.iplot(kind='surface')"
   ]
  },
  {
   "cell_type": "code",
   "execution_count": 23,
   "id": "1ac50aab-4d07-47b6-8052-bc28999f7373",
   "metadata": {},
   "outputs": [
    {
     "name": "stderr",
     "output_type": "stream",
     "text": [
      "/opt/conda/lib/python3.9/site-packages/cufflinks/plotlytools.py:849: FutureWarning:\n",
      "\n",
      "The pandas.np module is deprecated and will be removed from pandas in a future version. Import numpy directly instead\n",
      "\n",
      "/opt/conda/lib/python3.9/site-packages/cufflinks/plotlytools.py:850: FutureWarning:\n",
      "\n",
      "The pandas.np module is deprecated and will be removed from pandas in a future version. Import numpy directly instead\n",
      "\n"
     ]
    },
    {
     "data": {
      "application/vnd.plotly.v1+json": {
       "config": {
        "linkText": "Export to plot.ly",
        "plotlyServerURL": "https://plot.ly",
        "showLink": true
       },
       "data": [
        {
         "line": {
          "color": "rgba(255, 153, 51, 1.0)",
          "dash": "solid",
          "shape": "linear",
          "width": 1.3
         },
         "mode": "lines",
         "name": "A",
         "text": "",
         "type": "scatter",
         "x": [
          0,
          1,
          2,
          3,
          4,
          5,
          6,
          7,
          8,
          9,
          10,
          11,
          12,
          13,
          14,
          15,
          16,
          17,
          18,
          19,
          20,
          21,
          22,
          23,
          24,
          25,
          26,
          27,
          28,
          29,
          30,
          31,
          32,
          33,
          34,
          35,
          36,
          37,
          38,
          39,
          40,
          41,
          42,
          43,
          44,
          45,
          46,
          47,
          48,
          49,
          50,
          51,
          52,
          53,
          54,
          55,
          56,
          57,
          58,
          59,
          60,
          61,
          62,
          63,
          64,
          65,
          66,
          67,
          68,
          69,
          70,
          71,
          72,
          73,
          74,
          75,
          76,
          77,
          78,
          79,
          80,
          81,
          82,
          83,
          84,
          85,
          86,
          87,
          88,
          89,
          90,
          91,
          92,
          93,
          94,
          95,
          96,
          97,
          98,
          99
         ],
         "y": [
          1.2336395877706994,
          -0.048615295932523526,
          0.25099671508100824,
          -0.1192462297098814,
          -0.2608481410248185,
          -0.06471520395729977,
          0.6259498930158807,
          0.12224421427601183,
          0.9324539075586492,
          1.070141475329659,
          0.5285224800201517,
          -0.24958849117359538,
          -0.29752102945104475,
          -0.6454103565063174,
          0.10442728647747394,
          -0.39378093189513375,
          -0.41399385767203517,
          -2.3312026081324517,
          0.31942537204183175,
          -1.4169774002817863,
          -1.377837148359218,
          -0.8064637395522112,
          3.3046701681598245,
          0.3249459378005792,
          0.3650097454990451,
          0.02065115131120758,
          1.2133373411044714,
          0.13608566784413764,
          -1.082375661287402,
          0.21276340210915654,
          -0.541233499690844,
          1.0120991433643813,
          -0.18508374419786647,
          -0.5156638362473296,
          -0.0645236069411833,
          0.34718435927735686,
          -1.1135794845678495,
          -0.9176904249407741,
          3.0705934949711446,
          1.4086638090114365,
          0.2562168360363639,
          -1.7164372878789915,
          0.22716733957708662,
          -1.4865304220381552,
          -0.483176954304673,
          2.802666688554588,
          -1.1253381606030017,
          -0.6915062924050371,
          0.7247609199197345,
          1.2275235702973804,
          -0.22318512888589181,
          -0.3132358939336809,
          -1.6040305545083373,
          1.8458126184513648,
          -0.8154253140752616,
          -0.2256614370869709,
          1.2978362803458532,
          0.14007647039884705,
          -0.20458602765483533,
          -0.2703209024985795,
          -0.2654081193656234,
          0.2202236850078853,
          0.14962062952118016,
          -0.9932677026925171,
          1.4271803455705308,
          0.43146018054188895,
          0.22187226163578996,
          1.7326906445715977,
          0.08548903032789677,
          -0.9295010484556132,
          0.5475247339146619,
          0.12447547676253774,
          -0.29634372342151055,
          -1.0253146544479361,
          0.3421818204421844,
          0.3688861723184149,
          0.03492725922143807,
          -0.31362123305608436,
          0.24375801240034217,
          0.4269918051686339,
          -0.23890978405914443,
          -1.7877295632810428,
          -0.16004350029481743,
          -0.3352782257640638,
          0.9857046637192217,
          -0.831237642919192,
          0.3361311145496733,
          0.7589545074594741,
          0.1781577265576734,
          -1.6752858972755533,
          -1.2041662102497588,
          -0.6653978729777915,
          0.3275641601449004,
          1.1634374896765034,
          -0.12556238527553262,
          0.11262507359259387,
          -0.13497569861698266,
          -1.3005004618063705,
          -1.4015847136640596,
          -0.7130959437805059
         ]
        },
        {
         "line": {
          "color": "rgba(55, 128, 191, 1.0)",
          "dash": "solid",
          "shape": "linear",
          "width": 1.3
         },
         "mode": "lines",
         "name": "B",
         "text": "",
         "type": "scatter",
         "x": [
          0,
          1,
          2,
          3,
          4,
          5,
          6,
          7,
          8,
          9,
          10,
          11,
          12,
          13,
          14,
          15,
          16,
          17,
          18,
          19,
          20,
          21,
          22,
          23,
          24,
          25,
          26,
          27,
          28,
          29,
          30,
          31,
          32,
          33,
          34,
          35,
          36,
          37,
          38,
          39,
          40,
          41,
          42,
          43,
          44,
          45,
          46,
          47,
          48,
          49,
          50,
          51,
          52,
          53,
          54,
          55,
          56,
          57,
          58,
          59,
          60,
          61,
          62,
          63,
          64,
          65,
          66,
          67,
          68,
          69,
          70,
          71,
          72,
          73,
          74,
          75,
          76,
          77,
          78,
          79,
          80,
          81,
          82,
          83,
          84,
          85,
          86,
          87,
          88,
          89,
          90,
          91,
          92,
          93,
          94,
          95,
          96,
          97,
          98,
          99
         ],
         "y": [
          -1.9022065685510319,
          -2.1358854266589624,
          0.15731369215411856,
          -0.5116965050067188,
          -1.016778500304455,
          -0.07152395582692508,
          -0.6287641264563816,
          0.8116557648643434,
          -0.7109323439808468,
          -0.717033813927751,
          1.3316196542841683,
          -0.6310880219508661,
          2.5874251211580503,
          0.2644218892403224,
          -0.35142315852607764,
          0.2922499094243876,
          0.38465151313280316,
          0.4796526662506324,
          -0.692821516591526,
          -0.744210867455073,
          1.7066955696594042,
          0.21510833265147353,
          0.21771786641689403,
          -0.014642454292073627,
          1.1895312175510309,
          -1.3459717202535904,
          0.8467885453665221,
          -0.3114575850495862,
          1.030590665567906,
          -1.3999658924835772,
          0.3257603132932959,
          0.6586054996837076,
          -1.8464148734907193,
          -1.611694363967646,
          1.3087935975821354,
          -0.7122544344002926,
          -1.4202540474598107,
          -0.06956475576311448,
          -2.9681640089507857,
          0.31351528648144794,
          1.19697663227665,
          -0.06858255920050399,
          0.6949733405235001,
          0.12072343848660112,
          -0.9717122892437534,
          -0.6664128392375659,
          1.187574085544821,
          -2.1002353959673896,
          -1.0640523429911906,
          -0.6086697081559084,
          0.9148357188130085,
          -0.5189278497433476,
          -0.10464004777836514,
          0.5441484352640663,
          -1.101107079520376,
          0.104551275657519,
          -0.8641663897108429,
          -0.5439274802275234,
          0.7001541532162037,
          1.4695162149737615,
          -0.2926165781490387,
          -1.4279237442435446,
          1.0361323352789527,
          -0.988429236318292,
          -1.7599933184757448,
          -0.2972367314119232,
          -2.211370194384513,
          -0.6616248315376154,
          0.0006914603293870927,
          0.14312271204237148,
          1.037395383748161,
          0.635085681475714,
          -1.2801277743573918,
          -0.22485334081701447,
          -0.10709203797243241,
          1.0903950904507504,
          0.9498423697670688,
          -0.7566860215157124,
          -1.3185193689652943,
          0.3067433056702688,
          -0.1868825475446146,
          0.3227653992788982,
          1.1239897541025106,
          -0.85444767818716,
          -1.6535091941092632,
          0.733284060047493,
          2.2098470730160282,
          -0.939844915630386,
          -0.8269920694055485,
          -0.42477083179568426,
          0.6469222732434078,
          -0.6554123928641302,
          -0.6036906296788903,
          0.5121986984319296,
          -0.155322734625543,
          -0.5053751854186547,
          1.5239366853625391,
          2.047004505696809,
          -0.889866678505674,
          -0.29066447432594056
         ]
        },
        {
         "connectgaps": false,
         "fill": "tozeroy",
         "line": {
          "color": "green",
          "dash": "solid",
          "shape": "linear",
          "width": 0.5
         },
         "mode": "lines",
         "name": "Spread",
         "showlegend": false,
         "type": "scatter",
         "x": [
          0,
          1,
          2,
          3,
          4,
          5,
          6,
          7,
          8,
          9,
          10,
          11,
          12,
          13,
          14,
          15,
          16,
          17,
          18,
          19,
          20,
          21,
          22,
          23,
          24,
          25,
          26,
          27,
          28,
          29,
          30,
          31,
          32,
          33,
          34,
          35,
          36,
          37,
          38,
          39,
          40,
          41,
          42,
          43,
          44,
          45,
          46,
          47,
          48,
          49,
          50,
          51,
          52,
          53,
          54,
          55,
          56,
          57,
          58,
          59,
          60,
          61,
          62,
          63,
          64,
          65,
          66,
          67,
          68,
          69,
          70,
          71,
          72,
          73,
          74,
          75,
          76,
          77,
          78,
          79,
          80,
          81,
          82,
          83,
          84,
          85,
          86,
          87,
          88,
          89,
          90,
          91,
          92,
          93,
          94,
          95,
          96,
          97,
          98,
          99
         ],
         "xaxis": "x2",
         "y": [
          3.1358461563217315,
          2.0872701307264387,
          0.09368302292688968,
          0.3924502752968374,
          0.7559303592796365,
          0.006808751869625318,
          1.2547140194722624,
          "",
          1.643386251539496,
          1.78717528925741,
          "",
          0.3814995307772707,
          "",
          "",
          0.4558504450035516,
          "",
          "",
          "",
          1.0122468886333578,
          "",
          "",
          "",
          3.0869523017429303,
          0.3395883920926528,
          "",
          1.366622871564798,
          0.3665487957379493,
          0.4475432528937239,
          "",
          1.6127292945927336,
          "",
          0.3534936436806737,
          1.6613311292928528,
          1.0960305277203164,
          "",
          1.0594387936776495,
          0.30667456289196116,
          "",
          6.03875750392193,
          1.0951485225299886,
          "",
          "",
          "",
          "",
          0.4885353349390804,
          3.469079527792154,
          "",
          1.4087291035623526,
          1.788813262910925,
          1.8361932784532886,
          "",
          0.2056919558096667,
          "",
          1.3016641831872984,
          0.28568176544511426,
          "",
          2.162002670056696,
          0.6840039506263704,
          "",
          "",
          0.027208458783415268,
          1.64814742925143,
          "",
          "",
          3.1871736640462753,
          0.7286969119538121,
          2.4332424560203028,
          2.394315476109213,
          0.08479756999850968,
          "",
          "",
          "",
          0.9837840509358813,
          "",
          0.44927385841461687,
          "",
          "",
          0.44306478845962805,
          1.5622773813656365,
          0.12024849949836508,
          "",
          "",
          "",
          0.5191694524230963,
          2.639213857828485,
          "",
          "",
          1.6987994230898602,
          1.0051497959632218,
          "",
          "",
          "",
          0.9312547898237907,
          0.6512387912445738,
          0.029760349350010373,
          0.6180002590112486,
          "",
          "",
          "",
          ""
         ],
         "yaxis": "y2"
        },
        {
         "connectgaps": false,
         "fill": "tozeroy",
         "line": {
          "color": "red",
          "dash": "solid",
          "shape": "linear",
          "width": 0.5
         },
         "mode": "lines",
         "name": "Spread",
         "showlegend": false,
         "type": "scatter",
         "x": [
          0,
          1,
          2,
          3,
          4,
          5,
          6,
          7,
          8,
          9,
          10,
          11,
          12,
          13,
          14,
          15,
          16,
          17,
          18,
          19,
          20,
          21,
          22,
          23,
          24,
          25,
          26,
          27,
          28,
          29,
          30,
          31,
          32,
          33,
          34,
          35,
          36,
          37,
          38,
          39,
          40,
          41,
          42,
          43,
          44,
          45,
          46,
          47,
          48,
          49,
          50,
          51,
          52,
          53,
          54,
          55,
          56,
          57,
          58,
          59,
          60,
          61,
          62,
          63,
          64,
          65,
          66,
          67,
          68,
          69,
          70,
          71,
          72,
          73,
          74,
          75,
          76,
          77,
          78,
          79,
          80,
          81,
          82,
          83,
          84,
          85,
          86,
          87,
          88,
          89,
          90,
          91,
          92,
          93,
          94,
          95,
          96,
          97,
          98,
          99
         ],
         "xaxis": "x2",
         "y": [
          "",
          "",
          "",
          "",
          "",
          "",
          "",
          -0.6894115505883316,
          "",
          "",
          -0.8030971742640166,
          "",
          -2.884946150609095,
          -0.9098322457466398,
          "",
          -0.6860308413195213,
          -0.7986453708048383,
          -2.8108552743830844,
          "",
          -0.6727665328267133,
          -3.084532718018622,
          -1.0215720722036847,
          "",
          "",
          -0.8245214720519858,
          "",
          "",
          "",
          -2.1129663268553083,
          "",
          -0.8669938129841399,
          "",
          "",
          "",
          -1.3733172045233186,
          "",
          "",
          -0.8481256691776596,
          "",
          "",
          -0.940759796240286,
          -1.6478547286784875,
          -0.4678060009464135,
          -1.6072538605247564,
          "",
          "",
          -2.312912246147823,
          "",
          "",
          "",
          -1.1380208476989004,
          "",
          -1.4993905067299722,
          "",
          "",
          -0.3302127127444899,
          "",
          "",
          -0.904740180871039,
          -1.739837117472341,
          "",
          "",
          -0.8865117057577725,
          -0.004838466374225026,
          "",
          "",
          "",
          "",
          "",
          -1.0726237604979847,
          -0.48987064983349915,
          -0.5106102047131762,
          "",
          -0.8004613136309217,
          "",
          -0.7215089181323355,
          -0.9149151105456308,
          "",
          "",
          "",
          -0.05202723651452981,
          -2.110494962559941,
          -1.284033254397328,
          "",
          "",
          -1.564521702966685,
          -1.873715958466355,
          "",
          "",
          -1.2505150654798691,
          -1.8510884834931667,
          -0.009985480113661294,
          "",
          "",
          "",
          "",
          -1.658912383979522,
          -3.3475049675031796,
          -0.5117180351583855,
          -0.42243146945456533
         ],
         "yaxis": "y2"
        }
       ],
       "layout": {
        "hovermode": "x",
        "legend": {
         "bgcolor": "#F5F6F9",
         "font": {
          "color": "#4D5663"
         }
        },
        "paper_bgcolor": "#F5F6F9",
        "plot_bgcolor": "#F5F6F9",
        "template": {
         "data": {
          "bar": [
           {
            "error_x": {
             "color": "#2a3f5f"
            },
            "error_y": {
             "color": "#2a3f5f"
            },
            "marker": {
             "line": {
              "color": "#E5ECF6",
              "width": 0.5
             },
             "pattern": {
              "fillmode": "overlay",
              "size": 10,
              "solidity": 0.2
             }
            },
            "type": "bar"
           }
          ],
          "barpolar": [
           {
            "marker": {
             "line": {
              "color": "#E5ECF6",
              "width": 0.5
             },
             "pattern": {
              "fillmode": "overlay",
              "size": 10,
              "solidity": 0.2
             }
            },
            "type": "barpolar"
           }
          ],
          "carpet": [
           {
            "aaxis": {
             "endlinecolor": "#2a3f5f",
             "gridcolor": "white",
             "linecolor": "white",
             "minorgridcolor": "white",
             "startlinecolor": "#2a3f5f"
            },
            "baxis": {
             "endlinecolor": "#2a3f5f",
             "gridcolor": "white",
             "linecolor": "white",
             "minorgridcolor": "white",
             "startlinecolor": "#2a3f5f"
            },
            "type": "carpet"
           }
          ],
          "choropleth": [
           {
            "colorbar": {
             "outlinewidth": 0,
             "ticks": ""
            },
            "type": "choropleth"
           }
          ],
          "contour": [
           {
            "colorbar": {
             "outlinewidth": 0,
             "ticks": ""
            },
            "colorscale": [
             [
              0,
              "#0d0887"
             ],
             [
              0.1111111111111111,
              "#46039f"
             ],
             [
              0.2222222222222222,
              "#7201a8"
             ],
             [
              0.3333333333333333,
              "#9c179e"
             ],
             [
              0.4444444444444444,
              "#bd3786"
             ],
             [
              0.5555555555555556,
              "#d8576b"
             ],
             [
              0.6666666666666666,
              "#ed7953"
             ],
             [
              0.7777777777777778,
              "#fb9f3a"
             ],
             [
              0.8888888888888888,
              "#fdca26"
             ],
             [
              1,
              "#f0f921"
             ]
            ],
            "type": "contour"
           }
          ],
          "contourcarpet": [
           {
            "colorbar": {
             "outlinewidth": 0,
             "ticks": ""
            },
            "type": "contourcarpet"
           }
          ],
          "heatmap": [
           {
            "colorbar": {
             "outlinewidth": 0,
             "ticks": ""
            },
            "colorscale": [
             [
              0,
              "#0d0887"
             ],
             [
              0.1111111111111111,
              "#46039f"
             ],
             [
              0.2222222222222222,
              "#7201a8"
             ],
             [
              0.3333333333333333,
              "#9c179e"
             ],
             [
              0.4444444444444444,
              "#bd3786"
             ],
             [
              0.5555555555555556,
              "#d8576b"
             ],
             [
              0.6666666666666666,
              "#ed7953"
             ],
             [
              0.7777777777777778,
              "#fb9f3a"
             ],
             [
              0.8888888888888888,
              "#fdca26"
             ],
             [
              1,
              "#f0f921"
             ]
            ],
            "type": "heatmap"
           }
          ],
          "heatmapgl": [
           {
            "colorbar": {
             "outlinewidth": 0,
             "ticks": ""
            },
            "colorscale": [
             [
              0,
              "#0d0887"
             ],
             [
              0.1111111111111111,
              "#46039f"
             ],
             [
              0.2222222222222222,
              "#7201a8"
             ],
             [
              0.3333333333333333,
              "#9c179e"
             ],
             [
              0.4444444444444444,
              "#bd3786"
             ],
             [
              0.5555555555555556,
              "#d8576b"
             ],
             [
              0.6666666666666666,
              "#ed7953"
             ],
             [
              0.7777777777777778,
              "#fb9f3a"
             ],
             [
              0.8888888888888888,
              "#fdca26"
             ],
             [
              1,
              "#f0f921"
             ]
            ],
            "type": "heatmapgl"
           }
          ],
          "histogram": [
           {
            "marker": {
             "pattern": {
              "fillmode": "overlay",
              "size": 10,
              "solidity": 0.2
             }
            },
            "type": "histogram"
           }
          ],
          "histogram2d": [
           {
            "colorbar": {
             "outlinewidth": 0,
             "ticks": ""
            },
            "colorscale": [
             [
              0,
              "#0d0887"
             ],
             [
              0.1111111111111111,
              "#46039f"
             ],
             [
              0.2222222222222222,
              "#7201a8"
             ],
             [
              0.3333333333333333,
              "#9c179e"
             ],
             [
              0.4444444444444444,
              "#bd3786"
             ],
             [
              0.5555555555555556,
              "#d8576b"
             ],
             [
              0.6666666666666666,
              "#ed7953"
             ],
             [
              0.7777777777777778,
              "#fb9f3a"
             ],
             [
              0.8888888888888888,
              "#fdca26"
             ],
             [
              1,
              "#f0f921"
             ]
            ],
            "type": "histogram2d"
           }
          ],
          "histogram2dcontour": [
           {
            "colorbar": {
             "outlinewidth": 0,
             "ticks": ""
            },
            "colorscale": [
             [
              0,
              "#0d0887"
             ],
             [
              0.1111111111111111,
              "#46039f"
             ],
             [
              0.2222222222222222,
              "#7201a8"
             ],
             [
              0.3333333333333333,
              "#9c179e"
             ],
             [
              0.4444444444444444,
              "#bd3786"
             ],
             [
              0.5555555555555556,
              "#d8576b"
             ],
             [
              0.6666666666666666,
              "#ed7953"
             ],
             [
              0.7777777777777778,
              "#fb9f3a"
             ],
             [
              0.8888888888888888,
              "#fdca26"
             ],
             [
              1,
              "#f0f921"
             ]
            ],
            "type": "histogram2dcontour"
           }
          ],
          "mesh3d": [
           {
            "colorbar": {
             "outlinewidth": 0,
             "ticks": ""
            },
            "type": "mesh3d"
           }
          ],
          "parcoords": [
           {
            "line": {
             "colorbar": {
              "outlinewidth": 0,
              "ticks": ""
             }
            },
            "type": "parcoords"
           }
          ],
          "pie": [
           {
            "automargin": true,
            "type": "pie"
           }
          ],
          "scatter": [
           {
            "fillpattern": {
             "fillmode": "overlay",
             "size": 10,
             "solidity": 0.2
            },
            "type": "scatter"
           }
          ],
          "scatter3d": [
           {
            "line": {
             "colorbar": {
              "outlinewidth": 0,
              "ticks": ""
             }
            },
            "marker": {
             "colorbar": {
              "outlinewidth": 0,
              "ticks": ""
             }
            },
            "type": "scatter3d"
           }
          ],
          "scattercarpet": [
           {
            "marker": {
             "colorbar": {
              "outlinewidth": 0,
              "ticks": ""
             }
            },
            "type": "scattercarpet"
           }
          ],
          "scattergeo": [
           {
            "marker": {
             "colorbar": {
              "outlinewidth": 0,
              "ticks": ""
             }
            },
            "type": "scattergeo"
           }
          ],
          "scattergl": [
           {
            "marker": {
             "colorbar": {
              "outlinewidth": 0,
              "ticks": ""
             }
            },
            "type": "scattergl"
           }
          ],
          "scattermapbox": [
           {
            "marker": {
             "colorbar": {
              "outlinewidth": 0,
              "ticks": ""
             }
            },
            "type": "scattermapbox"
           }
          ],
          "scatterpolar": [
           {
            "marker": {
             "colorbar": {
              "outlinewidth": 0,
              "ticks": ""
             }
            },
            "type": "scatterpolar"
           }
          ],
          "scatterpolargl": [
           {
            "marker": {
             "colorbar": {
              "outlinewidth": 0,
              "ticks": ""
             }
            },
            "type": "scatterpolargl"
           }
          ],
          "scatterternary": [
           {
            "marker": {
             "colorbar": {
              "outlinewidth": 0,
              "ticks": ""
             }
            },
            "type": "scatterternary"
           }
          ],
          "surface": [
           {
            "colorbar": {
             "outlinewidth": 0,
             "ticks": ""
            },
            "colorscale": [
             [
              0,
              "#0d0887"
             ],
             [
              0.1111111111111111,
              "#46039f"
             ],
             [
              0.2222222222222222,
              "#7201a8"
             ],
             [
              0.3333333333333333,
              "#9c179e"
             ],
             [
              0.4444444444444444,
              "#bd3786"
             ],
             [
              0.5555555555555556,
              "#d8576b"
             ],
             [
              0.6666666666666666,
              "#ed7953"
             ],
             [
              0.7777777777777778,
              "#fb9f3a"
             ],
             [
              0.8888888888888888,
              "#fdca26"
             ],
             [
              1,
              "#f0f921"
             ]
            ],
            "type": "surface"
           }
          ],
          "table": [
           {
            "cells": {
             "fill": {
              "color": "#EBF0F8"
             },
             "line": {
              "color": "white"
             }
            },
            "header": {
             "fill": {
              "color": "#C8D4E3"
             },
             "line": {
              "color": "white"
             }
            },
            "type": "table"
           }
          ]
         },
         "layout": {
          "annotationdefaults": {
           "arrowcolor": "#2a3f5f",
           "arrowhead": 0,
           "arrowwidth": 1
          },
          "autotypenumbers": "strict",
          "coloraxis": {
           "colorbar": {
            "outlinewidth": 0,
            "ticks": ""
           }
          },
          "colorscale": {
           "diverging": [
            [
             0,
             "#8e0152"
            ],
            [
             0.1,
             "#c51b7d"
            ],
            [
             0.2,
             "#de77ae"
            ],
            [
             0.3,
             "#f1b6da"
            ],
            [
             0.4,
             "#fde0ef"
            ],
            [
             0.5,
             "#f7f7f7"
            ],
            [
             0.6,
             "#e6f5d0"
            ],
            [
             0.7,
             "#b8e186"
            ],
            [
             0.8,
             "#7fbc41"
            ],
            [
             0.9,
             "#4d9221"
            ],
            [
             1,
             "#276419"
            ]
           ],
           "sequential": [
            [
             0,
             "#0d0887"
            ],
            [
             0.1111111111111111,
             "#46039f"
            ],
            [
             0.2222222222222222,
             "#7201a8"
            ],
            [
             0.3333333333333333,
             "#9c179e"
            ],
            [
             0.4444444444444444,
             "#bd3786"
            ],
            [
             0.5555555555555556,
             "#d8576b"
            ],
            [
             0.6666666666666666,
             "#ed7953"
            ],
            [
             0.7777777777777778,
             "#fb9f3a"
            ],
            [
             0.8888888888888888,
             "#fdca26"
            ],
            [
             1,
             "#f0f921"
            ]
           ],
           "sequentialminus": [
            [
             0,
             "#0d0887"
            ],
            [
             0.1111111111111111,
             "#46039f"
            ],
            [
             0.2222222222222222,
             "#7201a8"
            ],
            [
             0.3333333333333333,
             "#9c179e"
            ],
            [
             0.4444444444444444,
             "#bd3786"
            ],
            [
             0.5555555555555556,
             "#d8576b"
            ],
            [
             0.6666666666666666,
             "#ed7953"
            ],
            [
             0.7777777777777778,
             "#fb9f3a"
            ],
            [
             0.8888888888888888,
             "#fdca26"
            ],
            [
             1,
             "#f0f921"
            ]
           ]
          },
          "colorway": [
           "#636efa",
           "#EF553B",
           "#00cc96",
           "#ab63fa",
           "#FFA15A",
           "#19d3f3",
           "#FF6692",
           "#B6E880",
           "#FF97FF",
           "#FECB52"
          ],
          "font": {
           "color": "#2a3f5f"
          },
          "geo": {
           "bgcolor": "white",
           "lakecolor": "white",
           "landcolor": "#E5ECF6",
           "showlakes": true,
           "showland": true,
           "subunitcolor": "white"
          },
          "hoverlabel": {
           "align": "left"
          },
          "hovermode": "closest",
          "mapbox": {
           "style": "light"
          },
          "paper_bgcolor": "white",
          "plot_bgcolor": "#E5ECF6",
          "polar": {
           "angularaxis": {
            "gridcolor": "white",
            "linecolor": "white",
            "ticks": ""
           },
           "bgcolor": "#E5ECF6",
           "radialaxis": {
            "gridcolor": "white",
            "linecolor": "white",
            "ticks": ""
           }
          },
          "scene": {
           "xaxis": {
            "backgroundcolor": "#E5ECF6",
            "gridcolor": "white",
            "gridwidth": 2,
            "linecolor": "white",
            "showbackground": true,
            "ticks": "",
            "zerolinecolor": "white"
           },
           "yaxis": {
            "backgroundcolor": "#E5ECF6",
            "gridcolor": "white",
            "gridwidth": 2,
            "linecolor": "white",
            "showbackground": true,
            "ticks": "",
            "zerolinecolor": "white"
           },
           "zaxis": {
            "backgroundcolor": "#E5ECF6",
            "gridcolor": "white",
            "gridwidth": 2,
            "linecolor": "white",
            "showbackground": true,
            "ticks": "",
            "zerolinecolor": "white"
           }
          },
          "shapedefaults": {
           "line": {
            "color": "#2a3f5f"
           }
          },
          "ternary": {
           "aaxis": {
            "gridcolor": "white",
            "linecolor": "white",
            "ticks": ""
           },
           "baxis": {
            "gridcolor": "white",
            "linecolor": "white",
            "ticks": ""
           },
           "bgcolor": "#E5ECF6",
           "caxis": {
            "gridcolor": "white",
            "linecolor": "white",
            "ticks": ""
           }
          },
          "title": {
           "x": 0.05
          },
          "xaxis": {
           "automargin": true,
           "gridcolor": "white",
           "linecolor": "white",
           "ticks": "",
           "title": {
            "standoff": 15
           },
           "zerolinecolor": "white",
           "zerolinewidth": 2
          },
          "yaxis": {
           "automargin": true,
           "gridcolor": "white",
           "linecolor": "white",
           "ticks": "",
           "title": {
            "standoff": 15
           },
           "zerolinecolor": "white",
           "zerolinewidth": 2
          }
         }
        },
        "title": {
         "font": {
          "color": "#4D5663"
         }
        },
        "xaxis": {
         "gridcolor": "#E1E5ED",
         "showgrid": true,
         "tickfont": {
          "color": "#4D5663"
         },
         "title": {
          "font": {
           "color": "#4D5663"
          },
          "text": ""
         },
         "zerolinecolor": "#E1E5ED"
        },
        "xaxis2": {
         "anchor": "y2",
         "gridcolor": "#E1E5ED",
         "showgrid": true,
         "showticklabels": false,
         "tickfont": {
          "color": "#4D5663"
         },
         "title": {
          "font": {
           "color": "#4D5663"
          },
          "text": ""
         },
         "zerolinecolor": "#E1E5ED"
        },
        "yaxis": {
         "domain": [
          0.3,
          1
         ],
         "gridcolor": "#E1E5ED",
         "showgrid": true,
         "tickfont": {
          "color": "#4D5663"
         },
         "title": {
          "font": {
           "color": "#4D5663"
          },
          "text": ""
         },
         "zerolinecolor": "#E1E5ED"
        },
        "yaxis2": {
         "domain": [
          0,
          0.25
         ],
         "gridcolor": "#E1E5ED",
         "showgrid": true,
         "tickfont": {
          "color": "#4D5663"
         },
         "title": {
          "font": {
           "color": "#4D5663"
          },
          "text": "Spread"
         },
         "zerolinecolor": "#E1E5ED"
        }
       }
      },
      "text/html": [
       "<div>                            <div id=\"3a1d8ae8-08ad-4a07-bd4d-57023a6bf4a9\" class=\"plotly-graph-div\" style=\"height:525px; width:100%;\"></div>            <script type=\"text/javascript\">                require([\"plotly\"], function(Plotly) {                    window.PLOTLYENV=window.PLOTLYENV || {};\n",
       "                    window.PLOTLYENV.BASE_URL='https://plot.ly';                                    if (document.getElementById(\"3a1d8ae8-08ad-4a07-bd4d-57023a6bf4a9\")) {                    Plotly.newPlot(                        \"3a1d8ae8-08ad-4a07-bd4d-57023a6bf4a9\",                        [{\"line\":{\"color\":\"rgba(255, 153, 51, 1.0)\",\"dash\":\"solid\",\"shape\":\"linear\",\"width\":1.3},\"mode\":\"lines\",\"name\":\"A\",\"text\":\"\",\"x\":[0,1,2,3,4,5,6,7,8,9,10,11,12,13,14,15,16,17,18,19,20,21,22,23,24,25,26,27,28,29,30,31,32,33,34,35,36,37,38,39,40,41,42,43,44,45,46,47,48,49,50,51,52,53,54,55,56,57,58,59,60,61,62,63,64,65,66,67,68,69,70,71,72,73,74,75,76,77,78,79,80,81,82,83,84,85,86,87,88,89,90,91,92,93,94,95,96,97,98,99],\"y\":[1.2336395877706994,-0.048615295932523526,0.25099671508100824,-0.1192462297098814,-0.2608481410248185,-0.06471520395729977,0.6259498930158807,0.12224421427601183,0.9324539075586492,1.070141475329659,0.5285224800201517,-0.24958849117359538,-0.29752102945104475,-0.6454103565063174,0.10442728647747394,-0.39378093189513375,-0.41399385767203517,-2.3312026081324517,0.31942537204183175,-1.4169774002817863,-1.377837148359218,-0.8064637395522112,3.3046701681598245,0.3249459378005792,0.3650097454990451,0.02065115131120758,1.2133373411044714,0.13608566784413764,-1.082375661287402,0.21276340210915654,-0.541233499690844,1.0120991433643813,-0.18508374419786647,-0.5156638362473296,-0.0645236069411833,0.34718435927735686,-1.1135794845678495,-0.9176904249407741,3.0705934949711446,1.4086638090114365,0.2562168360363639,-1.7164372878789915,0.22716733957708662,-1.4865304220381552,-0.483176954304673,2.802666688554588,-1.1253381606030017,-0.6915062924050371,0.7247609199197345,1.2275235702973804,-0.22318512888589181,-0.3132358939336809,-1.6040305545083373,1.8458126184513648,-0.8154253140752616,-0.2256614370869709,1.2978362803458532,0.14007647039884705,-0.20458602765483533,-0.2703209024985795,-0.2654081193656234,0.2202236850078853,0.14962062952118016,-0.9932677026925171,1.4271803455705308,0.43146018054188895,0.22187226163578996,1.7326906445715977,0.08548903032789677,-0.9295010484556132,0.5475247339146619,0.12447547676253774,-0.29634372342151055,-1.0253146544479361,0.3421818204421844,0.3688861723184149,0.03492725922143807,-0.31362123305608436,0.24375801240034217,0.4269918051686339,-0.23890978405914443,-1.7877295632810428,-0.16004350029481743,-0.3352782257640638,0.9857046637192217,-0.831237642919192,0.3361311145496733,0.7589545074594741,0.1781577265576734,-1.6752858972755533,-1.2041662102497588,-0.6653978729777915,0.3275641601449004,1.1634374896765034,-0.12556238527553262,0.11262507359259387,-0.13497569861698266,-1.3005004618063705,-1.4015847136640596,-0.7130959437805059],\"type\":\"scatter\"},{\"line\":{\"color\":\"rgba(55, 128, 191, 1.0)\",\"dash\":\"solid\",\"shape\":\"linear\",\"width\":1.3},\"mode\":\"lines\",\"name\":\"B\",\"text\":\"\",\"x\":[0,1,2,3,4,5,6,7,8,9,10,11,12,13,14,15,16,17,18,19,20,21,22,23,24,25,26,27,28,29,30,31,32,33,34,35,36,37,38,39,40,41,42,43,44,45,46,47,48,49,50,51,52,53,54,55,56,57,58,59,60,61,62,63,64,65,66,67,68,69,70,71,72,73,74,75,76,77,78,79,80,81,82,83,84,85,86,87,88,89,90,91,92,93,94,95,96,97,98,99],\"y\":[-1.9022065685510319,-2.1358854266589624,0.15731369215411856,-0.5116965050067188,-1.016778500304455,-0.07152395582692508,-0.6287641264563816,0.8116557648643434,-0.7109323439808468,-0.717033813927751,1.3316196542841683,-0.6310880219508661,2.5874251211580503,0.2644218892403224,-0.35142315852607764,0.2922499094243876,0.38465151313280316,0.4796526662506324,-0.692821516591526,-0.744210867455073,1.7066955696594042,0.21510833265147353,0.21771786641689403,-0.014642454292073627,1.1895312175510309,-1.3459717202535904,0.8467885453665221,-0.3114575850495862,1.030590665567906,-1.3999658924835772,0.3257603132932959,0.6586054996837076,-1.8464148734907193,-1.611694363967646,1.3087935975821354,-0.7122544344002926,-1.4202540474598107,-0.06956475576311448,-2.9681640089507857,0.31351528648144794,1.19697663227665,-0.06858255920050399,0.6949733405235001,0.12072343848660112,-0.9717122892437534,-0.6664128392375659,1.187574085544821,-2.1002353959673896,-1.0640523429911906,-0.6086697081559084,0.9148357188130085,-0.5189278497433476,-0.10464004777836514,0.5441484352640663,-1.101107079520376,0.104551275657519,-0.8641663897108429,-0.5439274802275234,0.7001541532162037,1.4695162149737615,-0.2926165781490387,-1.4279237442435446,1.0361323352789527,-0.988429236318292,-1.7599933184757448,-0.2972367314119232,-2.211370194384513,-0.6616248315376154,0.0006914603293870927,0.14312271204237148,1.037395383748161,0.635085681475714,-1.2801277743573918,-0.22485334081701447,-0.10709203797243241,1.0903950904507504,0.9498423697670688,-0.7566860215157124,-1.3185193689652943,0.3067433056702688,-0.1868825475446146,0.3227653992788982,1.1239897541025106,-0.85444767818716,-1.6535091941092632,0.733284060047493,2.2098470730160282,-0.939844915630386,-0.8269920694055485,-0.42477083179568426,0.6469222732434078,-0.6554123928641302,-0.6036906296788903,0.5121986984319296,-0.155322734625543,-0.5053751854186547,1.5239366853625391,2.047004505696809,-0.889866678505674,-0.29066447432594056],\"type\":\"scatter\"},{\"connectgaps\":false,\"fill\":\"tozeroy\",\"line\":{\"color\":\"green\",\"dash\":\"solid\",\"shape\":\"linear\",\"width\":0.5},\"mode\":\"lines\",\"name\":\"Spread\",\"showlegend\":false,\"x\":[0,1,2,3,4,5,6,7,8,9,10,11,12,13,14,15,16,17,18,19,20,21,22,23,24,25,26,27,28,29,30,31,32,33,34,35,36,37,38,39,40,41,42,43,44,45,46,47,48,49,50,51,52,53,54,55,56,57,58,59,60,61,62,63,64,65,66,67,68,69,70,71,72,73,74,75,76,77,78,79,80,81,82,83,84,85,86,87,88,89,90,91,92,93,94,95,96,97,98,99],\"xaxis\":\"x2\",\"y\":[3.1358461563217315,2.0872701307264387,0.09368302292688968,0.3924502752968374,0.7559303592796365,0.006808751869625318,1.2547140194722624,\"\",1.643386251539496,1.78717528925741,\"\",0.3814995307772707,\"\",\"\",0.4558504450035516,\"\",\"\",\"\",1.0122468886333578,\"\",\"\",\"\",3.0869523017429303,0.3395883920926528,\"\",1.366622871564798,0.3665487957379493,0.4475432528937239,\"\",1.6127292945927336,\"\",0.3534936436806737,1.6613311292928528,1.0960305277203164,\"\",1.0594387936776495,0.30667456289196116,\"\",6.03875750392193,1.0951485225299886,\"\",\"\",\"\",\"\",0.4885353349390804,3.469079527792154,\"\",1.4087291035623526,1.788813262910925,1.8361932784532886,\"\",0.2056919558096667,\"\",1.3016641831872984,0.28568176544511426,\"\",2.162002670056696,0.6840039506263704,\"\",\"\",0.027208458783415268,1.64814742925143,\"\",\"\",3.1871736640462753,0.7286969119538121,2.4332424560203028,2.394315476109213,0.08479756999850968,\"\",\"\",\"\",0.9837840509358813,\"\",0.44927385841461687,\"\",\"\",0.44306478845962805,1.5622773813656365,0.12024849949836508,\"\",\"\",\"\",0.5191694524230963,2.639213857828485,\"\",\"\",1.6987994230898602,1.0051497959632218,\"\",\"\",\"\",0.9312547898237907,0.6512387912445738,0.029760349350010373,0.6180002590112486,\"\",\"\",\"\",\"\"],\"yaxis\":\"y2\",\"type\":\"scatter\"},{\"connectgaps\":false,\"fill\":\"tozeroy\",\"line\":{\"color\":\"red\",\"dash\":\"solid\",\"shape\":\"linear\",\"width\":0.5},\"mode\":\"lines\",\"name\":\"Spread\",\"showlegend\":false,\"x\":[0,1,2,3,4,5,6,7,8,9,10,11,12,13,14,15,16,17,18,19,20,21,22,23,24,25,26,27,28,29,30,31,32,33,34,35,36,37,38,39,40,41,42,43,44,45,46,47,48,49,50,51,52,53,54,55,56,57,58,59,60,61,62,63,64,65,66,67,68,69,70,71,72,73,74,75,76,77,78,79,80,81,82,83,84,85,86,87,88,89,90,91,92,93,94,95,96,97,98,99],\"xaxis\":\"x2\",\"y\":[\"\",\"\",\"\",\"\",\"\",\"\",\"\",-0.6894115505883316,\"\",\"\",-0.8030971742640166,\"\",-2.884946150609095,-0.9098322457466398,\"\",-0.6860308413195213,-0.7986453708048383,-2.8108552743830844,\"\",-0.6727665328267133,-3.084532718018622,-1.0215720722036847,\"\",\"\",-0.8245214720519858,\"\",\"\",\"\",-2.1129663268553083,\"\",-0.8669938129841399,\"\",\"\",\"\",-1.3733172045233186,\"\",\"\",-0.8481256691776596,\"\",\"\",-0.940759796240286,-1.6478547286784875,-0.4678060009464135,-1.6072538605247564,\"\",\"\",-2.312912246147823,\"\",\"\",\"\",-1.1380208476989004,\"\",-1.4993905067299722,\"\",\"\",-0.3302127127444899,\"\",\"\",-0.904740180871039,-1.739837117472341,\"\",\"\",-0.8865117057577725,-0.004838466374225026,\"\",\"\",\"\",\"\",\"\",-1.0726237604979847,-0.48987064983349915,-0.5106102047131762,\"\",-0.8004613136309217,\"\",-0.7215089181323355,-0.9149151105456308,\"\",\"\",\"\",-0.05202723651452981,-2.110494962559941,-1.284033254397328,\"\",\"\",-1.564521702966685,-1.873715958466355,\"\",\"\",-1.2505150654798691,-1.8510884834931667,-0.009985480113661294,\"\",\"\",\"\",\"\",-1.658912383979522,-3.3475049675031796,-0.5117180351583855,-0.42243146945456533],\"yaxis\":\"y2\",\"type\":\"scatter\"}],                        {\"hovermode\":\"x\",\"legend\":{\"bgcolor\":\"#F5F6F9\",\"font\":{\"color\":\"#4D5663\"}},\"paper_bgcolor\":\"#F5F6F9\",\"plot_bgcolor\":\"#F5F6F9\",\"template\":{\"data\":{\"barpolar\":[{\"marker\":{\"line\":{\"color\":\"#E5ECF6\",\"width\":0.5},\"pattern\":{\"fillmode\":\"overlay\",\"size\":10,\"solidity\":0.2}},\"type\":\"barpolar\"}],\"bar\":[{\"error_x\":{\"color\":\"#2a3f5f\"},\"error_y\":{\"color\":\"#2a3f5f\"},\"marker\":{\"line\":{\"color\":\"#E5ECF6\",\"width\":0.5},\"pattern\":{\"fillmode\":\"overlay\",\"size\":10,\"solidity\":0.2}},\"type\":\"bar\"}],\"carpet\":[{\"aaxis\":{\"endlinecolor\":\"#2a3f5f\",\"gridcolor\":\"white\",\"linecolor\":\"white\",\"minorgridcolor\":\"white\",\"startlinecolor\":\"#2a3f5f\"},\"baxis\":{\"endlinecolor\":\"#2a3f5f\",\"gridcolor\":\"white\",\"linecolor\":\"white\",\"minorgridcolor\":\"white\",\"startlinecolor\":\"#2a3f5f\"},\"type\":\"carpet\"}],\"choropleth\":[{\"colorbar\":{\"outlinewidth\":0,\"ticks\":\"\"},\"type\":\"choropleth\"}],\"contourcarpet\":[{\"colorbar\":{\"outlinewidth\":0,\"ticks\":\"\"},\"type\":\"contourcarpet\"}],\"contour\":[{\"colorbar\":{\"outlinewidth\":0,\"ticks\":\"\"},\"colorscale\":[[0.0,\"#0d0887\"],[0.1111111111111111,\"#46039f\"],[0.2222222222222222,\"#7201a8\"],[0.3333333333333333,\"#9c179e\"],[0.4444444444444444,\"#bd3786\"],[0.5555555555555556,\"#d8576b\"],[0.6666666666666666,\"#ed7953\"],[0.7777777777777778,\"#fb9f3a\"],[0.8888888888888888,\"#fdca26\"],[1.0,\"#f0f921\"]],\"type\":\"contour\"}],\"heatmapgl\":[{\"colorbar\":{\"outlinewidth\":0,\"ticks\":\"\"},\"colorscale\":[[0.0,\"#0d0887\"],[0.1111111111111111,\"#46039f\"],[0.2222222222222222,\"#7201a8\"],[0.3333333333333333,\"#9c179e\"],[0.4444444444444444,\"#bd3786\"],[0.5555555555555556,\"#d8576b\"],[0.6666666666666666,\"#ed7953\"],[0.7777777777777778,\"#fb9f3a\"],[0.8888888888888888,\"#fdca26\"],[1.0,\"#f0f921\"]],\"type\":\"heatmapgl\"}],\"heatmap\":[{\"colorbar\":{\"outlinewidth\":0,\"ticks\":\"\"},\"colorscale\":[[0.0,\"#0d0887\"],[0.1111111111111111,\"#46039f\"],[0.2222222222222222,\"#7201a8\"],[0.3333333333333333,\"#9c179e\"],[0.4444444444444444,\"#bd3786\"],[0.5555555555555556,\"#d8576b\"],[0.6666666666666666,\"#ed7953\"],[0.7777777777777778,\"#fb9f3a\"],[0.8888888888888888,\"#fdca26\"],[1.0,\"#f0f921\"]],\"type\":\"heatmap\"}],\"histogram2dcontour\":[{\"colorbar\":{\"outlinewidth\":0,\"ticks\":\"\"},\"colorscale\":[[0.0,\"#0d0887\"],[0.1111111111111111,\"#46039f\"],[0.2222222222222222,\"#7201a8\"],[0.3333333333333333,\"#9c179e\"],[0.4444444444444444,\"#bd3786\"],[0.5555555555555556,\"#d8576b\"],[0.6666666666666666,\"#ed7953\"],[0.7777777777777778,\"#fb9f3a\"],[0.8888888888888888,\"#fdca26\"],[1.0,\"#f0f921\"]],\"type\":\"histogram2dcontour\"}],\"histogram2d\":[{\"colorbar\":{\"outlinewidth\":0,\"ticks\":\"\"},\"colorscale\":[[0.0,\"#0d0887\"],[0.1111111111111111,\"#46039f\"],[0.2222222222222222,\"#7201a8\"],[0.3333333333333333,\"#9c179e\"],[0.4444444444444444,\"#bd3786\"],[0.5555555555555556,\"#d8576b\"],[0.6666666666666666,\"#ed7953\"],[0.7777777777777778,\"#fb9f3a\"],[0.8888888888888888,\"#fdca26\"],[1.0,\"#f0f921\"]],\"type\":\"histogram2d\"}],\"histogram\":[{\"marker\":{\"pattern\":{\"fillmode\":\"overlay\",\"size\":10,\"solidity\":0.2}},\"type\":\"histogram\"}],\"mesh3d\":[{\"colorbar\":{\"outlinewidth\":0,\"ticks\":\"\"},\"type\":\"mesh3d\"}],\"parcoords\":[{\"line\":{\"colorbar\":{\"outlinewidth\":0,\"ticks\":\"\"}},\"type\":\"parcoords\"}],\"pie\":[{\"automargin\":true,\"type\":\"pie\"}],\"scatter3d\":[{\"line\":{\"colorbar\":{\"outlinewidth\":0,\"ticks\":\"\"}},\"marker\":{\"colorbar\":{\"outlinewidth\":0,\"ticks\":\"\"}},\"type\":\"scatter3d\"}],\"scattercarpet\":[{\"marker\":{\"colorbar\":{\"outlinewidth\":0,\"ticks\":\"\"}},\"type\":\"scattercarpet\"}],\"scattergeo\":[{\"marker\":{\"colorbar\":{\"outlinewidth\":0,\"ticks\":\"\"}},\"type\":\"scattergeo\"}],\"scattergl\":[{\"marker\":{\"colorbar\":{\"outlinewidth\":0,\"ticks\":\"\"}},\"type\":\"scattergl\"}],\"scattermapbox\":[{\"marker\":{\"colorbar\":{\"outlinewidth\":0,\"ticks\":\"\"}},\"type\":\"scattermapbox\"}],\"scatterpolargl\":[{\"marker\":{\"colorbar\":{\"outlinewidth\":0,\"ticks\":\"\"}},\"type\":\"scatterpolargl\"}],\"scatterpolar\":[{\"marker\":{\"colorbar\":{\"outlinewidth\":0,\"ticks\":\"\"}},\"type\":\"scatterpolar\"}],\"scatter\":[{\"fillpattern\":{\"fillmode\":\"overlay\",\"size\":10,\"solidity\":0.2},\"type\":\"scatter\"}],\"scatterternary\":[{\"marker\":{\"colorbar\":{\"outlinewidth\":0,\"ticks\":\"\"}},\"type\":\"scatterternary\"}],\"surface\":[{\"colorbar\":{\"outlinewidth\":0,\"ticks\":\"\"},\"colorscale\":[[0.0,\"#0d0887\"],[0.1111111111111111,\"#46039f\"],[0.2222222222222222,\"#7201a8\"],[0.3333333333333333,\"#9c179e\"],[0.4444444444444444,\"#bd3786\"],[0.5555555555555556,\"#d8576b\"],[0.6666666666666666,\"#ed7953\"],[0.7777777777777778,\"#fb9f3a\"],[0.8888888888888888,\"#fdca26\"],[1.0,\"#f0f921\"]],\"type\":\"surface\"}],\"table\":[{\"cells\":{\"fill\":{\"color\":\"#EBF0F8\"},\"line\":{\"color\":\"white\"}},\"header\":{\"fill\":{\"color\":\"#C8D4E3\"},\"line\":{\"color\":\"white\"}},\"type\":\"table\"}]},\"layout\":{\"annotationdefaults\":{\"arrowcolor\":\"#2a3f5f\",\"arrowhead\":0,\"arrowwidth\":1},\"autotypenumbers\":\"strict\",\"coloraxis\":{\"colorbar\":{\"outlinewidth\":0,\"ticks\":\"\"}},\"colorscale\":{\"diverging\":[[0,\"#8e0152\"],[0.1,\"#c51b7d\"],[0.2,\"#de77ae\"],[0.3,\"#f1b6da\"],[0.4,\"#fde0ef\"],[0.5,\"#f7f7f7\"],[0.6,\"#e6f5d0\"],[0.7,\"#b8e186\"],[0.8,\"#7fbc41\"],[0.9,\"#4d9221\"],[1,\"#276419\"]],\"sequential\":[[0.0,\"#0d0887\"],[0.1111111111111111,\"#46039f\"],[0.2222222222222222,\"#7201a8\"],[0.3333333333333333,\"#9c179e\"],[0.4444444444444444,\"#bd3786\"],[0.5555555555555556,\"#d8576b\"],[0.6666666666666666,\"#ed7953\"],[0.7777777777777778,\"#fb9f3a\"],[0.8888888888888888,\"#fdca26\"],[1.0,\"#f0f921\"]],\"sequentialminus\":[[0.0,\"#0d0887\"],[0.1111111111111111,\"#46039f\"],[0.2222222222222222,\"#7201a8\"],[0.3333333333333333,\"#9c179e\"],[0.4444444444444444,\"#bd3786\"],[0.5555555555555556,\"#d8576b\"],[0.6666666666666666,\"#ed7953\"],[0.7777777777777778,\"#fb9f3a\"],[0.8888888888888888,\"#fdca26\"],[1.0,\"#f0f921\"]]},\"colorway\":[\"#636efa\",\"#EF553B\",\"#00cc96\",\"#ab63fa\",\"#FFA15A\",\"#19d3f3\",\"#FF6692\",\"#B6E880\",\"#FF97FF\",\"#FECB52\"],\"font\":{\"color\":\"#2a3f5f\"},\"geo\":{\"bgcolor\":\"white\",\"lakecolor\":\"white\",\"landcolor\":\"#E5ECF6\",\"showlakes\":true,\"showland\":true,\"subunitcolor\":\"white\"},\"hoverlabel\":{\"align\":\"left\"},\"hovermode\":\"closest\",\"mapbox\":{\"style\":\"light\"},\"paper_bgcolor\":\"white\",\"plot_bgcolor\":\"#E5ECF6\",\"polar\":{\"angularaxis\":{\"gridcolor\":\"white\",\"linecolor\":\"white\",\"ticks\":\"\"},\"bgcolor\":\"#E5ECF6\",\"radialaxis\":{\"gridcolor\":\"white\",\"linecolor\":\"white\",\"ticks\":\"\"}},\"scene\":{\"xaxis\":{\"backgroundcolor\":\"#E5ECF6\",\"gridcolor\":\"white\",\"gridwidth\":2,\"linecolor\":\"white\",\"showbackground\":true,\"ticks\":\"\",\"zerolinecolor\":\"white\"},\"yaxis\":{\"backgroundcolor\":\"#E5ECF6\",\"gridcolor\":\"white\",\"gridwidth\":2,\"linecolor\":\"white\",\"showbackground\":true,\"ticks\":\"\",\"zerolinecolor\":\"white\"},\"zaxis\":{\"backgroundcolor\":\"#E5ECF6\",\"gridcolor\":\"white\",\"gridwidth\":2,\"linecolor\":\"white\",\"showbackground\":true,\"ticks\":\"\",\"zerolinecolor\":\"white\"}},\"shapedefaults\":{\"line\":{\"color\":\"#2a3f5f\"}},\"ternary\":{\"aaxis\":{\"gridcolor\":\"white\",\"linecolor\":\"white\",\"ticks\":\"\"},\"baxis\":{\"gridcolor\":\"white\",\"linecolor\":\"white\",\"ticks\":\"\"},\"bgcolor\":\"#E5ECF6\",\"caxis\":{\"gridcolor\":\"white\",\"linecolor\":\"white\",\"ticks\":\"\"}},\"title\":{\"x\":0.05},\"xaxis\":{\"automargin\":true,\"gridcolor\":\"white\",\"linecolor\":\"white\",\"ticks\":\"\",\"title\":{\"standoff\":15},\"zerolinecolor\":\"white\",\"zerolinewidth\":2},\"yaxis\":{\"automargin\":true,\"gridcolor\":\"white\",\"linecolor\":\"white\",\"ticks\":\"\",\"title\":{\"standoff\":15},\"zerolinecolor\":\"white\",\"zerolinewidth\":2}}},\"title\":{\"font\":{\"color\":\"#4D5663\"}},\"xaxis\":{\"gridcolor\":\"#E1E5ED\",\"showgrid\":true,\"tickfont\":{\"color\":\"#4D5663\"},\"title\":{\"font\":{\"color\":\"#4D5663\"},\"text\":\"\"},\"zerolinecolor\":\"#E1E5ED\"},\"yaxis\":{\"domain\":[0.3,1],\"gridcolor\":\"#E1E5ED\",\"showgrid\":true,\"tickfont\":{\"color\":\"#4D5663\"},\"title\":{\"font\":{\"color\":\"#4D5663\"},\"text\":\"\"},\"zerolinecolor\":\"#E1E5ED\"},\"yaxis2\":{\"domain\":[0,0.25],\"gridcolor\":\"#E1E5ED\",\"showgrid\":true,\"tickfont\":{\"color\":\"#4D5663\"},\"title\":{\"font\":{\"color\":\"#4D5663\"},\"text\":\"Spread\"},\"zerolinecolor\":\"#E1E5ED\"},\"xaxis2\":{\"anchor\":\"y2\",\"gridcolor\":\"#E1E5ED\",\"showgrid\":true,\"showticklabels\":false,\"tickfont\":{\"color\":\"#4D5663\"},\"title\":{\"font\":{\"color\":\"#4D5663\"},\"text\":\"\"},\"zerolinecolor\":\"#E1E5ED\"}},                        {\"showLink\": true, \"linkText\": \"Export to plot.ly\", \"plotlyServerURL\": \"https://plot.ly\", \"responsive\": true}                    ).then(function(){\n",
       "                            \n",
       "var gd = document.getElementById('3a1d8ae8-08ad-4a07-bd4d-57023a6bf4a9');\n",
       "var x = new MutationObserver(function (mutations, observer) {{\n",
       "        var display = window.getComputedStyle(gd).display;\n",
       "        if (!display || display === 'none') {{\n",
       "            console.log([gd, 'removed!']);\n",
       "            Plotly.purge(gd);\n",
       "            observer.disconnect();\n",
       "        }}\n",
       "}});\n",
       "\n",
       "// Listen for the removal of the full notebook cells\n",
       "var notebookContainer = gd.closest('#notebook-container');\n",
       "if (notebookContainer) {{\n",
       "    x.observe(notebookContainer, {childList: true});\n",
       "}}\n",
       "\n",
       "// Listen for the clearing of the current output cell\n",
       "var outputEl = gd.closest('.output');\n",
       "if (outputEl) {{\n",
       "    x.observe(outputEl, {childList: true});\n",
       "}}\n",
       "\n",
       "                        })                };                });            </script>        </div>"
      ]
     },
     "metadata": {},
     "output_type": "display_data"
    }
   ],
   "source": [
    "df[['A','B']].iplot(kind=\"spread\")"
   ]
  },
  {
   "cell_type": "code",
   "execution_count": 24,
   "id": "ae0ec2b8-1d75-4ebf-b235-9b4a49547fec",
   "metadata": {},
   "outputs": [
    {
     "data": {
      "application/vnd.plotly.v1+json": {
       "config": {
        "linkText": "Export to plot.ly",
        "plotlyServerURL": "https://plot.ly",
        "showLink": true
       },
       "data": [
        {
         "histfunc": "count",
         "histnorm": "",
         "marker": {
          "color": "rgba(255, 153, 51, 1.0)",
          "line": {
           "color": "#4D5663",
           "width": 1.3
          }
         },
         "name": "A",
         "opacity": 0.8,
         "orientation": "v",
         "type": "histogram",
         "x": [
          1.2336395877706994,
          -0.048615295932523526,
          0.25099671508100824,
          -0.1192462297098814,
          -0.2608481410248185,
          -0.06471520395729977,
          0.6259498930158807,
          0.12224421427601183,
          0.9324539075586492,
          1.070141475329659,
          0.5285224800201517,
          -0.24958849117359538,
          -0.29752102945104475,
          -0.6454103565063174,
          0.10442728647747394,
          -0.39378093189513375,
          -0.41399385767203517,
          -2.3312026081324517,
          0.31942537204183175,
          -1.4169774002817863,
          -1.377837148359218,
          -0.8064637395522112,
          3.3046701681598245,
          0.3249459378005792,
          0.3650097454990451,
          0.02065115131120758,
          1.2133373411044714,
          0.13608566784413764,
          -1.082375661287402,
          0.21276340210915654,
          -0.541233499690844,
          1.0120991433643813,
          -0.18508374419786647,
          -0.5156638362473296,
          -0.0645236069411833,
          0.34718435927735686,
          -1.1135794845678495,
          -0.9176904249407741,
          3.0705934949711446,
          1.4086638090114365,
          0.2562168360363639,
          -1.7164372878789915,
          0.22716733957708662,
          -1.4865304220381552,
          -0.483176954304673,
          2.802666688554588,
          -1.1253381606030017,
          -0.6915062924050371,
          0.7247609199197345,
          1.2275235702973804,
          -0.22318512888589181,
          -0.3132358939336809,
          -1.6040305545083373,
          1.8458126184513648,
          -0.8154253140752616,
          -0.2256614370869709,
          1.2978362803458532,
          0.14007647039884705,
          -0.20458602765483533,
          -0.2703209024985795,
          -0.2654081193656234,
          0.2202236850078853,
          0.14962062952118016,
          -0.9932677026925171,
          1.4271803455705308,
          0.43146018054188895,
          0.22187226163578996,
          1.7326906445715977,
          0.08548903032789677,
          -0.9295010484556132,
          0.5475247339146619,
          0.12447547676253774,
          -0.29634372342151055,
          -1.0253146544479361,
          0.3421818204421844,
          0.3688861723184149,
          0.03492725922143807,
          -0.31362123305608436,
          0.24375801240034217,
          0.4269918051686339,
          -0.23890978405914443,
          -1.7877295632810428,
          -0.16004350029481743,
          -0.3352782257640638,
          0.9857046637192217,
          -0.831237642919192,
          0.3361311145496733,
          0.7589545074594741,
          0.1781577265576734,
          -1.6752858972755533,
          -1.2041662102497588,
          -0.6653978729777915,
          0.3275641601449004,
          1.1634374896765034,
          -0.12556238527553262,
          0.11262507359259387,
          -0.13497569861698266,
          -1.3005004618063705,
          -1.4015847136640596,
          -0.7130959437805059
         ]
        }
       ],
       "layout": {
        "barmode": "overlay",
        "legend": {
         "bgcolor": "#F5F6F9",
         "font": {
          "color": "#4D5663"
         }
        },
        "paper_bgcolor": "#F5F6F9",
        "plot_bgcolor": "#F5F6F9",
        "template": {
         "data": {
          "bar": [
           {
            "error_x": {
             "color": "#2a3f5f"
            },
            "error_y": {
             "color": "#2a3f5f"
            },
            "marker": {
             "line": {
              "color": "#E5ECF6",
              "width": 0.5
             },
             "pattern": {
              "fillmode": "overlay",
              "size": 10,
              "solidity": 0.2
             }
            },
            "type": "bar"
           }
          ],
          "barpolar": [
           {
            "marker": {
             "line": {
              "color": "#E5ECF6",
              "width": 0.5
             },
             "pattern": {
              "fillmode": "overlay",
              "size": 10,
              "solidity": 0.2
             }
            },
            "type": "barpolar"
           }
          ],
          "carpet": [
           {
            "aaxis": {
             "endlinecolor": "#2a3f5f",
             "gridcolor": "white",
             "linecolor": "white",
             "minorgridcolor": "white",
             "startlinecolor": "#2a3f5f"
            },
            "baxis": {
             "endlinecolor": "#2a3f5f",
             "gridcolor": "white",
             "linecolor": "white",
             "minorgridcolor": "white",
             "startlinecolor": "#2a3f5f"
            },
            "type": "carpet"
           }
          ],
          "choropleth": [
           {
            "colorbar": {
             "outlinewidth": 0,
             "ticks": ""
            },
            "type": "choropleth"
           }
          ],
          "contour": [
           {
            "colorbar": {
             "outlinewidth": 0,
             "ticks": ""
            },
            "colorscale": [
             [
              0,
              "#0d0887"
             ],
             [
              0.1111111111111111,
              "#46039f"
             ],
             [
              0.2222222222222222,
              "#7201a8"
             ],
             [
              0.3333333333333333,
              "#9c179e"
             ],
             [
              0.4444444444444444,
              "#bd3786"
             ],
             [
              0.5555555555555556,
              "#d8576b"
             ],
             [
              0.6666666666666666,
              "#ed7953"
             ],
             [
              0.7777777777777778,
              "#fb9f3a"
             ],
             [
              0.8888888888888888,
              "#fdca26"
             ],
             [
              1,
              "#f0f921"
             ]
            ],
            "type": "contour"
           }
          ],
          "contourcarpet": [
           {
            "colorbar": {
             "outlinewidth": 0,
             "ticks": ""
            },
            "type": "contourcarpet"
           }
          ],
          "heatmap": [
           {
            "colorbar": {
             "outlinewidth": 0,
             "ticks": ""
            },
            "colorscale": [
             [
              0,
              "#0d0887"
             ],
             [
              0.1111111111111111,
              "#46039f"
             ],
             [
              0.2222222222222222,
              "#7201a8"
             ],
             [
              0.3333333333333333,
              "#9c179e"
             ],
             [
              0.4444444444444444,
              "#bd3786"
             ],
             [
              0.5555555555555556,
              "#d8576b"
             ],
             [
              0.6666666666666666,
              "#ed7953"
             ],
             [
              0.7777777777777778,
              "#fb9f3a"
             ],
             [
              0.8888888888888888,
              "#fdca26"
             ],
             [
              1,
              "#f0f921"
             ]
            ],
            "type": "heatmap"
           }
          ],
          "heatmapgl": [
           {
            "colorbar": {
             "outlinewidth": 0,
             "ticks": ""
            },
            "colorscale": [
             [
              0,
              "#0d0887"
             ],
             [
              0.1111111111111111,
              "#46039f"
             ],
             [
              0.2222222222222222,
              "#7201a8"
             ],
             [
              0.3333333333333333,
              "#9c179e"
             ],
             [
              0.4444444444444444,
              "#bd3786"
             ],
             [
              0.5555555555555556,
              "#d8576b"
             ],
             [
              0.6666666666666666,
              "#ed7953"
             ],
             [
              0.7777777777777778,
              "#fb9f3a"
             ],
             [
              0.8888888888888888,
              "#fdca26"
             ],
             [
              1,
              "#f0f921"
             ]
            ],
            "type": "heatmapgl"
           }
          ],
          "histogram": [
           {
            "marker": {
             "pattern": {
              "fillmode": "overlay",
              "size": 10,
              "solidity": 0.2
             }
            },
            "type": "histogram"
           }
          ],
          "histogram2d": [
           {
            "colorbar": {
             "outlinewidth": 0,
             "ticks": ""
            },
            "colorscale": [
             [
              0,
              "#0d0887"
             ],
             [
              0.1111111111111111,
              "#46039f"
             ],
             [
              0.2222222222222222,
              "#7201a8"
             ],
             [
              0.3333333333333333,
              "#9c179e"
             ],
             [
              0.4444444444444444,
              "#bd3786"
             ],
             [
              0.5555555555555556,
              "#d8576b"
             ],
             [
              0.6666666666666666,
              "#ed7953"
             ],
             [
              0.7777777777777778,
              "#fb9f3a"
             ],
             [
              0.8888888888888888,
              "#fdca26"
             ],
             [
              1,
              "#f0f921"
             ]
            ],
            "type": "histogram2d"
           }
          ],
          "histogram2dcontour": [
           {
            "colorbar": {
             "outlinewidth": 0,
             "ticks": ""
            },
            "colorscale": [
             [
              0,
              "#0d0887"
             ],
             [
              0.1111111111111111,
              "#46039f"
             ],
             [
              0.2222222222222222,
              "#7201a8"
             ],
             [
              0.3333333333333333,
              "#9c179e"
             ],
             [
              0.4444444444444444,
              "#bd3786"
             ],
             [
              0.5555555555555556,
              "#d8576b"
             ],
             [
              0.6666666666666666,
              "#ed7953"
             ],
             [
              0.7777777777777778,
              "#fb9f3a"
             ],
             [
              0.8888888888888888,
              "#fdca26"
             ],
             [
              1,
              "#f0f921"
             ]
            ],
            "type": "histogram2dcontour"
           }
          ],
          "mesh3d": [
           {
            "colorbar": {
             "outlinewidth": 0,
             "ticks": ""
            },
            "type": "mesh3d"
           }
          ],
          "parcoords": [
           {
            "line": {
             "colorbar": {
              "outlinewidth": 0,
              "ticks": ""
             }
            },
            "type": "parcoords"
           }
          ],
          "pie": [
           {
            "automargin": true,
            "type": "pie"
           }
          ],
          "scatter": [
           {
            "fillpattern": {
             "fillmode": "overlay",
             "size": 10,
             "solidity": 0.2
            },
            "type": "scatter"
           }
          ],
          "scatter3d": [
           {
            "line": {
             "colorbar": {
              "outlinewidth": 0,
              "ticks": ""
             }
            },
            "marker": {
             "colorbar": {
              "outlinewidth": 0,
              "ticks": ""
             }
            },
            "type": "scatter3d"
           }
          ],
          "scattercarpet": [
           {
            "marker": {
             "colorbar": {
              "outlinewidth": 0,
              "ticks": ""
             }
            },
            "type": "scattercarpet"
           }
          ],
          "scattergeo": [
           {
            "marker": {
             "colorbar": {
              "outlinewidth": 0,
              "ticks": ""
             }
            },
            "type": "scattergeo"
           }
          ],
          "scattergl": [
           {
            "marker": {
             "colorbar": {
              "outlinewidth": 0,
              "ticks": ""
             }
            },
            "type": "scattergl"
           }
          ],
          "scattermapbox": [
           {
            "marker": {
             "colorbar": {
              "outlinewidth": 0,
              "ticks": ""
             }
            },
            "type": "scattermapbox"
           }
          ],
          "scatterpolar": [
           {
            "marker": {
             "colorbar": {
              "outlinewidth": 0,
              "ticks": ""
             }
            },
            "type": "scatterpolar"
           }
          ],
          "scatterpolargl": [
           {
            "marker": {
             "colorbar": {
              "outlinewidth": 0,
              "ticks": ""
             }
            },
            "type": "scatterpolargl"
           }
          ],
          "scatterternary": [
           {
            "marker": {
             "colorbar": {
              "outlinewidth": 0,
              "ticks": ""
             }
            },
            "type": "scatterternary"
           }
          ],
          "surface": [
           {
            "colorbar": {
             "outlinewidth": 0,
             "ticks": ""
            },
            "colorscale": [
             [
              0,
              "#0d0887"
             ],
             [
              0.1111111111111111,
              "#46039f"
             ],
             [
              0.2222222222222222,
              "#7201a8"
             ],
             [
              0.3333333333333333,
              "#9c179e"
             ],
             [
              0.4444444444444444,
              "#bd3786"
             ],
             [
              0.5555555555555556,
              "#d8576b"
             ],
             [
              0.6666666666666666,
              "#ed7953"
             ],
             [
              0.7777777777777778,
              "#fb9f3a"
             ],
             [
              0.8888888888888888,
              "#fdca26"
             ],
             [
              1,
              "#f0f921"
             ]
            ],
            "type": "surface"
           }
          ],
          "table": [
           {
            "cells": {
             "fill": {
              "color": "#EBF0F8"
             },
             "line": {
              "color": "white"
             }
            },
            "header": {
             "fill": {
              "color": "#C8D4E3"
             },
             "line": {
              "color": "white"
             }
            },
            "type": "table"
           }
          ]
         },
         "layout": {
          "annotationdefaults": {
           "arrowcolor": "#2a3f5f",
           "arrowhead": 0,
           "arrowwidth": 1
          },
          "autotypenumbers": "strict",
          "coloraxis": {
           "colorbar": {
            "outlinewidth": 0,
            "ticks": ""
           }
          },
          "colorscale": {
           "diverging": [
            [
             0,
             "#8e0152"
            ],
            [
             0.1,
             "#c51b7d"
            ],
            [
             0.2,
             "#de77ae"
            ],
            [
             0.3,
             "#f1b6da"
            ],
            [
             0.4,
             "#fde0ef"
            ],
            [
             0.5,
             "#f7f7f7"
            ],
            [
             0.6,
             "#e6f5d0"
            ],
            [
             0.7,
             "#b8e186"
            ],
            [
             0.8,
             "#7fbc41"
            ],
            [
             0.9,
             "#4d9221"
            ],
            [
             1,
             "#276419"
            ]
           ],
           "sequential": [
            [
             0,
             "#0d0887"
            ],
            [
             0.1111111111111111,
             "#46039f"
            ],
            [
             0.2222222222222222,
             "#7201a8"
            ],
            [
             0.3333333333333333,
             "#9c179e"
            ],
            [
             0.4444444444444444,
             "#bd3786"
            ],
            [
             0.5555555555555556,
             "#d8576b"
            ],
            [
             0.6666666666666666,
             "#ed7953"
            ],
            [
             0.7777777777777778,
             "#fb9f3a"
            ],
            [
             0.8888888888888888,
             "#fdca26"
            ],
            [
             1,
             "#f0f921"
            ]
           ],
           "sequentialminus": [
            [
             0,
             "#0d0887"
            ],
            [
             0.1111111111111111,
             "#46039f"
            ],
            [
             0.2222222222222222,
             "#7201a8"
            ],
            [
             0.3333333333333333,
             "#9c179e"
            ],
            [
             0.4444444444444444,
             "#bd3786"
            ],
            [
             0.5555555555555556,
             "#d8576b"
            ],
            [
             0.6666666666666666,
             "#ed7953"
            ],
            [
             0.7777777777777778,
             "#fb9f3a"
            ],
            [
             0.8888888888888888,
             "#fdca26"
            ],
            [
             1,
             "#f0f921"
            ]
           ]
          },
          "colorway": [
           "#636efa",
           "#EF553B",
           "#00cc96",
           "#ab63fa",
           "#FFA15A",
           "#19d3f3",
           "#FF6692",
           "#B6E880",
           "#FF97FF",
           "#FECB52"
          ],
          "font": {
           "color": "#2a3f5f"
          },
          "geo": {
           "bgcolor": "white",
           "lakecolor": "white",
           "landcolor": "#E5ECF6",
           "showlakes": true,
           "showland": true,
           "subunitcolor": "white"
          },
          "hoverlabel": {
           "align": "left"
          },
          "hovermode": "closest",
          "mapbox": {
           "style": "light"
          },
          "paper_bgcolor": "white",
          "plot_bgcolor": "#E5ECF6",
          "polar": {
           "angularaxis": {
            "gridcolor": "white",
            "linecolor": "white",
            "ticks": ""
           },
           "bgcolor": "#E5ECF6",
           "radialaxis": {
            "gridcolor": "white",
            "linecolor": "white",
            "ticks": ""
           }
          },
          "scene": {
           "xaxis": {
            "backgroundcolor": "#E5ECF6",
            "gridcolor": "white",
            "gridwidth": 2,
            "linecolor": "white",
            "showbackground": true,
            "ticks": "",
            "zerolinecolor": "white"
           },
           "yaxis": {
            "backgroundcolor": "#E5ECF6",
            "gridcolor": "white",
            "gridwidth": 2,
            "linecolor": "white",
            "showbackground": true,
            "ticks": "",
            "zerolinecolor": "white"
           },
           "zaxis": {
            "backgroundcolor": "#E5ECF6",
            "gridcolor": "white",
            "gridwidth": 2,
            "linecolor": "white",
            "showbackground": true,
            "ticks": "",
            "zerolinecolor": "white"
           }
          },
          "shapedefaults": {
           "line": {
            "color": "#2a3f5f"
           }
          },
          "ternary": {
           "aaxis": {
            "gridcolor": "white",
            "linecolor": "white",
            "ticks": ""
           },
           "baxis": {
            "gridcolor": "white",
            "linecolor": "white",
            "ticks": ""
           },
           "bgcolor": "#E5ECF6",
           "caxis": {
            "gridcolor": "white",
            "linecolor": "white",
            "ticks": ""
           }
          },
          "title": {
           "x": 0.05
          },
          "xaxis": {
           "automargin": true,
           "gridcolor": "white",
           "linecolor": "white",
           "ticks": "",
           "title": {
            "standoff": 15
           },
           "zerolinecolor": "white",
           "zerolinewidth": 2
          },
          "yaxis": {
           "automargin": true,
           "gridcolor": "white",
           "linecolor": "white",
           "ticks": "",
           "title": {
            "standoff": 15
           },
           "zerolinecolor": "white",
           "zerolinewidth": 2
          }
         }
        },
        "title": {
         "font": {
          "color": "#4D5663"
         }
        },
        "xaxis": {
         "gridcolor": "#E1E5ED",
         "showgrid": true,
         "tickfont": {
          "color": "#4D5663"
         },
         "title": {
          "font": {
           "color": "#4D5663"
          },
          "text": ""
         },
         "zerolinecolor": "#E1E5ED"
        },
        "yaxis": {
         "gridcolor": "#E1E5ED",
         "showgrid": true,
         "tickfont": {
          "color": "#4D5663"
         },
         "title": {
          "font": {
           "color": "#4D5663"
          },
          "text": ""
         },
         "zerolinecolor": "#E1E5ED"
        }
       }
      },
      "text/html": [
       "<div>                            <div id=\"2a4ba2c2-f986-4a36-8ebb-0bdcc98a1d48\" class=\"plotly-graph-div\" style=\"height:525px; width:100%;\"></div>            <script type=\"text/javascript\">                require([\"plotly\"], function(Plotly) {                    window.PLOTLYENV=window.PLOTLYENV || {};\n",
       "                    window.PLOTLYENV.BASE_URL='https://plot.ly';                                    if (document.getElementById(\"2a4ba2c2-f986-4a36-8ebb-0bdcc98a1d48\")) {                    Plotly.newPlot(                        \"2a4ba2c2-f986-4a36-8ebb-0bdcc98a1d48\",                        [{\"histfunc\":\"count\",\"histnorm\":\"\",\"marker\":{\"color\":\"rgba(255, 153, 51, 1.0)\",\"line\":{\"color\":\"#4D5663\",\"width\":1.3}},\"name\":\"A\",\"opacity\":0.8,\"orientation\":\"v\",\"x\":[1.2336395877706994,-0.048615295932523526,0.25099671508100824,-0.1192462297098814,-0.2608481410248185,-0.06471520395729977,0.6259498930158807,0.12224421427601183,0.9324539075586492,1.070141475329659,0.5285224800201517,-0.24958849117359538,-0.29752102945104475,-0.6454103565063174,0.10442728647747394,-0.39378093189513375,-0.41399385767203517,-2.3312026081324517,0.31942537204183175,-1.4169774002817863,-1.377837148359218,-0.8064637395522112,3.3046701681598245,0.3249459378005792,0.3650097454990451,0.02065115131120758,1.2133373411044714,0.13608566784413764,-1.082375661287402,0.21276340210915654,-0.541233499690844,1.0120991433643813,-0.18508374419786647,-0.5156638362473296,-0.0645236069411833,0.34718435927735686,-1.1135794845678495,-0.9176904249407741,3.0705934949711446,1.4086638090114365,0.2562168360363639,-1.7164372878789915,0.22716733957708662,-1.4865304220381552,-0.483176954304673,2.802666688554588,-1.1253381606030017,-0.6915062924050371,0.7247609199197345,1.2275235702973804,-0.22318512888589181,-0.3132358939336809,-1.6040305545083373,1.8458126184513648,-0.8154253140752616,-0.2256614370869709,1.2978362803458532,0.14007647039884705,-0.20458602765483533,-0.2703209024985795,-0.2654081193656234,0.2202236850078853,0.14962062952118016,-0.9932677026925171,1.4271803455705308,0.43146018054188895,0.22187226163578996,1.7326906445715977,0.08548903032789677,-0.9295010484556132,0.5475247339146619,0.12447547676253774,-0.29634372342151055,-1.0253146544479361,0.3421818204421844,0.3688861723184149,0.03492725922143807,-0.31362123305608436,0.24375801240034217,0.4269918051686339,-0.23890978405914443,-1.7877295632810428,-0.16004350029481743,-0.3352782257640638,0.9857046637192217,-0.831237642919192,0.3361311145496733,0.7589545074594741,0.1781577265576734,-1.6752858972755533,-1.2041662102497588,-0.6653978729777915,0.3275641601449004,1.1634374896765034,-0.12556238527553262,0.11262507359259387,-0.13497569861698266,-1.3005004618063705,-1.4015847136640596,-0.7130959437805059],\"type\":\"histogram\"}],                        {\"barmode\":\"overlay\",\"legend\":{\"bgcolor\":\"#F5F6F9\",\"font\":{\"color\":\"#4D5663\"}},\"paper_bgcolor\":\"#F5F6F9\",\"plot_bgcolor\":\"#F5F6F9\",\"template\":{\"data\":{\"barpolar\":[{\"marker\":{\"line\":{\"color\":\"#E5ECF6\",\"width\":0.5},\"pattern\":{\"fillmode\":\"overlay\",\"size\":10,\"solidity\":0.2}},\"type\":\"barpolar\"}],\"bar\":[{\"error_x\":{\"color\":\"#2a3f5f\"},\"error_y\":{\"color\":\"#2a3f5f\"},\"marker\":{\"line\":{\"color\":\"#E5ECF6\",\"width\":0.5},\"pattern\":{\"fillmode\":\"overlay\",\"size\":10,\"solidity\":0.2}},\"type\":\"bar\"}],\"carpet\":[{\"aaxis\":{\"endlinecolor\":\"#2a3f5f\",\"gridcolor\":\"white\",\"linecolor\":\"white\",\"minorgridcolor\":\"white\",\"startlinecolor\":\"#2a3f5f\"},\"baxis\":{\"endlinecolor\":\"#2a3f5f\",\"gridcolor\":\"white\",\"linecolor\":\"white\",\"minorgridcolor\":\"white\",\"startlinecolor\":\"#2a3f5f\"},\"type\":\"carpet\"}],\"choropleth\":[{\"colorbar\":{\"outlinewidth\":0,\"ticks\":\"\"},\"type\":\"choropleth\"}],\"contourcarpet\":[{\"colorbar\":{\"outlinewidth\":0,\"ticks\":\"\"},\"type\":\"contourcarpet\"}],\"contour\":[{\"colorbar\":{\"outlinewidth\":0,\"ticks\":\"\"},\"colorscale\":[[0.0,\"#0d0887\"],[0.1111111111111111,\"#46039f\"],[0.2222222222222222,\"#7201a8\"],[0.3333333333333333,\"#9c179e\"],[0.4444444444444444,\"#bd3786\"],[0.5555555555555556,\"#d8576b\"],[0.6666666666666666,\"#ed7953\"],[0.7777777777777778,\"#fb9f3a\"],[0.8888888888888888,\"#fdca26\"],[1.0,\"#f0f921\"]],\"type\":\"contour\"}],\"heatmapgl\":[{\"colorbar\":{\"outlinewidth\":0,\"ticks\":\"\"},\"colorscale\":[[0.0,\"#0d0887\"],[0.1111111111111111,\"#46039f\"],[0.2222222222222222,\"#7201a8\"],[0.3333333333333333,\"#9c179e\"],[0.4444444444444444,\"#bd3786\"],[0.5555555555555556,\"#d8576b\"],[0.6666666666666666,\"#ed7953\"],[0.7777777777777778,\"#fb9f3a\"],[0.8888888888888888,\"#fdca26\"],[1.0,\"#f0f921\"]],\"type\":\"heatmapgl\"}],\"heatmap\":[{\"colorbar\":{\"outlinewidth\":0,\"ticks\":\"\"},\"colorscale\":[[0.0,\"#0d0887\"],[0.1111111111111111,\"#46039f\"],[0.2222222222222222,\"#7201a8\"],[0.3333333333333333,\"#9c179e\"],[0.4444444444444444,\"#bd3786\"],[0.5555555555555556,\"#d8576b\"],[0.6666666666666666,\"#ed7953\"],[0.7777777777777778,\"#fb9f3a\"],[0.8888888888888888,\"#fdca26\"],[1.0,\"#f0f921\"]],\"type\":\"heatmap\"}],\"histogram2dcontour\":[{\"colorbar\":{\"outlinewidth\":0,\"ticks\":\"\"},\"colorscale\":[[0.0,\"#0d0887\"],[0.1111111111111111,\"#46039f\"],[0.2222222222222222,\"#7201a8\"],[0.3333333333333333,\"#9c179e\"],[0.4444444444444444,\"#bd3786\"],[0.5555555555555556,\"#d8576b\"],[0.6666666666666666,\"#ed7953\"],[0.7777777777777778,\"#fb9f3a\"],[0.8888888888888888,\"#fdca26\"],[1.0,\"#f0f921\"]],\"type\":\"histogram2dcontour\"}],\"histogram2d\":[{\"colorbar\":{\"outlinewidth\":0,\"ticks\":\"\"},\"colorscale\":[[0.0,\"#0d0887\"],[0.1111111111111111,\"#46039f\"],[0.2222222222222222,\"#7201a8\"],[0.3333333333333333,\"#9c179e\"],[0.4444444444444444,\"#bd3786\"],[0.5555555555555556,\"#d8576b\"],[0.6666666666666666,\"#ed7953\"],[0.7777777777777778,\"#fb9f3a\"],[0.8888888888888888,\"#fdca26\"],[1.0,\"#f0f921\"]],\"type\":\"histogram2d\"}],\"histogram\":[{\"marker\":{\"pattern\":{\"fillmode\":\"overlay\",\"size\":10,\"solidity\":0.2}},\"type\":\"histogram\"}],\"mesh3d\":[{\"colorbar\":{\"outlinewidth\":0,\"ticks\":\"\"},\"type\":\"mesh3d\"}],\"parcoords\":[{\"line\":{\"colorbar\":{\"outlinewidth\":0,\"ticks\":\"\"}},\"type\":\"parcoords\"}],\"pie\":[{\"automargin\":true,\"type\":\"pie\"}],\"scatter3d\":[{\"line\":{\"colorbar\":{\"outlinewidth\":0,\"ticks\":\"\"}},\"marker\":{\"colorbar\":{\"outlinewidth\":0,\"ticks\":\"\"}},\"type\":\"scatter3d\"}],\"scattercarpet\":[{\"marker\":{\"colorbar\":{\"outlinewidth\":0,\"ticks\":\"\"}},\"type\":\"scattercarpet\"}],\"scattergeo\":[{\"marker\":{\"colorbar\":{\"outlinewidth\":0,\"ticks\":\"\"}},\"type\":\"scattergeo\"}],\"scattergl\":[{\"marker\":{\"colorbar\":{\"outlinewidth\":0,\"ticks\":\"\"}},\"type\":\"scattergl\"}],\"scattermapbox\":[{\"marker\":{\"colorbar\":{\"outlinewidth\":0,\"ticks\":\"\"}},\"type\":\"scattermapbox\"}],\"scatterpolargl\":[{\"marker\":{\"colorbar\":{\"outlinewidth\":0,\"ticks\":\"\"}},\"type\":\"scatterpolargl\"}],\"scatterpolar\":[{\"marker\":{\"colorbar\":{\"outlinewidth\":0,\"ticks\":\"\"}},\"type\":\"scatterpolar\"}],\"scatter\":[{\"fillpattern\":{\"fillmode\":\"overlay\",\"size\":10,\"solidity\":0.2},\"type\":\"scatter\"}],\"scatterternary\":[{\"marker\":{\"colorbar\":{\"outlinewidth\":0,\"ticks\":\"\"}},\"type\":\"scatterternary\"}],\"surface\":[{\"colorbar\":{\"outlinewidth\":0,\"ticks\":\"\"},\"colorscale\":[[0.0,\"#0d0887\"],[0.1111111111111111,\"#46039f\"],[0.2222222222222222,\"#7201a8\"],[0.3333333333333333,\"#9c179e\"],[0.4444444444444444,\"#bd3786\"],[0.5555555555555556,\"#d8576b\"],[0.6666666666666666,\"#ed7953\"],[0.7777777777777778,\"#fb9f3a\"],[0.8888888888888888,\"#fdca26\"],[1.0,\"#f0f921\"]],\"type\":\"surface\"}],\"table\":[{\"cells\":{\"fill\":{\"color\":\"#EBF0F8\"},\"line\":{\"color\":\"white\"}},\"header\":{\"fill\":{\"color\":\"#C8D4E3\"},\"line\":{\"color\":\"white\"}},\"type\":\"table\"}]},\"layout\":{\"annotationdefaults\":{\"arrowcolor\":\"#2a3f5f\",\"arrowhead\":0,\"arrowwidth\":1},\"autotypenumbers\":\"strict\",\"coloraxis\":{\"colorbar\":{\"outlinewidth\":0,\"ticks\":\"\"}},\"colorscale\":{\"diverging\":[[0,\"#8e0152\"],[0.1,\"#c51b7d\"],[0.2,\"#de77ae\"],[0.3,\"#f1b6da\"],[0.4,\"#fde0ef\"],[0.5,\"#f7f7f7\"],[0.6,\"#e6f5d0\"],[0.7,\"#b8e186\"],[0.8,\"#7fbc41\"],[0.9,\"#4d9221\"],[1,\"#276419\"]],\"sequential\":[[0.0,\"#0d0887\"],[0.1111111111111111,\"#46039f\"],[0.2222222222222222,\"#7201a8\"],[0.3333333333333333,\"#9c179e\"],[0.4444444444444444,\"#bd3786\"],[0.5555555555555556,\"#d8576b\"],[0.6666666666666666,\"#ed7953\"],[0.7777777777777778,\"#fb9f3a\"],[0.8888888888888888,\"#fdca26\"],[1.0,\"#f0f921\"]],\"sequentialminus\":[[0.0,\"#0d0887\"],[0.1111111111111111,\"#46039f\"],[0.2222222222222222,\"#7201a8\"],[0.3333333333333333,\"#9c179e\"],[0.4444444444444444,\"#bd3786\"],[0.5555555555555556,\"#d8576b\"],[0.6666666666666666,\"#ed7953\"],[0.7777777777777778,\"#fb9f3a\"],[0.8888888888888888,\"#fdca26\"],[1.0,\"#f0f921\"]]},\"colorway\":[\"#636efa\",\"#EF553B\",\"#00cc96\",\"#ab63fa\",\"#FFA15A\",\"#19d3f3\",\"#FF6692\",\"#B6E880\",\"#FF97FF\",\"#FECB52\"],\"font\":{\"color\":\"#2a3f5f\"},\"geo\":{\"bgcolor\":\"white\",\"lakecolor\":\"white\",\"landcolor\":\"#E5ECF6\",\"showlakes\":true,\"showland\":true,\"subunitcolor\":\"white\"},\"hoverlabel\":{\"align\":\"left\"},\"hovermode\":\"closest\",\"mapbox\":{\"style\":\"light\"},\"paper_bgcolor\":\"white\",\"plot_bgcolor\":\"#E5ECF6\",\"polar\":{\"angularaxis\":{\"gridcolor\":\"white\",\"linecolor\":\"white\",\"ticks\":\"\"},\"bgcolor\":\"#E5ECF6\",\"radialaxis\":{\"gridcolor\":\"white\",\"linecolor\":\"white\",\"ticks\":\"\"}},\"scene\":{\"xaxis\":{\"backgroundcolor\":\"#E5ECF6\",\"gridcolor\":\"white\",\"gridwidth\":2,\"linecolor\":\"white\",\"showbackground\":true,\"ticks\":\"\",\"zerolinecolor\":\"white\"},\"yaxis\":{\"backgroundcolor\":\"#E5ECF6\",\"gridcolor\":\"white\",\"gridwidth\":2,\"linecolor\":\"white\",\"showbackground\":true,\"ticks\":\"\",\"zerolinecolor\":\"white\"},\"zaxis\":{\"backgroundcolor\":\"#E5ECF6\",\"gridcolor\":\"white\",\"gridwidth\":2,\"linecolor\":\"white\",\"showbackground\":true,\"ticks\":\"\",\"zerolinecolor\":\"white\"}},\"shapedefaults\":{\"line\":{\"color\":\"#2a3f5f\"}},\"ternary\":{\"aaxis\":{\"gridcolor\":\"white\",\"linecolor\":\"white\",\"ticks\":\"\"},\"baxis\":{\"gridcolor\":\"white\",\"linecolor\":\"white\",\"ticks\":\"\"},\"bgcolor\":\"#E5ECF6\",\"caxis\":{\"gridcolor\":\"white\",\"linecolor\":\"white\",\"ticks\":\"\"}},\"title\":{\"x\":0.05},\"xaxis\":{\"automargin\":true,\"gridcolor\":\"white\",\"linecolor\":\"white\",\"ticks\":\"\",\"title\":{\"standoff\":15},\"zerolinecolor\":\"white\",\"zerolinewidth\":2},\"yaxis\":{\"automargin\":true,\"gridcolor\":\"white\",\"linecolor\":\"white\",\"ticks\":\"\",\"title\":{\"standoff\":15},\"zerolinecolor\":\"white\",\"zerolinewidth\":2}}},\"title\":{\"font\":{\"color\":\"#4D5663\"}},\"xaxis\":{\"gridcolor\":\"#E1E5ED\",\"showgrid\":true,\"tickfont\":{\"color\":\"#4D5663\"},\"title\":{\"font\":{\"color\":\"#4D5663\"},\"text\":\"\"},\"zerolinecolor\":\"#E1E5ED\"},\"yaxis\":{\"gridcolor\":\"#E1E5ED\",\"showgrid\":true,\"tickfont\":{\"color\":\"#4D5663\"},\"title\":{\"font\":{\"color\":\"#4D5663\"},\"text\":\"\"},\"zerolinecolor\":\"#E1E5ED\"}},                        {\"showLink\": true, \"linkText\": \"Export to plot.ly\", \"plotlyServerURL\": \"https://plot.ly\", \"responsive\": true}                    ).then(function(){\n",
       "                            \n",
       "var gd = document.getElementById('2a4ba2c2-f986-4a36-8ebb-0bdcc98a1d48');\n",
       "var x = new MutationObserver(function (mutations, observer) {{\n",
       "        var display = window.getComputedStyle(gd).display;\n",
       "        if (!display || display === 'none') {{\n",
       "            console.log([gd, 'removed!']);\n",
       "            Plotly.purge(gd);\n",
       "            observer.disconnect();\n",
       "        }}\n",
       "}});\n",
       "\n",
       "// Listen for the removal of the full notebook cells\n",
       "var notebookContainer = gd.closest('#notebook-container');\n",
       "if (notebookContainer) {{\n",
       "    x.observe(notebookContainer, {childList: true});\n",
       "}}\n",
       "\n",
       "// Listen for the clearing of the current output cell\n",
       "var outputEl = gd.closest('.output');\n",
       "if (outputEl) {{\n",
       "    x.observe(outputEl, {childList: true});\n",
       "}}\n",
       "\n",
       "                        })                };                });            </script>        </div>"
      ]
     },
     "metadata": {},
     "output_type": "display_data"
    }
   ],
   "source": [
    "df['A'].iplot(kind='hist')"
   ]
  },
  {
   "cell_type": "code",
   "execution_count": 25,
   "id": "0532db80-df47-42ca-88fe-1525c9a6b687",
   "metadata": {},
   "outputs": [
    {
     "data": {
      "application/vnd.plotly.v1+json": {
       "config": {
        "linkText": "Export to plot.ly",
        "plotlyServerURL": "https://plot.ly",
        "showLink": true
       },
       "data": [
        {
         "marker": {
          "color": [
           "rgb(255, 153, 51)",
           "rgb(55, 128, 191)",
           "rgb(50, 171, 96)",
           "rgb(128, 0, 128)",
           "rgb(219, 64, 82)",
           "rgb(0, 128, 128)",
           "rgb(255, 255, 51)",
           "rgb(128, 128, 0)",
           "rgb(251, 128, 114)",
           "rgb(128, 177, 211)"
          ],
          "line": {
           "width": 1.3
          },
          "size": [
           65,
           78,
           102,
           65,
           12,
           68,
           60,
           59,
           85,
           70,
           60,
           34,
           84,
           55,
           68,
           51,
           48,
           92,
           45,
           58,
           68,
           56,
           75,
           106,
           97,
           31,
           82,
           68,
           51,
           65,
           43,
           74,
           98,
           92,
           112,
           74,
           95,
           107,
           67,
           74,
           49,
           96,
           16,
           44,
           83,
           28,
           89,
           93,
           96,
           70,
           82,
           67,
           68,
           86,
           66,
           60,
           68,
           65,
           64,
           99,
           99,
           91,
           77,
           67,
           71,
           61,
           90,
           54,
           83,
           109,
           42,
           39,
           53,
           44,
           50,
           68,
           67,
           57,
           66,
           71,
           81,
           54,
           21,
           78,
           95,
           58,
           63,
           52,
           79,
           97,
           15,
           65,
           47,
           68,
           59,
           43,
           88,
           91,
           67,
           71
          ],
          "symbol": "circle"
         },
         "mode": "markers",
         "text": "",
         "type": "scatter",
         "x": [
          1.2336395877706994,
          -0.048615295932523526,
          0.25099671508100824,
          -0.1192462297098814,
          -0.2608481410248185,
          -0.06471520395729977,
          0.6259498930158807,
          0.12224421427601183,
          0.9324539075586492,
          1.070141475329659,
          0.5285224800201517,
          -0.24958849117359538,
          -0.29752102945104475,
          -0.6454103565063174,
          0.10442728647747394,
          -0.39378093189513375,
          -0.41399385767203517,
          -2.3312026081324517,
          0.31942537204183175,
          -1.4169774002817863,
          -1.377837148359218,
          -0.8064637395522112,
          3.3046701681598245,
          0.3249459378005792,
          0.3650097454990451,
          0.02065115131120758,
          1.2133373411044714,
          0.13608566784413764,
          -1.082375661287402,
          0.21276340210915654,
          -0.541233499690844,
          1.0120991433643813,
          -0.18508374419786647,
          -0.5156638362473296,
          -0.0645236069411833,
          0.34718435927735686,
          -1.1135794845678495,
          -0.9176904249407741,
          3.0705934949711446,
          1.4086638090114365,
          0.2562168360363639,
          -1.7164372878789915,
          0.22716733957708662,
          -1.4865304220381552,
          -0.483176954304673,
          2.802666688554588,
          -1.1253381606030017,
          -0.6915062924050371,
          0.7247609199197345,
          1.2275235702973804,
          -0.22318512888589181,
          -0.3132358939336809,
          -1.6040305545083373,
          1.8458126184513648,
          -0.8154253140752616,
          -0.2256614370869709,
          1.2978362803458532,
          0.14007647039884705,
          -0.20458602765483533,
          -0.2703209024985795,
          -0.2654081193656234,
          0.2202236850078853,
          0.14962062952118016,
          -0.9932677026925171,
          1.4271803455705308,
          0.43146018054188895,
          0.22187226163578996,
          1.7326906445715977,
          0.08548903032789677,
          -0.9295010484556132,
          0.5475247339146619,
          0.12447547676253774,
          -0.29634372342151055,
          -1.0253146544479361,
          0.3421818204421844,
          0.3688861723184149,
          0.03492725922143807,
          -0.31362123305608436,
          0.24375801240034217,
          0.4269918051686339,
          -0.23890978405914443,
          -1.7877295632810428,
          -0.16004350029481743,
          -0.3352782257640638,
          0.9857046637192217,
          -0.831237642919192,
          0.3361311145496733,
          0.7589545074594741,
          0.1781577265576734,
          -1.6752858972755533,
          -1.2041662102497588,
          -0.6653978729777915,
          0.3275641601449004,
          1.1634374896765034,
          -0.12556238527553262,
          0.11262507359259387,
          -0.13497569861698266,
          -1.3005004618063705,
          -1.4015847136640596,
          -0.7130959437805059
         ],
         "y": [
          -1.9022065685510319,
          -2.1358854266589624,
          0.15731369215411856,
          -0.5116965050067188,
          -1.016778500304455,
          -0.07152395582692508,
          -0.6287641264563816,
          0.8116557648643434,
          -0.7109323439808468,
          -0.717033813927751,
          1.3316196542841683,
          -0.6310880219508661,
          2.5874251211580503,
          0.2644218892403224,
          -0.35142315852607764,
          0.2922499094243876,
          0.38465151313280316,
          0.4796526662506324,
          -0.692821516591526,
          -0.744210867455073,
          1.7066955696594042,
          0.21510833265147353,
          0.21771786641689403,
          -0.014642454292073627,
          1.1895312175510309,
          -1.3459717202535904,
          0.8467885453665221,
          -0.3114575850495862,
          1.030590665567906,
          -1.3999658924835772,
          0.3257603132932959,
          0.6586054996837076,
          -1.8464148734907193,
          -1.611694363967646,
          1.3087935975821354,
          -0.7122544344002926,
          -1.4202540474598107,
          -0.06956475576311448,
          -2.9681640089507857,
          0.31351528648144794,
          1.19697663227665,
          -0.06858255920050399,
          0.6949733405235001,
          0.12072343848660112,
          -0.9717122892437534,
          -0.6664128392375659,
          1.187574085544821,
          -2.1002353959673896,
          -1.0640523429911906,
          -0.6086697081559084,
          0.9148357188130085,
          -0.5189278497433476,
          -0.10464004777836514,
          0.5441484352640663,
          -1.101107079520376,
          0.104551275657519,
          -0.8641663897108429,
          -0.5439274802275234,
          0.7001541532162037,
          1.4695162149737615,
          -0.2926165781490387,
          -1.4279237442435446,
          1.0361323352789527,
          -0.988429236318292,
          -1.7599933184757448,
          -0.2972367314119232,
          -2.211370194384513,
          -0.6616248315376154,
          0.0006914603293870927,
          0.14312271204237148,
          1.037395383748161,
          0.635085681475714,
          -1.2801277743573918,
          -0.22485334081701447,
          -0.10709203797243241,
          1.0903950904507504,
          0.9498423697670688,
          -0.7566860215157124,
          -1.3185193689652943,
          0.3067433056702688,
          -0.1868825475446146,
          0.3227653992788982,
          1.1239897541025106,
          -0.85444767818716,
          -1.6535091941092632,
          0.733284060047493,
          2.2098470730160282,
          -0.939844915630386,
          -0.8269920694055485,
          -0.42477083179568426,
          0.6469222732434078,
          -0.6554123928641302,
          -0.6036906296788903,
          0.5121986984319296,
          -0.155322734625543,
          -0.5053751854186547,
          1.5239366853625391,
          2.047004505696809,
          -0.889866678505674,
          -0.29066447432594056
         ]
        }
       ],
       "layout": {
        "legend": {
         "bgcolor": "#F5F6F9",
         "font": {
          "color": "#4D5663"
         }
        },
        "paper_bgcolor": "#F5F6F9",
        "plot_bgcolor": "#F5F6F9",
        "template": {
         "data": {
          "bar": [
           {
            "error_x": {
             "color": "#2a3f5f"
            },
            "error_y": {
             "color": "#2a3f5f"
            },
            "marker": {
             "line": {
              "color": "#E5ECF6",
              "width": 0.5
             },
             "pattern": {
              "fillmode": "overlay",
              "size": 10,
              "solidity": 0.2
             }
            },
            "type": "bar"
           }
          ],
          "barpolar": [
           {
            "marker": {
             "line": {
              "color": "#E5ECF6",
              "width": 0.5
             },
             "pattern": {
              "fillmode": "overlay",
              "size": 10,
              "solidity": 0.2
             }
            },
            "type": "barpolar"
           }
          ],
          "carpet": [
           {
            "aaxis": {
             "endlinecolor": "#2a3f5f",
             "gridcolor": "white",
             "linecolor": "white",
             "minorgridcolor": "white",
             "startlinecolor": "#2a3f5f"
            },
            "baxis": {
             "endlinecolor": "#2a3f5f",
             "gridcolor": "white",
             "linecolor": "white",
             "minorgridcolor": "white",
             "startlinecolor": "#2a3f5f"
            },
            "type": "carpet"
           }
          ],
          "choropleth": [
           {
            "colorbar": {
             "outlinewidth": 0,
             "ticks": ""
            },
            "type": "choropleth"
           }
          ],
          "contour": [
           {
            "colorbar": {
             "outlinewidth": 0,
             "ticks": ""
            },
            "colorscale": [
             [
              0,
              "#0d0887"
             ],
             [
              0.1111111111111111,
              "#46039f"
             ],
             [
              0.2222222222222222,
              "#7201a8"
             ],
             [
              0.3333333333333333,
              "#9c179e"
             ],
             [
              0.4444444444444444,
              "#bd3786"
             ],
             [
              0.5555555555555556,
              "#d8576b"
             ],
             [
              0.6666666666666666,
              "#ed7953"
             ],
             [
              0.7777777777777778,
              "#fb9f3a"
             ],
             [
              0.8888888888888888,
              "#fdca26"
             ],
             [
              1,
              "#f0f921"
             ]
            ],
            "type": "contour"
           }
          ],
          "contourcarpet": [
           {
            "colorbar": {
             "outlinewidth": 0,
             "ticks": ""
            },
            "type": "contourcarpet"
           }
          ],
          "heatmap": [
           {
            "colorbar": {
             "outlinewidth": 0,
             "ticks": ""
            },
            "colorscale": [
             [
              0,
              "#0d0887"
             ],
             [
              0.1111111111111111,
              "#46039f"
             ],
             [
              0.2222222222222222,
              "#7201a8"
             ],
             [
              0.3333333333333333,
              "#9c179e"
             ],
             [
              0.4444444444444444,
              "#bd3786"
             ],
             [
              0.5555555555555556,
              "#d8576b"
             ],
             [
              0.6666666666666666,
              "#ed7953"
             ],
             [
              0.7777777777777778,
              "#fb9f3a"
             ],
             [
              0.8888888888888888,
              "#fdca26"
             ],
             [
              1,
              "#f0f921"
             ]
            ],
            "type": "heatmap"
           }
          ],
          "heatmapgl": [
           {
            "colorbar": {
             "outlinewidth": 0,
             "ticks": ""
            },
            "colorscale": [
             [
              0,
              "#0d0887"
             ],
             [
              0.1111111111111111,
              "#46039f"
             ],
             [
              0.2222222222222222,
              "#7201a8"
             ],
             [
              0.3333333333333333,
              "#9c179e"
             ],
             [
              0.4444444444444444,
              "#bd3786"
             ],
             [
              0.5555555555555556,
              "#d8576b"
             ],
             [
              0.6666666666666666,
              "#ed7953"
             ],
             [
              0.7777777777777778,
              "#fb9f3a"
             ],
             [
              0.8888888888888888,
              "#fdca26"
             ],
             [
              1,
              "#f0f921"
             ]
            ],
            "type": "heatmapgl"
           }
          ],
          "histogram": [
           {
            "marker": {
             "pattern": {
              "fillmode": "overlay",
              "size": 10,
              "solidity": 0.2
             }
            },
            "type": "histogram"
           }
          ],
          "histogram2d": [
           {
            "colorbar": {
             "outlinewidth": 0,
             "ticks": ""
            },
            "colorscale": [
             [
              0,
              "#0d0887"
             ],
             [
              0.1111111111111111,
              "#46039f"
             ],
             [
              0.2222222222222222,
              "#7201a8"
             ],
             [
              0.3333333333333333,
              "#9c179e"
             ],
             [
              0.4444444444444444,
              "#bd3786"
             ],
             [
              0.5555555555555556,
              "#d8576b"
             ],
             [
              0.6666666666666666,
              "#ed7953"
             ],
             [
              0.7777777777777778,
              "#fb9f3a"
             ],
             [
              0.8888888888888888,
              "#fdca26"
             ],
             [
              1,
              "#f0f921"
             ]
            ],
            "type": "histogram2d"
           }
          ],
          "histogram2dcontour": [
           {
            "colorbar": {
             "outlinewidth": 0,
             "ticks": ""
            },
            "colorscale": [
             [
              0,
              "#0d0887"
             ],
             [
              0.1111111111111111,
              "#46039f"
             ],
             [
              0.2222222222222222,
              "#7201a8"
             ],
             [
              0.3333333333333333,
              "#9c179e"
             ],
             [
              0.4444444444444444,
              "#bd3786"
             ],
             [
              0.5555555555555556,
              "#d8576b"
             ],
             [
              0.6666666666666666,
              "#ed7953"
             ],
             [
              0.7777777777777778,
              "#fb9f3a"
             ],
             [
              0.8888888888888888,
              "#fdca26"
             ],
             [
              1,
              "#f0f921"
             ]
            ],
            "type": "histogram2dcontour"
           }
          ],
          "mesh3d": [
           {
            "colorbar": {
             "outlinewidth": 0,
             "ticks": ""
            },
            "type": "mesh3d"
           }
          ],
          "parcoords": [
           {
            "line": {
             "colorbar": {
              "outlinewidth": 0,
              "ticks": ""
             }
            },
            "type": "parcoords"
           }
          ],
          "pie": [
           {
            "automargin": true,
            "type": "pie"
           }
          ],
          "scatter": [
           {
            "fillpattern": {
             "fillmode": "overlay",
             "size": 10,
             "solidity": 0.2
            },
            "type": "scatter"
           }
          ],
          "scatter3d": [
           {
            "line": {
             "colorbar": {
              "outlinewidth": 0,
              "ticks": ""
             }
            },
            "marker": {
             "colorbar": {
              "outlinewidth": 0,
              "ticks": ""
             }
            },
            "type": "scatter3d"
           }
          ],
          "scattercarpet": [
           {
            "marker": {
             "colorbar": {
              "outlinewidth": 0,
              "ticks": ""
             }
            },
            "type": "scattercarpet"
           }
          ],
          "scattergeo": [
           {
            "marker": {
             "colorbar": {
              "outlinewidth": 0,
              "ticks": ""
             }
            },
            "type": "scattergeo"
           }
          ],
          "scattergl": [
           {
            "marker": {
             "colorbar": {
              "outlinewidth": 0,
              "ticks": ""
             }
            },
            "type": "scattergl"
           }
          ],
          "scattermapbox": [
           {
            "marker": {
             "colorbar": {
              "outlinewidth": 0,
              "ticks": ""
             }
            },
            "type": "scattermapbox"
           }
          ],
          "scatterpolar": [
           {
            "marker": {
             "colorbar": {
              "outlinewidth": 0,
              "ticks": ""
             }
            },
            "type": "scatterpolar"
           }
          ],
          "scatterpolargl": [
           {
            "marker": {
             "colorbar": {
              "outlinewidth": 0,
              "ticks": ""
             }
            },
            "type": "scatterpolargl"
           }
          ],
          "scatterternary": [
           {
            "marker": {
             "colorbar": {
              "outlinewidth": 0,
              "ticks": ""
             }
            },
            "type": "scatterternary"
           }
          ],
          "surface": [
           {
            "colorbar": {
             "outlinewidth": 0,
             "ticks": ""
            },
            "colorscale": [
             [
              0,
              "#0d0887"
             ],
             [
              0.1111111111111111,
              "#46039f"
             ],
             [
              0.2222222222222222,
              "#7201a8"
             ],
             [
              0.3333333333333333,
              "#9c179e"
             ],
             [
              0.4444444444444444,
              "#bd3786"
             ],
             [
              0.5555555555555556,
              "#d8576b"
             ],
             [
              0.6666666666666666,
              "#ed7953"
             ],
             [
              0.7777777777777778,
              "#fb9f3a"
             ],
             [
              0.8888888888888888,
              "#fdca26"
             ],
             [
              1,
              "#f0f921"
             ]
            ],
            "type": "surface"
           }
          ],
          "table": [
           {
            "cells": {
             "fill": {
              "color": "#EBF0F8"
             },
             "line": {
              "color": "white"
             }
            },
            "header": {
             "fill": {
              "color": "#C8D4E3"
             },
             "line": {
              "color": "white"
             }
            },
            "type": "table"
           }
          ]
         },
         "layout": {
          "annotationdefaults": {
           "arrowcolor": "#2a3f5f",
           "arrowhead": 0,
           "arrowwidth": 1
          },
          "autotypenumbers": "strict",
          "coloraxis": {
           "colorbar": {
            "outlinewidth": 0,
            "ticks": ""
           }
          },
          "colorscale": {
           "diverging": [
            [
             0,
             "#8e0152"
            ],
            [
             0.1,
             "#c51b7d"
            ],
            [
             0.2,
             "#de77ae"
            ],
            [
             0.3,
             "#f1b6da"
            ],
            [
             0.4,
             "#fde0ef"
            ],
            [
             0.5,
             "#f7f7f7"
            ],
            [
             0.6,
             "#e6f5d0"
            ],
            [
             0.7,
             "#b8e186"
            ],
            [
             0.8,
             "#7fbc41"
            ],
            [
             0.9,
             "#4d9221"
            ],
            [
             1,
             "#276419"
            ]
           ],
           "sequential": [
            [
             0,
             "#0d0887"
            ],
            [
             0.1111111111111111,
             "#46039f"
            ],
            [
             0.2222222222222222,
             "#7201a8"
            ],
            [
             0.3333333333333333,
             "#9c179e"
            ],
            [
             0.4444444444444444,
             "#bd3786"
            ],
            [
             0.5555555555555556,
             "#d8576b"
            ],
            [
             0.6666666666666666,
             "#ed7953"
            ],
            [
             0.7777777777777778,
             "#fb9f3a"
            ],
            [
             0.8888888888888888,
             "#fdca26"
            ],
            [
             1,
             "#f0f921"
            ]
           ],
           "sequentialminus": [
            [
             0,
             "#0d0887"
            ],
            [
             0.1111111111111111,
             "#46039f"
            ],
            [
             0.2222222222222222,
             "#7201a8"
            ],
            [
             0.3333333333333333,
             "#9c179e"
            ],
            [
             0.4444444444444444,
             "#bd3786"
            ],
            [
             0.5555555555555556,
             "#d8576b"
            ],
            [
             0.6666666666666666,
             "#ed7953"
            ],
            [
             0.7777777777777778,
             "#fb9f3a"
            ],
            [
             0.8888888888888888,
             "#fdca26"
            ],
            [
             1,
             "#f0f921"
            ]
           ]
          },
          "colorway": [
           "#636efa",
           "#EF553B",
           "#00cc96",
           "#ab63fa",
           "#FFA15A",
           "#19d3f3",
           "#FF6692",
           "#B6E880",
           "#FF97FF",
           "#FECB52"
          ],
          "font": {
           "color": "#2a3f5f"
          },
          "geo": {
           "bgcolor": "white",
           "lakecolor": "white",
           "landcolor": "#E5ECF6",
           "showlakes": true,
           "showland": true,
           "subunitcolor": "white"
          },
          "hoverlabel": {
           "align": "left"
          },
          "hovermode": "closest",
          "mapbox": {
           "style": "light"
          },
          "paper_bgcolor": "white",
          "plot_bgcolor": "#E5ECF6",
          "polar": {
           "angularaxis": {
            "gridcolor": "white",
            "linecolor": "white",
            "ticks": ""
           },
           "bgcolor": "#E5ECF6",
           "radialaxis": {
            "gridcolor": "white",
            "linecolor": "white",
            "ticks": ""
           }
          },
          "scene": {
           "xaxis": {
            "backgroundcolor": "#E5ECF6",
            "gridcolor": "white",
            "gridwidth": 2,
            "linecolor": "white",
            "showbackground": true,
            "ticks": "",
            "zerolinecolor": "white"
           },
           "yaxis": {
            "backgroundcolor": "#E5ECF6",
            "gridcolor": "white",
            "gridwidth": 2,
            "linecolor": "white",
            "showbackground": true,
            "ticks": "",
            "zerolinecolor": "white"
           },
           "zaxis": {
            "backgroundcolor": "#E5ECF6",
            "gridcolor": "white",
            "gridwidth": 2,
            "linecolor": "white",
            "showbackground": true,
            "ticks": "",
            "zerolinecolor": "white"
           }
          },
          "shapedefaults": {
           "line": {
            "color": "#2a3f5f"
           }
          },
          "ternary": {
           "aaxis": {
            "gridcolor": "white",
            "linecolor": "white",
            "ticks": ""
           },
           "baxis": {
            "gridcolor": "white",
            "linecolor": "white",
            "ticks": ""
           },
           "bgcolor": "#E5ECF6",
           "caxis": {
            "gridcolor": "white",
            "linecolor": "white",
            "ticks": ""
           }
          },
          "title": {
           "x": 0.05
          },
          "xaxis": {
           "automargin": true,
           "gridcolor": "white",
           "linecolor": "white",
           "ticks": "",
           "title": {
            "standoff": 15
           },
           "zerolinecolor": "white",
           "zerolinewidth": 2
          },
          "yaxis": {
           "automargin": true,
           "gridcolor": "white",
           "linecolor": "white",
           "ticks": "",
           "title": {
            "standoff": 15
           },
           "zerolinecolor": "white",
           "zerolinewidth": 2
          }
         }
        },
        "title": {
         "font": {
          "color": "#4D5663"
         }
        },
        "xaxis": {
         "gridcolor": "#E1E5ED",
         "showgrid": true,
         "tickfont": {
          "color": "#4D5663"
         },
         "title": {
          "font": {
           "color": "#4D5663"
          },
          "text": ""
         },
         "zerolinecolor": "#E1E5ED"
        },
        "yaxis": {
         "gridcolor": "#E1E5ED",
         "showgrid": true,
         "tickfont": {
          "color": "#4D5663"
         },
         "title": {
          "font": {
           "color": "#4D5663"
          },
          "text": ""
         },
         "zerolinecolor": "#E1E5ED"
        }
       }
      },
      "text/html": [
       "<div>                            <div id=\"d077e74e-95c6-473a-a532-fc340ea25147\" class=\"plotly-graph-div\" style=\"height:525px; width:100%;\"></div>            <script type=\"text/javascript\">                require([\"plotly\"], function(Plotly) {                    window.PLOTLYENV=window.PLOTLYENV || {};\n",
       "                    window.PLOTLYENV.BASE_URL='https://plot.ly';                                    if (document.getElementById(\"d077e74e-95c6-473a-a532-fc340ea25147\")) {                    Plotly.newPlot(                        \"d077e74e-95c6-473a-a532-fc340ea25147\",                        [{\"marker\":{\"color\":[\"rgb(255, 153, 51)\",\"rgb(55, 128, 191)\",\"rgb(50, 171, 96)\",\"rgb(128, 0, 128)\",\"rgb(219, 64, 82)\",\"rgb(0, 128, 128)\",\"rgb(255, 255, 51)\",\"rgb(128, 128, 0)\",\"rgb(251, 128, 114)\",\"rgb(128, 177, 211)\"],\"line\":{\"width\":1.3},\"size\":[65,78,102,65,12,68,60,59,85,70,60,34,84,55,68,51,48,92,45,58,68,56,75,106,97,31,82,68,51,65,43,74,98,92,112,74,95,107,67,74,49,96,16,44,83,28,89,93,96,70,82,67,68,86,66,60,68,65,64,99,99,91,77,67,71,61,90,54,83,109,42,39,53,44,50,68,67,57,66,71,81,54,21,78,95,58,63,52,79,97,15,65,47,68,59,43,88,91,67,71],\"symbol\":\"circle\"},\"mode\":\"markers\",\"text\":\"\",\"x\":[1.2336395877706994,-0.048615295932523526,0.25099671508100824,-0.1192462297098814,-0.2608481410248185,-0.06471520395729977,0.6259498930158807,0.12224421427601183,0.9324539075586492,1.070141475329659,0.5285224800201517,-0.24958849117359538,-0.29752102945104475,-0.6454103565063174,0.10442728647747394,-0.39378093189513375,-0.41399385767203517,-2.3312026081324517,0.31942537204183175,-1.4169774002817863,-1.377837148359218,-0.8064637395522112,3.3046701681598245,0.3249459378005792,0.3650097454990451,0.02065115131120758,1.2133373411044714,0.13608566784413764,-1.082375661287402,0.21276340210915654,-0.541233499690844,1.0120991433643813,-0.18508374419786647,-0.5156638362473296,-0.0645236069411833,0.34718435927735686,-1.1135794845678495,-0.9176904249407741,3.0705934949711446,1.4086638090114365,0.2562168360363639,-1.7164372878789915,0.22716733957708662,-1.4865304220381552,-0.483176954304673,2.802666688554588,-1.1253381606030017,-0.6915062924050371,0.7247609199197345,1.2275235702973804,-0.22318512888589181,-0.3132358939336809,-1.6040305545083373,1.8458126184513648,-0.8154253140752616,-0.2256614370869709,1.2978362803458532,0.14007647039884705,-0.20458602765483533,-0.2703209024985795,-0.2654081193656234,0.2202236850078853,0.14962062952118016,-0.9932677026925171,1.4271803455705308,0.43146018054188895,0.22187226163578996,1.7326906445715977,0.08548903032789677,-0.9295010484556132,0.5475247339146619,0.12447547676253774,-0.29634372342151055,-1.0253146544479361,0.3421818204421844,0.3688861723184149,0.03492725922143807,-0.31362123305608436,0.24375801240034217,0.4269918051686339,-0.23890978405914443,-1.7877295632810428,-0.16004350029481743,-0.3352782257640638,0.9857046637192217,-0.831237642919192,0.3361311145496733,0.7589545074594741,0.1781577265576734,-1.6752858972755533,-1.2041662102497588,-0.6653978729777915,0.3275641601449004,1.1634374896765034,-0.12556238527553262,0.11262507359259387,-0.13497569861698266,-1.3005004618063705,-1.4015847136640596,-0.7130959437805059],\"y\":[-1.9022065685510319,-2.1358854266589624,0.15731369215411856,-0.5116965050067188,-1.016778500304455,-0.07152395582692508,-0.6287641264563816,0.8116557648643434,-0.7109323439808468,-0.717033813927751,1.3316196542841683,-0.6310880219508661,2.5874251211580503,0.2644218892403224,-0.35142315852607764,0.2922499094243876,0.38465151313280316,0.4796526662506324,-0.692821516591526,-0.744210867455073,1.7066955696594042,0.21510833265147353,0.21771786641689403,-0.014642454292073627,1.1895312175510309,-1.3459717202535904,0.8467885453665221,-0.3114575850495862,1.030590665567906,-1.3999658924835772,0.3257603132932959,0.6586054996837076,-1.8464148734907193,-1.611694363967646,1.3087935975821354,-0.7122544344002926,-1.4202540474598107,-0.06956475576311448,-2.9681640089507857,0.31351528648144794,1.19697663227665,-0.06858255920050399,0.6949733405235001,0.12072343848660112,-0.9717122892437534,-0.6664128392375659,1.187574085544821,-2.1002353959673896,-1.0640523429911906,-0.6086697081559084,0.9148357188130085,-0.5189278497433476,-0.10464004777836514,0.5441484352640663,-1.101107079520376,0.104551275657519,-0.8641663897108429,-0.5439274802275234,0.7001541532162037,1.4695162149737615,-0.2926165781490387,-1.4279237442435446,1.0361323352789527,-0.988429236318292,-1.7599933184757448,-0.2972367314119232,-2.211370194384513,-0.6616248315376154,0.0006914603293870927,0.14312271204237148,1.037395383748161,0.635085681475714,-1.2801277743573918,-0.22485334081701447,-0.10709203797243241,1.0903950904507504,0.9498423697670688,-0.7566860215157124,-1.3185193689652943,0.3067433056702688,-0.1868825475446146,0.3227653992788982,1.1239897541025106,-0.85444767818716,-1.6535091941092632,0.733284060047493,2.2098470730160282,-0.939844915630386,-0.8269920694055485,-0.42477083179568426,0.6469222732434078,-0.6554123928641302,-0.6036906296788903,0.5121986984319296,-0.155322734625543,-0.5053751854186547,1.5239366853625391,2.047004505696809,-0.889866678505674,-0.29066447432594056],\"type\":\"scatter\"}],                        {\"legend\":{\"bgcolor\":\"#F5F6F9\",\"font\":{\"color\":\"#4D5663\"}},\"paper_bgcolor\":\"#F5F6F9\",\"plot_bgcolor\":\"#F5F6F9\",\"template\":{\"data\":{\"barpolar\":[{\"marker\":{\"line\":{\"color\":\"#E5ECF6\",\"width\":0.5},\"pattern\":{\"fillmode\":\"overlay\",\"size\":10,\"solidity\":0.2}},\"type\":\"barpolar\"}],\"bar\":[{\"error_x\":{\"color\":\"#2a3f5f\"},\"error_y\":{\"color\":\"#2a3f5f\"},\"marker\":{\"line\":{\"color\":\"#E5ECF6\",\"width\":0.5},\"pattern\":{\"fillmode\":\"overlay\",\"size\":10,\"solidity\":0.2}},\"type\":\"bar\"}],\"carpet\":[{\"aaxis\":{\"endlinecolor\":\"#2a3f5f\",\"gridcolor\":\"white\",\"linecolor\":\"white\",\"minorgridcolor\":\"white\",\"startlinecolor\":\"#2a3f5f\"},\"baxis\":{\"endlinecolor\":\"#2a3f5f\",\"gridcolor\":\"white\",\"linecolor\":\"white\",\"minorgridcolor\":\"white\",\"startlinecolor\":\"#2a3f5f\"},\"type\":\"carpet\"}],\"choropleth\":[{\"colorbar\":{\"outlinewidth\":0,\"ticks\":\"\"},\"type\":\"choropleth\"}],\"contourcarpet\":[{\"colorbar\":{\"outlinewidth\":0,\"ticks\":\"\"},\"type\":\"contourcarpet\"}],\"contour\":[{\"colorbar\":{\"outlinewidth\":0,\"ticks\":\"\"},\"colorscale\":[[0.0,\"#0d0887\"],[0.1111111111111111,\"#46039f\"],[0.2222222222222222,\"#7201a8\"],[0.3333333333333333,\"#9c179e\"],[0.4444444444444444,\"#bd3786\"],[0.5555555555555556,\"#d8576b\"],[0.6666666666666666,\"#ed7953\"],[0.7777777777777778,\"#fb9f3a\"],[0.8888888888888888,\"#fdca26\"],[1.0,\"#f0f921\"]],\"type\":\"contour\"}],\"heatmapgl\":[{\"colorbar\":{\"outlinewidth\":0,\"ticks\":\"\"},\"colorscale\":[[0.0,\"#0d0887\"],[0.1111111111111111,\"#46039f\"],[0.2222222222222222,\"#7201a8\"],[0.3333333333333333,\"#9c179e\"],[0.4444444444444444,\"#bd3786\"],[0.5555555555555556,\"#d8576b\"],[0.6666666666666666,\"#ed7953\"],[0.7777777777777778,\"#fb9f3a\"],[0.8888888888888888,\"#fdca26\"],[1.0,\"#f0f921\"]],\"type\":\"heatmapgl\"}],\"heatmap\":[{\"colorbar\":{\"outlinewidth\":0,\"ticks\":\"\"},\"colorscale\":[[0.0,\"#0d0887\"],[0.1111111111111111,\"#46039f\"],[0.2222222222222222,\"#7201a8\"],[0.3333333333333333,\"#9c179e\"],[0.4444444444444444,\"#bd3786\"],[0.5555555555555556,\"#d8576b\"],[0.6666666666666666,\"#ed7953\"],[0.7777777777777778,\"#fb9f3a\"],[0.8888888888888888,\"#fdca26\"],[1.0,\"#f0f921\"]],\"type\":\"heatmap\"}],\"histogram2dcontour\":[{\"colorbar\":{\"outlinewidth\":0,\"ticks\":\"\"},\"colorscale\":[[0.0,\"#0d0887\"],[0.1111111111111111,\"#46039f\"],[0.2222222222222222,\"#7201a8\"],[0.3333333333333333,\"#9c179e\"],[0.4444444444444444,\"#bd3786\"],[0.5555555555555556,\"#d8576b\"],[0.6666666666666666,\"#ed7953\"],[0.7777777777777778,\"#fb9f3a\"],[0.8888888888888888,\"#fdca26\"],[1.0,\"#f0f921\"]],\"type\":\"histogram2dcontour\"}],\"histogram2d\":[{\"colorbar\":{\"outlinewidth\":0,\"ticks\":\"\"},\"colorscale\":[[0.0,\"#0d0887\"],[0.1111111111111111,\"#46039f\"],[0.2222222222222222,\"#7201a8\"],[0.3333333333333333,\"#9c179e\"],[0.4444444444444444,\"#bd3786\"],[0.5555555555555556,\"#d8576b\"],[0.6666666666666666,\"#ed7953\"],[0.7777777777777778,\"#fb9f3a\"],[0.8888888888888888,\"#fdca26\"],[1.0,\"#f0f921\"]],\"type\":\"histogram2d\"}],\"histogram\":[{\"marker\":{\"pattern\":{\"fillmode\":\"overlay\",\"size\":10,\"solidity\":0.2}},\"type\":\"histogram\"}],\"mesh3d\":[{\"colorbar\":{\"outlinewidth\":0,\"ticks\":\"\"},\"type\":\"mesh3d\"}],\"parcoords\":[{\"line\":{\"colorbar\":{\"outlinewidth\":0,\"ticks\":\"\"}},\"type\":\"parcoords\"}],\"pie\":[{\"automargin\":true,\"type\":\"pie\"}],\"scatter3d\":[{\"line\":{\"colorbar\":{\"outlinewidth\":0,\"ticks\":\"\"}},\"marker\":{\"colorbar\":{\"outlinewidth\":0,\"ticks\":\"\"}},\"type\":\"scatter3d\"}],\"scattercarpet\":[{\"marker\":{\"colorbar\":{\"outlinewidth\":0,\"ticks\":\"\"}},\"type\":\"scattercarpet\"}],\"scattergeo\":[{\"marker\":{\"colorbar\":{\"outlinewidth\":0,\"ticks\":\"\"}},\"type\":\"scattergeo\"}],\"scattergl\":[{\"marker\":{\"colorbar\":{\"outlinewidth\":0,\"ticks\":\"\"}},\"type\":\"scattergl\"}],\"scattermapbox\":[{\"marker\":{\"colorbar\":{\"outlinewidth\":0,\"ticks\":\"\"}},\"type\":\"scattermapbox\"}],\"scatterpolargl\":[{\"marker\":{\"colorbar\":{\"outlinewidth\":0,\"ticks\":\"\"}},\"type\":\"scatterpolargl\"}],\"scatterpolar\":[{\"marker\":{\"colorbar\":{\"outlinewidth\":0,\"ticks\":\"\"}},\"type\":\"scatterpolar\"}],\"scatter\":[{\"fillpattern\":{\"fillmode\":\"overlay\",\"size\":10,\"solidity\":0.2},\"type\":\"scatter\"}],\"scatterternary\":[{\"marker\":{\"colorbar\":{\"outlinewidth\":0,\"ticks\":\"\"}},\"type\":\"scatterternary\"}],\"surface\":[{\"colorbar\":{\"outlinewidth\":0,\"ticks\":\"\"},\"colorscale\":[[0.0,\"#0d0887\"],[0.1111111111111111,\"#46039f\"],[0.2222222222222222,\"#7201a8\"],[0.3333333333333333,\"#9c179e\"],[0.4444444444444444,\"#bd3786\"],[0.5555555555555556,\"#d8576b\"],[0.6666666666666666,\"#ed7953\"],[0.7777777777777778,\"#fb9f3a\"],[0.8888888888888888,\"#fdca26\"],[1.0,\"#f0f921\"]],\"type\":\"surface\"}],\"table\":[{\"cells\":{\"fill\":{\"color\":\"#EBF0F8\"},\"line\":{\"color\":\"white\"}},\"header\":{\"fill\":{\"color\":\"#C8D4E3\"},\"line\":{\"color\":\"white\"}},\"type\":\"table\"}]},\"layout\":{\"annotationdefaults\":{\"arrowcolor\":\"#2a3f5f\",\"arrowhead\":0,\"arrowwidth\":1},\"autotypenumbers\":\"strict\",\"coloraxis\":{\"colorbar\":{\"outlinewidth\":0,\"ticks\":\"\"}},\"colorscale\":{\"diverging\":[[0,\"#8e0152\"],[0.1,\"#c51b7d\"],[0.2,\"#de77ae\"],[0.3,\"#f1b6da\"],[0.4,\"#fde0ef\"],[0.5,\"#f7f7f7\"],[0.6,\"#e6f5d0\"],[0.7,\"#b8e186\"],[0.8,\"#7fbc41\"],[0.9,\"#4d9221\"],[1,\"#276419\"]],\"sequential\":[[0.0,\"#0d0887\"],[0.1111111111111111,\"#46039f\"],[0.2222222222222222,\"#7201a8\"],[0.3333333333333333,\"#9c179e\"],[0.4444444444444444,\"#bd3786\"],[0.5555555555555556,\"#d8576b\"],[0.6666666666666666,\"#ed7953\"],[0.7777777777777778,\"#fb9f3a\"],[0.8888888888888888,\"#fdca26\"],[1.0,\"#f0f921\"]],\"sequentialminus\":[[0.0,\"#0d0887\"],[0.1111111111111111,\"#46039f\"],[0.2222222222222222,\"#7201a8\"],[0.3333333333333333,\"#9c179e\"],[0.4444444444444444,\"#bd3786\"],[0.5555555555555556,\"#d8576b\"],[0.6666666666666666,\"#ed7953\"],[0.7777777777777778,\"#fb9f3a\"],[0.8888888888888888,\"#fdca26\"],[1.0,\"#f0f921\"]]},\"colorway\":[\"#636efa\",\"#EF553B\",\"#00cc96\",\"#ab63fa\",\"#FFA15A\",\"#19d3f3\",\"#FF6692\",\"#B6E880\",\"#FF97FF\",\"#FECB52\"],\"font\":{\"color\":\"#2a3f5f\"},\"geo\":{\"bgcolor\":\"white\",\"lakecolor\":\"white\",\"landcolor\":\"#E5ECF6\",\"showlakes\":true,\"showland\":true,\"subunitcolor\":\"white\"},\"hoverlabel\":{\"align\":\"left\"},\"hovermode\":\"closest\",\"mapbox\":{\"style\":\"light\"},\"paper_bgcolor\":\"white\",\"plot_bgcolor\":\"#E5ECF6\",\"polar\":{\"angularaxis\":{\"gridcolor\":\"white\",\"linecolor\":\"white\",\"ticks\":\"\"},\"bgcolor\":\"#E5ECF6\",\"radialaxis\":{\"gridcolor\":\"white\",\"linecolor\":\"white\",\"ticks\":\"\"}},\"scene\":{\"xaxis\":{\"backgroundcolor\":\"#E5ECF6\",\"gridcolor\":\"white\",\"gridwidth\":2,\"linecolor\":\"white\",\"showbackground\":true,\"ticks\":\"\",\"zerolinecolor\":\"white\"},\"yaxis\":{\"backgroundcolor\":\"#E5ECF6\",\"gridcolor\":\"white\",\"gridwidth\":2,\"linecolor\":\"white\",\"showbackground\":true,\"ticks\":\"\",\"zerolinecolor\":\"white\"},\"zaxis\":{\"backgroundcolor\":\"#E5ECF6\",\"gridcolor\":\"white\",\"gridwidth\":2,\"linecolor\":\"white\",\"showbackground\":true,\"ticks\":\"\",\"zerolinecolor\":\"white\"}},\"shapedefaults\":{\"line\":{\"color\":\"#2a3f5f\"}},\"ternary\":{\"aaxis\":{\"gridcolor\":\"white\",\"linecolor\":\"white\",\"ticks\":\"\"},\"baxis\":{\"gridcolor\":\"white\",\"linecolor\":\"white\",\"ticks\":\"\"},\"bgcolor\":\"#E5ECF6\",\"caxis\":{\"gridcolor\":\"white\",\"linecolor\":\"white\",\"ticks\":\"\"}},\"title\":{\"x\":0.05},\"xaxis\":{\"automargin\":true,\"gridcolor\":\"white\",\"linecolor\":\"white\",\"ticks\":\"\",\"title\":{\"standoff\":15},\"zerolinecolor\":\"white\",\"zerolinewidth\":2},\"yaxis\":{\"automargin\":true,\"gridcolor\":\"white\",\"linecolor\":\"white\",\"ticks\":\"\",\"title\":{\"standoff\":15},\"zerolinecolor\":\"white\",\"zerolinewidth\":2}}},\"title\":{\"font\":{\"color\":\"#4D5663\"}},\"xaxis\":{\"gridcolor\":\"#E1E5ED\",\"showgrid\":true,\"tickfont\":{\"color\":\"#4D5663\"},\"title\":{\"font\":{\"color\":\"#4D5663\"},\"text\":\"\"},\"zerolinecolor\":\"#E1E5ED\"},\"yaxis\":{\"gridcolor\":\"#E1E5ED\",\"showgrid\":true,\"tickfont\":{\"color\":\"#4D5663\"},\"title\":{\"font\":{\"color\":\"#4D5663\"},\"text\":\"\"},\"zerolinecolor\":\"#E1E5ED\"}},                        {\"showLink\": true, \"linkText\": \"Export to plot.ly\", \"plotlyServerURL\": \"https://plot.ly\", \"responsive\": true}                    ).then(function(){\n",
       "                            \n",
       "var gd = document.getElementById('d077e74e-95c6-473a-a532-fc340ea25147');\n",
       "var x = new MutationObserver(function (mutations, observer) {{\n",
       "        var display = window.getComputedStyle(gd).display;\n",
       "        if (!display || display === 'none') {{\n",
       "            console.log([gd, 'removed!']);\n",
       "            Plotly.purge(gd);\n",
       "            observer.disconnect();\n",
       "        }}\n",
       "}});\n",
       "\n",
       "// Listen for the removal of the full notebook cells\n",
       "var notebookContainer = gd.closest('#notebook-container');\n",
       "if (notebookContainer) {{\n",
       "    x.observe(notebookContainer, {childList: true});\n",
       "}}\n",
       "\n",
       "// Listen for the clearing of the current output cell\n",
       "var outputEl = gd.closest('.output');\n",
       "if (outputEl) {{\n",
       "    x.observe(outputEl, {childList: true});\n",
       "}}\n",
       "\n",
       "                        })                };                });            </script>        </div>"
      ]
     },
     "metadata": {},
     "output_type": "display_data"
    }
   ],
   "source": [
    "df.iplot(kind='bubble', x='A', y='B', size='C')"
   ]
  },
  {
   "cell_type": "code",
   "execution_count": 26,
   "id": "6991147f-b2fb-474a-bfcb-f33b9c43ca34",
   "metadata": {},
   "outputs": [
    {
     "data": {
      "application/vnd.plotly.v1+json": {
       "config": {
        "linkText": "Export to plot.ly",
        "plotlyServerURL": "https://plot.ly",
        "showLink": true
       },
       "data": [
        {
         "histfunc": "count",
         "histnorm": "",
         "marker": {
          "color": "rgba(255, 153, 51, 1.0)",
          "line": {
           "color": "#4D5663",
           "width": 1.3
          }
         },
         "name": "A",
         "nbinsx": 10,
         "opacity": 0.8,
         "orientation": "v",
         "type": "histogram",
         "x": [
          1.2336395877706994,
          -0.048615295932523526,
          0.25099671508100824,
          -0.1192462297098814,
          -0.2608481410248185,
          -0.06471520395729977,
          0.6259498930158807,
          0.12224421427601183,
          0.9324539075586492,
          1.070141475329659,
          0.5285224800201517,
          -0.24958849117359538,
          -0.29752102945104475,
          -0.6454103565063174,
          0.10442728647747394,
          -0.39378093189513375,
          -0.41399385767203517,
          -2.3312026081324517,
          0.31942537204183175,
          -1.4169774002817863,
          -1.377837148359218,
          -0.8064637395522112,
          3.3046701681598245,
          0.3249459378005792,
          0.3650097454990451,
          0.02065115131120758,
          1.2133373411044714,
          0.13608566784413764,
          -1.082375661287402,
          0.21276340210915654,
          -0.541233499690844,
          1.0120991433643813,
          -0.18508374419786647,
          -0.5156638362473296,
          -0.0645236069411833,
          0.34718435927735686,
          -1.1135794845678495,
          -0.9176904249407741,
          3.0705934949711446,
          1.4086638090114365,
          0.2562168360363639,
          -1.7164372878789915,
          0.22716733957708662,
          -1.4865304220381552,
          -0.483176954304673,
          2.802666688554588,
          -1.1253381606030017,
          -0.6915062924050371,
          0.7247609199197345,
          1.2275235702973804,
          -0.22318512888589181,
          -0.3132358939336809,
          -1.6040305545083373,
          1.8458126184513648,
          -0.8154253140752616,
          -0.2256614370869709,
          1.2978362803458532,
          0.14007647039884705,
          -0.20458602765483533,
          -0.2703209024985795,
          -0.2654081193656234,
          0.2202236850078853,
          0.14962062952118016,
          -0.9932677026925171,
          1.4271803455705308,
          0.43146018054188895,
          0.22187226163578996,
          1.7326906445715977,
          0.08548903032789677,
          -0.9295010484556132,
          0.5475247339146619,
          0.12447547676253774,
          -0.29634372342151055,
          -1.0253146544479361,
          0.3421818204421844,
          0.3688861723184149,
          0.03492725922143807,
          -0.31362123305608436,
          0.24375801240034217,
          0.4269918051686339,
          -0.23890978405914443,
          -1.7877295632810428,
          -0.16004350029481743,
          -0.3352782257640638,
          0.9857046637192217,
          -0.831237642919192,
          0.3361311145496733,
          0.7589545074594741,
          0.1781577265576734,
          -1.6752858972755533,
          -1.2041662102497588,
          -0.6653978729777915,
          0.3275641601449004,
          1.1634374896765034,
          -0.12556238527553262,
          0.11262507359259387,
          -0.13497569861698266,
          -1.3005004618063705,
          -1.4015847136640596,
          -0.7130959437805059
         ],
         "xaxis": "x",
         "yaxis": "y"
        },
        {
         "line": {
          "color": "rgba(128, 128, 128, 1.0)",
          "dash": "solid",
          "shape": "linear",
          "width": 1.3
         },
         "marker": {
          "size": 2,
          "symbol": "circle"
         },
         "mode": "markers",
         "name": "A",
         "text": "",
         "type": "scatter",
         "x": [
          -1.9022065685510319,
          -2.1358854266589624,
          0.15731369215411856,
          -0.5116965050067188,
          -1.016778500304455,
          -0.07152395582692508,
          -0.6287641264563816,
          0.8116557648643434,
          -0.7109323439808468,
          -0.717033813927751,
          1.3316196542841683,
          -0.6310880219508661,
          2.5874251211580503,
          0.2644218892403224,
          -0.35142315852607764,
          0.2922499094243876,
          0.38465151313280316,
          0.4796526662506324,
          -0.692821516591526,
          -0.744210867455073,
          1.7066955696594042,
          0.21510833265147353,
          0.21771786641689403,
          -0.014642454292073627,
          1.1895312175510309,
          -1.3459717202535904,
          0.8467885453665221,
          -0.3114575850495862,
          1.030590665567906,
          -1.3999658924835772,
          0.3257603132932959,
          0.6586054996837076,
          -1.8464148734907193,
          -1.611694363967646,
          1.3087935975821354,
          -0.7122544344002926,
          -1.4202540474598107,
          -0.06956475576311448,
          -2.9681640089507857,
          0.31351528648144794,
          1.19697663227665,
          -0.06858255920050399,
          0.6949733405235001,
          0.12072343848660112,
          -0.9717122892437534,
          -0.6664128392375659,
          1.187574085544821,
          -2.1002353959673896,
          -1.0640523429911906,
          -0.6086697081559084,
          0.9148357188130085,
          -0.5189278497433476,
          -0.10464004777836514,
          0.5441484352640663,
          -1.101107079520376,
          0.104551275657519,
          -0.8641663897108429,
          -0.5439274802275234,
          0.7001541532162037,
          1.4695162149737615,
          -0.2926165781490387,
          -1.4279237442435446,
          1.0361323352789527,
          -0.988429236318292,
          -1.7599933184757448,
          -0.2972367314119232,
          -2.211370194384513,
          -0.6616248315376154,
          0.0006914603293870927,
          0.14312271204237148,
          1.037395383748161,
          0.635085681475714,
          -1.2801277743573918,
          -0.22485334081701447,
          -0.10709203797243241,
          1.0903950904507504,
          0.9498423697670688,
          -0.7566860215157124,
          -1.3185193689652943,
          0.3067433056702688,
          -0.1868825475446146,
          0.3227653992788982,
          1.1239897541025106,
          -0.85444767818716,
          -1.6535091941092632,
          0.733284060047493,
          2.2098470730160282,
          -0.939844915630386,
          -0.8269920694055485,
          -0.42477083179568426,
          0.6469222732434078,
          -0.6554123928641302,
          -0.6036906296788903,
          0.5121986984319296,
          -0.155322734625543,
          -0.5053751854186547,
          1.5239366853625391,
          2.047004505696809,
          -0.889866678505674,
          -0.29066447432594056
         ],
         "xaxis": "x2",
         "y": [
          1.2336395877706994,
          -0.048615295932523526,
          0.25099671508100824,
          -0.1192462297098814,
          -0.2608481410248185,
          -0.06471520395729977,
          0.6259498930158807,
          0.12224421427601183,
          0.9324539075586492,
          1.070141475329659,
          0.5285224800201517,
          -0.24958849117359538,
          -0.29752102945104475,
          -0.6454103565063174,
          0.10442728647747394,
          -0.39378093189513375,
          -0.41399385767203517,
          -2.3312026081324517,
          0.31942537204183175,
          -1.4169774002817863,
          -1.377837148359218,
          -0.8064637395522112,
          3.3046701681598245,
          0.3249459378005792,
          0.3650097454990451,
          0.02065115131120758,
          1.2133373411044714,
          0.13608566784413764,
          -1.082375661287402,
          0.21276340210915654,
          -0.541233499690844,
          1.0120991433643813,
          -0.18508374419786647,
          -0.5156638362473296,
          -0.0645236069411833,
          0.34718435927735686,
          -1.1135794845678495,
          -0.9176904249407741,
          3.0705934949711446,
          1.4086638090114365,
          0.2562168360363639,
          -1.7164372878789915,
          0.22716733957708662,
          -1.4865304220381552,
          -0.483176954304673,
          2.802666688554588,
          -1.1253381606030017,
          -0.6915062924050371,
          0.7247609199197345,
          1.2275235702973804,
          -0.22318512888589181,
          -0.3132358939336809,
          -1.6040305545083373,
          1.8458126184513648,
          -0.8154253140752616,
          -0.2256614370869709,
          1.2978362803458532,
          0.14007647039884705,
          -0.20458602765483533,
          -0.2703209024985795,
          -0.2654081193656234,
          0.2202236850078853,
          0.14962062952118016,
          -0.9932677026925171,
          1.4271803455705308,
          0.43146018054188895,
          0.22187226163578996,
          1.7326906445715977,
          0.08548903032789677,
          -0.9295010484556132,
          0.5475247339146619,
          0.12447547676253774,
          -0.29634372342151055,
          -1.0253146544479361,
          0.3421818204421844,
          0.3688861723184149,
          0.03492725922143807,
          -0.31362123305608436,
          0.24375801240034217,
          0.4269918051686339,
          -0.23890978405914443,
          -1.7877295632810428,
          -0.16004350029481743,
          -0.3352782257640638,
          0.9857046637192217,
          -0.831237642919192,
          0.3361311145496733,
          0.7589545074594741,
          0.1781577265576734,
          -1.6752858972755533,
          -1.2041662102497588,
          -0.6653978729777915,
          0.3275641601449004,
          1.1634374896765034,
          -0.12556238527553262,
          0.11262507359259387,
          -0.13497569861698266,
          -1.3005004618063705,
          -1.4015847136640596,
          -0.7130959437805059
         ],
         "yaxis": "y2"
        },
        {
         "line": {
          "color": "rgba(128, 128, 128, 1.0)",
          "dash": "solid",
          "shape": "linear",
          "width": 1.3
         },
         "marker": {
          "size": 2,
          "symbol": "circle"
         },
         "mode": "markers",
         "name": "A",
         "text": "",
         "type": "scatter",
         "x": [
          -0.1203462884061267,
          0.5205279603467541,
          1.6373721075195362,
          -0.14001172540804252,
          -2.674526145949805,
          0.0060677952583331595,
          -0.36622141484787113,
          -0.3924691468775285,
          0.8187257721064172,
          0.1185503907691811,
          -0.37297303762445855,
          -1.6126198259434936,
          0.8055375830516811,
          -0.5815984942374339,
          0.040794232049147824,
          -0.7873720664669202,
          -0.9516601915292413,
          1.1708829641717016,
          -1.0625150876152059,
          -0.4734598653816264,
          0.020844288576887166,
          -0.5697978532084147,
          0.3565820144230457,
          1.820986073532006,
          1.4103113009750812,
          -1.7578109576002183,
          0.6709490023049436,
          0.008710251602917883,
          -0.773908539594359,
          -0.10014921864482632,
          -1.1716662189760036,
          0.29748910841497217,
          1.4776251769729372,
          1.183711913190866,
          2.1046294893212183,
          0.33110363182786,
          1.3344659806224215,
          1.8669795338211328,
          -0.012674719960820802,
          0.3353224417080831,
          -0.8938456560251395,
          1.349121947598761,
          -2.4668115500134604,
          -1.1343925646877768,
          0.7660135522102507,
          -1.894330434749525,
          1.0140598332520745,
          1.2251843566973422,
          1.3874540311000108,
          0.11613591889194066,
          0.6811998510774827,
          -0.003533500739982704,
          0.014043824794410449,
          0.8636826602039034,
          -0.09100737893510782,
          -0.3436212806984299,
          0.006330301142763871,
          -0.099095793672755,
          -0.1839519025908113,
          1.5114741560438218,
          1.5021416621159007,
          1.1316060961136667,
          0.47634816595092005,
          -0.02420736315846384,
          0.19146131590129634,
          -0.31328367857691203,
          1.0808712383709749,
          -0.6668787968573957,
          0.7454378983322235,
          1.999036412148163,
          -1.19456697341481,
          -1.3397299896229375,
          -0.7069445506278457,
          -1.1013728437884975,
          -0.8333255588513151,
          0.025974722278596454,
          -0.013213216415298332,
          -0.5061130216172286,
          -0.08568735907262445,
          0.15249405867403465,
          0.6685429101785701,
          -0.6466830779456247,
          -2.223865800634014,
          0.5250073416429717,
          1.3078913993187256,
          -0.4438988321629713,
          -0.2216433743572602,
          -0.7528012152474951,
          0.5559777490354014,
          1.432791441296771,
          -2.520946937340112,
          -0.10521346693173139,
          -0.9596541368646575,
          0.018988384229541255,
          -0.3840057386571683,
          -1.177590721918723,
          1.0049781334061278,
          1.1088783448204909,
          -0.04577751906561806,
          0.162583504981171
         ],
         "xaxis": "x3",
         "y": [
          1.2336395877706994,
          -0.048615295932523526,
          0.25099671508100824,
          -0.1192462297098814,
          -0.2608481410248185,
          -0.06471520395729977,
          0.6259498930158807,
          0.12224421427601183,
          0.9324539075586492,
          1.070141475329659,
          0.5285224800201517,
          -0.24958849117359538,
          -0.29752102945104475,
          -0.6454103565063174,
          0.10442728647747394,
          -0.39378093189513375,
          -0.41399385767203517,
          -2.3312026081324517,
          0.31942537204183175,
          -1.4169774002817863,
          -1.377837148359218,
          -0.8064637395522112,
          3.3046701681598245,
          0.3249459378005792,
          0.3650097454990451,
          0.02065115131120758,
          1.2133373411044714,
          0.13608566784413764,
          -1.082375661287402,
          0.21276340210915654,
          -0.541233499690844,
          1.0120991433643813,
          -0.18508374419786647,
          -0.5156638362473296,
          -0.0645236069411833,
          0.34718435927735686,
          -1.1135794845678495,
          -0.9176904249407741,
          3.0705934949711446,
          1.4086638090114365,
          0.2562168360363639,
          -1.7164372878789915,
          0.22716733957708662,
          -1.4865304220381552,
          -0.483176954304673,
          2.802666688554588,
          -1.1253381606030017,
          -0.6915062924050371,
          0.7247609199197345,
          1.2275235702973804,
          -0.22318512888589181,
          -0.3132358939336809,
          -1.6040305545083373,
          1.8458126184513648,
          -0.8154253140752616,
          -0.2256614370869709,
          1.2978362803458532,
          0.14007647039884705,
          -0.20458602765483533,
          -0.2703209024985795,
          -0.2654081193656234,
          0.2202236850078853,
          0.14962062952118016,
          -0.9932677026925171,
          1.4271803455705308,
          0.43146018054188895,
          0.22187226163578996,
          1.7326906445715977,
          0.08548903032789677,
          -0.9295010484556132,
          0.5475247339146619,
          0.12447547676253774,
          -0.29634372342151055,
          -1.0253146544479361,
          0.3421818204421844,
          0.3688861723184149,
          0.03492725922143807,
          -0.31362123305608436,
          0.24375801240034217,
          0.4269918051686339,
          -0.23890978405914443,
          -1.7877295632810428,
          -0.16004350029481743,
          -0.3352782257640638,
          0.9857046637192217,
          -0.831237642919192,
          0.3361311145496733,
          0.7589545074594741,
          0.1781577265576734,
          -1.6752858972755533,
          -1.2041662102497588,
          -0.6653978729777915,
          0.3275641601449004,
          1.1634374896765034,
          -0.12556238527553262,
          0.11262507359259387,
          -0.13497569861698266,
          -1.3005004618063705,
          -1.4015847136640596,
          -0.7130959437805059
         ],
         "yaxis": "y3"
        },
        {
         "line": {
          "color": "rgba(128, 128, 128, 1.0)",
          "dash": "solid",
          "shape": "linear",
          "width": 1.3
         },
         "marker": {
          "size": 2,
          "symbol": "circle"
         },
         "mode": "markers",
         "name": "A",
         "text": "",
         "type": "scatter",
         "x": [
          -1.7567658157148927,
          -0.5901672254907833,
          -0.13664244385952085,
          -0.19653874796921839,
          -1.9511887501088818,
          1.3146435520150057,
          0.36862001272181294,
          -0.32346308637305865,
          -1.590444873222024,
          -0.25937836983757784,
          -0.2735276031871359,
          -2.060527915183689,
          -1.7230501121389559,
          -1.634601603572378,
          0.2217676484698342,
          0.4506887987078977,
          1.6405211037154424,
          0.3111918085082636,
          -1.4532524451622628,
          1.7836899168588702,
          -0.19195765676538254,
          -0.4452316278621485,
          1.1385268168816403,
          0.6498514520424518,
          -1.0805329991577612,
          -1.021004206939174,
          -1.0866315505218085,
          -0.14529022135568864,
          -1.986553870720136,
          -0.12362608258679714,
          0.7381764775245226,
          -1.4981099343634754,
          -1.3089903362617425,
          0.08660061096738925,
          -1.493762693790531,
          0.20287152608325598,
          -0.6600834177574529,
          -0.8705499827087052,
          -0.5321580827832789,
          0.1317813490014566,
          -1.7971861233158488,
          -0.03135291942911883,
          -0.5516341287552158,
          1.2775198455453443,
          0.48724250557753745,
          0.786822987160542,
          -0.13263198827278552,
          -0.39351506331500513,
          -0.05297070899342627,
          -0.8425429113716089,
          -0.9248670315260388,
          0.036872824956346494,
          1.0660878322634422,
          -0.24696381545849877,
          -1.0873803701063092,
          1.4996726338425603,
          -0.48256070497159864,
          0.7316450161836825,
          -0.8273960611272215,
          -0.17975816587564092,
          -1.7269653257375341,
          2.6691746650222834,
          0.6805526528012904,
          0.42202296251362176,
          0.40006582399723906,
          -1.5995278766058656,
          1.6730502172282378,
          -0.12965220173365527,
          1.4783673600532836,
          2.1826575486473065,
          1.1959971847804978,
          0.6666164036985821,
          0.5947819722052156,
          -0.2807647451558486,
          0.48707441883058644,
          0.37345360025214513,
          -1.249811354030153,
          1.6599410087348472,
          0.3319812753593216,
          -0.39093031838968195,
          0.6872089705060264,
          -0.48157934598860985,
          -0.7491761665230465,
          -0.42963505174509836,
          0.4363773992487627,
          0.5813295719780832,
          -2.1426769022662358,
          -0.6505585364801885,
          -0.9307237075318577,
          -0.22633137111629026,
          1.4585314303541639,
          2.4519017790717665,
          -0.6376561712316466,
          -0.691985452968969,
          0.4675037123446964,
          1.722835490148828,
          1.7747540039181924,
          1.3636474988664646,
          0.13173216302677304,
          0.6674998159581864
         ],
         "xaxis": "x4",
         "y": [
          1.2336395877706994,
          -0.048615295932523526,
          0.25099671508100824,
          -0.1192462297098814,
          -0.2608481410248185,
          -0.06471520395729977,
          0.6259498930158807,
          0.12224421427601183,
          0.9324539075586492,
          1.070141475329659,
          0.5285224800201517,
          -0.24958849117359538,
          -0.29752102945104475,
          -0.6454103565063174,
          0.10442728647747394,
          -0.39378093189513375,
          -0.41399385767203517,
          -2.3312026081324517,
          0.31942537204183175,
          -1.4169774002817863,
          -1.377837148359218,
          -0.8064637395522112,
          3.3046701681598245,
          0.3249459378005792,
          0.3650097454990451,
          0.02065115131120758,
          1.2133373411044714,
          0.13608566784413764,
          -1.082375661287402,
          0.21276340210915654,
          -0.541233499690844,
          1.0120991433643813,
          -0.18508374419786647,
          -0.5156638362473296,
          -0.0645236069411833,
          0.34718435927735686,
          -1.1135794845678495,
          -0.9176904249407741,
          3.0705934949711446,
          1.4086638090114365,
          0.2562168360363639,
          -1.7164372878789915,
          0.22716733957708662,
          -1.4865304220381552,
          -0.483176954304673,
          2.802666688554588,
          -1.1253381606030017,
          -0.6915062924050371,
          0.7247609199197345,
          1.2275235702973804,
          -0.22318512888589181,
          -0.3132358939336809,
          -1.6040305545083373,
          1.8458126184513648,
          -0.8154253140752616,
          -0.2256614370869709,
          1.2978362803458532,
          0.14007647039884705,
          -0.20458602765483533,
          -0.2703209024985795,
          -0.2654081193656234,
          0.2202236850078853,
          0.14962062952118016,
          -0.9932677026925171,
          1.4271803455705308,
          0.43146018054188895,
          0.22187226163578996,
          1.7326906445715977,
          0.08548903032789677,
          -0.9295010484556132,
          0.5475247339146619,
          0.12447547676253774,
          -0.29634372342151055,
          -1.0253146544479361,
          0.3421818204421844,
          0.3688861723184149,
          0.03492725922143807,
          -0.31362123305608436,
          0.24375801240034217,
          0.4269918051686339,
          -0.23890978405914443,
          -1.7877295632810428,
          -0.16004350029481743,
          -0.3352782257640638,
          0.9857046637192217,
          -0.831237642919192,
          0.3361311145496733,
          0.7589545074594741,
          0.1781577265576734,
          -1.6752858972755533,
          -1.2041662102497588,
          -0.6653978729777915,
          0.3275641601449004,
          1.1634374896765034,
          -0.12556238527553262,
          0.11262507359259387,
          -0.13497569861698266,
          -1.3005004618063705,
          -1.4015847136640596,
          -0.7130959437805059
         ],
         "yaxis": "y4"
        },
        {
         "line": {
          "color": "rgba(128, 128, 128, 1.0)",
          "dash": "solid",
          "shape": "linear",
          "width": 1.3
         },
         "marker": {
          "size": 2,
          "symbol": "circle"
         },
         "mode": "markers",
         "name": "B",
         "text": "",
         "type": "scatter",
         "x": [
          1.2336395877706994,
          -0.048615295932523526,
          0.25099671508100824,
          -0.1192462297098814,
          -0.2608481410248185,
          -0.06471520395729977,
          0.6259498930158807,
          0.12224421427601183,
          0.9324539075586492,
          1.070141475329659,
          0.5285224800201517,
          -0.24958849117359538,
          -0.29752102945104475,
          -0.6454103565063174,
          0.10442728647747394,
          -0.39378093189513375,
          -0.41399385767203517,
          -2.3312026081324517,
          0.31942537204183175,
          -1.4169774002817863,
          -1.377837148359218,
          -0.8064637395522112,
          3.3046701681598245,
          0.3249459378005792,
          0.3650097454990451,
          0.02065115131120758,
          1.2133373411044714,
          0.13608566784413764,
          -1.082375661287402,
          0.21276340210915654,
          -0.541233499690844,
          1.0120991433643813,
          -0.18508374419786647,
          -0.5156638362473296,
          -0.0645236069411833,
          0.34718435927735686,
          -1.1135794845678495,
          -0.9176904249407741,
          3.0705934949711446,
          1.4086638090114365,
          0.2562168360363639,
          -1.7164372878789915,
          0.22716733957708662,
          -1.4865304220381552,
          -0.483176954304673,
          2.802666688554588,
          -1.1253381606030017,
          -0.6915062924050371,
          0.7247609199197345,
          1.2275235702973804,
          -0.22318512888589181,
          -0.3132358939336809,
          -1.6040305545083373,
          1.8458126184513648,
          -0.8154253140752616,
          -0.2256614370869709,
          1.2978362803458532,
          0.14007647039884705,
          -0.20458602765483533,
          -0.2703209024985795,
          -0.2654081193656234,
          0.2202236850078853,
          0.14962062952118016,
          -0.9932677026925171,
          1.4271803455705308,
          0.43146018054188895,
          0.22187226163578996,
          1.7326906445715977,
          0.08548903032789677,
          -0.9295010484556132,
          0.5475247339146619,
          0.12447547676253774,
          -0.29634372342151055,
          -1.0253146544479361,
          0.3421818204421844,
          0.3688861723184149,
          0.03492725922143807,
          -0.31362123305608436,
          0.24375801240034217,
          0.4269918051686339,
          -0.23890978405914443,
          -1.7877295632810428,
          -0.16004350029481743,
          -0.3352782257640638,
          0.9857046637192217,
          -0.831237642919192,
          0.3361311145496733,
          0.7589545074594741,
          0.1781577265576734,
          -1.6752858972755533,
          -1.2041662102497588,
          -0.6653978729777915,
          0.3275641601449004,
          1.1634374896765034,
          -0.12556238527553262,
          0.11262507359259387,
          -0.13497569861698266,
          -1.3005004618063705,
          -1.4015847136640596,
          -0.7130959437805059
         ],
         "xaxis": "x5",
         "y": [
          -1.9022065685510319,
          -2.1358854266589624,
          0.15731369215411856,
          -0.5116965050067188,
          -1.016778500304455,
          -0.07152395582692508,
          -0.6287641264563816,
          0.8116557648643434,
          -0.7109323439808468,
          -0.717033813927751,
          1.3316196542841683,
          -0.6310880219508661,
          2.5874251211580503,
          0.2644218892403224,
          -0.35142315852607764,
          0.2922499094243876,
          0.38465151313280316,
          0.4796526662506324,
          -0.692821516591526,
          -0.744210867455073,
          1.7066955696594042,
          0.21510833265147353,
          0.21771786641689403,
          -0.014642454292073627,
          1.1895312175510309,
          -1.3459717202535904,
          0.8467885453665221,
          -0.3114575850495862,
          1.030590665567906,
          -1.3999658924835772,
          0.3257603132932959,
          0.6586054996837076,
          -1.8464148734907193,
          -1.611694363967646,
          1.3087935975821354,
          -0.7122544344002926,
          -1.4202540474598107,
          -0.06956475576311448,
          -2.9681640089507857,
          0.31351528648144794,
          1.19697663227665,
          -0.06858255920050399,
          0.6949733405235001,
          0.12072343848660112,
          -0.9717122892437534,
          -0.6664128392375659,
          1.187574085544821,
          -2.1002353959673896,
          -1.0640523429911906,
          -0.6086697081559084,
          0.9148357188130085,
          -0.5189278497433476,
          -0.10464004777836514,
          0.5441484352640663,
          -1.101107079520376,
          0.104551275657519,
          -0.8641663897108429,
          -0.5439274802275234,
          0.7001541532162037,
          1.4695162149737615,
          -0.2926165781490387,
          -1.4279237442435446,
          1.0361323352789527,
          -0.988429236318292,
          -1.7599933184757448,
          -0.2972367314119232,
          -2.211370194384513,
          -0.6616248315376154,
          0.0006914603293870927,
          0.14312271204237148,
          1.037395383748161,
          0.635085681475714,
          -1.2801277743573918,
          -0.22485334081701447,
          -0.10709203797243241,
          1.0903950904507504,
          0.9498423697670688,
          -0.7566860215157124,
          -1.3185193689652943,
          0.3067433056702688,
          -0.1868825475446146,
          0.3227653992788982,
          1.1239897541025106,
          -0.85444767818716,
          -1.6535091941092632,
          0.733284060047493,
          2.2098470730160282,
          -0.939844915630386,
          -0.8269920694055485,
          -0.42477083179568426,
          0.6469222732434078,
          -0.6554123928641302,
          -0.6036906296788903,
          0.5121986984319296,
          -0.155322734625543,
          -0.5053751854186547,
          1.5239366853625391,
          2.047004505696809,
          -0.889866678505674,
          -0.29066447432594056
         ],
         "yaxis": "y5"
        },
        {
         "histfunc": "count",
         "histnorm": "",
         "marker": {
          "color": "rgba(55, 128, 191, 1.0)",
          "line": {
           "color": "#4D5663",
           "width": 1.3
          }
         },
         "name": "B",
         "nbinsx": 10,
         "opacity": 0.8,
         "orientation": "v",
         "type": "histogram",
         "x": [
          -1.9022065685510319,
          -2.1358854266589624,
          0.15731369215411856,
          -0.5116965050067188,
          -1.016778500304455,
          -0.07152395582692508,
          -0.6287641264563816,
          0.8116557648643434,
          -0.7109323439808468,
          -0.717033813927751,
          1.3316196542841683,
          -0.6310880219508661,
          2.5874251211580503,
          0.2644218892403224,
          -0.35142315852607764,
          0.2922499094243876,
          0.38465151313280316,
          0.4796526662506324,
          -0.692821516591526,
          -0.744210867455073,
          1.7066955696594042,
          0.21510833265147353,
          0.21771786641689403,
          -0.014642454292073627,
          1.1895312175510309,
          -1.3459717202535904,
          0.8467885453665221,
          -0.3114575850495862,
          1.030590665567906,
          -1.3999658924835772,
          0.3257603132932959,
          0.6586054996837076,
          -1.8464148734907193,
          -1.611694363967646,
          1.3087935975821354,
          -0.7122544344002926,
          -1.4202540474598107,
          -0.06956475576311448,
          -2.9681640089507857,
          0.31351528648144794,
          1.19697663227665,
          -0.06858255920050399,
          0.6949733405235001,
          0.12072343848660112,
          -0.9717122892437534,
          -0.6664128392375659,
          1.187574085544821,
          -2.1002353959673896,
          -1.0640523429911906,
          -0.6086697081559084,
          0.9148357188130085,
          -0.5189278497433476,
          -0.10464004777836514,
          0.5441484352640663,
          -1.101107079520376,
          0.104551275657519,
          -0.8641663897108429,
          -0.5439274802275234,
          0.7001541532162037,
          1.4695162149737615,
          -0.2926165781490387,
          -1.4279237442435446,
          1.0361323352789527,
          -0.988429236318292,
          -1.7599933184757448,
          -0.2972367314119232,
          -2.211370194384513,
          -0.6616248315376154,
          0.0006914603293870927,
          0.14312271204237148,
          1.037395383748161,
          0.635085681475714,
          -1.2801277743573918,
          -0.22485334081701447,
          -0.10709203797243241,
          1.0903950904507504,
          0.9498423697670688,
          -0.7566860215157124,
          -1.3185193689652943,
          0.3067433056702688,
          -0.1868825475446146,
          0.3227653992788982,
          1.1239897541025106,
          -0.85444767818716,
          -1.6535091941092632,
          0.733284060047493,
          2.2098470730160282,
          -0.939844915630386,
          -0.8269920694055485,
          -0.42477083179568426,
          0.6469222732434078,
          -0.6554123928641302,
          -0.6036906296788903,
          0.5121986984319296,
          -0.155322734625543,
          -0.5053751854186547,
          1.5239366853625391,
          2.047004505696809,
          -0.889866678505674,
          -0.29066447432594056
         ],
         "xaxis": "x6",
         "yaxis": "y6"
        },
        {
         "line": {
          "color": "rgba(128, 128, 128, 1.0)",
          "dash": "solid",
          "shape": "linear",
          "width": 1.3
         },
         "marker": {
          "size": 2,
          "symbol": "circle"
         },
         "mode": "markers",
         "name": "B",
         "text": "",
         "type": "scatter",
         "x": [
          -0.1203462884061267,
          0.5205279603467541,
          1.6373721075195362,
          -0.14001172540804252,
          -2.674526145949805,
          0.0060677952583331595,
          -0.36622141484787113,
          -0.3924691468775285,
          0.8187257721064172,
          0.1185503907691811,
          -0.37297303762445855,
          -1.6126198259434936,
          0.8055375830516811,
          -0.5815984942374339,
          0.040794232049147824,
          -0.7873720664669202,
          -0.9516601915292413,
          1.1708829641717016,
          -1.0625150876152059,
          -0.4734598653816264,
          0.020844288576887166,
          -0.5697978532084147,
          0.3565820144230457,
          1.820986073532006,
          1.4103113009750812,
          -1.7578109576002183,
          0.6709490023049436,
          0.008710251602917883,
          -0.773908539594359,
          -0.10014921864482632,
          -1.1716662189760036,
          0.29748910841497217,
          1.4776251769729372,
          1.183711913190866,
          2.1046294893212183,
          0.33110363182786,
          1.3344659806224215,
          1.8669795338211328,
          -0.012674719960820802,
          0.3353224417080831,
          -0.8938456560251395,
          1.349121947598761,
          -2.4668115500134604,
          -1.1343925646877768,
          0.7660135522102507,
          -1.894330434749525,
          1.0140598332520745,
          1.2251843566973422,
          1.3874540311000108,
          0.11613591889194066,
          0.6811998510774827,
          -0.003533500739982704,
          0.014043824794410449,
          0.8636826602039034,
          -0.09100737893510782,
          -0.3436212806984299,
          0.006330301142763871,
          -0.099095793672755,
          -0.1839519025908113,
          1.5114741560438218,
          1.5021416621159007,
          1.1316060961136667,
          0.47634816595092005,
          -0.02420736315846384,
          0.19146131590129634,
          -0.31328367857691203,
          1.0808712383709749,
          -0.6668787968573957,
          0.7454378983322235,
          1.999036412148163,
          -1.19456697341481,
          -1.3397299896229375,
          -0.7069445506278457,
          -1.1013728437884975,
          -0.8333255588513151,
          0.025974722278596454,
          -0.013213216415298332,
          -0.5061130216172286,
          -0.08568735907262445,
          0.15249405867403465,
          0.6685429101785701,
          -0.6466830779456247,
          -2.223865800634014,
          0.5250073416429717,
          1.3078913993187256,
          -0.4438988321629713,
          -0.2216433743572602,
          -0.7528012152474951,
          0.5559777490354014,
          1.432791441296771,
          -2.520946937340112,
          -0.10521346693173139,
          -0.9596541368646575,
          0.018988384229541255,
          -0.3840057386571683,
          -1.177590721918723,
          1.0049781334061278,
          1.1088783448204909,
          -0.04577751906561806,
          0.162583504981171
         ],
         "xaxis": "x7",
         "y": [
          -1.9022065685510319,
          -2.1358854266589624,
          0.15731369215411856,
          -0.5116965050067188,
          -1.016778500304455,
          -0.07152395582692508,
          -0.6287641264563816,
          0.8116557648643434,
          -0.7109323439808468,
          -0.717033813927751,
          1.3316196542841683,
          -0.6310880219508661,
          2.5874251211580503,
          0.2644218892403224,
          -0.35142315852607764,
          0.2922499094243876,
          0.38465151313280316,
          0.4796526662506324,
          -0.692821516591526,
          -0.744210867455073,
          1.7066955696594042,
          0.21510833265147353,
          0.21771786641689403,
          -0.014642454292073627,
          1.1895312175510309,
          -1.3459717202535904,
          0.8467885453665221,
          -0.3114575850495862,
          1.030590665567906,
          -1.3999658924835772,
          0.3257603132932959,
          0.6586054996837076,
          -1.8464148734907193,
          -1.611694363967646,
          1.3087935975821354,
          -0.7122544344002926,
          -1.4202540474598107,
          -0.06956475576311448,
          -2.9681640089507857,
          0.31351528648144794,
          1.19697663227665,
          -0.06858255920050399,
          0.6949733405235001,
          0.12072343848660112,
          -0.9717122892437534,
          -0.6664128392375659,
          1.187574085544821,
          -2.1002353959673896,
          -1.0640523429911906,
          -0.6086697081559084,
          0.9148357188130085,
          -0.5189278497433476,
          -0.10464004777836514,
          0.5441484352640663,
          -1.101107079520376,
          0.104551275657519,
          -0.8641663897108429,
          -0.5439274802275234,
          0.7001541532162037,
          1.4695162149737615,
          -0.2926165781490387,
          -1.4279237442435446,
          1.0361323352789527,
          -0.988429236318292,
          -1.7599933184757448,
          -0.2972367314119232,
          -2.211370194384513,
          -0.6616248315376154,
          0.0006914603293870927,
          0.14312271204237148,
          1.037395383748161,
          0.635085681475714,
          -1.2801277743573918,
          -0.22485334081701447,
          -0.10709203797243241,
          1.0903950904507504,
          0.9498423697670688,
          -0.7566860215157124,
          -1.3185193689652943,
          0.3067433056702688,
          -0.1868825475446146,
          0.3227653992788982,
          1.1239897541025106,
          -0.85444767818716,
          -1.6535091941092632,
          0.733284060047493,
          2.2098470730160282,
          -0.939844915630386,
          -0.8269920694055485,
          -0.42477083179568426,
          0.6469222732434078,
          -0.6554123928641302,
          -0.6036906296788903,
          0.5121986984319296,
          -0.155322734625543,
          -0.5053751854186547,
          1.5239366853625391,
          2.047004505696809,
          -0.889866678505674,
          -0.29066447432594056
         ],
         "yaxis": "y7"
        },
        {
         "line": {
          "color": "rgba(128, 128, 128, 1.0)",
          "dash": "solid",
          "shape": "linear",
          "width": 1.3
         },
         "marker": {
          "size": 2,
          "symbol": "circle"
         },
         "mode": "markers",
         "name": "B",
         "text": "",
         "type": "scatter",
         "x": [
          -1.7567658157148927,
          -0.5901672254907833,
          -0.13664244385952085,
          -0.19653874796921839,
          -1.9511887501088818,
          1.3146435520150057,
          0.36862001272181294,
          -0.32346308637305865,
          -1.590444873222024,
          -0.25937836983757784,
          -0.2735276031871359,
          -2.060527915183689,
          -1.7230501121389559,
          -1.634601603572378,
          0.2217676484698342,
          0.4506887987078977,
          1.6405211037154424,
          0.3111918085082636,
          -1.4532524451622628,
          1.7836899168588702,
          -0.19195765676538254,
          -0.4452316278621485,
          1.1385268168816403,
          0.6498514520424518,
          -1.0805329991577612,
          -1.021004206939174,
          -1.0866315505218085,
          -0.14529022135568864,
          -1.986553870720136,
          -0.12362608258679714,
          0.7381764775245226,
          -1.4981099343634754,
          -1.3089903362617425,
          0.08660061096738925,
          -1.493762693790531,
          0.20287152608325598,
          -0.6600834177574529,
          -0.8705499827087052,
          -0.5321580827832789,
          0.1317813490014566,
          -1.7971861233158488,
          -0.03135291942911883,
          -0.5516341287552158,
          1.2775198455453443,
          0.48724250557753745,
          0.786822987160542,
          -0.13263198827278552,
          -0.39351506331500513,
          -0.05297070899342627,
          -0.8425429113716089,
          -0.9248670315260388,
          0.036872824956346494,
          1.0660878322634422,
          -0.24696381545849877,
          -1.0873803701063092,
          1.4996726338425603,
          -0.48256070497159864,
          0.7316450161836825,
          -0.8273960611272215,
          -0.17975816587564092,
          -1.7269653257375341,
          2.6691746650222834,
          0.6805526528012904,
          0.42202296251362176,
          0.40006582399723906,
          -1.5995278766058656,
          1.6730502172282378,
          -0.12965220173365527,
          1.4783673600532836,
          2.1826575486473065,
          1.1959971847804978,
          0.6666164036985821,
          0.5947819722052156,
          -0.2807647451558486,
          0.48707441883058644,
          0.37345360025214513,
          -1.249811354030153,
          1.6599410087348472,
          0.3319812753593216,
          -0.39093031838968195,
          0.6872089705060264,
          -0.48157934598860985,
          -0.7491761665230465,
          -0.42963505174509836,
          0.4363773992487627,
          0.5813295719780832,
          -2.1426769022662358,
          -0.6505585364801885,
          -0.9307237075318577,
          -0.22633137111629026,
          1.4585314303541639,
          2.4519017790717665,
          -0.6376561712316466,
          -0.691985452968969,
          0.4675037123446964,
          1.722835490148828,
          1.7747540039181924,
          1.3636474988664646,
          0.13173216302677304,
          0.6674998159581864
         ],
         "xaxis": "x8",
         "y": [
          -1.9022065685510319,
          -2.1358854266589624,
          0.15731369215411856,
          -0.5116965050067188,
          -1.016778500304455,
          -0.07152395582692508,
          -0.6287641264563816,
          0.8116557648643434,
          -0.7109323439808468,
          -0.717033813927751,
          1.3316196542841683,
          -0.6310880219508661,
          2.5874251211580503,
          0.2644218892403224,
          -0.35142315852607764,
          0.2922499094243876,
          0.38465151313280316,
          0.4796526662506324,
          -0.692821516591526,
          -0.744210867455073,
          1.7066955696594042,
          0.21510833265147353,
          0.21771786641689403,
          -0.014642454292073627,
          1.1895312175510309,
          -1.3459717202535904,
          0.8467885453665221,
          -0.3114575850495862,
          1.030590665567906,
          -1.3999658924835772,
          0.3257603132932959,
          0.6586054996837076,
          -1.8464148734907193,
          -1.611694363967646,
          1.3087935975821354,
          -0.7122544344002926,
          -1.4202540474598107,
          -0.06956475576311448,
          -2.9681640089507857,
          0.31351528648144794,
          1.19697663227665,
          -0.06858255920050399,
          0.6949733405235001,
          0.12072343848660112,
          -0.9717122892437534,
          -0.6664128392375659,
          1.187574085544821,
          -2.1002353959673896,
          -1.0640523429911906,
          -0.6086697081559084,
          0.9148357188130085,
          -0.5189278497433476,
          -0.10464004777836514,
          0.5441484352640663,
          -1.101107079520376,
          0.104551275657519,
          -0.8641663897108429,
          -0.5439274802275234,
          0.7001541532162037,
          1.4695162149737615,
          -0.2926165781490387,
          -1.4279237442435446,
          1.0361323352789527,
          -0.988429236318292,
          -1.7599933184757448,
          -0.2972367314119232,
          -2.211370194384513,
          -0.6616248315376154,
          0.0006914603293870927,
          0.14312271204237148,
          1.037395383748161,
          0.635085681475714,
          -1.2801277743573918,
          -0.22485334081701447,
          -0.10709203797243241,
          1.0903950904507504,
          0.9498423697670688,
          -0.7566860215157124,
          -1.3185193689652943,
          0.3067433056702688,
          -0.1868825475446146,
          0.3227653992788982,
          1.1239897541025106,
          -0.85444767818716,
          -1.6535091941092632,
          0.733284060047493,
          2.2098470730160282,
          -0.939844915630386,
          -0.8269920694055485,
          -0.42477083179568426,
          0.6469222732434078,
          -0.6554123928641302,
          -0.6036906296788903,
          0.5121986984319296,
          -0.155322734625543,
          -0.5053751854186547,
          1.5239366853625391,
          2.047004505696809,
          -0.889866678505674,
          -0.29066447432594056
         ],
         "yaxis": "y8"
        },
        {
         "line": {
          "color": "rgba(128, 128, 128, 1.0)",
          "dash": "solid",
          "shape": "linear",
          "width": 1.3
         },
         "marker": {
          "size": 2,
          "symbol": "circle"
         },
         "mode": "markers",
         "name": "C",
         "text": "",
         "type": "scatter",
         "x": [
          1.2336395877706994,
          -0.048615295932523526,
          0.25099671508100824,
          -0.1192462297098814,
          -0.2608481410248185,
          -0.06471520395729977,
          0.6259498930158807,
          0.12224421427601183,
          0.9324539075586492,
          1.070141475329659,
          0.5285224800201517,
          -0.24958849117359538,
          -0.29752102945104475,
          -0.6454103565063174,
          0.10442728647747394,
          -0.39378093189513375,
          -0.41399385767203517,
          -2.3312026081324517,
          0.31942537204183175,
          -1.4169774002817863,
          -1.377837148359218,
          -0.8064637395522112,
          3.3046701681598245,
          0.3249459378005792,
          0.3650097454990451,
          0.02065115131120758,
          1.2133373411044714,
          0.13608566784413764,
          -1.082375661287402,
          0.21276340210915654,
          -0.541233499690844,
          1.0120991433643813,
          -0.18508374419786647,
          -0.5156638362473296,
          -0.0645236069411833,
          0.34718435927735686,
          -1.1135794845678495,
          -0.9176904249407741,
          3.0705934949711446,
          1.4086638090114365,
          0.2562168360363639,
          -1.7164372878789915,
          0.22716733957708662,
          -1.4865304220381552,
          -0.483176954304673,
          2.802666688554588,
          -1.1253381606030017,
          -0.6915062924050371,
          0.7247609199197345,
          1.2275235702973804,
          -0.22318512888589181,
          -0.3132358939336809,
          -1.6040305545083373,
          1.8458126184513648,
          -0.8154253140752616,
          -0.2256614370869709,
          1.2978362803458532,
          0.14007647039884705,
          -0.20458602765483533,
          -0.2703209024985795,
          -0.2654081193656234,
          0.2202236850078853,
          0.14962062952118016,
          -0.9932677026925171,
          1.4271803455705308,
          0.43146018054188895,
          0.22187226163578996,
          1.7326906445715977,
          0.08548903032789677,
          -0.9295010484556132,
          0.5475247339146619,
          0.12447547676253774,
          -0.29634372342151055,
          -1.0253146544479361,
          0.3421818204421844,
          0.3688861723184149,
          0.03492725922143807,
          -0.31362123305608436,
          0.24375801240034217,
          0.4269918051686339,
          -0.23890978405914443,
          -1.7877295632810428,
          -0.16004350029481743,
          -0.3352782257640638,
          0.9857046637192217,
          -0.831237642919192,
          0.3361311145496733,
          0.7589545074594741,
          0.1781577265576734,
          -1.6752858972755533,
          -1.2041662102497588,
          -0.6653978729777915,
          0.3275641601449004,
          1.1634374896765034,
          -0.12556238527553262,
          0.11262507359259387,
          -0.13497569861698266,
          -1.3005004618063705,
          -1.4015847136640596,
          -0.7130959437805059
         ],
         "xaxis": "x9",
         "y": [
          -0.1203462884061267,
          0.5205279603467541,
          1.6373721075195362,
          -0.14001172540804252,
          -2.674526145949805,
          0.0060677952583331595,
          -0.36622141484787113,
          -0.3924691468775285,
          0.8187257721064172,
          0.1185503907691811,
          -0.37297303762445855,
          -1.6126198259434936,
          0.8055375830516811,
          -0.5815984942374339,
          0.040794232049147824,
          -0.7873720664669202,
          -0.9516601915292413,
          1.1708829641717016,
          -1.0625150876152059,
          -0.4734598653816264,
          0.020844288576887166,
          -0.5697978532084147,
          0.3565820144230457,
          1.820986073532006,
          1.4103113009750812,
          -1.7578109576002183,
          0.6709490023049436,
          0.008710251602917883,
          -0.773908539594359,
          -0.10014921864482632,
          -1.1716662189760036,
          0.29748910841497217,
          1.4776251769729372,
          1.183711913190866,
          2.1046294893212183,
          0.33110363182786,
          1.3344659806224215,
          1.8669795338211328,
          -0.012674719960820802,
          0.3353224417080831,
          -0.8938456560251395,
          1.349121947598761,
          -2.4668115500134604,
          -1.1343925646877768,
          0.7660135522102507,
          -1.894330434749525,
          1.0140598332520745,
          1.2251843566973422,
          1.3874540311000108,
          0.11613591889194066,
          0.6811998510774827,
          -0.003533500739982704,
          0.014043824794410449,
          0.8636826602039034,
          -0.09100737893510782,
          -0.3436212806984299,
          0.006330301142763871,
          -0.099095793672755,
          -0.1839519025908113,
          1.5114741560438218,
          1.5021416621159007,
          1.1316060961136667,
          0.47634816595092005,
          -0.02420736315846384,
          0.19146131590129634,
          -0.31328367857691203,
          1.0808712383709749,
          -0.6668787968573957,
          0.7454378983322235,
          1.999036412148163,
          -1.19456697341481,
          -1.3397299896229375,
          -0.7069445506278457,
          -1.1013728437884975,
          -0.8333255588513151,
          0.025974722278596454,
          -0.013213216415298332,
          -0.5061130216172286,
          -0.08568735907262445,
          0.15249405867403465,
          0.6685429101785701,
          -0.6466830779456247,
          -2.223865800634014,
          0.5250073416429717,
          1.3078913993187256,
          -0.4438988321629713,
          -0.2216433743572602,
          -0.7528012152474951,
          0.5559777490354014,
          1.432791441296771,
          -2.520946937340112,
          -0.10521346693173139,
          -0.9596541368646575,
          0.018988384229541255,
          -0.3840057386571683,
          -1.177590721918723,
          1.0049781334061278,
          1.1088783448204909,
          -0.04577751906561806,
          0.162583504981171
         ],
         "yaxis": "y9"
        },
        {
         "line": {
          "color": "rgba(128, 128, 128, 1.0)",
          "dash": "solid",
          "shape": "linear",
          "width": 1.3
         },
         "marker": {
          "size": 2,
          "symbol": "circle"
         },
         "mode": "markers",
         "name": "C",
         "text": "",
         "type": "scatter",
         "x": [
          -1.9022065685510319,
          -2.1358854266589624,
          0.15731369215411856,
          -0.5116965050067188,
          -1.016778500304455,
          -0.07152395582692508,
          -0.6287641264563816,
          0.8116557648643434,
          -0.7109323439808468,
          -0.717033813927751,
          1.3316196542841683,
          -0.6310880219508661,
          2.5874251211580503,
          0.2644218892403224,
          -0.35142315852607764,
          0.2922499094243876,
          0.38465151313280316,
          0.4796526662506324,
          -0.692821516591526,
          -0.744210867455073,
          1.7066955696594042,
          0.21510833265147353,
          0.21771786641689403,
          -0.014642454292073627,
          1.1895312175510309,
          -1.3459717202535904,
          0.8467885453665221,
          -0.3114575850495862,
          1.030590665567906,
          -1.3999658924835772,
          0.3257603132932959,
          0.6586054996837076,
          -1.8464148734907193,
          -1.611694363967646,
          1.3087935975821354,
          -0.7122544344002926,
          -1.4202540474598107,
          -0.06956475576311448,
          -2.9681640089507857,
          0.31351528648144794,
          1.19697663227665,
          -0.06858255920050399,
          0.6949733405235001,
          0.12072343848660112,
          -0.9717122892437534,
          -0.6664128392375659,
          1.187574085544821,
          -2.1002353959673896,
          -1.0640523429911906,
          -0.6086697081559084,
          0.9148357188130085,
          -0.5189278497433476,
          -0.10464004777836514,
          0.5441484352640663,
          -1.101107079520376,
          0.104551275657519,
          -0.8641663897108429,
          -0.5439274802275234,
          0.7001541532162037,
          1.4695162149737615,
          -0.2926165781490387,
          -1.4279237442435446,
          1.0361323352789527,
          -0.988429236318292,
          -1.7599933184757448,
          -0.2972367314119232,
          -2.211370194384513,
          -0.6616248315376154,
          0.0006914603293870927,
          0.14312271204237148,
          1.037395383748161,
          0.635085681475714,
          -1.2801277743573918,
          -0.22485334081701447,
          -0.10709203797243241,
          1.0903950904507504,
          0.9498423697670688,
          -0.7566860215157124,
          -1.3185193689652943,
          0.3067433056702688,
          -0.1868825475446146,
          0.3227653992788982,
          1.1239897541025106,
          -0.85444767818716,
          -1.6535091941092632,
          0.733284060047493,
          2.2098470730160282,
          -0.939844915630386,
          -0.8269920694055485,
          -0.42477083179568426,
          0.6469222732434078,
          -0.6554123928641302,
          -0.6036906296788903,
          0.5121986984319296,
          -0.155322734625543,
          -0.5053751854186547,
          1.5239366853625391,
          2.047004505696809,
          -0.889866678505674,
          -0.29066447432594056
         ],
         "xaxis": "x10",
         "y": [
          -0.1203462884061267,
          0.5205279603467541,
          1.6373721075195362,
          -0.14001172540804252,
          -2.674526145949805,
          0.0060677952583331595,
          -0.36622141484787113,
          -0.3924691468775285,
          0.8187257721064172,
          0.1185503907691811,
          -0.37297303762445855,
          -1.6126198259434936,
          0.8055375830516811,
          -0.5815984942374339,
          0.040794232049147824,
          -0.7873720664669202,
          -0.9516601915292413,
          1.1708829641717016,
          -1.0625150876152059,
          -0.4734598653816264,
          0.020844288576887166,
          -0.5697978532084147,
          0.3565820144230457,
          1.820986073532006,
          1.4103113009750812,
          -1.7578109576002183,
          0.6709490023049436,
          0.008710251602917883,
          -0.773908539594359,
          -0.10014921864482632,
          -1.1716662189760036,
          0.29748910841497217,
          1.4776251769729372,
          1.183711913190866,
          2.1046294893212183,
          0.33110363182786,
          1.3344659806224215,
          1.8669795338211328,
          -0.012674719960820802,
          0.3353224417080831,
          -0.8938456560251395,
          1.349121947598761,
          -2.4668115500134604,
          -1.1343925646877768,
          0.7660135522102507,
          -1.894330434749525,
          1.0140598332520745,
          1.2251843566973422,
          1.3874540311000108,
          0.11613591889194066,
          0.6811998510774827,
          -0.003533500739982704,
          0.014043824794410449,
          0.8636826602039034,
          -0.09100737893510782,
          -0.3436212806984299,
          0.006330301142763871,
          -0.099095793672755,
          -0.1839519025908113,
          1.5114741560438218,
          1.5021416621159007,
          1.1316060961136667,
          0.47634816595092005,
          -0.02420736315846384,
          0.19146131590129634,
          -0.31328367857691203,
          1.0808712383709749,
          -0.6668787968573957,
          0.7454378983322235,
          1.999036412148163,
          -1.19456697341481,
          -1.3397299896229375,
          -0.7069445506278457,
          -1.1013728437884975,
          -0.8333255588513151,
          0.025974722278596454,
          -0.013213216415298332,
          -0.5061130216172286,
          -0.08568735907262445,
          0.15249405867403465,
          0.6685429101785701,
          -0.6466830779456247,
          -2.223865800634014,
          0.5250073416429717,
          1.3078913993187256,
          -0.4438988321629713,
          -0.2216433743572602,
          -0.7528012152474951,
          0.5559777490354014,
          1.432791441296771,
          -2.520946937340112,
          -0.10521346693173139,
          -0.9596541368646575,
          0.018988384229541255,
          -0.3840057386571683,
          -1.177590721918723,
          1.0049781334061278,
          1.1088783448204909,
          -0.04577751906561806,
          0.162583504981171
         ],
         "yaxis": "y10"
        },
        {
         "histfunc": "count",
         "histnorm": "",
         "marker": {
          "color": "rgba(50, 171, 96, 1.0)",
          "line": {
           "color": "#4D5663",
           "width": 1.3
          }
         },
         "name": "C",
         "nbinsx": 10,
         "opacity": 0.8,
         "orientation": "v",
         "type": "histogram",
         "x": [
          -0.1203462884061267,
          0.5205279603467541,
          1.6373721075195362,
          -0.14001172540804252,
          -2.674526145949805,
          0.0060677952583331595,
          -0.36622141484787113,
          -0.3924691468775285,
          0.8187257721064172,
          0.1185503907691811,
          -0.37297303762445855,
          -1.6126198259434936,
          0.8055375830516811,
          -0.5815984942374339,
          0.040794232049147824,
          -0.7873720664669202,
          -0.9516601915292413,
          1.1708829641717016,
          -1.0625150876152059,
          -0.4734598653816264,
          0.020844288576887166,
          -0.5697978532084147,
          0.3565820144230457,
          1.820986073532006,
          1.4103113009750812,
          -1.7578109576002183,
          0.6709490023049436,
          0.008710251602917883,
          -0.773908539594359,
          -0.10014921864482632,
          -1.1716662189760036,
          0.29748910841497217,
          1.4776251769729372,
          1.183711913190866,
          2.1046294893212183,
          0.33110363182786,
          1.3344659806224215,
          1.8669795338211328,
          -0.012674719960820802,
          0.3353224417080831,
          -0.8938456560251395,
          1.349121947598761,
          -2.4668115500134604,
          -1.1343925646877768,
          0.7660135522102507,
          -1.894330434749525,
          1.0140598332520745,
          1.2251843566973422,
          1.3874540311000108,
          0.11613591889194066,
          0.6811998510774827,
          -0.003533500739982704,
          0.014043824794410449,
          0.8636826602039034,
          -0.09100737893510782,
          -0.3436212806984299,
          0.006330301142763871,
          -0.099095793672755,
          -0.1839519025908113,
          1.5114741560438218,
          1.5021416621159007,
          1.1316060961136667,
          0.47634816595092005,
          -0.02420736315846384,
          0.19146131590129634,
          -0.31328367857691203,
          1.0808712383709749,
          -0.6668787968573957,
          0.7454378983322235,
          1.999036412148163,
          -1.19456697341481,
          -1.3397299896229375,
          -0.7069445506278457,
          -1.1013728437884975,
          -0.8333255588513151,
          0.025974722278596454,
          -0.013213216415298332,
          -0.5061130216172286,
          -0.08568735907262445,
          0.15249405867403465,
          0.6685429101785701,
          -0.6466830779456247,
          -2.223865800634014,
          0.5250073416429717,
          1.3078913993187256,
          -0.4438988321629713,
          -0.2216433743572602,
          -0.7528012152474951,
          0.5559777490354014,
          1.432791441296771,
          -2.520946937340112,
          -0.10521346693173139,
          -0.9596541368646575,
          0.018988384229541255,
          -0.3840057386571683,
          -1.177590721918723,
          1.0049781334061278,
          1.1088783448204909,
          -0.04577751906561806,
          0.162583504981171
         ],
         "xaxis": "x11",
         "yaxis": "y11"
        },
        {
         "line": {
          "color": "rgba(128, 128, 128, 1.0)",
          "dash": "solid",
          "shape": "linear",
          "width": 1.3
         },
         "marker": {
          "size": 2,
          "symbol": "circle"
         },
         "mode": "markers",
         "name": "C",
         "text": "",
         "type": "scatter",
         "x": [
          -1.7567658157148927,
          -0.5901672254907833,
          -0.13664244385952085,
          -0.19653874796921839,
          -1.9511887501088818,
          1.3146435520150057,
          0.36862001272181294,
          -0.32346308637305865,
          -1.590444873222024,
          -0.25937836983757784,
          -0.2735276031871359,
          -2.060527915183689,
          -1.7230501121389559,
          -1.634601603572378,
          0.2217676484698342,
          0.4506887987078977,
          1.6405211037154424,
          0.3111918085082636,
          -1.4532524451622628,
          1.7836899168588702,
          -0.19195765676538254,
          -0.4452316278621485,
          1.1385268168816403,
          0.6498514520424518,
          -1.0805329991577612,
          -1.021004206939174,
          -1.0866315505218085,
          -0.14529022135568864,
          -1.986553870720136,
          -0.12362608258679714,
          0.7381764775245226,
          -1.4981099343634754,
          -1.3089903362617425,
          0.08660061096738925,
          -1.493762693790531,
          0.20287152608325598,
          -0.6600834177574529,
          -0.8705499827087052,
          -0.5321580827832789,
          0.1317813490014566,
          -1.7971861233158488,
          -0.03135291942911883,
          -0.5516341287552158,
          1.2775198455453443,
          0.48724250557753745,
          0.786822987160542,
          -0.13263198827278552,
          -0.39351506331500513,
          -0.05297070899342627,
          -0.8425429113716089,
          -0.9248670315260388,
          0.036872824956346494,
          1.0660878322634422,
          -0.24696381545849877,
          -1.0873803701063092,
          1.4996726338425603,
          -0.48256070497159864,
          0.7316450161836825,
          -0.8273960611272215,
          -0.17975816587564092,
          -1.7269653257375341,
          2.6691746650222834,
          0.6805526528012904,
          0.42202296251362176,
          0.40006582399723906,
          -1.5995278766058656,
          1.6730502172282378,
          -0.12965220173365527,
          1.4783673600532836,
          2.1826575486473065,
          1.1959971847804978,
          0.6666164036985821,
          0.5947819722052156,
          -0.2807647451558486,
          0.48707441883058644,
          0.37345360025214513,
          -1.249811354030153,
          1.6599410087348472,
          0.3319812753593216,
          -0.39093031838968195,
          0.6872089705060264,
          -0.48157934598860985,
          -0.7491761665230465,
          -0.42963505174509836,
          0.4363773992487627,
          0.5813295719780832,
          -2.1426769022662358,
          -0.6505585364801885,
          -0.9307237075318577,
          -0.22633137111629026,
          1.4585314303541639,
          2.4519017790717665,
          -0.6376561712316466,
          -0.691985452968969,
          0.4675037123446964,
          1.722835490148828,
          1.7747540039181924,
          1.3636474988664646,
          0.13173216302677304,
          0.6674998159581864
         ],
         "xaxis": "x12",
         "y": [
          -0.1203462884061267,
          0.5205279603467541,
          1.6373721075195362,
          -0.14001172540804252,
          -2.674526145949805,
          0.0060677952583331595,
          -0.36622141484787113,
          -0.3924691468775285,
          0.8187257721064172,
          0.1185503907691811,
          -0.37297303762445855,
          -1.6126198259434936,
          0.8055375830516811,
          -0.5815984942374339,
          0.040794232049147824,
          -0.7873720664669202,
          -0.9516601915292413,
          1.1708829641717016,
          -1.0625150876152059,
          -0.4734598653816264,
          0.020844288576887166,
          -0.5697978532084147,
          0.3565820144230457,
          1.820986073532006,
          1.4103113009750812,
          -1.7578109576002183,
          0.6709490023049436,
          0.008710251602917883,
          -0.773908539594359,
          -0.10014921864482632,
          -1.1716662189760036,
          0.29748910841497217,
          1.4776251769729372,
          1.183711913190866,
          2.1046294893212183,
          0.33110363182786,
          1.3344659806224215,
          1.8669795338211328,
          -0.012674719960820802,
          0.3353224417080831,
          -0.8938456560251395,
          1.349121947598761,
          -2.4668115500134604,
          -1.1343925646877768,
          0.7660135522102507,
          -1.894330434749525,
          1.0140598332520745,
          1.2251843566973422,
          1.3874540311000108,
          0.11613591889194066,
          0.6811998510774827,
          -0.003533500739982704,
          0.014043824794410449,
          0.8636826602039034,
          -0.09100737893510782,
          -0.3436212806984299,
          0.006330301142763871,
          -0.099095793672755,
          -0.1839519025908113,
          1.5114741560438218,
          1.5021416621159007,
          1.1316060961136667,
          0.47634816595092005,
          -0.02420736315846384,
          0.19146131590129634,
          -0.31328367857691203,
          1.0808712383709749,
          -0.6668787968573957,
          0.7454378983322235,
          1.999036412148163,
          -1.19456697341481,
          -1.3397299896229375,
          -0.7069445506278457,
          -1.1013728437884975,
          -0.8333255588513151,
          0.025974722278596454,
          -0.013213216415298332,
          -0.5061130216172286,
          -0.08568735907262445,
          0.15249405867403465,
          0.6685429101785701,
          -0.6466830779456247,
          -2.223865800634014,
          0.5250073416429717,
          1.3078913993187256,
          -0.4438988321629713,
          -0.2216433743572602,
          -0.7528012152474951,
          0.5559777490354014,
          1.432791441296771,
          -2.520946937340112,
          -0.10521346693173139,
          -0.9596541368646575,
          0.018988384229541255,
          -0.3840057386571683,
          -1.177590721918723,
          1.0049781334061278,
          1.1088783448204909,
          -0.04577751906561806,
          0.162583504981171
         ],
         "yaxis": "y12"
        },
        {
         "line": {
          "color": "rgba(128, 128, 128, 1.0)",
          "dash": "solid",
          "shape": "linear",
          "width": 1.3
         },
         "marker": {
          "size": 2,
          "symbol": "circle"
         },
         "mode": "markers",
         "name": "D",
         "text": "",
         "type": "scatter",
         "x": [
          1.2336395877706994,
          -0.048615295932523526,
          0.25099671508100824,
          -0.1192462297098814,
          -0.2608481410248185,
          -0.06471520395729977,
          0.6259498930158807,
          0.12224421427601183,
          0.9324539075586492,
          1.070141475329659,
          0.5285224800201517,
          -0.24958849117359538,
          -0.29752102945104475,
          -0.6454103565063174,
          0.10442728647747394,
          -0.39378093189513375,
          -0.41399385767203517,
          -2.3312026081324517,
          0.31942537204183175,
          -1.4169774002817863,
          -1.377837148359218,
          -0.8064637395522112,
          3.3046701681598245,
          0.3249459378005792,
          0.3650097454990451,
          0.02065115131120758,
          1.2133373411044714,
          0.13608566784413764,
          -1.082375661287402,
          0.21276340210915654,
          -0.541233499690844,
          1.0120991433643813,
          -0.18508374419786647,
          -0.5156638362473296,
          -0.0645236069411833,
          0.34718435927735686,
          -1.1135794845678495,
          -0.9176904249407741,
          3.0705934949711446,
          1.4086638090114365,
          0.2562168360363639,
          -1.7164372878789915,
          0.22716733957708662,
          -1.4865304220381552,
          -0.483176954304673,
          2.802666688554588,
          -1.1253381606030017,
          -0.6915062924050371,
          0.7247609199197345,
          1.2275235702973804,
          -0.22318512888589181,
          -0.3132358939336809,
          -1.6040305545083373,
          1.8458126184513648,
          -0.8154253140752616,
          -0.2256614370869709,
          1.2978362803458532,
          0.14007647039884705,
          -0.20458602765483533,
          -0.2703209024985795,
          -0.2654081193656234,
          0.2202236850078853,
          0.14962062952118016,
          -0.9932677026925171,
          1.4271803455705308,
          0.43146018054188895,
          0.22187226163578996,
          1.7326906445715977,
          0.08548903032789677,
          -0.9295010484556132,
          0.5475247339146619,
          0.12447547676253774,
          -0.29634372342151055,
          -1.0253146544479361,
          0.3421818204421844,
          0.3688861723184149,
          0.03492725922143807,
          -0.31362123305608436,
          0.24375801240034217,
          0.4269918051686339,
          -0.23890978405914443,
          -1.7877295632810428,
          -0.16004350029481743,
          -0.3352782257640638,
          0.9857046637192217,
          -0.831237642919192,
          0.3361311145496733,
          0.7589545074594741,
          0.1781577265576734,
          -1.6752858972755533,
          -1.2041662102497588,
          -0.6653978729777915,
          0.3275641601449004,
          1.1634374896765034,
          -0.12556238527553262,
          0.11262507359259387,
          -0.13497569861698266,
          -1.3005004618063705,
          -1.4015847136640596,
          -0.7130959437805059
         ],
         "xaxis": "x13",
         "y": [
          -1.7567658157148927,
          -0.5901672254907833,
          -0.13664244385952085,
          -0.19653874796921839,
          -1.9511887501088818,
          1.3146435520150057,
          0.36862001272181294,
          -0.32346308637305865,
          -1.590444873222024,
          -0.25937836983757784,
          -0.2735276031871359,
          -2.060527915183689,
          -1.7230501121389559,
          -1.634601603572378,
          0.2217676484698342,
          0.4506887987078977,
          1.6405211037154424,
          0.3111918085082636,
          -1.4532524451622628,
          1.7836899168588702,
          -0.19195765676538254,
          -0.4452316278621485,
          1.1385268168816403,
          0.6498514520424518,
          -1.0805329991577612,
          -1.021004206939174,
          -1.0866315505218085,
          -0.14529022135568864,
          -1.986553870720136,
          -0.12362608258679714,
          0.7381764775245226,
          -1.4981099343634754,
          -1.3089903362617425,
          0.08660061096738925,
          -1.493762693790531,
          0.20287152608325598,
          -0.6600834177574529,
          -0.8705499827087052,
          -0.5321580827832789,
          0.1317813490014566,
          -1.7971861233158488,
          -0.03135291942911883,
          -0.5516341287552158,
          1.2775198455453443,
          0.48724250557753745,
          0.786822987160542,
          -0.13263198827278552,
          -0.39351506331500513,
          -0.05297070899342627,
          -0.8425429113716089,
          -0.9248670315260388,
          0.036872824956346494,
          1.0660878322634422,
          -0.24696381545849877,
          -1.0873803701063092,
          1.4996726338425603,
          -0.48256070497159864,
          0.7316450161836825,
          -0.8273960611272215,
          -0.17975816587564092,
          -1.7269653257375341,
          2.6691746650222834,
          0.6805526528012904,
          0.42202296251362176,
          0.40006582399723906,
          -1.5995278766058656,
          1.6730502172282378,
          -0.12965220173365527,
          1.4783673600532836,
          2.1826575486473065,
          1.1959971847804978,
          0.6666164036985821,
          0.5947819722052156,
          -0.2807647451558486,
          0.48707441883058644,
          0.37345360025214513,
          -1.249811354030153,
          1.6599410087348472,
          0.3319812753593216,
          -0.39093031838968195,
          0.6872089705060264,
          -0.48157934598860985,
          -0.7491761665230465,
          -0.42963505174509836,
          0.4363773992487627,
          0.5813295719780832,
          -2.1426769022662358,
          -0.6505585364801885,
          -0.9307237075318577,
          -0.22633137111629026,
          1.4585314303541639,
          2.4519017790717665,
          -0.6376561712316466,
          -0.691985452968969,
          0.4675037123446964,
          1.722835490148828,
          1.7747540039181924,
          1.3636474988664646,
          0.13173216302677304,
          0.6674998159581864
         ],
         "yaxis": "y13"
        },
        {
         "line": {
          "color": "rgba(128, 128, 128, 1.0)",
          "dash": "solid",
          "shape": "linear",
          "width": 1.3
         },
         "marker": {
          "size": 2,
          "symbol": "circle"
         },
         "mode": "markers",
         "name": "D",
         "text": "",
         "type": "scatter",
         "x": [
          -1.9022065685510319,
          -2.1358854266589624,
          0.15731369215411856,
          -0.5116965050067188,
          -1.016778500304455,
          -0.07152395582692508,
          -0.6287641264563816,
          0.8116557648643434,
          -0.7109323439808468,
          -0.717033813927751,
          1.3316196542841683,
          -0.6310880219508661,
          2.5874251211580503,
          0.2644218892403224,
          -0.35142315852607764,
          0.2922499094243876,
          0.38465151313280316,
          0.4796526662506324,
          -0.692821516591526,
          -0.744210867455073,
          1.7066955696594042,
          0.21510833265147353,
          0.21771786641689403,
          -0.014642454292073627,
          1.1895312175510309,
          -1.3459717202535904,
          0.8467885453665221,
          -0.3114575850495862,
          1.030590665567906,
          -1.3999658924835772,
          0.3257603132932959,
          0.6586054996837076,
          -1.8464148734907193,
          -1.611694363967646,
          1.3087935975821354,
          -0.7122544344002926,
          -1.4202540474598107,
          -0.06956475576311448,
          -2.9681640089507857,
          0.31351528648144794,
          1.19697663227665,
          -0.06858255920050399,
          0.6949733405235001,
          0.12072343848660112,
          -0.9717122892437534,
          -0.6664128392375659,
          1.187574085544821,
          -2.1002353959673896,
          -1.0640523429911906,
          -0.6086697081559084,
          0.9148357188130085,
          -0.5189278497433476,
          -0.10464004777836514,
          0.5441484352640663,
          -1.101107079520376,
          0.104551275657519,
          -0.8641663897108429,
          -0.5439274802275234,
          0.7001541532162037,
          1.4695162149737615,
          -0.2926165781490387,
          -1.4279237442435446,
          1.0361323352789527,
          -0.988429236318292,
          -1.7599933184757448,
          -0.2972367314119232,
          -2.211370194384513,
          -0.6616248315376154,
          0.0006914603293870927,
          0.14312271204237148,
          1.037395383748161,
          0.635085681475714,
          -1.2801277743573918,
          -0.22485334081701447,
          -0.10709203797243241,
          1.0903950904507504,
          0.9498423697670688,
          -0.7566860215157124,
          -1.3185193689652943,
          0.3067433056702688,
          -0.1868825475446146,
          0.3227653992788982,
          1.1239897541025106,
          -0.85444767818716,
          -1.6535091941092632,
          0.733284060047493,
          2.2098470730160282,
          -0.939844915630386,
          -0.8269920694055485,
          -0.42477083179568426,
          0.6469222732434078,
          -0.6554123928641302,
          -0.6036906296788903,
          0.5121986984319296,
          -0.155322734625543,
          -0.5053751854186547,
          1.5239366853625391,
          2.047004505696809,
          -0.889866678505674,
          -0.29066447432594056
         ],
         "xaxis": "x14",
         "y": [
          -1.7567658157148927,
          -0.5901672254907833,
          -0.13664244385952085,
          -0.19653874796921839,
          -1.9511887501088818,
          1.3146435520150057,
          0.36862001272181294,
          -0.32346308637305865,
          -1.590444873222024,
          -0.25937836983757784,
          -0.2735276031871359,
          -2.060527915183689,
          -1.7230501121389559,
          -1.634601603572378,
          0.2217676484698342,
          0.4506887987078977,
          1.6405211037154424,
          0.3111918085082636,
          -1.4532524451622628,
          1.7836899168588702,
          -0.19195765676538254,
          -0.4452316278621485,
          1.1385268168816403,
          0.6498514520424518,
          -1.0805329991577612,
          -1.021004206939174,
          -1.0866315505218085,
          -0.14529022135568864,
          -1.986553870720136,
          -0.12362608258679714,
          0.7381764775245226,
          -1.4981099343634754,
          -1.3089903362617425,
          0.08660061096738925,
          -1.493762693790531,
          0.20287152608325598,
          -0.6600834177574529,
          -0.8705499827087052,
          -0.5321580827832789,
          0.1317813490014566,
          -1.7971861233158488,
          -0.03135291942911883,
          -0.5516341287552158,
          1.2775198455453443,
          0.48724250557753745,
          0.786822987160542,
          -0.13263198827278552,
          -0.39351506331500513,
          -0.05297070899342627,
          -0.8425429113716089,
          -0.9248670315260388,
          0.036872824956346494,
          1.0660878322634422,
          -0.24696381545849877,
          -1.0873803701063092,
          1.4996726338425603,
          -0.48256070497159864,
          0.7316450161836825,
          -0.8273960611272215,
          -0.17975816587564092,
          -1.7269653257375341,
          2.6691746650222834,
          0.6805526528012904,
          0.42202296251362176,
          0.40006582399723906,
          -1.5995278766058656,
          1.6730502172282378,
          -0.12965220173365527,
          1.4783673600532836,
          2.1826575486473065,
          1.1959971847804978,
          0.6666164036985821,
          0.5947819722052156,
          -0.2807647451558486,
          0.48707441883058644,
          0.37345360025214513,
          -1.249811354030153,
          1.6599410087348472,
          0.3319812753593216,
          -0.39093031838968195,
          0.6872089705060264,
          -0.48157934598860985,
          -0.7491761665230465,
          -0.42963505174509836,
          0.4363773992487627,
          0.5813295719780832,
          -2.1426769022662358,
          -0.6505585364801885,
          -0.9307237075318577,
          -0.22633137111629026,
          1.4585314303541639,
          2.4519017790717665,
          -0.6376561712316466,
          -0.691985452968969,
          0.4675037123446964,
          1.722835490148828,
          1.7747540039181924,
          1.3636474988664646,
          0.13173216302677304,
          0.6674998159581864
         ],
         "yaxis": "y14"
        },
        {
         "line": {
          "color": "rgba(128, 128, 128, 1.0)",
          "dash": "solid",
          "shape": "linear",
          "width": 1.3
         },
         "marker": {
          "size": 2,
          "symbol": "circle"
         },
         "mode": "markers",
         "name": "D",
         "text": "",
         "type": "scatter",
         "x": [
          -0.1203462884061267,
          0.5205279603467541,
          1.6373721075195362,
          -0.14001172540804252,
          -2.674526145949805,
          0.0060677952583331595,
          -0.36622141484787113,
          -0.3924691468775285,
          0.8187257721064172,
          0.1185503907691811,
          -0.37297303762445855,
          -1.6126198259434936,
          0.8055375830516811,
          -0.5815984942374339,
          0.040794232049147824,
          -0.7873720664669202,
          -0.9516601915292413,
          1.1708829641717016,
          -1.0625150876152059,
          -0.4734598653816264,
          0.020844288576887166,
          -0.5697978532084147,
          0.3565820144230457,
          1.820986073532006,
          1.4103113009750812,
          -1.7578109576002183,
          0.6709490023049436,
          0.008710251602917883,
          -0.773908539594359,
          -0.10014921864482632,
          -1.1716662189760036,
          0.29748910841497217,
          1.4776251769729372,
          1.183711913190866,
          2.1046294893212183,
          0.33110363182786,
          1.3344659806224215,
          1.8669795338211328,
          -0.012674719960820802,
          0.3353224417080831,
          -0.8938456560251395,
          1.349121947598761,
          -2.4668115500134604,
          -1.1343925646877768,
          0.7660135522102507,
          -1.894330434749525,
          1.0140598332520745,
          1.2251843566973422,
          1.3874540311000108,
          0.11613591889194066,
          0.6811998510774827,
          -0.003533500739982704,
          0.014043824794410449,
          0.8636826602039034,
          -0.09100737893510782,
          -0.3436212806984299,
          0.006330301142763871,
          -0.099095793672755,
          -0.1839519025908113,
          1.5114741560438218,
          1.5021416621159007,
          1.1316060961136667,
          0.47634816595092005,
          -0.02420736315846384,
          0.19146131590129634,
          -0.31328367857691203,
          1.0808712383709749,
          -0.6668787968573957,
          0.7454378983322235,
          1.999036412148163,
          -1.19456697341481,
          -1.3397299896229375,
          -0.7069445506278457,
          -1.1013728437884975,
          -0.8333255588513151,
          0.025974722278596454,
          -0.013213216415298332,
          -0.5061130216172286,
          -0.08568735907262445,
          0.15249405867403465,
          0.6685429101785701,
          -0.6466830779456247,
          -2.223865800634014,
          0.5250073416429717,
          1.3078913993187256,
          -0.4438988321629713,
          -0.2216433743572602,
          -0.7528012152474951,
          0.5559777490354014,
          1.432791441296771,
          -2.520946937340112,
          -0.10521346693173139,
          -0.9596541368646575,
          0.018988384229541255,
          -0.3840057386571683,
          -1.177590721918723,
          1.0049781334061278,
          1.1088783448204909,
          -0.04577751906561806,
          0.162583504981171
         ],
         "xaxis": "x15",
         "y": [
          -1.7567658157148927,
          -0.5901672254907833,
          -0.13664244385952085,
          -0.19653874796921839,
          -1.9511887501088818,
          1.3146435520150057,
          0.36862001272181294,
          -0.32346308637305865,
          -1.590444873222024,
          -0.25937836983757784,
          -0.2735276031871359,
          -2.060527915183689,
          -1.7230501121389559,
          -1.634601603572378,
          0.2217676484698342,
          0.4506887987078977,
          1.6405211037154424,
          0.3111918085082636,
          -1.4532524451622628,
          1.7836899168588702,
          -0.19195765676538254,
          -0.4452316278621485,
          1.1385268168816403,
          0.6498514520424518,
          -1.0805329991577612,
          -1.021004206939174,
          -1.0866315505218085,
          -0.14529022135568864,
          -1.986553870720136,
          -0.12362608258679714,
          0.7381764775245226,
          -1.4981099343634754,
          -1.3089903362617425,
          0.08660061096738925,
          -1.493762693790531,
          0.20287152608325598,
          -0.6600834177574529,
          -0.8705499827087052,
          -0.5321580827832789,
          0.1317813490014566,
          -1.7971861233158488,
          -0.03135291942911883,
          -0.5516341287552158,
          1.2775198455453443,
          0.48724250557753745,
          0.786822987160542,
          -0.13263198827278552,
          -0.39351506331500513,
          -0.05297070899342627,
          -0.8425429113716089,
          -0.9248670315260388,
          0.036872824956346494,
          1.0660878322634422,
          -0.24696381545849877,
          -1.0873803701063092,
          1.4996726338425603,
          -0.48256070497159864,
          0.7316450161836825,
          -0.8273960611272215,
          -0.17975816587564092,
          -1.7269653257375341,
          2.6691746650222834,
          0.6805526528012904,
          0.42202296251362176,
          0.40006582399723906,
          -1.5995278766058656,
          1.6730502172282378,
          -0.12965220173365527,
          1.4783673600532836,
          2.1826575486473065,
          1.1959971847804978,
          0.6666164036985821,
          0.5947819722052156,
          -0.2807647451558486,
          0.48707441883058644,
          0.37345360025214513,
          -1.249811354030153,
          1.6599410087348472,
          0.3319812753593216,
          -0.39093031838968195,
          0.6872089705060264,
          -0.48157934598860985,
          -0.7491761665230465,
          -0.42963505174509836,
          0.4363773992487627,
          0.5813295719780832,
          -2.1426769022662358,
          -0.6505585364801885,
          -0.9307237075318577,
          -0.22633137111629026,
          1.4585314303541639,
          2.4519017790717665,
          -0.6376561712316466,
          -0.691985452968969,
          0.4675037123446964,
          1.722835490148828,
          1.7747540039181924,
          1.3636474988664646,
          0.13173216302677304,
          0.6674998159581864
         ],
         "yaxis": "y15"
        },
        {
         "histfunc": "count",
         "histnorm": "",
         "marker": {
          "color": "rgba(128, 0, 128, 1.0)",
          "line": {
           "color": "#4D5663",
           "width": 1.3
          }
         },
         "name": "D",
         "nbinsx": 10,
         "opacity": 0.8,
         "orientation": "v",
         "type": "histogram",
         "x": [
          -1.7567658157148927,
          -0.5901672254907833,
          -0.13664244385952085,
          -0.19653874796921839,
          -1.9511887501088818,
          1.3146435520150057,
          0.36862001272181294,
          -0.32346308637305865,
          -1.590444873222024,
          -0.25937836983757784,
          -0.2735276031871359,
          -2.060527915183689,
          -1.7230501121389559,
          -1.634601603572378,
          0.2217676484698342,
          0.4506887987078977,
          1.6405211037154424,
          0.3111918085082636,
          -1.4532524451622628,
          1.7836899168588702,
          -0.19195765676538254,
          -0.4452316278621485,
          1.1385268168816403,
          0.6498514520424518,
          -1.0805329991577612,
          -1.021004206939174,
          -1.0866315505218085,
          -0.14529022135568864,
          -1.986553870720136,
          -0.12362608258679714,
          0.7381764775245226,
          -1.4981099343634754,
          -1.3089903362617425,
          0.08660061096738925,
          -1.493762693790531,
          0.20287152608325598,
          -0.6600834177574529,
          -0.8705499827087052,
          -0.5321580827832789,
          0.1317813490014566,
          -1.7971861233158488,
          -0.03135291942911883,
          -0.5516341287552158,
          1.2775198455453443,
          0.48724250557753745,
          0.786822987160542,
          -0.13263198827278552,
          -0.39351506331500513,
          -0.05297070899342627,
          -0.8425429113716089,
          -0.9248670315260388,
          0.036872824956346494,
          1.0660878322634422,
          -0.24696381545849877,
          -1.0873803701063092,
          1.4996726338425603,
          -0.48256070497159864,
          0.7316450161836825,
          -0.8273960611272215,
          -0.17975816587564092,
          -1.7269653257375341,
          2.6691746650222834,
          0.6805526528012904,
          0.42202296251362176,
          0.40006582399723906,
          -1.5995278766058656,
          1.6730502172282378,
          -0.12965220173365527,
          1.4783673600532836,
          2.1826575486473065,
          1.1959971847804978,
          0.6666164036985821,
          0.5947819722052156,
          -0.2807647451558486,
          0.48707441883058644,
          0.37345360025214513,
          -1.249811354030153,
          1.6599410087348472,
          0.3319812753593216,
          -0.39093031838968195,
          0.6872089705060264,
          -0.48157934598860985,
          -0.7491761665230465,
          -0.42963505174509836,
          0.4363773992487627,
          0.5813295719780832,
          -2.1426769022662358,
          -0.6505585364801885,
          -0.9307237075318577,
          -0.22633137111629026,
          1.4585314303541639,
          2.4519017790717665,
          -0.6376561712316466,
          -0.691985452968969,
          0.4675037123446964,
          1.722835490148828,
          1.7747540039181924,
          1.3636474988664646,
          0.13173216302677304,
          0.6674998159581864
         ],
         "xaxis": "x16",
         "yaxis": "y16"
        }
       ],
       "layout": {
        "bargap": 0.02,
        "legend": {
         "bgcolor": "#F5F6F9",
         "font": {
          "color": "#4D5663"
         }
        },
        "paper_bgcolor": "#F5F6F9",
        "plot_bgcolor": "#F5F6F9",
        "showlegend": false,
        "template": {
         "data": {
          "bar": [
           {
            "error_x": {
             "color": "#2a3f5f"
            },
            "error_y": {
             "color": "#2a3f5f"
            },
            "marker": {
             "line": {
              "color": "#E5ECF6",
              "width": 0.5
             },
             "pattern": {
              "fillmode": "overlay",
              "size": 10,
              "solidity": 0.2
             }
            },
            "type": "bar"
           }
          ],
          "barpolar": [
           {
            "marker": {
             "line": {
              "color": "#E5ECF6",
              "width": 0.5
             },
             "pattern": {
              "fillmode": "overlay",
              "size": 10,
              "solidity": 0.2
             }
            },
            "type": "barpolar"
           }
          ],
          "carpet": [
           {
            "aaxis": {
             "endlinecolor": "#2a3f5f",
             "gridcolor": "white",
             "linecolor": "white",
             "minorgridcolor": "white",
             "startlinecolor": "#2a3f5f"
            },
            "baxis": {
             "endlinecolor": "#2a3f5f",
             "gridcolor": "white",
             "linecolor": "white",
             "minorgridcolor": "white",
             "startlinecolor": "#2a3f5f"
            },
            "type": "carpet"
           }
          ],
          "choropleth": [
           {
            "colorbar": {
             "outlinewidth": 0,
             "ticks": ""
            },
            "type": "choropleth"
           }
          ],
          "contour": [
           {
            "colorbar": {
             "outlinewidth": 0,
             "ticks": ""
            },
            "colorscale": [
             [
              0,
              "#0d0887"
             ],
             [
              0.1111111111111111,
              "#46039f"
             ],
             [
              0.2222222222222222,
              "#7201a8"
             ],
             [
              0.3333333333333333,
              "#9c179e"
             ],
             [
              0.4444444444444444,
              "#bd3786"
             ],
             [
              0.5555555555555556,
              "#d8576b"
             ],
             [
              0.6666666666666666,
              "#ed7953"
             ],
             [
              0.7777777777777778,
              "#fb9f3a"
             ],
             [
              0.8888888888888888,
              "#fdca26"
             ],
             [
              1,
              "#f0f921"
             ]
            ],
            "type": "contour"
           }
          ],
          "contourcarpet": [
           {
            "colorbar": {
             "outlinewidth": 0,
             "ticks": ""
            },
            "type": "contourcarpet"
           }
          ],
          "heatmap": [
           {
            "colorbar": {
             "outlinewidth": 0,
             "ticks": ""
            },
            "colorscale": [
             [
              0,
              "#0d0887"
             ],
             [
              0.1111111111111111,
              "#46039f"
             ],
             [
              0.2222222222222222,
              "#7201a8"
             ],
             [
              0.3333333333333333,
              "#9c179e"
             ],
             [
              0.4444444444444444,
              "#bd3786"
             ],
             [
              0.5555555555555556,
              "#d8576b"
             ],
             [
              0.6666666666666666,
              "#ed7953"
             ],
             [
              0.7777777777777778,
              "#fb9f3a"
             ],
             [
              0.8888888888888888,
              "#fdca26"
             ],
             [
              1,
              "#f0f921"
             ]
            ],
            "type": "heatmap"
           }
          ],
          "heatmapgl": [
           {
            "colorbar": {
             "outlinewidth": 0,
             "ticks": ""
            },
            "colorscale": [
             [
              0,
              "#0d0887"
             ],
             [
              0.1111111111111111,
              "#46039f"
             ],
             [
              0.2222222222222222,
              "#7201a8"
             ],
             [
              0.3333333333333333,
              "#9c179e"
             ],
             [
              0.4444444444444444,
              "#bd3786"
             ],
             [
              0.5555555555555556,
              "#d8576b"
             ],
             [
              0.6666666666666666,
              "#ed7953"
             ],
             [
              0.7777777777777778,
              "#fb9f3a"
             ],
             [
              0.8888888888888888,
              "#fdca26"
             ],
             [
              1,
              "#f0f921"
             ]
            ],
            "type": "heatmapgl"
           }
          ],
          "histogram": [
           {
            "marker": {
             "pattern": {
              "fillmode": "overlay",
              "size": 10,
              "solidity": 0.2
             }
            },
            "type": "histogram"
           }
          ],
          "histogram2d": [
           {
            "colorbar": {
             "outlinewidth": 0,
             "ticks": ""
            },
            "colorscale": [
             [
              0,
              "#0d0887"
             ],
             [
              0.1111111111111111,
              "#46039f"
             ],
             [
              0.2222222222222222,
              "#7201a8"
             ],
             [
              0.3333333333333333,
              "#9c179e"
             ],
             [
              0.4444444444444444,
              "#bd3786"
             ],
             [
              0.5555555555555556,
              "#d8576b"
             ],
             [
              0.6666666666666666,
              "#ed7953"
             ],
             [
              0.7777777777777778,
              "#fb9f3a"
             ],
             [
              0.8888888888888888,
              "#fdca26"
             ],
             [
              1,
              "#f0f921"
             ]
            ],
            "type": "histogram2d"
           }
          ],
          "histogram2dcontour": [
           {
            "colorbar": {
             "outlinewidth": 0,
             "ticks": ""
            },
            "colorscale": [
             [
              0,
              "#0d0887"
             ],
             [
              0.1111111111111111,
              "#46039f"
             ],
             [
              0.2222222222222222,
              "#7201a8"
             ],
             [
              0.3333333333333333,
              "#9c179e"
             ],
             [
              0.4444444444444444,
              "#bd3786"
             ],
             [
              0.5555555555555556,
              "#d8576b"
             ],
             [
              0.6666666666666666,
              "#ed7953"
             ],
             [
              0.7777777777777778,
              "#fb9f3a"
             ],
             [
              0.8888888888888888,
              "#fdca26"
             ],
             [
              1,
              "#f0f921"
             ]
            ],
            "type": "histogram2dcontour"
           }
          ],
          "mesh3d": [
           {
            "colorbar": {
             "outlinewidth": 0,
             "ticks": ""
            },
            "type": "mesh3d"
           }
          ],
          "parcoords": [
           {
            "line": {
             "colorbar": {
              "outlinewidth": 0,
              "ticks": ""
             }
            },
            "type": "parcoords"
           }
          ],
          "pie": [
           {
            "automargin": true,
            "type": "pie"
           }
          ],
          "scatter": [
           {
            "fillpattern": {
             "fillmode": "overlay",
             "size": 10,
             "solidity": 0.2
            },
            "type": "scatter"
           }
          ],
          "scatter3d": [
           {
            "line": {
             "colorbar": {
              "outlinewidth": 0,
              "ticks": ""
             }
            },
            "marker": {
             "colorbar": {
              "outlinewidth": 0,
              "ticks": ""
             }
            },
            "type": "scatter3d"
           }
          ],
          "scattercarpet": [
           {
            "marker": {
             "colorbar": {
              "outlinewidth": 0,
              "ticks": ""
             }
            },
            "type": "scattercarpet"
           }
          ],
          "scattergeo": [
           {
            "marker": {
             "colorbar": {
              "outlinewidth": 0,
              "ticks": ""
             }
            },
            "type": "scattergeo"
           }
          ],
          "scattergl": [
           {
            "marker": {
             "colorbar": {
              "outlinewidth": 0,
              "ticks": ""
             }
            },
            "type": "scattergl"
           }
          ],
          "scattermapbox": [
           {
            "marker": {
             "colorbar": {
              "outlinewidth": 0,
              "ticks": ""
             }
            },
            "type": "scattermapbox"
           }
          ],
          "scatterpolar": [
           {
            "marker": {
             "colorbar": {
              "outlinewidth": 0,
              "ticks": ""
             }
            },
            "type": "scatterpolar"
           }
          ],
          "scatterpolargl": [
           {
            "marker": {
             "colorbar": {
              "outlinewidth": 0,
              "ticks": ""
             }
            },
            "type": "scatterpolargl"
           }
          ],
          "scatterternary": [
           {
            "marker": {
             "colorbar": {
              "outlinewidth": 0,
              "ticks": ""
             }
            },
            "type": "scatterternary"
           }
          ],
          "surface": [
           {
            "colorbar": {
             "outlinewidth": 0,
             "ticks": ""
            },
            "colorscale": [
             [
              0,
              "#0d0887"
             ],
             [
              0.1111111111111111,
              "#46039f"
             ],
             [
              0.2222222222222222,
              "#7201a8"
             ],
             [
              0.3333333333333333,
              "#9c179e"
             ],
             [
              0.4444444444444444,
              "#bd3786"
             ],
             [
              0.5555555555555556,
              "#d8576b"
             ],
             [
              0.6666666666666666,
              "#ed7953"
             ],
             [
              0.7777777777777778,
              "#fb9f3a"
             ],
             [
              0.8888888888888888,
              "#fdca26"
             ],
             [
              1,
              "#f0f921"
             ]
            ],
            "type": "surface"
           }
          ],
          "table": [
           {
            "cells": {
             "fill": {
              "color": "#EBF0F8"
             },
             "line": {
              "color": "white"
             }
            },
            "header": {
             "fill": {
              "color": "#C8D4E3"
             },
             "line": {
              "color": "white"
             }
            },
            "type": "table"
           }
          ]
         },
         "layout": {
          "annotationdefaults": {
           "arrowcolor": "#2a3f5f",
           "arrowhead": 0,
           "arrowwidth": 1
          },
          "autotypenumbers": "strict",
          "coloraxis": {
           "colorbar": {
            "outlinewidth": 0,
            "ticks": ""
           }
          },
          "colorscale": {
           "diverging": [
            [
             0,
             "#8e0152"
            ],
            [
             0.1,
             "#c51b7d"
            ],
            [
             0.2,
             "#de77ae"
            ],
            [
             0.3,
             "#f1b6da"
            ],
            [
             0.4,
             "#fde0ef"
            ],
            [
             0.5,
             "#f7f7f7"
            ],
            [
             0.6,
             "#e6f5d0"
            ],
            [
             0.7,
             "#b8e186"
            ],
            [
             0.8,
             "#7fbc41"
            ],
            [
             0.9,
             "#4d9221"
            ],
            [
             1,
             "#276419"
            ]
           ],
           "sequential": [
            [
             0,
             "#0d0887"
            ],
            [
             0.1111111111111111,
             "#46039f"
            ],
            [
             0.2222222222222222,
             "#7201a8"
            ],
            [
             0.3333333333333333,
             "#9c179e"
            ],
            [
             0.4444444444444444,
             "#bd3786"
            ],
            [
             0.5555555555555556,
             "#d8576b"
            ],
            [
             0.6666666666666666,
             "#ed7953"
            ],
            [
             0.7777777777777778,
             "#fb9f3a"
            ],
            [
             0.8888888888888888,
             "#fdca26"
            ],
            [
             1,
             "#f0f921"
            ]
           ],
           "sequentialminus": [
            [
             0,
             "#0d0887"
            ],
            [
             0.1111111111111111,
             "#46039f"
            ],
            [
             0.2222222222222222,
             "#7201a8"
            ],
            [
             0.3333333333333333,
             "#9c179e"
            ],
            [
             0.4444444444444444,
             "#bd3786"
            ],
            [
             0.5555555555555556,
             "#d8576b"
            ],
            [
             0.6666666666666666,
             "#ed7953"
            ],
            [
             0.7777777777777778,
             "#fb9f3a"
            ],
            [
             0.8888888888888888,
             "#fdca26"
            ],
            [
             1,
             "#f0f921"
            ]
           ]
          },
          "colorway": [
           "#636efa",
           "#EF553B",
           "#00cc96",
           "#ab63fa",
           "#FFA15A",
           "#19d3f3",
           "#FF6692",
           "#B6E880",
           "#FF97FF",
           "#FECB52"
          ],
          "font": {
           "color": "#2a3f5f"
          },
          "geo": {
           "bgcolor": "white",
           "lakecolor": "white",
           "landcolor": "#E5ECF6",
           "showlakes": true,
           "showland": true,
           "subunitcolor": "white"
          },
          "hoverlabel": {
           "align": "left"
          },
          "hovermode": "closest",
          "mapbox": {
           "style": "light"
          },
          "paper_bgcolor": "white",
          "plot_bgcolor": "#E5ECF6",
          "polar": {
           "angularaxis": {
            "gridcolor": "white",
            "linecolor": "white",
            "ticks": ""
           },
           "bgcolor": "#E5ECF6",
           "radialaxis": {
            "gridcolor": "white",
            "linecolor": "white",
            "ticks": ""
           }
          },
          "scene": {
           "xaxis": {
            "backgroundcolor": "#E5ECF6",
            "gridcolor": "white",
            "gridwidth": 2,
            "linecolor": "white",
            "showbackground": true,
            "ticks": "",
            "zerolinecolor": "white"
           },
           "yaxis": {
            "backgroundcolor": "#E5ECF6",
            "gridcolor": "white",
            "gridwidth": 2,
            "linecolor": "white",
            "showbackground": true,
            "ticks": "",
            "zerolinecolor": "white"
           },
           "zaxis": {
            "backgroundcolor": "#E5ECF6",
            "gridcolor": "white",
            "gridwidth": 2,
            "linecolor": "white",
            "showbackground": true,
            "ticks": "",
            "zerolinecolor": "white"
           }
          },
          "shapedefaults": {
           "line": {
            "color": "#2a3f5f"
           }
          },
          "ternary": {
           "aaxis": {
            "gridcolor": "white",
            "linecolor": "white",
            "ticks": ""
           },
           "baxis": {
            "gridcolor": "white",
            "linecolor": "white",
            "ticks": ""
           },
           "bgcolor": "#E5ECF6",
           "caxis": {
            "gridcolor": "white",
            "linecolor": "white",
            "ticks": ""
           }
          },
          "title": {
           "x": 0.05
          },
          "xaxis": {
           "automargin": true,
           "gridcolor": "white",
           "linecolor": "white",
           "ticks": "",
           "title": {
            "standoff": 15
           },
           "zerolinecolor": "white",
           "zerolinewidth": 2
          },
          "yaxis": {
           "automargin": true,
           "gridcolor": "white",
           "linecolor": "white",
           "ticks": "",
           "title": {
            "standoff": 15
           },
           "zerolinecolor": "white",
           "zerolinewidth": 2
          }
         }
        },
        "title": {
         "font": {
          "color": "#4D5663"
         }
        },
        "xaxis": {
         "anchor": "y",
         "domain": [
          0,
          0.2125
         ],
         "gridcolor": "#E1E5ED",
         "showgrid": false,
         "tickfont": {
          "color": "#4D5663"
         },
         "title": {
          "font": {
           "color": "#4D5663"
          },
          "text": ""
         },
         "zerolinecolor": "#E1E5ED"
        },
        "xaxis10": {
         "anchor": "y10",
         "domain": [
          0.2625,
          0.475
         ],
         "gridcolor": "#E1E5ED",
         "showgrid": false,
         "tickfont": {
          "color": "#4D5663"
         },
         "title": {
          "font": {
           "color": "#4D5663"
          },
          "text": ""
         },
         "zerolinecolor": "#E1E5ED"
        },
        "xaxis11": {
         "anchor": "y11",
         "domain": [
          0.525,
          0.7375
         ],
         "gridcolor": "#E1E5ED",
         "showgrid": false,
         "tickfont": {
          "color": "#4D5663"
         },
         "title": {
          "font": {
           "color": "#4D5663"
          },
          "text": ""
         },
         "zerolinecolor": "#E1E5ED"
        },
        "xaxis12": {
         "anchor": "y12",
         "domain": [
          0.7875,
          1
         ],
         "gridcolor": "#E1E5ED",
         "showgrid": false,
         "tickfont": {
          "color": "#4D5663"
         },
         "title": {
          "font": {
           "color": "#4D5663"
          },
          "text": ""
         },
         "zerolinecolor": "#E1E5ED"
        },
        "xaxis13": {
         "anchor": "y13",
         "domain": [
          0,
          0.2125
         ],
         "gridcolor": "#E1E5ED",
         "showgrid": false,
         "tickfont": {
          "color": "#4D5663"
         },
         "title": {
          "font": {
           "color": "#4D5663"
          },
          "text": ""
         },
         "zerolinecolor": "#E1E5ED"
        },
        "xaxis14": {
         "anchor": "y14",
         "domain": [
          0.2625,
          0.475
         ],
         "gridcolor": "#E1E5ED",
         "showgrid": false,
         "tickfont": {
          "color": "#4D5663"
         },
         "title": {
          "font": {
           "color": "#4D5663"
          },
          "text": ""
         },
         "zerolinecolor": "#E1E5ED"
        },
        "xaxis15": {
         "anchor": "y15",
         "domain": [
          0.525,
          0.7375
         ],
         "gridcolor": "#E1E5ED",
         "showgrid": false,
         "tickfont": {
          "color": "#4D5663"
         },
         "title": {
          "font": {
           "color": "#4D5663"
          },
          "text": ""
         },
         "zerolinecolor": "#E1E5ED"
        },
        "xaxis16": {
         "anchor": "y16",
         "domain": [
          0.7875,
          1
         ],
         "gridcolor": "#E1E5ED",
         "showgrid": false,
         "tickfont": {
          "color": "#4D5663"
         },
         "title": {
          "font": {
           "color": "#4D5663"
          },
          "text": ""
         },
         "zerolinecolor": "#E1E5ED"
        },
        "xaxis2": {
         "anchor": "y2",
         "domain": [
          0.2625,
          0.475
         ],
         "gridcolor": "#E1E5ED",
         "showgrid": false,
         "tickfont": {
          "color": "#4D5663"
         },
         "title": {
          "font": {
           "color": "#4D5663"
          },
          "text": ""
         },
         "zerolinecolor": "#E1E5ED"
        },
        "xaxis3": {
         "anchor": "y3",
         "domain": [
          0.525,
          0.7375
         ],
         "gridcolor": "#E1E5ED",
         "showgrid": false,
         "tickfont": {
          "color": "#4D5663"
         },
         "title": {
          "font": {
           "color": "#4D5663"
          },
          "text": ""
         },
         "zerolinecolor": "#E1E5ED"
        },
        "xaxis4": {
         "anchor": "y4",
         "domain": [
          0.7875,
          1
         ],
         "gridcolor": "#E1E5ED",
         "showgrid": false,
         "tickfont": {
          "color": "#4D5663"
         },
         "title": {
          "font": {
           "color": "#4D5663"
          },
          "text": ""
         },
         "zerolinecolor": "#E1E5ED"
        },
        "xaxis5": {
         "anchor": "y5",
         "domain": [
          0,
          0.2125
         ],
         "gridcolor": "#E1E5ED",
         "showgrid": false,
         "tickfont": {
          "color": "#4D5663"
         },
         "title": {
          "font": {
           "color": "#4D5663"
          },
          "text": ""
         },
         "zerolinecolor": "#E1E5ED"
        },
        "xaxis6": {
         "anchor": "y6",
         "domain": [
          0.2625,
          0.475
         ],
         "gridcolor": "#E1E5ED",
         "showgrid": false,
         "tickfont": {
          "color": "#4D5663"
         },
         "title": {
          "font": {
           "color": "#4D5663"
          },
          "text": ""
         },
         "zerolinecolor": "#E1E5ED"
        },
        "xaxis7": {
         "anchor": "y7",
         "domain": [
          0.525,
          0.7375
         ],
         "gridcolor": "#E1E5ED",
         "showgrid": false,
         "tickfont": {
          "color": "#4D5663"
         },
         "title": {
          "font": {
           "color": "#4D5663"
          },
          "text": ""
         },
         "zerolinecolor": "#E1E5ED"
        },
        "xaxis8": {
         "anchor": "y8",
         "domain": [
          0.7875,
          1
         ],
         "gridcolor": "#E1E5ED",
         "showgrid": false,
         "tickfont": {
          "color": "#4D5663"
         },
         "title": {
          "font": {
           "color": "#4D5663"
          },
          "text": ""
         },
         "zerolinecolor": "#E1E5ED"
        },
        "xaxis9": {
         "anchor": "y9",
         "domain": [
          0,
          0.2125
         ],
         "gridcolor": "#E1E5ED",
         "showgrid": false,
         "tickfont": {
          "color": "#4D5663"
         },
         "title": {
          "font": {
           "color": "#4D5663"
          },
          "text": ""
         },
         "zerolinecolor": "#E1E5ED"
        },
        "yaxis": {
         "anchor": "x",
         "domain": [
          0.8025,
          1
         ],
         "gridcolor": "#E1E5ED",
         "showgrid": false,
         "tickfont": {
          "color": "#4D5663"
         },
         "title": {
          "font": {
           "color": "#4D5663"
          },
          "text": ""
         },
         "zerolinecolor": "#E1E5ED"
        },
        "yaxis10": {
         "anchor": "x10",
         "domain": [
          0.2675,
          0.465
         ],
         "gridcolor": "#E1E5ED",
         "showgrid": false,
         "tickfont": {
          "color": "#4D5663"
         },
         "title": {
          "font": {
           "color": "#4D5663"
          },
          "text": ""
         },
         "zerolinecolor": "#E1E5ED"
        },
        "yaxis11": {
         "anchor": "x11",
         "domain": [
          0.2675,
          0.465
         ],
         "gridcolor": "#E1E5ED",
         "showgrid": false,
         "tickfont": {
          "color": "#4D5663"
         },
         "title": {
          "font": {
           "color": "#4D5663"
          },
          "text": ""
         },
         "zerolinecolor": "#E1E5ED"
        },
        "yaxis12": {
         "anchor": "x12",
         "domain": [
          0.2675,
          0.465
         ],
         "gridcolor": "#E1E5ED",
         "showgrid": false,
         "tickfont": {
          "color": "#4D5663"
         },
         "title": {
          "font": {
           "color": "#4D5663"
          },
          "text": ""
         },
         "zerolinecolor": "#E1E5ED"
        },
        "yaxis13": {
         "anchor": "x13",
         "domain": [
          0,
          0.1975
         ],
         "gridcolor": "#E1E5ED",
         "showgrid": false,
         "tickfont": {
          "color": "#4D5663"
         },
         "title": {
          "font": {
           "color": "#4D5663"
          },
          "text": ""
         },
         "zerolinecolor": "#E1E5ED"
        },
        "yaxis14": {
         "anchor": "x14",
         "domain": [
          0,
          0.1975
         ],
         "gridcolor": "#E1E5ED",
         "showgrid": false,
         "tickfont": {
          "color": "#4D5663"
         },
         "title": {
          "font": {
           "color": "#4D5663"
          },
          "text": ""
         },
         "zerolinecolor": "#E1E5ED"
        },
        "yaxis15": {
         "anchor": "x15",
         "domain": [
          0,
          0.1975
         ],
         "gridcolor": "#E1E5ED",
         "showgrid": false,
         "tickfont": {
          "color": "#4D5663"
         },
         "title": {
          "font": {
           "color": "#4D5663"
          },
          "text": ""
         },
         "zerolinecolor": "#E1E5ED"
        },
        "yaxis16": {
         "anchor": "x16",
         "domain": [
          0,
          0.1975
         ],
         "gridcolor": "#E1E5ED",
         "showgrid": false,
         "tickfont": {
          "color": "#4D5663"
         },
         "title": {
          "font": {
           "color": "#4D5663"
          },
          "text": ""
         },
         "zerolinecolor": "#E1E5ED"
        },
        "yaxis2": {
         "anchor": "x2",
         "domain": [
          0.8025,
          1
         ],
         "gridcolor": "#E1E5ED",
         "showgrid": false,
         "tickfont": {
          "color": "#4D5663"
         },
         "title": {
          "font": {
           "color": "#4D5663"
          },
          "text": ""
         },
         "zerolinecolor": "#E1E5ED"
        },
        "yaxis3": {
         "anchor": "x3",
         "domain": [
          0.8025,
          1
         ],
         "gridcolor": "#E1E5ED",
         "showgrid": false,
         "tickfont": {
          "color": "#4D5663"
         },
         "title": {
          "font": {
           "color": "#4D5663"
          },
          "text": ""
         },
         "zerolinecolor": "#E1E5ED"
        },
        "yaxis4": {
         "anchor": "x4",
         "domain": [
          0.8025,
          1
         ],
         "gridcolor": "#E1E5ED",
         "showgrid": false,
         "tickfont": {
          "color": "#4D5663"
         },
         "title": {
          "font": {
           "color": "#4D5663"
          },
          "text": ""
         },
         "zerolinecolor": "#E1E5ED"
        },
        "yaxis5": {
         "anchor": "x5",
         "domain": [
          0.535,
          0.7325
         ],
         "gridcolor": "#E1E5ED",
         "showgrid": false,
         "tickfont": {
          "color": "#4D5663"
         },
         "title": {
          "font": {
           "color": "#4D5663"
          },
          "text": ""
         },
         "zerolinecolor": "#E1E5ED"
        },
        "yaxis6": {
         "anchor": "x6",
         "domain": [
          0.535,
          0.7325
         ],
         "gridcolor": "#E1E5ED",
         "showgrid": false,
         "tickfont": {
          "color": "#4D5663"
         },
         "title": {
          "font": {
           "color": "#4D5663"
          },
          "text": ""
         },
         "zerolinecolor": "#E1E5ED"
        },
        "yaxis7": {
         "anchor": "x7",
         "domain": [
          0.535,
          0.7325
         ],
         "gridcolor": "#E1E5ED",
         "showgrid": false,
         "tickfont": {
          "color": "#4D5663"
         },
         "title": {
          "font": {
           "color": "#4D5663"
          },
          "text": ""
         },
         "zerolinecolor": "#E1E5ED"
        },
        "yaxis8": {
         "anchor": "x8",
         "domain": [
          0.535,
          0.7325
         ],
         "gridcolor": "#E1E5ED",
         "showgrid": false,
         "tickfont": {
          "color": "#4D5663"
         },
         "title": {
          "font": {
           "color": "#4D5663"
          },
          "text": ""
         },
         "zerolinecolor": "#E1E5ED"
        },
        "yaxis9": {
         "anchor": "x9",
         "domain": [
          0.2675,
          0.465
         ],
         "gridcolor": "#E1E5ED",
         "showgrid": false,
         "tickfont": {
          "color": "#4D5663"
         },
         "title": {
          "font": {
           "color": "#4D5663"
          },
          "text": ""
         },
         "zerolinecolor": "#E1E5ED"
        }
       }
      },
      "text/html": [
       "<div>                            <div id=\"af8ee136-444b-45df-8ca9-85daba0294d7\" class=\"plotly-graph-div\" style=\"height:525px; width:100%;\"></div>            <script type=\"text/javascript\">                require([\"plotly\"], function(Plotly) {                    window.PLOTLYENV=window.PLOTLYENV || {};\n",
       "                    window.PLOTLYENV.BASE_URL='https://plot.ly';                                    if (document.getElementById(\"af8ee136-444b-45df-8ca9-85daba0294d7\")) {                    Plotly.newPlot(                        \"af8ee136-444b-45df-8ca9-85daba0294d7\",                        [{\"histfunc\":\"count\",\"histnorm\":\"\",\"marker\":{\"color\":\"rgba(255, 153, 51, 1.0)\",\"line\":{\"color\":\"#4D5663\",\"width\":1.3}},\"name\":\"A\",\"nbinsx\":10,\"opacity\":0.8,\"orientation\":\"v\",\"x\":[1.2336395877706994,-0.048615295932523526,0.25099671508100824,-0.1192462297098814,-0.2608481410248185,-0.06471520395729977,0.6259498930158807,0.12224421427601183,0.9324539075586492,1.070141475329659,0.5285224800201517,-0.24958849117359538,-0.29752102945104475,-0.6454103565063174,0.10442728647747394,-0.39378093189513375,-0.41399385767203517,-2.3312026081324517,0.31942537204183175,-1.4169774002817863,-1.377837148359218,-0.8064637395522112,3.3046701681598245,0.3249459378005792,0.3650097454990451,0.02065115131120758,1.2133373411044714,0.13608566784413764,-1.082375661287402,0.21276340210915654,-0.541233499690844,1.0120991433643813,-0.18508374419786647,-0.5156638362473296,-0.0645236069411833,0.34718435927735686,-1.1135794845678495,-0.9176904249407741,3.0705934949711446,1.4086638090114365,0.2562168360363639,-1.7164372878789915,0.22716733957708662,-1.4865304220381552,-0.483176954304673,2.802666688554588,-1.1253381606030017,-0.6915062924050371,0.7247609199197345,1.2275235702973804,-0.22318512888589181,-0.3132358939336809,-1.6040305545083373,1.8458126184513648,-0.8154253140752616,-0.2256614370869709,1.2978362803458532,0.14007647039884705,-0.20458602765483533,-0.2703209024985795,-0.2654081193656234,0.2202236850078853,0.14962062952118016,-0.9932677026925171,1.4271803455705308,0.43146018054188895,0.22187226163578996,1.7326906445715977,0.08548903032789677,-0.9295010484556132,0.5475247339146619,0.12447547676253774,-0.29634372342151055,-1.0253146544479361,0.3421818204421844,0.3688861723184149,0.03492725922143807,-0.31362123305608436,0.24375801240034217,0.4269918051686339,-0.23890978405914443,-1.7877295632810428,-0.16004350029481743,-0.3352782257640638,0.9857046637192217,-0.831237642919192,0.3361311145496733,0.7589545074594741,0.1781577265576734,-1.6752858972755533,-1.2041662102497588,-0.6653978729777915,0.3275641601449004,1.1634374896765034,-0.12556238527553262,0.11262507359259387,-0.13497569861698266,-1.3005004618063705,-1.4015847136640596,-0.7130959437805059],\"xaxis\":\"x\",\"yaxis\":\"y\",\"type\":\"histogram\"},{\"line\":{\"color\":\"rgba(128, 128, 128, 1.0)\",\"dash\":\"solid\",\"shape\":\"linear\",\"width\":1.3},\"marker\":{\"size\":2,\"symbol\":\"circle\"},\"mode\":\"markers\",\"name\":\"A\",\"text\":\"\",\"x\":[-1.9022065685510319,-2.1358854266589624,0.15731369215411856,-0.5116965050067188,-1.016778500304455,-0.07152395582692508,-0.6287641264563816,0.8116557648643434,-0.7109323439808468,-0.717033813927751,1.3316196542841683,-0.6310880219508661,2.5874251211580503,0.2644218892403224,-0.35142315852607764,0.2922499094243876,0.38465151313280316,0.4796526662506324,-0.692821516591526,-0.744210867455073,1.7066955696594042,0.21510833265147353,0.21771786641689403,-0.014642454292073627,1.1895312175510309,-1.3459717202535904,0.8467885453665221,-0.3114575850495862,1.030590665567906,-1.3999658924835772,0.3257603132932959,0.6586054996837076,-1.8464148734907193,-1.611694363967646,1.3087935975821354,-0.7122544344002926,-1.4202540474598107,-0.06956475576311448,-2.9681640089507857,0.31351528648144794,1.19697663227665,-0.06858255920050399,0.6949733405235001,0.12072343848660112,-0.9717122892437534,-0.6664128392375659,1.187574085544821,-2.1002353959673896,-1.0640523429911906,-0.6086697081559084,0.9148357188130085,-0.5189278497433476,-0.10464004777836514,0.5441484352640663,-1.101107079520376,0.104551275657519,-0.8641663897108429,-0.5439274802275234,0.7001541532162037,1.4695162149737615,-0.2926165781490387,-1.4279237442435446,1.0361323352789527,-0.988429236318292,-1.7599933184757448,-0.2972367314119232,-2.211370194384513,-0.6616248315376154,0.0006914603293870927,0.14312271204237148,1.037395383748161,0.635085681475714,-1.2801277743573918,-0.22485334081701447,-0.10709203797243241,1.0903950904507504,0.9498423697670688,-0.7566860215157124,-1.3185193689652943,0.3067433056702688,-0.1868825475446146,0.3227653992788982,1.1239897541025106,-0.85444767818716,-1.6535091941092632,0.733284060047493,2.2098470730160282,-0.939844915630386,-0.8269920694055485,-0.42477083179568426,0.6469222732434078,-0.6554123928641302,-0.6036906296788903,0.5121986984319296,-0.155322734625543,-0.5053751854186547,1.5239366853625391,2.047004505696809,-0.889866678505674,-0.29066447432594056],\"xaxis\":\"x2\",\"y\":[1.2336395877706994,-0.048615295932523526,0.25099671508100824,-0.1192462297098814,-0.2608481410248185,-0.06471520395729977,0.6259498930158807,0.12224421427601183,0.9324539075586492,1.070141475329659,0.5285224800201517,-0.24958849117359538,-0.29752102945104475,-0.6454103565063174,0.10442728647747394,-0.39378093189513375,-0.41399385767203517,-2.3312026081324517,0.31942537204183175,-1.4169774002817863,-1.377837148359218,-0.8064637395522112,3.3046701681598245,0.3249459378005792,0.3650097454990451,0.02065115131120758,1.2133373411044714,0.13608566784413764,-1.082375661287402,0.21276340210915654,-0.541233499690844,1.0120991433643813,-0.18508374419786647,-0.5156638362473296,-0.0645236069411833,0.34718435927735686,-1.1135794845678495,-0.9176904249407741,3.0705934949711446,1.4086638090114365,0.2562168360363639,-1.7164372878789915,0.22716733957708662,-1.4865304220381552,-0.483176954304673,2.802666688554588,-1.1253381606030017,-0.6915062924050371,0.7247609199197345,1.2275235702973804,-0.22318512888589181,-0.3132358939336809,-1.6040305545083373,1.8458126184513648,-0.8154253140752616,-0.2256614370869709,1.2978362803458532,0.14007647039884705,-0.20458602765483533,-0.2703209024985795,-0.2654081193656234,0.2202236850078853,0.14962062952118016,-0.9932677026925171,1.4271803455705308,0.43146018054188895,0.22187226163578996,1.7326906445715977,0.08548903032789677,-0.9295010484556132,0.5475247339146619,0.12447547676253774,-0.29634372342151055,-1.0253146544479361,0.3421818204421844,0.3688861723184149,0.03492725922143807,-0.31362123305608436,0.24375801240034217,0.4269918051686339,-0.23890978405914443,-1.7877295632810428,-0.16004350029481743,-0.3352782257640638,0.9857046637192217,-0.831237642919192,0.3361311145496733,0.7589545074594741,0.1781577265576734,-1.6752858972755533,-1.2041662102497588,-0.6653978729777915,0.3275641601449004,1.1634374896765034,-0.12556238527553262,0.11262507359259387,-0.13497569861698266,-1.3005004618063705,-1.4015847136640596,-0.7130959437805059],\"yaxis\":\"y2\",\"type\":\"scatter\"},{\"line\":{\"color\":\"rgba(128, 128, 128, 1.0)\",\"dash\":\"solid\",\"shape\":\"linear\",\"width\":1.3},\"marker\":{\"size\":2,\"symbol\":\"circle\"},\"mode\":\"markers\",\"name\":\"A\",\"text\":\"\",\"x\":[-0.1203462884061267,0.5205279603467541,1.6373721075195362,-0.14001172540804252,-2.674526145949805,0.0060677952583331595,-0.36622141484787113,-0.3924691468775285,0.8187257721064172,0.1185503907691811,-0.37297303762445855,-1.6126198259434936,0.8055375830516811,-0.5815984942374339,0.040794232049147824,-0.7873720664669202,-0.9516601915292413,1.1708829641717016,-1.0625150876152059,-0.4734598653816264,0.020844288576887166,-0.5697978532084147,0.3565820144230457,1.820986073532006,1.4103113009750812,-1.7578109576002183,0.6709490023049436,0.008710251602917883,-0.773908539594359,-0.10014921864482632,-1.1716662189760036,0.29748910841497217,1.4776251769729372,1.183711913190866,2.1046294893212183,0.33110363182786,1.3344659806224215,1.8669795338211328,-0.012674719960820802,0.3353224417080831,-0.8938456560251395,1.349121947598761,-2.4668115500134604,-1.1343925646877768,0.7660135522102507,-1.894330434749525,1.0140598332520745,1.2251843566973422,1.3874540311000108,0.11613591889194066,0.6811998510774827,-0.003533500739982704,0.014043824794410449,0.8636826602039034,-0.09100737893510782,-0.3436212806984299,0.006330301142763871,-0.099095793672755,-0.1839519025908113,1.5114741560438218,1.5021416621159007,1.1316060961136667,0.47634816595092005,-0.02420736315846384,0.19146131590129634,-0.31328367857691203,1.0808712383709749,-0.6668787968573957,0.7454378983322235,1.999036412148163,-1.19456697341481,-1.3397299896229375,-0.7069445506278457,-1.1013728437884975,-0.8333255588513151,0.025974722278596454,-0.013213216415298332,-0.5061130216172286,-0.08568735907262445,0.15249405867403465,0.6685429101785701,-0.6466830779456247,-2.223865800634014,0.5250073416429717,1.3078913993187256,-0.4438988321629713,-0.2216433743572602,-0.7528012152474951,0.5559777490354014,1.432791441296771,-2.520946937340112,-0.10521346693173139,-0.9596541368646575,0.018988384229541255,-0.3840057386571683,-1.177590721918723,1.0049781334061278,1.1088783448204909,-0.04577751906561806,0.162583504981171],\"xaxis\":\"x3\",\"y\":[1.2336395877706994,-0.048615295932523526,0.25099671508100824,-0.1192462297098814,-0.2608481410248185,-0.06471520395729977,0.6259498930158807,0.12224421427601183,0.9324539075586492,1.070141475329659,0.5285224800201517,-0.24958849117359538,-0.29752102945104475,-0.6454103565063174,0.10442728647747394,-0.39378093189513375,-0.41399385767203517,-2.3312026081324517,0.31942537204183175,-1.4169774002817863,-1.377837148359218,-0.8064637395522112,3.3046701681598245,0.3249459378005792,0.3650097454990451,0.02065115131120758,1.2133373411044714,0.13608566784413764,-1.082375661287402,0.21276340210915654,-0.541233499690844,1.0120991433643813,-0.18508374419786647,-0.5156638362473296,-0.0645236069411833,0.34718435927735686,-1.1135794845678495,-0.9176904249407741,3.0705934949711446,1.4086638090114365,0.2562168360363639,-1.7164372878789915,0.22716733957708662,-1.4865304220381552,-0.483176954304673,2.802666688554588,-1.1253381606030017,-0.6915062924050371,0.7247609199197345,1.2275235702973804,-0.22318512888589181,-0.3132358939336809,-1.6040305545083373,1.8458126184513648,-0.8154253140752616,-0.2256614370869709,1.2978362803458532,0.14007647039884705,-0.20458602765483533,-0.2703209024985795,-0.2654081193656234,0.2202236850078853,0.14962062952118016,-0.9932677026925171,1.4271803455705308,0.43146018054188895,0.22187226163578996,1.7326906445715977,0.08548903032789677,-0.9295010484556132,0.5475247339146619,0.12447547676253774,-0.29634372342151055,-1.0253146544479361,0.3421818204421844,0.3688861723184149,0.03492725922143807,-0.31362123305608436,0.24375801240034217,0.4269918051686339,-0.23890978405914443,-1.7877295632810428,-0.16004350029481743,-0.3352782257640638,0.9857046637192217,-0.831237642919192,0.3361311145496733,0.7589545074594741,0.1781577265576734,-1.6752858972755533,-1.2041662102497588,-0.6653978729777915,0.3275641601449004,1.1634374896765034,-0.12556238527553262,0.11262507359259387,-0.13497569861698266,-1.3005004618063705,-1.4015847136640596,-0.7130959437805059],\"yaxis\":\"y3\",\"type\":\"scatter\"},{\"line\":{\"color\":\"rgba(128, 128, 128, 1.0)\",\"dash\":\"solid\",\"shape\":\"linear\",\"width\":1.3},\"marker\":{\"size\":2,\"symbol\":\"circle\"},\"mode\":\"markers\",\"name\":\"A\",\"text\":\"\",\"x\":[-1.7567658157148927,-0.5901672254907833,-0.13664244385952085,-0.19653874796921839,-1.9511887501088818,1.3146435520150057,0.36862001272181294,-0.32346308637305865,-1.590444873222024,-0.25937836983757784,-0.2735276031871359,-2.060527915183689,-1.7230501121389559,-1.634601603572378,0.2217676484698342,0.4506887987078977,1.6405211037154424,0.3111918085082636,-1.4532524451622628,1.7836899168588702,-0.19195765676538254,-0.4452316278621485,1.1385268168816403,0.6498514520424518,-1.0805329991577612,-1.021004206939174,-1.0866315505218085,-0.14529022135568864,-1.986553870720136,-0.12362608258679714,0.7381764775245226,-1.4981099343634754,-1.3089903362617425,0.08660061096738925,-1.493762693790531,0.20287152608325598,-0.6600834177574529,-0.8705499827087052,-0.5321580827832789,0.1317813490014566,-1.7971861233158488,-0.03135291942911883,-0.5516341287552158,1.2775198455453443,0.48724250557753745,0.786822987160542,-0.13263198827278552,-0.39351506331500513,-0.05297070899342627,-0.8425429113716089,-0.9248670315260388,0.036872824956346494,1.0660878322634422,-0.24696381545849877,-1.0873803701063092,1.4996726338425603,-0.48256070497159864,0.7316450161836825,-0.8273960611272215,-0.17975816587564092,-1.7269653257375341,2.6691746650222834,0.6805526528012904,0.42202296251362176,0.40006582399723906,-1.5995278766058656,1.6730502172282378,-0.12965220173365527,1.4783673600532836,2.1826575486473065,1.1959971847804978,0.6666164036985821,0.5947819722052156,-0.2807647451558486,0.48707441883058644,0.37345360025214513,-1.249811354030153,1.6599410087348472,0.3319812753593216,-0.39093031838968195,0.6872089705060264,-0.48157934598860985,-0.7491761665230465,-0.42963505174509836,0.4363773992487627,0.5813295719780832,-2.1426769022662358,-0.6505585364801885,-0.9307237075318577,-0.22633137111629026,1.4585314303541639,2.4519017790717665,-0.6376561712316466,-0.691985452968969,0.4675037123446964,1.722835490148828,1.7747540039181924,1.3636474988664646,0.13173216302677304,0.6674998159581864],\"xaxis\":\"x4\",\"y\":[1.2336395877706994,-0.048615295932523526,0.25099671508100824,-0.1192462297098814,-0.2608481410248185,-0.06471520395729977,0.6259498930158807,0.12224421427601183,0.9324539075586492,1.070141475329659,0.5285224800201517,-0.24958849117359538,-0.29752102945104475,-0.6454103565063174,0.10442728647747394,-0.39378093189513375,-0.41399385767203517,-2.3312026081324517,0.31942537204183175,-1.4169774002817863,-1.377837148359218,-0.8064637395522112,3.3046701681598245,0.3249459378005792,0.3650097454990451,0.02065115131120758,1.2133373411044714,0.13608566784413764,-1.082375661287402,0.21276340210915654,-0.541233499690844,1.0120991433643813,-0.18508374419786647,-0.5156638362473296,-0.0645236069411833,0.34718435927735686,-1.1135794845678495,-0.9176904249407741,3.0705934949711446,1.4086638090114365,0.2562168360363639,-1.7164372878789915,0.22716733957708662,-1.4865304220381552,-0.483176954304673,2.802666688554588,-1.1253381606030017,-0.6915062924050371,0.7247609199197345,1.2275235702973804,-0.22318512888589181,-0.3132358939336809,-1.6040305545083373,1.8458126184513648,-0.8154253140752616,-0.2256614370869709,1.2978362803458532,0.14007647039884705,-0.20458602765483533,-0.2703209024985795,-0.2654081193656234,0.2202236850078853,0.14962062952118016,-0.9932677026925171,1.4271803455705308,0.43146018054188895,0.22187226163578996,1.7326906445715977,0.08548903032789677,-0.9295010484556132,0.5475247339146619,0.12447547676253774,-0.29634372342151055,-1.0253146544479361,0.3421818204421844,0.3688861723184149,0.03492725922143807,-0.31362123305608436,0.24375801240034217,0.4269918051686339,-0.23890978405914443,-1.7877295632810428,-0.16004350029481743,-0.3352782257640638,0.9857046637192217,-0.831237642919192,0.3361311145496733,0.7589545074594741,0.1781577265576734,-1.6752858972755533,-1.2041662102497588,-0.6653978729777915,0.3275641601449004,1.1634374896765034,-0.12556238527553262,0.11262507359259387,-0.13497569861698266,-1.3005004618063705,-1.4015847136640596,-0.7130959437805059],\"yaxis\":\"y4\",\"type\":\"scatter\"},{\"line\":{\"color\":\"rgba(128, 128, 128, 1.0)\",\"dash\":\"solid\",\"shape\":\"linear\",\"width\":1.3},\"marker\":{\"size\":2,\"symbol\":\"circle\"},\"mode\":\"markers\",\"name\":\"B\",\"text\":\"\",\"x\":[1.2336395877706994,-0.048615295932523526,0.25099671508100824,-0.1192462297098814,-0.2608481410248185,-0.06471520395729977,0.6259498930158807,0.12224421427601183,0.9324539075586492,1.070141475329659,0.5285224800201517,-0.24958849117359538,-0.29752102945104475,-0.6454103565063174,0.10442728647747394,-0.39378093189513375,-0.41399385767203517,-2.3312026081324517,0.31942537204183175,-1.4169774002817863,-1.377837148359218,-0.8064637395522112,3.3046701681598245,0.3249459378005792,0.3650097454990451,0.02065115131120758,1.2133373411044714,0.13608566784413764,-1.082375661287402,0.21276340210915654,-0.541233499690844,1.0120991433643813,-0.18508374419786647,-0.5156638362473296,-0.0645236069411833,0.34718435927735686,-1.1135794845678495,-0.9176904249407741,3.0705934949711446,1.4086638090114365,0.2562168360363639,-1.7164372878789915,0.22716733957708662,-1.4865304220381552,-0.483176954304673,2.802666688554588,-1.1253381606030017,-0.6915062924050371,0.7247609199197345,1.2275235702973804,-0.22318512888589181,-0.3132358939336809,-1.6040305545083373,1.8458126184513648,-0.8154253140752616,-0.2256614370869709,1.2978362803458532,0.14007647039884705,-0.20458602765483533,-0.2703209024985795,-0.2654081193656234,0.2202236850078853,0.14962062952118016,-0.9932677026925171,1.4271803455705308,0.43146018054188895,0.22187226163578996,1.7326906445715977,0.08548903032789677,-0.9295010484556132,0.5475247339146619,0.12447547676253774,-0.29634372342151055,-1.0253146544479361,0.3421818204421844,0.3688861723184149,0.03492725922143807,-0.31362123305608436,0.24375801240034217,0.4269918051686339,-0.23890978405914443,-1.7877295632810428,-0.16004350029481743,-0.3352782257640638,0.9857046637192217,-0.831237642919192,0.3361311145496733,0.7589545074594741,0.1781577265576734,-1.6752858972755533,-1.2041662102497588,-0.6653978729777915,0.3275641601449004,1.1634374896765034,-0.12556238527553262,0.11262507359259387,-0.13497569861698266,-1.3005004618063705,-1.4015847136640596,-0.7130959437805059],\"xaxis\":\"x5\",\"y\":[-1.9022065685510319,-2.1358854266589624,0.15731369215411856,-0.5116965050067188,-1.016778500304455,-0.07152395582692508,-0.6287641264563816,0.8116557648643434,-0.7109323439808468,-0.717033813927751,1.3316196542841683,-0.6310880219508661,2.5874251211580503,0.2644218892403224,-0.35142315852607764,0.2922499094243876,0.38465151313280316,0.4796526662506324,-0.692821516591526,-0.744210867455073,1.7066955696594042,0.21510833265147353,0.21771786641689403,-0.014642454292073627,1.1895312175510309,-1.3459717202535904,0.8467885453665221,-0.3114575850495862,1.030590665567906,-1.3999658924835772,0.3257603132932959,0.6586054996837076,-1.8464148734907193,-1.611694363967646,1.3087935975821354,-0.7122544344002926,-1.4202540474598107,-0.06956475576311448,-2.9681640089507857,0.31351528648144794,1.19697663227665,-0.06858255920050399,0.6949733405235001,0.12072343848660112,-0.9717122892437534,-0.6664128392375659,1.187574085544821,-2.1002353959673896,-1.0640523429911906,-0.6086697081559084,0.9148357188130085,-0.5189278497433476,-0.10464004777836514,0.5441484352640663,-1.101107079520376,0.104551275657519,-0.8641663897108429,-0.5439274802275234,0.7001541532162037,1.4695162149737615,-0.2926165781490387,-1.4279237442435446,1.0361323352789527,-0.988429236318292,-1.7599933184757448,-0.2972367314119232,-2.211370194384513,-0.6616248315376154,0.0006914603293870927,0.14312271204237148,1.037395383748161,0.635085681475714,-1.2801277743573918,-0.22485334081701447,-0.10709203797243241,1.0903950904507504,0.9498423697670688,-0.7566860215157124,-1.3185193689652943,0.3067433056702688,-0.1868825475446146,0.3227653992788982,1.1239897541025106,-0.85444767818716,-1.6535091941092632,0.733284060047493,2.2098470730160282,-0.939844915630386,-0.8269920694055485,-0.42477083179568426,0.6469222732434078,-0.6554123928641302,-0.6036906296788903,0.5121986984319296,-0.155322734625543,-0.5053751854186547,1.5239366853625391,2.047004505696809,-0.889866678505674,-0.29066447432594056],\"yaxis\":\"y5\",\"type\":\"scatter\"},{\"histfunc\":\"count\",\"histnorm\":\"\",\"marker\":{\"color\":\"rgba(55, 128, 191, 1.0)\",\"line\":{\"color\":\"#4D5663\",\"width\":1.3}},\"name\":\"B\",\"nbinsx\":10,\"opacity\":0.8,\"orientation\":\"v\",\"x\":[-1.9022065685510319,-2.1358854266589624,0.15731369215411856,-0.5116965050067188,-1.016778500304455,-0.07152395582692508,-0.6287641264563816,0.8116557648643434,-0.7109323439808468,-0.717033813927751,1.3316196542841683,-0.6310880219508661,2.5874251211580503,0.2644218892403224,-0.35142315852607764,0.2922499094243876,0.38465151313280316,0.4796526662506324,-0.692821516591526,-0.744210867455073,1.7066955696594042,0.21510833265147353,0.21771786641689403,-0.014642454292073627,1.1895312175510309,-1.3459717202535904,0.8467885453665221,-0.3114575850495862,1.030590665567906,-1.3999658924835772,0.3257603132932959,0.6586054996837076,-1.8464148734907193,-1.611694363967646,1.3087935975821354,-0.7122544344002926,-1.4202540474598107,-0.06956475576311448,-2.9681640089507857,0.31351528648144794,1.19697663227665,-0.06858255920050399,0.6949733405235001,0.12072343848660112,-0.9717122892437534,-0.6664128392375659,1.187574085544821,-2.1002353959673896,-1.0640523429911906,-0.6086697081559084,0.9148357188130085,-0.5189278497433476,-0.10464004777836514,0.5441484352640663,-1.101107079520376,0.104551275657519,-0.8641663897108429,-0.5439274802275234,0.7001541532162037,1.4695162149737615,-0.2926165781490387,-1.4279237442435446,1.0361323352789527,-0.988429236318292,-1.7599933184757448,-0.2972367314119232,-2.211370194384513,-0.6616248315376154,0.0006914603293870927,0.14312271204237148,1.037395383748161,0.635085681475714,-1.2801277743573918,-0.22485334081701447,-0.10709203797243241,1.0903950904507504,0.9498423697670688,-0.7566860215157124,-1.3185193689652943,0.3067433056702688,-0.1868825475446146,0.3227653992788982,1.1239897541025106,-0.85444767818716,-1.6535091941092632,0.733284060047493,2.2098470730160282,-0.939844915630386,-0.8269920694055485,-0.42477083179568426,0.6469222732434078,-0.6554123928641302,-0.6036906296788903,0.5121986984319296,-0.155322734625543,-0.5053751854186547,1.5239366853625391,2.047004505696809,-0.889866678505674,-0.29066447432594056],\"xaxis\":\"x6\",\"yaxis\":\"y6\",\"type\":\"histogram\"},{\"line\":{\"color\":\"rgba(128, 128, 128, 1.0)\",\"dash\":\"solid\",\"shape\":\"linear\",\"width\":1.3},\"marker\":{\"size\":2,\"symbol\":\"circle\"},\"mode\":\"markers\",\"name\":\"B\",\"text\":\"\",\"x\":[-0.1203462884061267,0.5205279603467541,1.6373721075195362,-0.14001172540804252,-2.674526145949805,0.0060677952583331595,-0.36622141484787113,-0.3924691468775285,0.8187257721064172,0.1185503907691811,-0.37297303762445855,-1.6126198259434936,0.8055375830516811,-0.5815984942374339,0.040794232049147824,-0.7873720664669202,-0.9516601915292413,1.1708829641717016,-1.0625150876152059,-0.4734598653816264,0.020844288576887166,-0.5697978532084147,0.3565820144230457,1.820986073532006,1.4103113009750812,-1.7578109576002183,0.6709490023049436,0.008710251602917883,-0.773908539594359,-0.10014921864482632,-1.1716662189760036,0.29748910841497217,1.4776251769729372,1.183711913190866,2.1046294893212183,0.33110363182786,1.3344659806224215,1.8669795338211328,-0.012674719960820802,0.3353224417080831,-0.8938456560251395,1.349121947598761,-2.4668115500134604,-1.1343925646877768,0.7660135522102507,-1.894330434749525,1.0140598332520745,1.2251843566973422,1.3874540311000108,0.11613591889194066,0.6811998510774827,-0.003533500739982704,0.014043824794410449,0.8636826602039034,-0.09100737893510782,-0.3436212806984299,0.006330301142763871,-0.099095793672755,-0.1839519025908113,1.5114741560438218,1.5021416621159007,1.1316060961136667,0.47634816595092005,-0.02420736315846384,0.19146131590129634,-0.31328367857691203,1.0808712383709749,-0.6668787968573957,0.7454378983322235,1.999036412148163,-1.19456697341481,-1.3397299896229375,-0.7069445506278457,-1.1013728437884975,-0.8333255588513151,0.025974722278596454,-0.013213216415298332,-0.5061130216172286,-0.08568735907262445,0.15249405867403465,0.6685429101785701,-0.6466830779456247,-2.223865800634014,0.5250073416429717,1.3078913993187256,-0.4438988321629713,-0.2216433743572602,-0.7528012152474951,0.5559777490354014,1.432791441296771,-2.520946937340112,-0.10521346693173139,-0.9596541368646575,0.018988384229541255,-0.3840057386571683,-1.177590721918723,1.0049781334061278,1.1088783448204909,-0.04577751906561806,0.162583504981171],\"xaxis\":\"x7\",\"y\":[-1.9022065685510319,-2.1358854266589624,0.15731369215411856,-0.5116965050067188,-1.016778500304455,-0.07152395582692508,-0.6287641264563816,0.8116557648643434,-0.7109323439808468,-0.717033813927751,1.3316196542841683,-0.6310880219508661,2.5874251211580503,0.2644218892403224,-0.35142315852607764,0.2922499094243876,0.38465151313280316,0.4796526662506324,-0.692821516591526,-0.744210867455073,1.7066955696594042,0.21510833265147353,0.21771786641689403,-0.014642454292073627,1.1895312175510309,-1.3459717202535904,0.8467885453665221,-0.3114575850495862,1.030590665567906,-1.3999658924835772,0.3257603132932959,0.6586054996837076,-1.8464148734907193,-1.611694363967646,1.3087935975821354,-0.7122544344002926,-1.4202540474598107,-0.06956475576311448,-2.9681640089507857,0.31351528648144794,1.19697663227665,-0.06858255920050399,0.6949733405235001,0.12072343848660112,-0.9717122892437534,-0.6664128392375659,1.187574085544821,-2.1002353959673896,-1.0640523429911906,-0.6086697081559084,0.9148357188130085,-0.5189278497433476,-0.10464004777836514,0.5441484352640663,-1.101107079520376,0.104551275657519,-0.8641663897108429,-0.5439274802275234,0.7001541532162037,1.4695162149737615,-0.2926165781490387,-1.4279237442435446,1.0361323352789527,-0.988429236318292,-1.7599933184757448,-0.2972367314119232,-2.211370194384513,-0.6616248315376154,0.0006914603293870927,0.14312271204237148,1.037395383748161,0.635085681475714,-1.2801277743573918,-0.22485334081701447,-0.10709203797243241,1.0903950904507504,0.9498423697670688,-0.7566860215157124,-1.3185193689652943,0.3067433056702688,-0.1868825475446146,0.3227653992788982,1.1239897541025106,-0.85444767818716,-1.6535091941092632,0.733284060047493,2.2098470730160282,-0.939844915630386,-0.8269920694055485,-0.42477083179568426,0.6469222732434078,-0.6554123928641302,-0.6036906296788903,0.5121986984319296,-0.155322734625543,-0.5053751854186547,1.5239366853625391,2.047004505696809,-0.889866678505674,-0.29066447432594056],\"yaxis\":\"y7\",\"type\":\"scatter\"},{\"line\":{\"color\":\"rgba(128, 128, 128, 1.0)\",\"dash\":\"solid\",\"shape\":\"linear\",\"width\":1.3},\"marker\":{\"size\":2,\"symbol\":\"circle\"},\"mode\":\"markers\",\"name\":\"B\",\"text\":\"\",\"x\":[-1.7567658157148927,-0.5901672254907833,-0.13664244385952085,-0.19653874796921839,-1.9511887501088818,1.3146435520150057,0.36862001272181294,-0.32346308637305865,-1.590444873222024,-0.25937836983757784,-0.2735276031871359,-2.060527915183689,-1.7230501121389559,-1.634601603572378,0.2217676484698342,0.4506887987078977,1.6405211037154424,0.3111918085082636,-1.4532524451622628,1.7836899168588702,-0.19195765676538254,-0.4452316278621485,1.1385268168816403,0.6498514520424518,-1.0805329991577612,-1.021004206939174,-1.0866315505218085,-0.14529022135568864,-1.986553870720136,-0.12362608258679714,0.7381764775245226,-1.4981099343634754,-1.3089903362617425,0.08660061096738925,-1.493762693790531,0.20287152608325598,-0.6600834177574529,-0.8705499827087052,-0.5321580827832789,0.1317813490014566,-1.7971861233158488,-0.03135291942911883,-0.5516341287552158,1.2775198455453443,0.48724250557753745,0.786822987160542,-0.13263198827278552,-0.39351506331500513,-0.05297070899342627,-0.8425429113716089,-0.9248670315260388,0.036872824956346494,1.0660878322634422,-0.24696381545849877,-1.0873803701063092,1.4996726338425603,-0.48256070497159864,0.7316450161836825,-0.8273960611272215,-0.17975816587564092,-1.7269653257375341,2.6691746650222834,0.6805526528012904,0.42202296251362176,0.40006582399723906,-1.5995278766058656,1.6730502172282378,-0.12965220173365527,1.4783673600532836,2.1826575486473065,1.1959971847804978,0.6666164036985821,0.5947819722052156,-0.2807647451558486,0.48707441883058644,0.37345360025214513,-1.249811354030153,1.6599410087348472,0.3319812753593216,-0.39093031838968195,0.6872089705060264,-0.48157934598860985,-0.7491761665230465,-0.42963505174509836,0.4363773992487627,0.5813295719780832,-2.1426769022662358,-0.6505585364801885,-0.9307237075318577,-0.22633137111629026,1.4585314303541639,2.4519017790717665,-0.6376561712316466,-0.691985452968969,0.4675037123446964,1.722835490148828,1.7747540039181924,1.3636474988664646,0.13173216302677304,0.6674998159581864],\"xaxis\":\"x8\",\"y\":[-1.9022065685510319,-2.1358854266589624,0.15731369215411856,-0.5116965050067188,-1.016778500304455,-0.07152395582692508,-0.6287641264563816,0.8116557648643434,-0.7109323439808468,-0.717033813927751,1.3316196542841683,-0.6310880219508661,2.5874251211580503,0.2644218892403224,-0.35142315852607764,0.2922499094243876,0.38465151313280316,0.4796526662506324,-0.692821516591526,-0.744210867455073,1.7066955696594042,0.21510833265147353,0.21771786641689403,-0.014642454292073627,1.1895312175510309,-1.3459717202535904,0.8467885453665221,-0.3114575850495862,1.030590665567906,-1.3999658924835772,0.3257603132932959,0.6586054996837076,-1.8464148734907193,-1.611694363967646,1.3087935975821354,-0.7122544344002926,-1.4202540474598107,-0.06956475576311448,-2.9681640089507857,0.31351528648144794,1.19697663227665,-0.06858255920050399,0.6949733405235001,0.12072343848660112,-0.9717122892437534,-0.6664128392375659,1.187574085544821,-2.1002353959673896,-1.0640523429911906,-0.6086697081559084,0.9148357188130085,-0.5189278497433476,-0.10464004777836514,0.5441484352640663,-1.101107079520376,0.104551275657519,-0.8641663897108429,-0.5439274802275234,0.7001541532162037,1.4695162149737615,-0.2926165781490387,-1.4279237442435446,1.0361323352789527,-0.988429236318292,-1.7599933184757448,-0.2972367314119232,-2.211370194384513,-0.6616248315376154,0.0006914603293870927,0.14312271204237148,1.037395383748161,0.635085681475714,-1.2801277743573918,-0.22485334081701447,-0.10709203797243241,1.0903950904507504,0.9498423697670688,-0.7566860215157124,-1.3185193689652943,0.3067433056702688,-0.1868825475446146,0.3227653992788982,1.1239897541025106,-0.85444767818716,-1.6535091941092632,0.733284060047493,2.2098470730160282,-0.939844915630386,-0.8269920694055485,-0.42477083179568426,0.6469222732434078,-0.6554123928641302,-0.6036906296788903,0.5121986984319296,-0.155322734625543,-0.5053751854186547,1.5239366853625391,2.047004505696809,-0.889866678505674,-0.29066447432594056],\"yaxis\":\"y8\",\"type\":\"scatter\"},{\"line\":{\"color\":\"rgba(128, 128, 128, 1.0)\",\"dash\":\"solid\",\"shape\":\"linear\",\"width\":1.3},\"marker\":{\"size\":2,\"symbol\":\"circle\"},\"mode\":\"markers\",\"name\":\"C\",\"text\":\"\",\"x\":[1.2336395877706994,-0.048615295932523526,0.25099671508100824,-0.1192462297098814,-0.2608481410248185,-0.06471520395729977,0.6259498930158807,0.12224421427601183,0.9324539075586492,1.070141475329659,0.5285224800201517,-0.24958849117359538,-0.29752102945104475,-0.6454103565063174,0.10442728647747394,-0.39378093189513375,-0.41399385767203517,-2.3312026081324517,0.31942537204183175,-1.4169774002817863,-1.377837148359218,-0.8064637395522112,3.3046701681598245,0.3249459378005792,0.3650097454990451,0.02065115131120758,1.2133373411044714,0.13608566784413764,-1.082375661287402,0.21276340210915654,-0.541233499690844,1.0120991433643813,-0.18508374419786647,-0.5156638362473296,-0.0645236069411833,0.34718435927735686,-1.1135794845678495,-0.9176904249407741,3.0705934949711446,1.4086638090114365,0.2562168360363639,-1.7164372878789915,0.22716733957708662,-1.4865304220381552,-0.483176954304673,2.802666688554588,-1.1253381606030017,-0.6915062924050371,0.7247609199197345,1.2275235702973804,-0.22318512888589181,-0.3132358939336809,-1.6040305545083373,1.8458126184513648,-0.8154253140752616,-0.2256614370869709,1.2978362803458532,0.14007647039884705,-0.20458602765483533,-0.2703209024985795,-0.2654081193656234,0.2202236850078853,0.14962062952118016,-0.9932677026925171,1.4271803455705308,0.43146018054188895,0.22187226163578996,1.7326906445715977,0.08548903032789677,-0.9295010484556132,0.5475247339146619,0.12447547676253774,-0.29634372342151055,-1.0253146544479361,0.3421818204421844,0.3688861723184149,0.03492725922143807,-0.31362123305608436,0.24375801240034217,0.4269918051686339,-0.23890978405914443,-1.7877295632810428,-0.16004350029481743,-0.3352782257640638,0.9857046637192217,-0.831237642919192,0.3361311145496733,0.7589545074594741,0.1781577265576734,-1.6752858972755533,-1.2041662102497588,-0.6653978729777915,0.3275641601449004,1.1634374896765034,-0.12556238527553262,0.11262507359259387,-0.13497569861698266,-1.3005004618063705,-1.4015847136640596,-0.7130959437805059],\"xaxis\":\"x9\",\"y\":[-0.1203462884061267,0.5205279603467541,1.6373721075195362,-0.14001172540804252,-2.674526145949805,0.0060677952583331595,-0.36622141484787113,-0.3924691468775285,0.8187257721064172,0.1185503907691811,-0.37297303762445855,-1.6126198259434936,0.8055375830516811,-0.5815984942374339,0.040794232049147824,-0.7873720664669202,-0.9516601915292413,1.1708829641717016,-1.0625150876152059,-0.4734598653816264,0.020844288576887166,-0.5697978532084147,0.3565820144230457,1.820986073532006,1.4103113009750812,-1.7578109576002183,0.6709490023049436,0.008710251602917883,-0.773908539594359,-0.10014921864482632,-1.1716662189760036,0.29748910841497217,1.4776251769729372,1.183711913190866,2.1046294893212183,0.33110363182786,1.3344659806224215,1.8669795338211328,-0.012674719960820802,0.3353224417080831,-0.8938456560251395,1.349121947598761,-2.4668115500134604,-1.1343925646877768,0.7660135522102507,-1.894330434749525,1.0140598332520745,1.2251843566973422,1.3874540311000108,0.11613591889194066,0.6811998510774827,-0.003533500739982704,0.014043824794410449,0.8636826602039034,-0.09100737893510782,-0.3436212806984299,0.006330301142763871,-0.099095793672755,-0.1839519025908113,1.5114741560438218,1.5021416621159007,1.1316060961136667,0.47634816595092005,-0.02420736315846384,0.19146131590129634,-0.31328367857691203,1.0808712383709749,-0.6668787968573957,0.7454378983322235,1.999036412148163,-1.19456697341481,-1.3397299896229375,-0.7069445506278457,-1.1013728437884975,-0.8333255588513151,0.025974722278596454,-0.013213216415298332,-0.5061130216172286,-0.08568735907262445,0.15249405867403465,0.6685429101785701,-0.6466830779456247,-2.223865800634014,0.5250073416429717,1.3078913993187256,-0.4438988321629713,-0.2216433743572602,-0.7528012152474951,0.5559777490354014,1.432791441296771,-2.520946937340112,-0.10521346693173139,-0.9596541368646575,0.018988384229541255,-0.3840057386571683,-1.177590721918723,1.0049781334061278,1.1088783448204909,-0.04577751906561806,0.162583504981171],\"yaxis\":\"y9\",\"type\":\"scatter\"},{\"line\":{\"color\":\"rgba(128, 128, 128, 1.0)\",\"dash\":\"solid\",\"shape\":\"linear\",\"width\":1.3},\"marker\":{\"size\":2,\"symbol\":\"circle\"},\"mode\":\"markers\",\"name\":\"C\",\"text\":\"\",\"x\":[-1.9022065685510319,-2.1358854266589624,0.15731369215411856,-0.5116965050067188,-1.016778500304455,-0.07152395582692508,-0.6287641264563816,0.8116557648643434,-0.7109323439808468,-0.717033813927751,1.3316196542841683,-0.6310880219508661,2.5874251211580503,0.2644218892403224,-0.35142315852607764,0.2922499094243876,0.38465151313280316,0.4796526662506324,-0.692821516591526,-0.744210867455073,1.7066955696594042,0.21510833265147353,0.21771786641689403,-0.014642454292073627,1.1895312175510309,-1.3459717202535904,0.8467885453665221,-0.3114575850495862,1.030590665567906,-1.3999658924835772,0.3257603132932959,0.6586054996837076,-1.8464148734907193,-1.611694363967646,1.3087935975821354,-0.7122544344002926,-1.4202540474598107,-0.06956475576311448,-2.9681640089507857,0.31351528648144794,1.19697663227665,-0.06858255920050399,0.6949733405235001,0.12072343848660112,-0.9717122892437534,-0.6664128392375659,1.187574085544821,-2.1002353959673896,-1.0640523429911906,-0.6086697081559084,0.9148357188130085,-0.5189278497433476,-0.10464004777836514,0.5441484352640663,-1.101107079520376,0.104551275657519,-0.8641663897108429,-0.5439274802275234,0.7001541532162037,1.4695162149737615,-0.2926165781490387,-1.4279237442435446,1.0361323352789527,-0.988429236318292,-1.7599933184757448,-0.2972367314119232,-2.211370194384513,-0.6616248315376154,0.0006914603293870927,0.14312271204237148,1.037395383748161,0.635085681475714,-1.2801277743573918,-0.22485334081701447,-0.10709203797243241,1.0903950904507504,0.9498423697670688,-0.7566860215157124,-1.3185193689652943,0.3067433056702688,-0.1868825475446146,0.3227653992788982,1.1239897541025106,-0.85444767818716,-1.6535091941092632,0.733284060047493,2.2098470730160282,-0.939844915630386,-0.8269920694055485,-0.42477083179568426,0.6469222732434078,-0.6554123928641302,-0.6036906296788903,0.5121986984319296,-0.155322734625543,-0.5053751854186547,1.5239366853625391,2.047004505696809,-0.889866678505674,-0.29066447432594056],\"xaxis\":\"x10\",\"y\":[-0.1203462884061267,0.5205279603467541,1.6373721075195362,-0.14001172540804252,-2.674526145949805,0.0060677952583331595,-0.36622141484787113,-0.3924691468775285,0.8187257721064172,0.1185503907691811,-0.37297303762445855,-1.6126198259434936,0.8055375830516811,-0.5815984942374339,0.040794232049147824,-0.7873720664669202,-0.9516601915292413,1.1708829641717016,-1.0625150876152059,-0.4734598653816264,0.020844288576887166,-0.5697978532084147,0.3565820144230457,1.820986073532006,1.4103113009750812,-1.7578109576002183,0.6709490023049436,0.008710251602917883,-0.773908539594359,-0.10014921864482632,-1.1716662189760036,0.29748910841497217,1.4776251769729372,1.183711913190866,2.1046294893212183,0.33110363182786,1.3344659806224215,1.8669795338211328,-0.012674719960820802,0.3353224417080831,-0.8938456560251395,1.349121947598761,-2.4668115500134604,-1.1343925646877768,0.7660135522102507,-1.894330434749525,1.0140598332520745,1.2251843566973422,1.3874540311000108,0.11613591889194066,0.6811998510774827,-0.003533500739982704,0.014043824794410449,0.8636826602039034,-0.09100737893510782,-0.3436212806984299,0.006330301142763871,-0.099095793672755,-0.1839519025908113,1.5114741560438218,1.5021416621159007,1.1316060961136667,0.47634816595092005,-0.02420736315846384,0.19146131590129634,-0.31328367857691203,1.0808712383709749,-0.6668787968573957,0.7454378983322235,1.999036412148163,-1.19456697341481,-1.3397299896229375,-0.7069445506278457,-1.1013728437884975,-0.8333255588513151,0.025974722278596454,-0.013213216415298332,-0.5061130216172286,-0.08568735907262445,0.15249405867403465,0.6685429101785701,-0.6466830779456247,-2.223865800634014,0.5250073416429717,1.3078913993187256,-0.4438988321629713,-0.2216433743572602,-0.7528012152474951,0.5559777490354014,1.432791441296771,-2.520946937340112,-0.10521346693173139,-0.9596541368646575,0.018988384229541255,-0.3840057386571683,-1.177590721918723,1.0049781334061278,1.1088783448204909,-0.04577751906561806,0.162583504981171],\"yaxis\":\"y10\",\"type\":\"scatter\"},{\"histfunc\":\"count\",\"histnorm\":\"\",\"marker\":{\"color\":\"rgba(50, 171, 96, 1.0)\",\"line\":{\"color\":\"#4D5663\",\"width\":1.3}},\"name\":\"C\",\"nbinsx\":10,\"opacity\":0.8,\"orientation\":\"v\",\"x\":[-0.1203462884061267,0.5205279603467541,1.6373721075195362,-0.14001172540804252,-2.674526145949805,0.0060677952583331595,-0.36622141484787113,-0.3924691468775285,0.8187257721064172,0.1185503907691811,-0.37297303762445855,-1.6126198259434936,0.8055375830516811,-0.5815984942374339,0.040794232049147824,-0.7873720664669202,-0.9516601915292413,1.1708829641717016,-1.0625150876152059,-0.4734598653816264,0.020844288576887166,-0.5697978532084147,0.3565820144230457,1.820986073532006,1.4103113009750812,-1.7578109576002183,0.6709490023049436,0.008710251602917883,-0.773908539594359,-0.10014921864482632,-1.1716662189760036,0.29748910841497217,1.4776251769729372,1.183711913190866,2.1046294893212183,0.33110363182786,1.3344659806224215,1.8669795338211328,-0.012674719960820802,0.3353224417080831,-0.8938456560251395,1.349121947598761,-2.4668115500134604,-1.1343925646877768,0.7660135522102507,-1.894330434749525,1.0140598332520745,1.2251843566973422,1.3874540311000108,0.11613591889194066,0.6811998510774827,-0.003533500739982704,0.014043824794410449,0.8636826602039034,-0.09100737893510782,-0.3436212806984299,0.006330301142763871,-0.099095793672755,-0.1839519025908113,1.5114741560438218,1.5021416621159007,1.1316060961136667,0.47634816595092005,-0.02420736315846384,0.19146131590129634,-0.31328367857691203,1.0808712383709749,-0.6668787968573957,0.7454378983322235,1.999036412148163,-1.19456697341481,-1.3397299896229375,-0.7069445506278457,-1.1013728437884975,-0.8333255588513151,0.025974722278596454,-0.013213216415298332,-0.5061130216172286,-0.08568735907262445,0.15249405867403465,0.6685429101785701,-0.6466830779456247,-2.223865800634014,0.5250073416429717,1.3078913993187256,-0.4438988321629713,-0.2216433743572602,-0.7528012152474951,0.5559777490354014,1.432791441296771,-2.520946937340112,-0.10521346693173139,-0.9596541368646575,0.018988384229541255,-0.3840057386571683,-1.177590721918723,1.0049781334061278,1.1088783448204909,-0.04577751906561806,0.162583504981171],\"xaxis\":\"x11\",\"yaxis\":\"y11\",\"type\":\"histogram\"},{\"line\":{\"color\":\"rgba(128, 128, 128, 1.0)\",\"dash\":\"solid\",\"shape\":\"linear\",\"width\":1.3},\"marker\":{\"size\":2,\"symbol\":\"circle\"},\"mode\":\"markers\",\"name\":\"C\",\"text\":\"\",\"x\":[-1.7567658157148927,-0.5901672254907833,-0.13664244385952085,-0.19653874796921839,-1.9511887501088818,1.3146435520150057,0.36862001272181294,-0.32346308637305865,-1.590444873222024,-0.25937836983757784,-0.2735276031871359,-2.060527915183689,-1.7230501121389559,-1.634601603572378,0.2217676484698342,0.4506887987078977,1.6405211037154424,0.3111918085082636,-1.4532524451622628,1.7836899168588702,-0.19195765676538254,-0.4452316278621485,1.1385268168816403,0.6498514520424518,-1.0805329991577612,-1.021004206939174,-1.0866315505218085,-0.14529022135568864,-1.986553870720136,-0.12362608258679714,0.7381764775245226,-1.4981099343634754,-1.3089903362617425,0.08660061096738925,-1.493762693790531,0.20287152608325598,-0.6600834177574529,-0.8705499827087052,-0.5321580827832789,0.1317813490014566,-1.7971861233158488,-0.03135291942911883,-0.5516341287552158,1.2775198455453443,0.48724250557753745,0.786822987160542,-0.13263198827278552,-0.39351506331500513,-0.05297070899342627,-0.8425429113716089,-0.9248670315260388,0.036872824956346494,1.0660878322634422,-0.24696381545849877,-1.0873803701063092,1.4996726338425603,-0.48256070497159864,0.7316450161836825,-0.8273960611272215,-0.17975816587564092,-1.7269653257375341,2.6691746650222834,0.6805526528012904,0.42202296251362176,0.40006582399723906,-1.5995278766058656,1.6730502172282378,-0.12965220173365527,1.4783673600532836,2.1826575486473065,1.1959971847804978,0.6666164036985821,0.5947819722052156,-0.2807647451558486,0.48707441883058644,0.37345360025214513,-1.249811354030153,1.6599410087348472,0.3319812753593216,-0.39093031838968195,0.6872089705060264,-0.48157934598860985,-0.7491761665230465,-0.42963505174509836,0.4363773992487627,0.5813295719780832,-2.1426769022662358,-0.6505585364801885,-0.9307237075318577,-0.22633137111629026,1.4585314303541639,2.4519017790717665,-0.6376561712316466,-0.691985452968969,0.4675037123446964,1.722835490148828,1.7747540039181924,1.3636474988664646,0.13173216302677304,0.6674998159581864],\"xaxis\":\"x12\",\"y\":[-0.1203462884061267,0.5205279603467541,1.6373721075195362,-0.14001172540804252,-2.674526145949805,0.0060677952583331595,-0.36622141484787113,-0.3924691468775285,0.8187257721064172,0.1185503907691811,-0.37297303762445855,-1.6126198259434936,0.8055375830516811,-0.5815984942374339,0.040794232049147824,-0.7873720664669202,-0.9516601915292413,1.1708829641717016,-1.0625150876152059,-0.4734598653816264,0.020844288576887166,-0.5697978532084147,0.3565820144230457,1.820986073532006,1.4103113009750812,-1.7578109576002183,0.6709490023049436,0.008710251602917883,-0.773908539594359,-0.10014921864482632,-1.1716662189760036,0.29748910841497217,1.4776251769729372,1.183711913190866,2.1046294893212183,0.33110363182786,1.3344659806224215,1.8669795338211328,-0.012674719960820802,0.3353224417080831,-0.8938456560251395,1.349121947598761,-2.4668115500134604,-1.1343925646877768,0.7660135522102507,-1.894330434749525,1.0140598332520745,1.2251843566973422,1.3874540311000108,0.11613591889194066,0.6811998510774827,-0.003533500739982704,0.014043824794410449,0.8636826602039034,-0.09100737893510782,-0.3436212806984299,0.006330301142763871,-0.099095793672755,-0.1839519025908113,1.5114741560438218,1.5021416621159007,1.1316060961136667,0.47634816595092005,-0.02420736315846384,0.19146131590129634,-0.31328367857691203,1.0808712383709749,-0.6668787968573957,0.7454378983322235,1.999036412148163,-1.19456697341481,-1.3397299896229375,-0.7069445506278457,-1.1013728437884975,-0.8333255588513151,0.025974722278596454,-0.013213216415298332,-0.5061130216172286,-0.08568735907262445,0.15249405867403465,0.6685429101785701,-0.6466830779456247,-2.223865800634014,0.5250073416429717,1.3078913993187256,-0.4438988321629713,-0.2216433743572602,-0.7528012152474951,0.5559777490354014,1.432791441296771,-2.520946937340112,-0.10521346693173139,-0.9596541368646575,0.018988384229541255,-0.3840057386571683,-1.177590721918723,1.0049781334061278,1.1088783448204909,-0.04577751906561806,0.162583504981171],\"yaxis\":\"y12\",\"type\":\"scatter\"},{\"line\":{\"color\":\"rgba(128, 128, 128, 1.0)\",\"dash\":\"solid\",\"shape\":\"linear\",\"width\":1.3},\"marker\":{\"size\":2,\"symbol\":\"circle\"},\"mode\":\"markers\",\"name\":\"D\",\"text\":\"\",\"x\":[1.2336395877706994,-0.048615295932523526,0.25099671508100824,-0.1192462297098814,-0.2608481410248185,-0.06471520395729977,0.6259498930158807,0.12224421427601183,0.9324539075586492,1.070141475329659,0.5285224800201517,-0.24958849117359538,-0.29752102945104475,-0.6454103565063174,0.10442728647747394,-0.39378093189513375,-0.41399385767203517,-2.3312026081324517,0.31942537204183175,-1.4169774002817863,-1.377837148359218,-0.8064637395522112,3.3046701681598245,0.3249459378005792,0.3650097454990451,0.02065115131120758,1.2133373411044714,0.13608566784413764,-1.082375661287402,0.21276340210915654,-0.541233499690844,1.0120991433643813,-0.18508374419786647,-0.5156638362473296,-0.0645236069411833,0.34718435927735686,-1.1135794845678495,-0.9176904249407741,3.0705934949711446,1.4086638090114365,0.2562168360363639,-1.7164372878789915,0.22716733957708662,-1.4865304220381552,-0.483176954304673,2.802666688554588,-1.1253381606030017,-0.6915062924050371,0.7247609199197345,1.2275235702973804,-0.22318512888589181,-0.3132358939336809,-1.6040305545083373,1.8458126184513648,-0.8154253140752616,-0.2256614370869709,1.2978362803458532,0.14007647039884705,-0.20458602765483533,-0.2703209024985795,-0.2654081193656234,0.2202236850078853,0.14962062952118016,-0.9932677026925171,1.4271803455705308,0.43146018054188895,0.22187226163578996,1.7326906445715977,0.08548903032789677,-0.9295010484556132,0.5475247339146619,0.12447547676253774,-0.29634372342151055,-1.0253146544479361,0.3421818204421844,0.3688861723184149,0.03492725922143807,-0.31362123305608436,0.24375801240034217,0.4269918051686339,-0.23890978405914443,-1.7877295632810428,-0.16004350029481743,-0.3352782257640638,0.9857046637192217,-0.831237642919192,0.3361311145496733,0.7589545074594741,0.1781577265576734,-1.6752858972755533,-1.2041662102497588,-0.6653978729777915,0.3275641601449004,1.1634374896765034,-0.12556238527553262,0.11262507359259387,-0.13497569861698266,-1.3005004618063705,-1.4015847136640596,-0.7130959437805059],\"xaxis\":\"x13\",\"y\":[-1.7567658157148927,-0.5901672254907833,-0.13664244385952085,-0.19653874796921839,-1.9511887501088818,1.3146435520150057,0.36862001272181294,-0.32346308637305865,-1.590444873222024,-0.25937836983757784,-0.2735276031871359,-2.060527915183689,-1.7230501121389559,-1.634601603572378,0.2217676484698342,0.4506887987078977,1.6405211037154424,0.3111918085082636,-1.4532524451622628,1.7836899168588702,-0.19195765676538254,-0.4452316278621485,1.1385268168816403,0.6498514520424518,-1.0805329991577612,-1.021004206939174,-1.0866315505218085,-0.14529022135568864,-1.986553870720136,-0.12362608258679714,0.7381764775245226,-1.4981099343634754,-1.3089903362617425,0.08660061096738925,-1.493762693790531,0.20287152608325598,-0.6600834177574529,-0.8705499827087052,-0.5321580827832789,0.1317813490014566,-1.7971861233158488,-0.03135291942911883,-0.5516341287552158,1.2775198455453443,0.48724250557753745,0.786822987160542,-0.13263198827278552,-0.39351506331500513,-0.05297070899342627,-0.8425429113716089,-0.9248670315260388,0.036872824956346494,1.0660878322634422,-0.24696381545849877,-1.0873803701063092,1.4996726338425603,-0.48256070497159864,0.7316450161836825,-0.8273960611272215,-0.17975816587564092,-1.7269653257375341,2.6691746650222834,0.6805526528012904,0.42202296251362176,0.40006582399723906,-1.5995278766058656,1.6730502172282378,-0.12965220173365527,1.4783673600532836,2.1826575486473065,1.1959971847804978,0.6666164036985821,0.5947819722052156,-0.2807647451558486,0.48707441883058644,0.37345360025214513,-1.249811354030153,1.6599410087348472,0.3319812753593216,-0.39093031838968195,0.6872089705060264,-0.48157934598860985,-0.7491761665230465,-0.42963505174509836,0.4363773992487627,0.5813295719780832,-2.1426769022662358,-0.6505585364801885,-0.9307237075318577,-0.22633137111629026,1.4585314303541639,2.4519017790717665,-0.6376561712316466,-0.691985452968969,0.4675037123446964,1.722835490148828,1.7747540039181924,1.3636474988664646,0.13173216302677304,0.6674998159581864],\"yaxis\":\"y13\",\"type\":\"scatter\"},{\"line\":{\"color\":\"rgba(128, 128, 128, 1.0)\",\"dash\":\"solid\",\"shape\":\"linear\",\"width\":1.3},\"marker\":{\"size\":2,\"symbol\":\"circle\"},\"mode\":\"markers\",\"name\":\"D\",\"text\":\"\",\"x\":[-1.9022065685510319,-2.1358854266589624,0.15731369215411856,-0.5116965050067188,-1.016778500304455,-0.07152395582692508,-0.6287641264563816,0.8116557648643434,-0.7109323439808468,-0.717033813927751,1.3316196542841683,-0.6310880219508661,2.5874251211580503,0.2644218892403224,-0.35142315852607764,0.2922499094243876,0.38465151313280316,0.4796526662506324,-0.692821516591526,-0.744210867455073,1.7066955696594042,0.21510833265147353,0.21771786641689403,-0.014642454292073627,1.1895312175510309,-1.3459717202535904,0.8467885453665221,-0.3114575850495862,1.030590665567906,-1.3999658924835772,0.3257603132932959,0.6586054996837076,-1.8464148734907193,-1.611694363967646,1.3087935975821354,-0.7122544344002926,-1.4202540474598107,-0.06956475576311448,-2.9681640089507857,0.31351528648144794,1.19697663227665,-0.06858255920050399,0.6949733405235001,0.12072343848660112,-0.9717122892437534,-0.6664128392375659,1.187574085544821,-2.1002353959673896,-1.0640523429911906,-0.6086697081559084,0.9148357188130085,-0.5189278497433476,-0.10464004777836514,0.5441484352640663,-1.101107079520376,0.104551275657519,-0.8641663897108429,-0.5439274802275234,0.7001541532162037,1.4695162149737615,-0.2926165781490387,-1.4279237442435446,1.0361323352789527,-0.988429236318292,-1.7599933184757448,-0.2972367314119232,-2.211370194384513,-0.6616248315376154,0.0006914603293870927,0.14312271204237148,1.037395383748161,0.635085681475714,-1.2801277743573918,-0.22485334081701447,-0.10709203797243241,1.0903950904507504,0.9498423697670688,-0.7566860215157124,-1.3185193689652943,0.3067433056702688,-0.1868825475446146,0.3227653992788982,1.1239897541025106,-0.85444767818716,-1.6535091941092632,0.733284060047493,2.2098470730160282,-0.939844915630386,-0.8269920694055485,-0.42477083179568426,0.6469222732434078,-0.6554123928641302,-0.6036906296788903,0.5121986984319296,-0.155322734625543,-0.5053751854186547,1.5239366853625391,2.047004505696809,-0.889866678505674,-0.29066447432594056],\"xaxis\":\"x14\",\"y\":[-1.7567658157148927,-0.5901672254907833,-0.13664244385952085,-0.19653874796921839,-1.9511887501088818,1.3146435520150057,0.36862001272181294,-0.32346308637305865,-1.590444873222024,-0.25937836983757784,-0.2735276031871359,-2.060527915183689,-1.7230501121389559,-1.634601603572378,0.2217676484698342,0.4506887987078977,1.6405211037154424,0.3111918085082636,-1.4532524451622628,1.7836899168588702,-0.19195765676538254,-0.4452316278621485,1.1385268168816403,0.6498514520424518,-1.0805329991577612,-1.021004206939174,-1.0866315505218085,-0.14529022135568864,-1.986553870720136,-0.12362608258679714,0.7381764775245226,-1.4981099343634754,-1.3089903362617425,0.08660061096738925,-1.493762693790531,0.20287152608325598,-0.6600834177574529,-0.8705499827087052,-0.5321580827832789,0.1317813490014566,-1.7971861233158488,-0.03135291942911883,-0.5516341287552158,1.2775198455453443,0.48724250557753745,0.786822987160542,-0.13263198827278552,-0.39351506331500513,-0.05297070899342627,-0.8425429113716089,-0.9248670315260388,0.036872824956346494,1.0660878322634422,-0.24696381545849877,-1.0873803701063092,1.4996726338425603,-0.48256070497159864,0.7316450161836825,-0.8273960611272215,-0.17975816587564092,-1.7269653257375341,2.6691746650222834,0.6805526528012904,0.42202296251362176,0.40006582399723906,-1.5995278766058656,1.6730502172282378,-0.12965220173365527,1.4783673600532836,2.1826575486473065,1.1959971847804978,0.6666164036985821,0.5947819722052156,-0.2807647451558486,0.48707441883058644,0.37345360025214513,-1.249811354030153,1.6599410087348472,0.3319812753593216,-0.39093031838968195,0.6872089705060264,-0.48157934598860985,-0.7491761665230465,-0.42963505174509836,0.4363773992487627,0.5813295719780832,-2.1426769022662358,-0.6505585364801885,-0.9307237075318577,-0.22633137111629026,1.4585314303541639,2.4519017790717665,-0.6376561712316466,-0.691985452968969,0.4675037123446964,1.722835490148828,1.7747540039181924,1.3636474988664646,0.13173216302677304,0.6674998159581864],\"yaxis\":\"y14\",\"type\":\"scatter\"},{\"line\":{\"color\":\"rgba(128, 128, 128, 1.0)\",\"dash\":\"solid\",\"shape\":\"linear\",\"width\":1.3},\"marker\":{\"size\":2,\"symbol\":\"circle\"},\"mode\":\"markers\",\"name\":\"D\",\"text\":\"\",\"x\":[-0.1203462884061267,0.5205279603467541,1.6373721075195362,-0.14001172540804252,-2.674526145949805,0.0060677952583331595,-0.36622141484787113,-0.3924691468775285,0.8187257721064172,0.1185503907691811,-0.37297303762445855,-1.6126198259434936,0.8055375830516811,-0.5815984942374339,0.040794232049147824,-0.7873720664669202,-0.9516601915292413,1.1708829641717016,-1.0625150876152059,-0.4734598653816264,0.020844288576887166,-0.5697978532084147,0.3565820144230457,1.820986073532006,1.4103113009750812,-1.7578109576002183,0.6709490023049436,0.008710251602917883,-0.773908539594359,-0.10014921864482632,-1.1716662189760036,0.29748910841497217,1.4776251769729372,1.183711913190866,2.1046294893212183,0.33110363182786,1.3344659806224215,1.8669795338211328,-0.012674719960820802,0.3353224417080831,-0.8938456560251395,1.349121947598761,-2.4668115500134604,-1.1343925646877768,0.7660135522102507,-1.894330434749525,1.0140598332520745,1.2251843566973422,1.3874540311000108,0.11613591889194066,0.6811998510774827,-0.003533500739982704,0.014043824794410449,0.8636826602039034,-0.09100737893510782,-0.3436212806984299,0.006330301142763871,-0.099095793672755,-0.1839519025908113,1.5114741560438218,1.5021416621159007,1.1316060961136667,0.47634816595092005,-0.02420736315846384,0.19146131590129634,-0.31328367857691203,1.0808712383709749,-0.6668787968573957,0.7454378983322235,1.999036412148163,-1.19456697341481,-1.3397299896229375,-0.7069445506278457,-1.1013728437884975,-0.8333255588513151,0.025974722278596454,-0.013213216415298332,-0.5061130216172286,-0.08568735907262445,0.15249405867403465,0.6685429101785701,-0.6466830779456247,-2.223865800634014,0.5250073416429717,1.3078913993187256,-0.4438988321629713,-0.2216433743572602,-0.7528012152474951,0.5559777490354014,1.432791441296771,-2.520946937340112,-0.10521346693173139,-0.9596541368646575,0.018988384229541255,-0.3840057386571683,-1.177590721918723,1.0049781334061278,1.1088783448204909,-0.04577751906561806,0.162583504981171],\"xaxis\":\"x15\",\"y\":[-1.7567658157148927,-0.5901672254907833,-0.13664244385952085,-0.19653874796921839,-1.9511887501088818,1.3146435520150057,0.36862001272181294,-0.32346308637305865,-1.590444873222024,-0.25937836983757784,-0.2735276031871359,-2.060527915183689,-1.7230501121389559,-1.634601603572378,0.2217676484698342,0.4506887987078977,1.6405211037154424,0.3111918085082636,-1.4532524451622628,1.7836899168588702,-0.19195765676538254,-0.4452316278621485,1.1385268168816403,0.6498514520424518,-1.0805329991577612,-1.021004206939174,-1.0866315505218085,-0.14529022135568864,-1.986553870720136,-0.12362608258679714,0.7381764775245226,-1.4981099343634754,-1.3089903362617425,0.08660061096738925,-1.493762693790531,0.20287152608325598,-0.6600834177574529,-0.8705499827087052,-0.5321580827832789,0.1317813490014566,-1.7971861233158488,-0.03135291942911883,-0.5516341287552158,1.2775198455453443,0.48724250557753745,0.786822987160542,-0.13263198827278552,-0.39351506331500513,-0.05297070899342627,-0.8425429113716089,-0.9248670315260388,0.036872824956346494,1.0660878322634422,-0.24696381545849877,-1.0873803701063092,1.4996726338425603,-0.48256070497159864,0.7316450161836825,-0.8273960611272215,-0.17975816587564092,-1.7269653257375341,2.6691746650222834,0.6805526528012904,0.42202296251362176,0.40006582399723906,-1.5995278766058656,1.6730502172282378,-0.12965220173365527,1.4783673600532836,2.1826575486473065,1.1959971847804978,0.6666164036985821,0.5947819722052156,-0.2807647451558486,0.48707441883058644,0.37345360025214513,-1.249811354030153,1.6599410087348472,0.3319812753593216,-0.39093031838968195,0.6872089705060264,-0.48157934598860985,-0.7491761665230465,-0.42963505174509836,0.4363773992487627,0.5813295719780832,-2.1426769022662358,-0.6505585364801885,-0.9307237075318577,-0.22633137111629026,1.4585314303541639,2.4519017790717665,-0.6376561712316466,-0.691985452968969,0.4675037123446964,1.722835490148828,1.7747540039181924,1.3636474988664646,0.13173216302677304,0.6674998159581864],\"yaxis\":\"y15\",\"type\":\"scatter\"},{\"histfunc\":\"count\",\"histnorm\":\"\",\"marker\":{\"color\":\"rgba(128, 0, 128, 1.0)\",\"line\":{\"color\":\"#4D5663\",\"width\":1.3}},\"name\":\"D\",\"nbinsx\":10,\"opacity\":0.8,\"orientation\":\"v\",\"x\":[-1.7567658157148927,-0.5901672254907833,-0.13664244385952085,-0.19653874796921839,-1.9511887501088818,1.3146435520150057,0.36862001272181294,-0.32346308637305865,-1.590444873222024,-0.25937836983757784,-0.2735276031871359,-2.060527915183689,-1.7230501121389559,-1.634601603572378,0.2217676484698342,0.4506887987078977,1.6405211037154424,0.3111918085082636,-1.4532524451622628,1.7836899168588702,-0.19195765676538254,-0.4452316278621485,1.1385268168816403,0.6498514520424518,-1.0805329991577612,-1.021004206939174,-1.0866315505218085,-0.14529022135568864,-1.986553870720136,-0.12362608258679714,0.7381764775245226,-1.4981099343634754,-1.3089903362617425,0.08660061096738925,-1.493762693790531,0.20287152608325598,-0.6600834177574529,-0.8705499827087052,-0.5321580827832789,0.1317813490014566,-1.7971861233158488,-0.03135291942911883,-0.5516341287552158,1.2775198455453443,0.48724250557753745,0.786822987160542,-0.13263198827278552,-0.39351506331500513,-0.05297070899342627,-0.8425429113716089,-0.9248670315260388,0.036872824956346494,1.0660878322634422,-0.24696381545849877,-1.0873803701063092,1.4996726338425603,-0.48256070497159864,0.7316450161836825,-0.8273960611272215,-0.17975816587564092,-1.7269653257375341,2.6691746650222834,0.6805526528012904,0.42202296251362176,0.40006582399723906,-1.5995278766058656,1.6730502172282378,-0.12965220173365527,1.4783673600532836,2.1826575486473065,1.1959971847804978,0.6666164036985821,0.5947819722052156,-0.2807647451558486,0.48707441883058644,0.37345360025214513,-1.249811354030153,1.6599410087348472,0.3319812753593216,-0.39093031838968195,0.6872089705060264,-0.48157934598860985,-0.7491761665230465,-0.42963505174509836,0.4363773992487627,0.5813295719780832,-2.1426769022662358,-0.6505585364801885,-0.9307237075318577,-0.22633137111629026,1.4585314303541639,2.4519017790717665,-0.6376561712316466,-0.691985452968969,0.4675037123446964,1.722835490148828,1.7747540039181924,1.3636474988664646,0.13173216302677304,0.6674998159581864],\"xaxis\":\"x16\",\"yaxis\":\"y16\",\"type\":\"histogram\"}],                        {\"bargap\":0.02,\"legend\":{\"bgcolor\":\"#F5F6F9\",\"font\":{\"color\":\"#4D5663\"}},\"paper_bgcolor\":\"#F5F6F9\",\"plot_bgcolor\":\"#F5F6F9\",\"showlegend\":false,\"template\":{\"data\":{\"barpolar\":[{\"marker\":{\"line\":{\"color\":\"#E5ECF6\",\"width\":0.5},\"pattern\":{\"fillmode\":\"overlay\",\"size\":10,\"solidity\":0.2}},\"type\":\"barpolar\"}],\"bar\":[{\"error_x\":{\"color\":\"#2a3f5f\"},\"error_y\":{\"color\":\"#2a3f5f\"},\"marker\":{\"line\":{\"color\":\"#E5ECF6\",\"width\":0.5},\"pattern\":{\"fillmode\":\"overlay\",\"size\":10,\"solidity\":0.2}},\"type\":\"bar\"}],\"carpet\":[{\"aaxis\":{\"endlinecolor\":\"#2a3f5f\",\"gridcolor\":\"white\",\"linecolor\":\"white\",\"minorgridcolor\":\"white\",\"startlinecolor\":\"#2a3f5f\"},\"baxis\":{\"endlinecolor\":\"#2a3f5f\",\"gridcolor\":\"white\",\"linecolor\":\"white\",\"minorgridcolor\":\"white\",\"startlinecolor\":\"#2a3f5f\"},\"type\":\"carpet\"}],\"choropleth\":[{\"colorbar\":{\"outlinewidth\":0,\"ticks\":\"\"},\"type\":\"choropleth\"}],\"contourcarpet\":[{\"colorbar\":{\"outlinewidth\":0,\"ticks\":\"\"},\"type\":\"contourcarpet\"}],\"contour\":[{\"colorbar\":{\"outlinewidth\":0,\"ticks\":\"\"},\"colorscale\":[[0.0,\"#0d0887\"],[0.1111111111111111,\"#46039f\"],[0.2222222222222222,\"#7201a8\"],[0.3333333333333333,\"#9c179e\"],[0.4444444444444444,\"#bd3786\"],[0.5555555555555556,\"#d8576b\"],[0.6666666666666666,\"#ed7953\"],[0.7777777777777778,\"#fb9f3a\"],[0.8888888888888888,\"#fdca26\"],[1.0,\"#f0f921\"]],\"type\":\"contour\"}],\"heatmapgl\":[{\"colorbar\":{\"outlinewidth\":0,\"ticks\":\"\"},\"colorscale\":[[0.0,\"#0d0887\"],[0.1111111111111111,\"#46039f\"],[0.2222222222222222,\"#7201a8\"],[0.3333333333333333,\"#9c179e\"],[0.4444444444444444,\"#bd3786\"],[0.5555555555555556,\"#d8576b\"],[0.6666666666666666,\"#ed7953\"],[0.7777777777777778,\"#fb9f3a\"],[0.8888888888888888,\"#fdca26\"],[1.0,\"#f0f921\"]],\"type\":\"heatmapgl\"}],\"heatmap\":[{\"colorbar\":{\"outlinewidth\":0,\"ticks\":\"\"},\"colorscale\":[[0.0,\"#0d0887\"],[0.1111111111111111,\"#46039f\"],[0.2222222222222222,\"#7201a8\"],[0.3333333333333333,\"#9c179e\"],[0.4444444444444444,\"#bd3786\"],[0.5555555555555556,\"#d8576b\"],[0.6666666666666666,\"#ed7953\"],[0.7777777777777778,\"#fb9f3a\"],[0.8888888888888888,\"#fdca26\"],[1.0,\"#f0f921\"]],\"type\":\"heatmap\"}],\"histogram2dcontour\":[{\"colorbar\":{\"outlinewidth\":0,\"ticks\":\"\"},\"colorscale\":[[0.0,\"#0d0887\"],[0.1111111111111111,\"#46039f\"],[0.2222222222222222,\"#7201a8\"],[0.3333333333333333,\"#9c179e\"],[0.4444444444444444,\"#bd3786\"],[0.5555555555555556,\"#d8576b\"],[0.6666666666666666,\"#ed7953\"],[0.7777777777777778,\"#fb9f3a\"],[0.8888888888888888,\"#fdca26\"],[1.0,\"#f0f921\"]],\"type\":\"histogram2dcontour\"}],\"histogram2d\":[{\"colorbar\":{\"outlinewidth\":0,\"ticks\":\"\"},\"colorscale\":[[0.0,\"#0d0887\"],[0.1111111111111111,\"#46039f\"],[0.2222222222222222,\"#7201a8\"],[0.3333333333333333,\"#9c179e\"],[0.4444444444444444,\"#bd3786\"],[0.5555555555555556,\"#d8576b\"],[0.6666666666666666,\"#ed7953\"],[0.7777777777777778,\"#fb9f3a\"],[0.8888888888888888,\"#fdca26\"],[1.0,\"#f0f921\"]],\"type\":\"histogram2d\"}],\"histogram\":[{\"marker\":{\"pattern\":{\"fillmode\":\"overlay\",\"size\":10,\"solidity\":0.2}},\"type\":\"histogram\"}],\"mesh3d\":[{\"colorbar\":{\"outlinewidth\":0,\"ticks\":\"\"},\"type\":\"mesh3d\"}],\"parcoords\":[{\"line\":{\"colorbar\":{\"outlinewidth\":0,\"ticks\":\"\"}},\"type\":\"parcoords\"}],\"pie\":[{\"automargin\":true,\"type\":\"pie\"}],\"scatter3d\":[{\"line\":{\"colorbar\":{\"outlinewidth\":0,\"ticks\":\"\"}},\"marker\":{\"colorbar\":{\"outlinewidth\":0,\"ticks\":\"\"}},\"type\":\"scatter3d\"}],\"scattercarpet\":[{\"marker\":{\"colorbar\":{\"outlinewidth\":0,\"ticks\":\"\"}},\"type\":\"scattercarpet\"}],\"scattergeo\":[{\"marker\":{\"colorbar\":{\"outlinewidth\":0,\"ticks\":\"\"}},\"type\":\"scattergeo\"}],\"scattergl\":[{\"marker\":{\"colorbar\":{\"outlinewidth\":0,\"ticks\":\"\"}},\"type\":\"scattergl\"}],\"scattermapbox\":[{\"marker\":{\"colorbar\":{\"outlinewidth\":0,\"ticks\":\"\"}},\"type\":\"scattermapbox\"}],\"scatterpolargl\":[{\"marker\":{\"colorbar\":{\"outlinewidth\":0,\"ticks\":\"\"}},\"type\":\"scatterpolargl\"}],\"scatterpolar\":[{\"marker\":{\"colorbar\":{\"outlinewidth\":0,\"ticks\":\"\"}},\"type\":\"scatterpolar\"}],\"scatter\":[{\"fillpattern\":{\"fillmode\":\"overlay\",\"size\":10,\"solidity\":0.2},\"type\":\"scatter\"}],\"scatterternary\":[{\"marker\":{\"colorbar\":{\"outlinewidth\":0,\"ticks\":\"\"}},\"type\":\"scatterternary\"}],\"surface\":[{\"colorbar\":{\"outlinewidth\":0,\"ticks\":\"\"},\"colorscale\":[[0.0,\"#0d0887\"],[0.1111111111111111,\"#46039f\"],[0.2222222222222222,\"#7201a8\"],[0.3333333333333333,\"#9c179e\"],[0.4444444444444444,\"#bd3786\"],[0.5555555555555556,\"#d8576b\"],[0.6666666666666666,\"#ed7953\"],[0.7777777777777778,\"#fb9f3a\"],[0.8888888888888888,\"#fdca26\"],[1.0,\"#f0f921\"]],\"type\":\"surface\"}],\"table\":[{\"cells\":{\"fill\":{\"color\":\"#EBF0F8\"},\"line\":{\"color\":\"white\"}},\"header\":{\"fill\":{\"color\":\"#C8D4E3\"},\"line\":{\"color\":\"white\"}},\"type\":\"table\"}]},\"layout\":{\"annotationdefaults\":{\"arrowcolor\":\"#2a3f5f\",\"arrowhead\":0,\"arrowwidth\":1},\"autotypenumbers\":\"strict\",\"coloraxis\":{\"colorbar\":{\"outlinewidth\":0,\"ticks\":\"\"}},\"colorscale\":{\"diverging\":[[0,\"#8e0152\"],[0.1,\"#c51b7d\"],[0.2,\"#de77ae\"],[0.3,\"#f1b6da\"],[0.4,\"#fde0ef\"],[0.5,\"#f7f7f7\"],[0.6,\"#e6f5d0\"],[0.7,\"#b8e186\"],[0.8,\"#7fbc41\"],[0.9,\"#4d9221\"],[1,\"#276419\"]],\"sequential\":[[0.0,\"#0d0887\"],[0.1111111111111111,\"#46039f\"],[0.2222222222222222,\"#7201a8\"],[0.3333333333333333,\"#9c179e\"],[0.4444444444444444,\"#bd3786\"],[0.5555555555555556,\"#d8576b\"],[0.6666666666666666,\"#ed7953\"],[0.7777777777777778,\"#fb9f3a\"],[0.8888888888888888,\"#fdca26\"],[1.0,\"#f0f921\"]],\"sequentialminus\":[[0.0,\"#0d0887\"],[0.1111111111111111,\"#46039f\"],[0.2222222222222222,\"#7201a8\"],[0.3333333333333333,\"#9c179e\"],[0.4444444444444444,\"#bd3786\"],[0.5555555555555556,\"#d8576b\"],[0.6666666666666666,\"#ed7953\"],[0.7777777777777778,\"#fb9f3a\"],[0.8888888888888888,\"#fdca26\"],[1.0,\"#f0f921\"]]},\"colorway\":[\"#636efa\",\"#EF553B\",\"#00cc96\",\"#ab63fa\",\"#FFA15A\",\"#19d3f3\",\"#FF6692\",\"#B6E880\",\"#FF97FF\",\"#FECB52\"],\"font\":{\"color\":\"#2a3f5f\"},\"geo\":{\"bgcolor\":\"white\",\"lakecolor\":\"white\",\"landcolor\":\"#E5ECF6\",\"showlakes\":true,\"showland\":true,\"subunitcolor\":\"white\"},\"hoverlabel\":{\"align\":\"left\"},\"hovermode\":\"closest\",\"mapbox\":{\"style\":\"light\"},\"paper_bgcolor\":\"white\",\"plot_bgcolor\":\"#E5ECF6\",\"polar\":{\"angularaxis\":{\"gridcolor\":\"white\",\"linecolor\":\"white\",\"ticks\":\"\"},\"bgcolor\":\"#E5ECF6\",\"radialaxis\":{\"gridcolor\":\"white\",\"linecolor\":\"white\",\"ticks\":\"\"}},\"scene\":{\"xaxis\":{\"backgroundcolor\":\"#E5ECF6\",\"gridcolor\":\"white\",\"gridwidth\":2,\"linecolor\":\"white\",\"showbackground\":true,\"ticks\":\"\",\"zerolinecolor\":\"white\"},\"yaxis\":{\"backgroundcolor\":\"#E5ECF6\",\"gridcolor\":\"white\",\"gridwidth\":2,\"linecolor\":\"white\",\"showbackground\":true,\"ticks\":\"\",\"zerolinecolor\":\"white\"},\"zaxis\":{\"backgroundcolor\":\"#E5ECF6\",\"gridcolor\":\"white\",\"gridwidth\":2,\"linecolor\":\"white\",\"showbackground\":true,\"ticks\":\"\",\"zerolinecolor\":\"white\"}},\"shapedefaults\":{\"line\":{\"color\":\"#2a3f5f\"}},\"ternary\":{\"aaxis\":{\"gridcolor\":\"white\",\"linecolor\":\"white\",\"ticks\":\"\"},\"baxis\":{\"gridcolor\":\"white\",\"linecolor\":\"white\",\"ticks\":\"\"},\"bgcolor\":\"#E5ECF6\",\"caxis\":{\"gridcolor\":\"white\",\"linecolor\":\"white\",\"ticks\":\"\"}},\"title\":{\"x\":0.05},\"xaxis\":{\"automargin\":true,\"gridcolor\":\"white\",\"linecolor\":\"white\",\"ticks\":\"\",\"title\":{\"standoff\":15},\"zerolinecolor\":\"white\",\"zerolinewidth\":2},\"yaxis\":{\"automargin\":true,\"gridcolor\":\"white\",\"linecolor\":\"white\",\"ticks\":\"\",\"title\":{\"standoff\":15},\"zerolinecolor\":\"white\",\"zerolinewidth\":2}}},\"title\":{\"font\":{\"color\":\"#4D5663\"}},\"xaxis\":{\"anchor\":\"y\",\"domain\":[0.0,0.2125],\"gridcolor\":\"#E1E5ED\",\"showgrid\":false,\"tickfont\":{\"color\":\"#4D5663\"},\"title\":{\"font\":{\"color\":\"#4D5663\"},\"text\":\"\"},\"zerolinecolor\":\"#E1E5ED\"},\"yaxis\":{\"anchor\":\"x\",\"domain\":[0.8025,1.0],\"gridcolor\":\"#E1E5ED\",\"showgrid\":false,\"tickfont\":{\"color\":\"#4D5663\"},\"title\":{\"font\":{\"color\":\"#4D5663\"},\"text\":\"\"},\"zerolinecolor\":\"#E1E5ED\"},\"xaxis2\":{\"anchor\":\"y2\",\"domain\":[0.2625,0.475],\"gridcolor\":\"#E1E5ED\",\"showgrid\":false,\"tickfont\":{\"color\":\"#4D5663\"},\"title\":{\"font\":{\"color\":\"#4D5663\"},\"text\":\"\"},\"zerolinecolor\":\"#E1E5ED\"},\"yaxis2\":{\"anchor\":\"x2\",\"domain\":[0.8025,1.0],\"gridcolor\":\"#E1E5ED\",\"showgrid\":false,\"tickfont\":{\"color\":\"#4D5663\"},\"title\":{\"font\":{\"color\":\"#4D5663\"},\"text\":\"\"},\"zerolinecolor\":\"#E1E5ED\"},\"xaxis3\":{\"anchor\":\"y3\",\"domain\":[0.525,0.7375],\"gridcolor\":\"#E1E5ED\",\"showgrid\":false,\"tickfont\":{\"color\":\"#4D5663\"},\"title\":{\"font\":{\"color\":\"#4D5663\"},\"text\":\"\"},\"zerolinecolor\":\"#E1E5ED\"},\"yaxis3\":{\"anchor\":\"x3\",\"domain\":[0.8025,1.0],\"gridcolor\":\"#E1E5ED\",\"showgrid\":false,\"tickfont\":{\"color\":\"#4D5663\"},\"title\":{\"font\":{\"color\":\"#4D5663\"},\"text\":\"\"},\"zerolinecolor\":\"#E1E5ED\"},\"xaxis4\":{\"anchor\":\"y4\",\"domain\":[0.7875,1.0],\"gridcolor\":\"#E1E5ED\",\"showgrid\":false,\"tickfont\":{\"color\":\"#4D5663\"},\"title\":{\"font\":{\"color\":\"#4D5663\"},\"text\":\"\"},\"zerolinecolor\":\"#E1E5ED\"},\"yaxis4\":{\"anchor\":\"x4\",\"domain\":[0.8025,1.0],\"gridcolor\":\"#E1E5ED\",\"showgrid\":false,\"tickfont\":{\"color\":\"#4D5663\"},\"title\":{\"font\":{\"color\":\"#4D5663\"},\"text\":\"\"},\"zerolinecolor\":\"#E1E5ED\"},\"xaxis5\":{\"anchor\":\"y5\",\"domain\":[0.0,0.2125],\"gridcolor\":\"#E1E5ED\",\"showgrid\":false,\"tickfont\":{\"color\":\"#4D5663\"},\"title\":{\"font\":{\"color\":\"#4D5663\"},\"text\":\"\"},\"zerolinecolor\":\"#E1E5ED\"},\"yaxis5\":{\"anchor\":\"x5\",\"domain\":[0.535,0.7325],\"gridcolor\":\"#E1E5ED\",\"showgrid\":false,\"tickfont\":{\"color\":\"#4D5663\"},\"title\":{\"font\":{\"color\":\"#4D5663\"},\"text\":\"\"},\"zerolinecolor\":\"#E1E5ED\"},\"xaxis6\":{\"anchor\":\"y6\",\"domain\":[0.2625,0.475],\"gridcolor\":\"#E1E5ED\",\"showgrid\":false,\"tickfont\":{\"color\":\"#4D5663\"},\"title\":{\"font\":{\"color\":\"#4D5663\"},\"text\":\"\"},\"zerolinecolor\":\"#E1E5ED\"},\"yaxis6\":{\"anchor\":\"x6\",\"domain\":[0.535,0.7325],\"gridcolor\":\"#E1E5ED\",\"showgrid\":false,\"tickfont\":{\"color\":\"#4D5663\"},\"title\":{\"font\":{\"color\":\"#4D5663\"},\"text\":\"\"},\"zerolinecolor\":\"#E1E5ED\"},\"xaxis7\":{\"anchor\":\"y7\",\"domain\":[0.525,0.7375],\"gridcolor\":\"#E1E5ED\",\"showgrid\":false,\"tickfont\":{\"color\":\"#4D5663\"},\"title\":{\"font\":{\"color\":\"#4D5663\"},\"text\":\"\"},\"zerolinecolor\":\"#E1E5ED\"},\"yaxis7\":{\"anchor\":\"x7\",\"domain\":[0.535,0.7325],\"gridcolor\":\"#E1E5ED\",\"showgrid\":false,\"tickfont\":{\"color\":\"#4D5663\"},\"title\":{\"font\":{\"color\":\"#4D5663\"},\"text\":\"\"},\"zerolinecolor\":\"#E1E5ED\"},\"xaxis8\":{\"anchor\":\"y8\",\"domain\":[0.7875,1.0],\"gridcolor\":\"#E1E5ED\",\"showgrid\":false,\"tickfont\":{\"color\":\"#4D5663\"},\"title\":{\"font\":{\"color\":\"#4D5663\"},\"text\":\"\"},\"zerolinecolor\":\"#E1E5ED\"},\"yaxis8\":{\"anchor\":\"x8\",\"domain\":[0.535,0.7325],\"gridcolor\":\"#E1E5ED\",\"showgrid\":false,\"tickfont\":{\"color\":\"#4D5663\"},\"title\":{\"font\":{\"color\":\"#4D5663\"},\"text\":\"\"},\"zerolinecolor\":\"#E1E5ED\"},\"xaxis9\":{\"anchor\":\"y9\",\"domain\":[0.0,0.2125],\"gridcolor\":\"#E1E5ED\",\"showgrid\":false,\"tickfont\":{\"color\":\"#4D5663\"},\"title\":{\"font\":{\"color\":\"#4D5663\"},\"text\":\"\"},\"zerolinecolor\":\"#E1E5ED\"},\"yaxis9\":{\"anchor\":\"x9\",\"domain\":[0.2675,0.465],\"gridcolor\":\"#E1E5ED\",\"showgrid\":false,\"tickfont\":{\"color\":\"#4D5663\"},\"title\":{\"font\":{\"color\":\"#4D5663\"},\"text\":\"\"},\"zerolinecolor\":\"#E1E5ED\"},\"xaxis10\":{\"anchor\":\"y10\",\"domain\":[0.2625,0.475],\"gridcolor\":\"#E1E5ED\",\"showgrid\":false,\"tickfont\":{\"color\":\"#4D5663\"},\"title\":{\"font\":{\"color\":\"#4D5663\"},\"text\":\"\"},\"zerolinecolor\":\"#E1E5ED\"},\"yaxis10\":{\"anchor\":\"x10\",\"domain\":[0.2675,0.465],\"gridcolor\":\"#E1E5ED\",\"showgrid\":false,\"tickfont\":{\"color\":\"#4D5663\"},\"title\":{\"font\":{\"color\":\"#4D5663\"},\"text\":\"\"},\"zerolinecolor\":\"#E1E5ED\"},\"xaxis11\":{\"anchor\":\"y11\",\"domain\":[0.525,0.7375],\"gridcolor\":\"#E1E5ED\",\"showgrid\":false,\"tickfont\":{\"color\":\"#4D5663\"},\"title\":{\"font\":{\"color\":\"#4D5663\"},\"text\":\"\"},\"zerolinecolor\":\"#E1E5ED\"},\"yaxis11\":{\"anchor\":\"x11\",\"domain\":[0.2675,0.465],\"gridcolor\":\"#E1E5ED\",\"showgrid\":false,\"tickfont\":{\"color\":\"#4D5663\"},\"title\":{\"font\":{\"color\":\"#4D5663\"},\"text\":\"\"},\"zerolinecolor\":\"#E1E5ED\"},\"xaxis12\":{\"anchor\":\"y12\",\"domain\":[0.7875,1.0],\"gridcolor\":\"#E1E5ED\",\"showgrid\":false,\"tickfont\":{\"color\":\"#4D5663\"},\"title\":{\"font\":{\"color\":\"#4D5663\"},\"text\":\"\"},\"zerolinecolor\":\"#E1E5ED\"},\"yaxis12\":{\"anchor\":\"x12\",\"domain\":[0.2675,0.465],\"gridcolor\":\"#E1E5ED\",\"showgrid\":false,\"tickfont\":{\"color\":\"#4D5663\"},\"title\":{\"font\":{\"color\":\"#4D5663\"},\"text\":\"\"},\"zerolinecolor\":\"#E1E5ED\"},\"xaxis13\":{\"anchor\":\"y13\",\"domain\":[0.0,0.2125],\"gridcolor\":\"#E1E5ED\",\"showgrid\":false,\"tickfont\":{\"color\":\"#4D5663\"},\"title\":{\"font\":{\"color\":\"#4D5663\"},\"text\":\"\"},\"zerolinecolor\":\"#E1E5ED\"},\"yaxis13\":{\"anchor\":\"x13\",\"domain\":[0.0,0.1975],\"gridcolor\":\"#E1E5ED\",\"showgrid\":false,\"tickfont\":{\"color\":\"#4D5663\"},\"title\":{\"font\":{\"color\":\"#4D5663\"},\"text\":\"\"},\"zerolinecolor\":\"#E1E5ED\"},\"xaxis14\":{\"anchor\":\"y14\",\"domain\":[0.2625,0.475],\"gridcolor\":\"#E1E5ED\",\"showgrid\":false,\"tickfont\":{\"color\":\"#4D5663\"},\"title\":{\"font\":{\"color\":\"#4D5663\"},\"text\":\"\"},\"zerolinecolor\":\"#E1E5ED\"},\"yaxis14\":{\"anchor\":\"x14\",\"domain\":[0.0,0.1975],\"gridcolor\":\"#E1E5ED\",\"showgrid\":false,\"tickfont\":{\"color\":\"#4D5663\"},\"title\":{\"font\":{\"color\":\"#4D5663\"},\"text\":\"\"},\"zerolinecolor\":\"#E1E5ED\"},\"xaxis15\":{\"anchor\":\"y15\",\"domain\":[0.525,0.7375],\"gridcolor\":\"#E1E5ED\",\"showgrid\":false,\"tickfont\":{\"color\":\"#4D5663\"},\"title\":{\"font\":{\"color\":\"#4D5663\"},\"text\":\"\"},\"zerolinecolor\":\"#E1E5ED\"},\"yaxis15\":{\"anchor\":\"x15\",\"domain\":[0.0,0.1975],\"gridcolor\":\"#E1E5ED\",\"showgrid\":false,\"tickfont\":{\"color\":\"#4D5663\"},\"title\":{\"font\":{\"color\":\"#4D5663\"},\"text\":\"\"},\"zerolinecolor\":\"#E1E5ED\"},\"xaxis16\":{\"anchor\":\"y16\",\"domain\":[0.7875,1.0],\"gridcolor\":\"#E1E5ED\",\"showgrid\":false,\"tickfont\":{\"color\":\"#4D5663\"},\"title\":{\"font\":{\"color\":\"#4D5663\"},\"text\":\"\"},\"zerolinecolor\":\"#E1E5ED\"},\"yaxis16\":{\"anchor\":\"x16\",\"domain\":[0.0,0.1975],\"gridcolor\":\"#E1E5ED\",\"showgrid\":false,\"tickfont\":{\"color\":\"#4D5663\"},\"title\":{\"font\":{\"color\":\"#4D5663\"},\"text\":\"\"},\"zerolinecolor\":\"#E1E5ED\"}},                        {\"showLink\": true, \"linkText\": \"Export to plot.ly\", \"plotlyServerURL\": \"https://plot.ly\", \"responsive\": true}                    ).then(function(){\n",
       "                            \n",
       "var gd = document.getElementById('af8ee136-444b-45df-8ca9-85daba0294d7');\n",
       "var x = new MutationObserver(function (mutations, observer) {{\n",
       "        var display = window.getComputedStyle(gd).display;\n",
       "        if (!display || display === 'none') {{\n",
       "            console.log([gd, 'removed!']);\n",
       "            Plotly.purge(gd);\n",
       "            observer.disconnect();\n",
       "        }}\n",
       "}});\n",
       "\n",
       "// Listen for the removal of the full notebook cells\n",
       "var notebookContainer = gd.closest('#notebook-container');\n",
       "if (notebookContainer) {{\n",
       "    x.observe(notebookContainer, {childList: true});\n",
       "}}\n",
       "\n",
       "// Listen for the clearing of the current output cell\n",
       "var outputEl = gd.closest('.output');\n",
       "if (outputEl) {{\n",
       "    x.observe(outputEl, {childList: true});\n",
       "}}\n",
       "\n",
       "                        })                };                });            </script>        </div>"
      ]
     },
     "metadata": {},
     "output_type": "display_data"
    }
   ],
   "source": [
    "df.scatter_matrix()"
   ]
  },
  {
   "cell_type": "code",
   "execution_count": null,
   "id": "40986f84-331b-4db7-9bb7-76139b0ec5e2",
   "metadata": {},
   "outputs": [],
   "source": []
  }
 ],
 "metadata": {
  "kernelspec": {
   "display_name": "Python 3 (ipykernel)",
   "language": "python",
   "name": "python3"
  },
  "language_info": {
   "codemirror_mode": {
    "name": "ipython",
    "version": 3
   },
   "file_extension": ".py",
   "mimetype": "text/x-python",
   "name": "python",
   "nbconvert_exporter": "python",
   "pygments_lexer": "ipython3",
   "version": "3.9.7"
  }
 },
 "nbformat": 4,
 "nbformat_minor": 5
}
